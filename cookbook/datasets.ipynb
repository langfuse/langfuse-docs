{
 "cells": [
  {
   "cell_type": "markdown",
   "metadata": {
    "id": "SWEKl-UfX-ZS"
   },
   "source": [
    "---\n",
    "description: End-to-end example of creating a dataset, adding items, and running experiments with Langfuse datasets.\n",
    "category: Datasets\n",
    "---\n",
    "\n",
    "# Langfuse Datasets Cookbook\n",
    "\n",
    "In this cookbook, we'll iterate on systems prompts with the goal of getting only the capital of a given country. We use Langfuse datasets, to store a list of example inputs and expected outputs.\n",
    "\n",
    "This is a very simple example, you can run experiments on any LLM application that you either trace with the [Langfuse SDKs](https://langfuse.com/docs/sdk/overview) (Python, JS/TS) or via one of our [integrations](https://langfuse.com/integrations) (e.g. Langchain).\n",
    "\n",
    "_Simple example application_\n",
    "\n",
    "- **Model**: gpt-4o\n",
    "- **Input**: country name\n",
    "- **Output**: capital\n",
    "- **Evaluation**: exact match of completion and ground truth\n",
    "- **Experiment on**: system prompt"
   ]
  },
  {
   "cell_type": "markdown",
   "metadata": {
    "id": "iexlvXyM2eFF"
   },
   "source": [
    "## Setup"
   ]
  },
  {
   "cell_type": "code",
   "execution_count": null,
   "metadata": {
    "id": "PONlf847Xp-A"
   },
   "outputs": [],
   "source": [
    "%pip install langfuse openai langchain_openai langchain --upgrade"
   ]
  },
  {
   "cell_type": "code",
   "execution_count": null,
   "metadata": {
    "id": "fAquPGo3X8hg"
   },
   "outputs": [],
   "source": [
    "import os\n",
    "\n",
    "# Get keys for your project from the project settings page: https://cloud.langfuse.com\n",
    "os.environ[\"LANGFUSE_PUBLIC_KEY\"] = \"pk-lf-...\" \n",
    "os.environ[\"LANGFUSE_SECRET_KEY\"] = \"sk-lf-...\" \n",
    "os.environ[\"LANGFUSE_HOST\"] = \"https://cloud.langfuse.com\" # 🇪🇺 EU region\n",
    "# os.environ[\"LANGFUSE_HOST\"] = \"https://us.cloud.langfuse.com\" # 🇺🇸 US region\n",
    "\n",
    "# Your openai key\n",
    "os.environ[\"OPENAI_API_KEY\"] = \"sk-proj-...\""
   ]
  },
  {
   "cell_type": "markdown",
   "metadata": {},
   "source": [
    "With the environment variables set, we can now initialize the Langfuse client. get_client() initializes the Langfuse client using the credentials provided in the environment variables."
   ]
  },
  {
   "cell_type": "code",
   "execution_count": 3,
   "metadata": {
    "id": "4kM5oWlyYitA"
   },
   "outputs": [
    {
     "name": "stdout",
     "output_type": "stream",
     "text": [
      "Langfuse client is authenticated and ready!\n"
     ]
    }
   ],
   "source": [
    "from langfuse import get_client\n",
    " \n",
    "langfuse = get_client()\n",
    " \n",
    "# Verify connection\n",
    "if langfuse.auth_check():\n",
    "    print(\"Langfuse client is authenticated and ready!\")\n",
    "else:\n",
    "    print(\"Authentication failed. Please check your credentials and host.\")"
   ]
  },
  {
   "cell_type": "markdown",
   "metadata": {
    "id": "XwVQW5ZmX7_4"
   },
   "source": [
    "## Create a dataset"
   ]
  },
  {
   "cell_type": "code",
   "execution_count": 4,
   "metadata": {
    "id": "YH6_snEmXukE"
   },
   "outputs": [],
   "source": [
    "langfuse.create_dataset(name=\"capital_cities\");"
   ]
  },
  {
   "cell_type": "markdown",
   "metadata": {
    "id": "02ArUZboetn3",
    "tags": []
   },
   "source": [
    "### Items\n",
    "\n",
    "Load local items into the Langfuse dataset. Alternatively you can add items from production via the Langfuse UI."
   ]
  },
  {
   "cell_type": "code",
   "execution_count": 5,
   "metadata": {
    "id": "m9dOD9FYX1uM"
   },
   "outputs": [],
   "source": [
    "# example items, could also be json instead of strings\n",
    "local_items = [\n",
    "    {\"input\": {\"country\": \"Italy\"}, \"expected_output\": \"Rome\"},\n",
    "    {\"input\": {\"country\": \"Spain\"}, \"expected_output\": \"Madrid\"},\n",
    "    {\"input\": {\"country\": \"Brazil\"}, \"expected_output\": \"Brasília\"},\n",
    "    {\"input\": {\"country\": \"Japan\"}, \"expected_output\": \"Tokyo\"},\n",
    "    {\"input\": {\"country\": \"India\"}, \"expected_output\": \"New Delhi\"},\n",
    "    {\"input\": {\"country\": \"Canada\"}, \"expected_output\": \"Ottawa\"},\n",
    "    {\"input\": {\"country\": \"South Korea\"}, \"expected_output\": \"Seoul\"},\n",
    "    {\"input\": {\"country\": \"Argentina\"}, \"expected_output\": \"Buenos Aires\"},\n",
    "    {\"input\": {\"country\": \"South Africa\"}, \"expected_output\": \"Pretoria\"},\n",
    "    {\"input\": {\"country\": \"Egypt\"}, \"expected_output\": \"Cairo\"},\n",
    "]"
   ]
  },
  {
   "cell_type": "code",
   "execution_count": 6,
   "metadata": {
    "id": "gwjfRIeYfEOQ"
   },
   "outputs": [],
   "source": [
    "# Upload to Langfuse\n",
    "for item in local_items:\n",
    "  langfuse.create_dataset_item(\n",
    "      dataset_name=\"capital_cities\",\n",
    "      # any python object or value\n",
    "      input=item[\"input\"],\n",
    "      # any python object or value, optional\n",
    "      expected_output=item[\"expected_output\"]\n",
    ")"
   ]
  },
  {
   "cell_type": "markdown",
   "metadata": {
    "id": "OT15GYYOqJ2Q"
   },
   "source": [
    "## Example using Langfuse `@observe()` decorator"
   ]
  },
  {
   "cell_type": "markdown",
   "metadata": {
    "id": "xTTaYSkn3lOp"
   },
   "source": [
    "### Application\n",
    "\n",
    "This an example production application that we want to evaluate. It is instrumented with the Langfuse Decorator. We do not need to change the application code to evaluate it subsequently."
   ]
  },
  {
   "cell_type": "code",
   "execution_count": 11,
   "metadata": {},
   "outputs": [],
   "source": [
    "from langfuse.openai import openai\n",
    "from langfuse import observe, get_client\n",
    "\n",
    "langfuse = get_client()\n",
    "\n",
    "@observe()\n",
    "def run_my_custom_llm_app(input, system_prompt):\n",
    "    messages = [\n",
    "        {\"role\":\"system\", \"content\": system_prompt},\n",
    "        {\"role\":\"user\", \"content\": input[\"country\"]}\n",
    "    ]\n",
    "\n",
    "    completion = openai.chat.completions.create(\n",
    "        model=\"gpt-4o\",\n",
    "        messages=messages\n",
    "    ).choices[0].message.content\n",
    "\n",
    "    # Explicitly set trace input/output for evaluation features\n",
    "    langfuse.update_current_trace(\n",
    "        input=input,\n",
    "        output=completion\n",
    "    )\n",
    "\n",
    "    return completion"
   ]
  },
  {
   "cell_type": "markdown",
   "metadata": {},
   "source": [
    "### Experiment runner\n",
    "\n",
    "This is a simple experiment runner that runs the application on each item in the dataset and evaluates the output."
   ]
  },
  {
   "cell_type": "code",
   "execution_count": 12,
   "metadata": {
    "id": "qE1VZlcEaDkQ"
   },
   "outputs": [],
   "source": [
    "# we use a very simple eval here, you can use any eval library\n",
    "# see https://langfuse.com/docs/scores/model-based-evals for details\n",
    "# you can also use LLM-as-a-judge managed within Langfuse to evaluate the outputs\n",
    "\n",
    "def simple_evaluation(output, expected_output):\n",
    "  return output == expected_output"
   ]
  },
  {
   "cell_type": "code",
   "execution_count": 13,
   "metadata": {
    "id": "vo-GmgwiuhcQ"
   },
   "outputs": [],
   "source": [
    "def run_experiment(experiment_name, system_prompt):\n",
    "    dataset = langfuse.get_dataset(\"capital_cities\")\n",
    "\n",
    "    for item in dataset.items:\n",
    "\n",
    "        # Use the item.run() context manager\n",
    "        with item.run(\n",
    "            run_name = experiment_name,\n",
    "\n",
    "        ) as root_span: # root_span is the root span of the new trace for this item and run.\n",
    "            # All subsequent langfuse operations within this block are part of this trace.\n",
    "\n",
    "            # Call your application logic\n",
    "            output = run_my_custom_llm_app(item.input, system_prompt)\n",
    "\n",
    "            # Optionally, score the result against the expected output\n",
    "            root_span.score_trace(name=\"exact_match\", value = simple_evaluation(output, item.expected_output))\n",
    "\n",
    "    print(f\"\\nFinished processing dataset 'capital_cities' for run '{experiment_name}'.\")"
   ]
  },
  {
   "cell_type": "markdown",
   "metadata": {},
   "source": [
    "### Run experiments\n",
    "\n",
    "Now we can easily run experiments with different configurations to explore which yields the best results."
   ]
  },
  {
   "cell_type": "code",
   "execution_count": 7,
   "metadata": {
    "id": "ede2UzNlxABq"
   },
   "outputs": [
    {
     "name": "stdout",
     "output_type": "stream",
     "text": [
      "\n",
      "Finished processing dataset 'capital_cities' for run 'famous_city'.\n",
      "\n",
      "Finished processing dataset 'capital_cities' for run 'directly_ask'.\n",
      "\n",
      "Finished processing dataset 'capital_cities' for run 'asking_specifically'.\n",
      "\n",
      "Finished processing dataset 'capital_cities' for run 'asking_specifically_2nd_try'.\n"
     ]
    }
   ],
   "source": [
    "from langfuse import get_client\n",
    "langfuse = get_client()\n",
    "\n",
    "run_experiment(\n",
    "    \"famous_city\",\n",
    "    \"The user will input countries, respond with the most famous city in this country\"\n",
    ")\n",
    "run_experiment(\n",
    "    \"directly_ask\",\n",
    "    \"What is the capital of the following country?\"\n",
    ")\n",
    "run_experiment(\n",
    "    \"asking_specifically\",\n",
    "    \"The user will input countries, respond with only the name of the capital\"\n",
    ")\n",
    "run_experiment(\n",
    "    \"asking_specifically_2nd_try\",\n",
    "    \"The user will input countries, respond with only the name of the capital. State only the name of the city.\"\n",
    ")\n",
    "\n",
    "# Assert that all events were sent to the Langfuse API\n",
    "langfuse.flush()\n",
    "langfuse.flush()"
   ]
  },
  {
   "cell_type": "markdown",
   "metadata": {
    "id": "kxHKNP7M36Z_"
   },
   "source": [
    "## Example using Langchain"
   ]
  },
  {
   "cell_type": "code",
   "execution_count": 26,
   "metadata": {
    "id": "hZZEwFF732eU"
   },
   "outputs": [],
   "source": [
    "from langchain_openai import ChatOpenAI\n",
    "from langchain.prompts import ChatPromptTemplate\n",
    "from langchain_core.prompts import ChatPromptTemplate, MessagesPlaceholder\n",
    "from langchain_core.messages import HumanMessage\n",
    " \n",
    "def run_my_langchain_llm_app(input, system_message, callback_handler):\n",
    "\n",
    "  # Create a trace via Langfuse spans and use Langchain within it\n",
    "  with langfuse.start_as_current_span(name=\"my-langchain-agent\") as root_span:\n",
    "        \n",
    "    prompt = ChatPromptTemplate.from_messages(\n",
    "      [(\"system\", system_message), MessagesPlaceholder(variable_name=\"messages\")]\n",
    "    )\n",
    "    chat = ChatOpenAI()\n",
    "    chain = prompt | chat\n",
    "\n",
    "    result = chain.invoke(\n",
    "      { \"messages\": [HumanMessage(content=input)] },\n",
    "      config={\"callbacks\":[callback_handler]}\n",
    "    )\n",
    "\n",
    "    # Update trace output\n",
    "    root_span.update_trace(\n",
    "        input=input,\n",
    "        output=result.content)\n",
    "\n",
    "  return result.content"
   ]
  },
  {
   "cell_type": "code",
   "execution_count": null,
   "metadata": {
    "id": "cBW4VD536xPo"
   },
   "outputs": [],
   "source": [
    "from langfuse.langchain import CallbackHandler\n",
    "\n",
    "def run_langchain_experiment(experiment_name, system_prompt):\n",
    "  \n",
    "  dataset = langfuse.get_dataset(\"capital_cities\")\n",
    "\n",
    "  # Initialize the Langfuse handler\n",
    "  langfuse_handler = CallbackHandler()\n",
    "\n",
    "  for item in dataset.items:\n",
    "  \n",
    "      # Use the item.run() context manager\n",
    "      with item.run(\n",
    "          run_name = experiment_name,\n",
    "          run_description=\"My first run\",\n",
    "          run_metadata={\"model\": \"gpt-4o\"},\n",
    "      ) as root_span: # root_span is the root span of the new trace for this item and run.\n",
    "          # All subsequent langfuse operations within this block are part of this trace.\n",
    "  \n",
    "          # Call your application logic\n",
    "          output = run_my_langchain_llm_app(item.input[\"country\"], system_prompt, langfuse_handler)\n",
    "  \n",
    "          # Optionally, score the result against the expected output\n",
    "          root_span.score_trace(name=\"exact_match\", value = simple_evaluation(output, item.expected_output))\n",
    "\n",
    "  print(f\"\\nFinished processing dataset 'capital_cities' for run '{experiment_name}'.\")"
   ]
  },
  {
   "cell_type": "code",
   "execution_count": null,
   "metadata": {
    "id": "bV0xas7o7Xuj"
   },
   "outputs": [],
   "source": [
    "run_langchain_experiment(\n",
    "    \"langchain_famous_city\",\n",
    "    \"The user will input countries, respond with the most famous city in this country\"\n",
    ")\n",
    "run_langchain_experiment(\n",
    "    \"langchain_directly_ask\",\n",
    "    \"What is the capital of the following country?\"\n",
    ")\n",
    "run_langchain_experiment(\n",
    "    \"langchain_asking_specifically\",\n",
    "    \"The user will input countries, respond with only the name of the capital\"\n",
    ")\n",
    "run_langchain_experiment(\n",
    "    \"langchain_asking_specifically_2nd_try\",\n",
    "    \"The user will input countries, respond with only the name of the capital. State only the name of the city.\"\n",
    ")"
   ]
  },
  {
   "cell_type": "markdown",
   "metadata": {
    "id": "xmpVVSJ4X8hi"
   },
   "source": [
    "## More Examples\n",
    "\n",
    "- [LangGraph Dataset Experiment](https://langfuse.com/guides/cookbook/example_langgraph_agents#offline-evaluation)\n",
    "- [OpenAI Agents SDK Dataset Experiment](https://langfuse.com/guides/cookbook/example_evaluating_openai_agents#dataset-evaluation)\n",
    "- [CrewAI Dataset Experiment](https://langfuse.com/integrations/frameworks/crewai#dataset-experiments)\n",
    "- [Smolagents Dataset Experiment](https://huggingface.co/learn/agents-course/en/bonus-unit2/monitoring-and-evaluating-agents-notebook#offline-evaluation)"
   ]
  }
 ],
 "metadata": {
  "colab": {
   "provenance": []
  },
  "kernelspec": {
   "display_name": ".venv",
   "language": "python",
   "name": "python3"
  },
  "language_info": {
   "codemirror_mode": {
    "name": "ipython",
    "version": 3
   },
   "file_extension": ".py",
   "mimetype": "text/x-python",
   "name": "python",
   "nbconvert_exporter": "python",
   "pygments_lexer": "ipython3",
   "version": "3.13.2"
  }
 },
 "nbformat": 4,
 "nbformat_minor": 0
}

{
 "cells": [
  {
   "cell_type": "markdown",
   "metadata": {
    "id": "SWEKl-UfX-ZS"
   },
   "source": [
    "# Langfuse Datasets Cookbook\n",
    "\n",
    "In this cookbook, we'll iterate on systems prompts with the goal of getting only the capital of a given country. We use Langfuse datasets, to store a list of example inputs and expected outputs.\n",
    "\n",
    "This is a very simple example, you can run experiments on any LLM application that you either trace with the [Langfuse SDKs](https://langfuse.com/docs/integrations/sdk) (Python, JS/TS) or via one of our [integrations](https://langfuse.com/docs/integrations) (e.g. Langchain).\n",
    "\n",
    "_Simple example application_\n",
    "\n",
    "- **Model**: gpt-3.5-turbo\n",
    "- **Input**: country name\n",
    "- **Output**: capital\n",
    "- **Evaluation**: exact match of completion and ground truth\n",
    "- **Experiment on**: system prompt"
   ]
  },
  {
   "cell_type": "markdown",
   "metadata": {
    "id": "iexlvXyM2eFF"
   },
   "source": [
    "## Setup"
   ]
  },
  {
   "cell_type": "code",
   "execution_count": null,
   "metadata": {
    "id": "PONlf847Xp-A"
   },
   "outputs": [],
   "source": [
    "%pip install langfuse openai langchain --upgrade"
   ]
  },
  {
   "cell_type": "code",
   "execution_count": 3,
   "metadata": {
    "id": "4kM5oWlyYitA"
   },
   "outputs": [],
   "source": [
    "import os\n",
    "\n",
    "# get keys for your project\n",
    "os.environ[\"LANGFUSE_PUBLIC_KEY\"] = \"pk-lf-***\"\n",
    "os.environ[\"LANGFUSE_SECRET_KEY\"] = \"sk-lf-***\"\n",
    "\n",
    "# for self-hosting\n",
    "# os.environ[\"ENV_HOST\"] = \"http://localhost:3000\"\n",
    "\n",
    "# for openai\n",
    "os.environ[\"OPENAI_API_KEY\"] = \"sk-***\"\n",
    "\n",
    "# import\n",
    "from langfuse import Langfuse\n",
    "import openai\n",
    "\n",
    "# init\n",
    "langfuse = Langfuse()"
   ]
  },
  {
   "cell_type": "markdown",
   "metadata": {
    "id": "XwVQW5ZmX7_4"
   },
   "source": [
    "## Create a dataset"
   ]
  },
  {
   "cell_type": "code",
   "execution_count": null,
   "metadata": {
    "id": "YH6_snEmXukE"
   },
   "outputs": [],
   "source": [
    "from langfuse.model import CreateDatasetRequest\n",
    "\n",
    "langfuse.create_dataset(CreateDatasetRequest(name=\"capital_cities\"))"
   ]
  },
  {
   "cell_type": "markdown",
   "metadata": {
    "id": "02ArUZboetn3"
   },
   "source": [
    "### Items\n",
    "\n",
    "Load local items into the Langfuse dataset. Alternatively you can add items from production via the Langfuse UI."
   ]
  },
  {
   "cell_type": "code",
   "execution_count": 6,
   "metadata": {
    "id": "m9dOD9FYX1uM"
   },
   "outputs": [],
   "source": [
    "# example items, could also be json instead of strings\n",
    "local_items = [\n",
    "    {\"input\": {\"country\": \"Italy\"}, \"expected_output\": \"Rome\"},\n",
    "    {\"input\": {\"country\": \"Spain\"}, \"expected_output\": \"Madrid\"},\n",
    "    {\"input\": {\"country\": \"Brazil\"}, \"expected_output\": \"Brasília\"},\n",
    "    {\"input\": {\"country\": \"Japan\"}, \"expected_output\": \"Tokyo\"},\n",
    "    {\"input\": {\"country\": \"India\"}, \"expected_output\": \"New Delhi\"},\n",
    "    {\"input\": {\"country\": \"Canada\"}, \"expected_output\": \"Ottawa\"},\n",
    "    {\"input\": {\"country\": \"South Korea\"}, \"expected_output\": \"Seoul\"},\n",
    "    {\"input\": {\"country\": \"Argentina\"}, \"expected_output\": \"Buenos Aires\"},\n",
    "    {\"input\": {\"country\": \"South Africa\"}, \"expected_output\": \"Pretoria\"},\n",
    "    {\"input\": {\"country\": \"Egypt\"}, \"expected_output\": \"Cairo\"},\n",
    "]"
   ]
  },
  {
   "cell_type": "code",
   "execution_count": 7,
   "metadata": {
    "id": "gwjfRIeYfEOQ"
   },
   "outputs": [],
   "source": [
    "from langfuse.model import CreateDatasetItemRequest\n",
    "\n",
    "# Upload to Langfuse\n",
    "for item in local_items:\n",
    "  langfuse.create_dataset_item(\n",
    "    CreateDatasetItemRequest(\n",
    "        dataset_name=\"capital_cities\",\n",
    "        # any python object or value\n",
    "        input=item[\"input\"],\n",
    "        # any python object or value, optional\n",
    "        expected_output=item[\"expected_output\"]\n",
    "    )\n",
    ")"
   ]
  },
  {
   "cell_type": "markdown",
   "metadata": {
    "id": "OT15GYYOqJ2Q"
   },
   "source": [
    "## Define application and run experiments\n",
    "\n",
    "We implement the application in two ways to demonstrate how it's done\n",
    "\n",
    "1. Custom LLM app using e.g. OpenAI SDK, traced with Langfuse Python SDK\n",
    "2. Langchain Application, traced via native Langfuse integration"
   ]
  },
  {
   "cell_type": "code",
   "execution_count": 8,
   "metadata": {
    "id": "qE1VZlcEaDkQ"
   },
   "outputs": [],
   "source": [
    "# we use a very simple eval here, you can use any eval library\n",
    "def simple_evaluation(output, expected_output):\n",
    "  return output == expected_output"
   ]
  },
  {
   "cell_type": "markdown",
   "metadata": {
    "id": "xTTaYSkn3lOp"
   },
   "source": [
    "### Custom app"
   ]
  },
  {
   "cell_type": "code",
   "execution_count": 9,
   "metadata": {
    "id": "nbhseVtjp1Br"
   },
   "outputs": [],
   "source": [
    "from datetime import datetime\n",
    "from langfuse.client import InitialGeneration\n",
    "\n",
    "def run_my_custom_llm_app(input, system_prompt):\n",
    "  messages = [\n",
    "      {\"role\":\"system\", \"content\": system_prompt},\n",
    "      {\"role\":\"user\", \"content\": input[\"country\"]}\n",
    "  ]\n",
    "\n",
    "  generationStartTime = datetime.now()\n",
    "\n",
    "  openai_completion = openai.ChatCompletion.create(\n",
    "      model=\"gpt-3.5-turbo\",\n",
    "      messages=messages\n",
    "  ).choices[0].message.content\n",
    "\n",
    "  langfuse_generation = langfuse.generation(InitialGeneration(\n",
    "      name=\"guess-countries\",\n",
    "      prompt=messages,\n",
    "      completion=openai_completion,\n",
    "      model=\"gpt-3.5-turbo\",\n",
    "      startTime=generationStartTime,\n",
    "      endTime=datetime.now()\n",
    "  ))\n",
    "\n",
    "  return openai_completion, langfuse_generation"
   ]
  },
  {
   "cell_type": "code",
   "execution_count": 10,
   "metadata": {
    "id": "vo-GmgwiuhcQ"
   },
   "outputs": [],
   "source": [
    "from langfuse.client import CreateScore\n",
    "\n",
    "def run_experiment(experiment_name, system_prompt):\n",
    "  dataset = langfuse.get_dataset(\"capital_cities\")\n",
    "\n",
    "  for item in dataset.items:\n",
    "    completion, langfuse_generation = run_my_custom_llm_app(item.input, system_prompt)\n",
    "\n",
    "    item.link(langfuse_generation, experiment_name) # pas the observation/generation object or the id\n",
    "\n",
    "    langfuse_generation.score(CreateScore(\n",
    "      name=\"exact_match\",\n",
    "      value=simple_evaluation(completion, item.expected_output)\n",
    "    ))"
   ]
  },
  {
   "cell_type": "code",
   "execution_count": 11,
   "metadata": {
    "id": "ede2UzNlxABq"
   },
   "outputs": [],
   "source": [
    "run_experiment(\n",
    "    \"famous_city\",\n",
    "    \"The user will input countries, respond with the mst famous city in this country\"\n",
    ")\n",
    "run_experiment(\n",
    "    \"directly_ask\",\n",
    "    \"What is the capital of the following country?\"\n",
    ")\n",
    "run_experiment(\n",
    "    \"asking_specifically\",\n",
    "    \"The user will input countries, respond with only the name of the capital\"\n",
    ")\n",
    "run_experiment(\n",
    "    \"asking_specifically_2nd_try\",\n",
    "    \"The user will input countries, respond with only the name of the capital. State only the name of the city.\"\n",
    ")"
   ]
  },
  {
   "cell_type": "markdown",
   "metadata": {
    "id": "kxHKNP7M36Z_"
   },
   "source": [
    "### Langchain application"
   ]
  },
  {
   "cell_type": "code",
   "execution_count": 12,
   "metadata": {
    "id": "hZZEwFF732eU"
   },
   "outputs": [],
   "source": [
    "from datetime import datetime\n",
    "from langchain.chat_models import ChatOpenAI\n",
    "from langfuse.client import InitialGeneration\n",
    "from langchain.chains import LLMChain\n",
    "from langchain.prompts import PromptTemplate\n",
    "\n",
    "def run_my_langchain_llm_app(input, prompt_template, callback_handler):\n",
    "\n",
    "  # needs to include {country}\n",
    "  prompt = PromptTemplate.from_template(prompt_template)\n",
    "\n",
    "  llm = ChatOpenAI(openai_api_key=OPENAI_API_KEY, callbacks=[callback_handler])\n",
    "  chain = LLMChain(llm=llm, prompt=prompt, callbacks=[callback_handler])\n",
    "  completion = chain.run(**input)\n",
    "\n",
    "  return completion"
   ]
  },
  {
   "cell_type": "code",
   "execution_count": 13,
   "metadata": {
    "id": "cBW4VD536xPo"
   },
   "outputs": [],
   "source": [
    "from langfuse.client import CreateScore\n",
    "\n",
    "def run_langchain_experiment(experiment_name, prompt_template):\n",
    "  dataset = langfuse.get_dataset(\"capital_cities\")\n",
    "\n",
    "  for item in dataset.items:\n",
    "    handler = item.get_langchain_handler(run_name=experiment_name)\n",
    "\n",
    "    completion = run_my_langchain_llm_app(item.input, prompt_template, handler)\n",
    "\n",
    "    handler.rootSpan.score(CreateScore(\n",
    "      name=\"exact_match\",\n",
    "      value=simple_evaluation(completion, item.expected_output)\n",
    "    ))"
   ]
  },
  {
   "cell_type": "code",
   "execution_count": 14,
   "metadata": {
    "id": "bV0xas7o7Xuj"
   },
   "outputs": [],
   "source": [
    "run_langchain_experiment(\n",
    "    \"langchain_famous_city\",\n",
    "    \"The user will input countries, respond with the mst famous city in this country\"\n",
    ")\n",
    "run_langchain_experiment(\n",
    "    \"langchain_directly_ask\",\n",
    "    \"What is the capital of the following country?\"\n",
    ")\n",
    "run_langchain_experiment(\n",
    "    \"langchain_asking_specifically\",\n",
    "    \"The user will input countries, respond with only the name of the capital\"\n",
    ")\n",
    "run_langchain_experiment(\n",
    "    \"langchain_asking_specifically_2nd_try\",\n",
    "    \"The user will input countries, respond with only the name of the capital. State only the name of the city.\"\n",
    ")"
   ]
  },
  {
   "cell_type": "markdown",
   "metadata": {},
   "source": [
    "## Evaluate experiments in Langfuse UI\n",
    "\n",
    "- Average scores per experiment run\n",
    "- Browse each run for an individual item\n",
    "- Look at traces to debug issues\n",
    "\n",
    "![Experiment runs in Langfuse](https://langfuse.com/images/docs/dataset-runs-cookbook.jpg)"
   ]
  }
 ],
 "metadata": {
  "colab": {
   "provenance": []
  },
  "kernelspec": {
   "display_name": "Python 3 (ipykernel)",
   "language": "python",
   "name": "python3"
  },
  "language_info": {
   "codemirror_mode": {
    "name": "ipython",
    "version": 3
   },
   "file_extension": ".py",
   "mimetype": "text/x-python",
   "name": "python",
   "nbconvert_exporter": "python",
   "pygments_lexer": "ipython3",
   "version": "3.10.9"
  }
 },
 "nbformat": 4,
 "nbformat_minor": 4
}

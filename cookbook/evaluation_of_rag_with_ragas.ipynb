{
 "cells": [
  {
   "cell_type": "markdown",
   "id": "1079e444-91e1-4b81-a28a-2ce4763f4bc4",
   "metadata": {
    "id": "1079e444-91e1-4b81-a28a-2ce4763f4bc4"
   },
   "source": [
    "---\n",
    "description: Use RAGAS to evaluate your RAG pipelines traced with Langfuse to measure the quality of your retrieval and sythesis.\n",
    "category: Evaluation\n",
    "---\n",
    "\n",
    "# Evaluation of RAG pipelines with Ragas\n",
    "\n",
    "Langfuse offers the feature to score your traces and spans. They can be used in multiple ways across Langfuse:\n",
    "1. Displayed on trace to provide a quick overview\n",
    "2. Segment all execution traces by scores to e.g. find all traces with a low-quality score\n",
    "3. Analytics: Detailed score reporting with drill downs into use cases and user segments\n",
    "\n",
    "Ragas is an open-source tool that can help you run [Model-Based Evaluation](https://langfuse.com/docs/scores/model-based-evals) on your traces/spans, especially for RAG pipelines. Ragas can perform reference-free evaluations of various aspects of your RAG pipeline. Because it is reference-free you don't need ground-truths when running the evaluations and can run it on production traces that you've collected with Langfuse.\n",
    "\n",
    "## The Environment"
   ]
  },
  {
   "cell_type": "code",
   "execution_count": 1,
   "id": "017dc09a-c59c-4e5f-a632-d8a5110f931d",
   "metadata": {
    "id": "017dc09a-c59c-4e5f-a632-d8a5110f931d"
   },
   "outputs": [],
   "source": [
    "import os\n",
    "\n",
    "# Get keys for your project from the project settings page: https://cloud.langfuse.com\n",
    "os.environ[\"LANGFUSE_PUBLIC_KEY\"] = \"pk-lf-...\" \n",
    "os.environ[\"LANGFUSE_SECRET_KEY\"] = \"sk-lf-...\" \n",
    "os.environ[\"LANGFUSE_HOST\"] = \"https://cloud.langfuse.com\" # 🇪🇺 EU region\n",
    "# os.environ[\"LANGFUSE_HOST\"] = \"https://us.cloud.langfuse.com\" # 🇺🇸 US region\n",
    "\n",
    "# Your openai key\n",
    "os.environ[\"OPENAI_API_KEY\"] = \"sk-proj-\""
   ]
  },
  {
   "cell_type": "code",
   "execution_count": null,
   "id": "90a9536a-4997-47a4-82a7-3970c1145dab",
   "metadata": {
    "id": "90a9536a-4997-47a4-82a7-3970c1145dab",
    "scrolled": true,
    "tags": []
   },
   "outputs": [],
   "source": [
    "%pip install langfuse datasets ragas llama_index python-dotenv openai --upgrade"
   ]
  },
  {
   "cell_type": "markdown",
   "id": "580b6d2a-06e2-4682-8e03-47d054d7f240",
   "metadata": {
    "id": "580b6d2a-06e2-4682-8e03-47d054d7f240"
   },
   "source": [
    "## The Data\n",
    "\n",
    "For this example, we are going to use a dataset that has already been prepared by querying a RAG system and gathering its outputs. See below for instruction on how to fetch your production data from Langfuse.\n",
    "\n",
    "The dataset contains the following columns\n",
    "- `question`: list[str] - These are the questions your RAG pipeline will be evaluated on.\n",
    "- `answer`: list[str] - The answer generated from the RAG pipeline and given to the user.\n",
    "- `contexts`: list[list[str]] - The contexts which were passed into the LLM to answer the question.\n",
    "- `ground_truths`: list[list[str]] - The ground truth answer to the questions. However, this can be ignored for online evaluations since we will not have access to ground-truth data in our case."
   ]
  },
  {
   "cell_type": "code",
   "execution_count": 2,
   "id": "ebfb8207-8ddc-4b61-bcbc-f257820bf671",
   "metadata": {
    "id": "ebfb8207-8ddc-4b61-bcbc-f257820bf671"
   },
   "outputs": [
    {
     "data": {
      "text/plain": [
       "Dataset({\n",
       "    features: ['question', 'ground_truths', 'answer', 'contexts'],\n",
       "    num_rows: 30\n",
       "})"
      ]
     },
     "execution_count": 2,
     "metadata": {},
     "output_type": "execute_result"
    }
   ],
   "source": [
    "from datasets import load_dataset\n",
    "\n",
    "fiqa_eval = load_dataset(\"explodinggradients/fiqa\", \"ragas_eval\")['baseline']\n",
    "fiqa_eval"
   ]
  },
  {
   "cell_type": "markdown",
   "id": "b889cb2a-f718-4104-a62b-7357f76742d5",
   "metadata": {
    "id": "b889cb2a-f718-4104-a62b-7357f76742d5"
   },
   "source": [
    "## The Metrics\n",
    "For going to measure the following aspects of a RAG system. These metric are from the Ragas library:\n",
    "\n",
    "1. [faithfulness](https://docs.ragas.io/en/latest/concepts/metrics/faithfulness.html): This measures the factual consistency of the generated answer against the given context.\n",
    "2. [answer_relevancy](https://docs.ragas.io/en/latest/concepts/metrics/answer_relevance.html): Answer Relevancy, focuses on assessing how pertinent the generated answer is to the given prompt.\n",
    "3. [context precision](https://docs.ragas.io/en/latest/concepts/metrics/context_precision.html): Context Precision is a metric that evaluates whether all of the ground-truth relevant items present in the contexts are ranked high. Ideally all the relevant chunks must appear at the top ranks. This metric is computed using the question and the contexts, with values ranging between 0 and 1, where higher scores indicate better precision.\n",
    "\n",
    "Checkout the [RAGAS documentation](https://docs.ragas.io/en/latest/concepts/metrics/index.html) to know more about these metrics and how they work."
   ]
  },
  {
   "cell_type": "code",
   "execution_count": 3,
   "id": "33c49997-a491-4aae-bc7f-01adb61071f5",
   "metadata": {
    "id": "33c49997-a491-4aae-bc7f-01adb61071f5"
   },
   "outputs": [],
   "source": [
    "# import metrics\n",
    "from ragas.metrics import (\n",
    "    Faithfulness,\n",
    "    ResponseRelevancy,\n",
    "    LLMContextPrecisionWithoutReference,\n",
    ")\n",
    "\n",
    "# metrics you chose\n",
    "metrics = [\n",
    "    Faithfulness(),\n",
    "    ResponseRelevancy(),\n",
    "    LLMContextPrecisionWithoutReference(),\n",
    "]"
   ]
  },
  {
   "cell_type": "markdown",
   "id": "d53f23ff-709b-4a4c-951e-42f4ea04df0a",
   "metadata": {},
   "source": [
    "Now you have to initialize the metrics with LLMs and Embeddings of your choice. In this example we are going to use OpenAI."
   ]
  },
  {
   "cell_type": "code",
   "execution_count": 4,
   "id": "b9731886-e1a8-406f-858d-be88101e9df8",
   "metadata": {},
   "outputs": [],
   "source": [
    "from ragas.run_config import RunConfig\n",
    "from ragas.metrics.base import MetricWithLLM, MetricWithEmbeddings\n",
    "\n",
    "\n",
    "# util function to init Ragas Metrics\n",
    "def init_ragas_metrics(metrics, llm, embedding):\n",
    "    for metric in metrics:\n",
    "        if isinstance(metric, MetricWithLLM):\n",
    "            metric.llm = llm\n",
    "        if isinstance(metric, MetricWithEmbeddings):\n",
    "            metric.embeddings = embedding\n",
    "        run_config = RunConfig()\n",
    "        metric.init(run_config)"
   ]
  },
  {
   "cell_type": "code",
   "execution_count": 5,
   "id": "35a55496-dab8-4759-a278-dac15f685293",
   "metadata": {},
   "outputs": [],
   "source": [
    "from langchain_openai.chat_models import ChatOpenAI\n",
    "from langchain_openai.embeddings import OpenAIEmbeddings\n",
    "\n",
    "# wrappers\n",
    "from ragas.llms import LangchainLLMWrapper\n",
    "from ragas.embeddings import LangchainEmbeddingsWrapper\n",
    "\n",
    "llm = ChatOpenAI()\n",
    "emb = OpenAIEmbeddings()\n",
    "\n",
    "init_ragas_metrics(\n",
    "    metrics,\n",
    "    llm=LangchainLLMWrapper(llm),\n",
    "    embedding=LangchainEmbeddingsWrapper(emb),\n",
    ")"
   ]
  },
  {
   "cell_type": "markdown",
   "id": "23e21d8b-f72a-4043-b42e-4cf4c72d7dc8",
   "metadata": {
    "id": "23e21d8b-f72a-4043-b42e-4cf4c72d7dc8"
   },
   "source": [
    "## The Setup\n",
    "You can use model-based evaluation with Ragas in 2 ways\n",
    "1. Score each Trace: This means you will run the evaluations for each trace item. This gives you much better idea since of how each call to your RAG pipelines is performing but can be expensive\n",
    "2. Score as Batch: In this method we will take a random sample of traces on a periodic basis and score them. This brings down cost and gives you a rough estimate the performance of your app but can miss out on important samples.\n",
    "\n",
    "In this cookbook, we'll show you how to setup both."
   ]
  },
  {
   "cell_type": "markdown",
   "id": "1e482dec-f02c-4fa1-bd07-d292a863cde5",
   "metadata": {
    "id": "1e482dec-f02c-4fa1-bd07-d292a863cde5"
   },
   "source": [
    "## Score with Trace\n",
    "\n",
    "Lets take a small example of a single trace and see how you can score that with Ragas. First lets load the data"
   ]
  },
  {
   "cell_type": "code",
   "execution_count": 6,
   "id": "184b901f-9f08-4ab1-96c4-1c50586753a3",
   "metadata": {
    "colab": {
     "base_uri": "https://localhost:8080/"
    },
    "id": "184b901f-9f08-4ab1-96c4-1c50586753a3",
    "outputId": "fc43c50d-3c9c-4fc0-ff9c-371f22637127"
   },
   "outputs": [
    {
     "data": {
      "text/plain": [
       "('How to deposit a cheque issued to an associate in my business into my business account?',\n",
       " '\\nThe best way to deposit a cheque issued to an associate in your business into your business account is to open a business account with the bank. You will need a state-issued \"dba\" certificate from the county clerk\\'s office as well as an Employer ID Number (EIN) issued by the IRS. Once you have opened the business account, you can have the associate sign the back of the cheque and deposit it into the business account.')"
      ]
     },
     "execution_count": 6,
     "metadata": {},
     "output_type": "execute_result"
    }
   ],
   "source": [
    "row = fiqa_eval[0]\n",
    "row['question'], row['answer']"
   ]
  },
  {
   "cell_type": "markdown",
   "id": "4f6138d0-2ace-4b0b-beb1-da9c20bd14a0",
   "metadata": {
    "id": "4f6138d0-2ace-4b0b-beb1-da9c20bd14a0"
   },
   "source": [
    "Now lets init a Langfuse client SDK to instrument you app."
   ]
  },
  {
   "cell_type": "code",
   "execution_count": 7,
   "id": "fb0e3d09-fdd6-4093-8dfe-917bc58129e9",
   "metadata": {
    "id": "fb0e3d09-fdd6-4093-8dfe-917bc58129e9"
   },
   "outputs": [],
   "source": [
    "from langfuse import get_client\n",
    "\n",
    "langfuse = get_client()"
   ]
  },
  {
   "cell_type": "code",
   "execution_count": 8,
   "id": "934c46d0",
   "metadata": {},
   "outputs": [
    {
     "name": "stdout",
     "output_type": "stream",
     "text": [
      "Langfuse client is authenticated and ready!\n"
     ]
    }
   ],
   "source": [
    "# Verify connection\n",
    "if langfuse.auth_check():\n",
    "    print(\"Langfuse client is authenticated and ready!\")\n",
    "else:\n",
    "    print(\"Authentication failed. Please check your credentials and host.\")"
   ]
  },
  {
   "cell_type": "markdown",
   "id": "65cf5034-c2f2-4e5e-b0bc-af34dd414020",
   "metadata": {
    "id": "65cf5034-c2f2-4e5e-b0bc-af34dd414020"
   },
   "source": [
    "Here we are defining a utility function to score your trace with the metrics you chose."
   ]
  },
  {
   "cell_type": "code",
   "execution_count": 9,
   "id": "d9b0af86-f152-4e63-a7db-264e7f0ccb18",
   "metadata": {
    "id": "d9b0af86-f152-4e63-a7db-264e7f0ccb18"
   },
   "outputs": [],
   "source": [
    "from ragas.dataset_schema import SingleTurnSample\n",
    "\n",
    "async def score_with_ragas(query, chunks, answer):\n",
    "    scores = {}\n",
    "    for m in metrics:\n",
    "        sample = SingleTurnSample(\n",
    "            user_input=query,\n",
    "            retrieved_contexts=chunks,\n",
    "            response=answer,\n",
    "        )\n",
    "        print(f\"calculating {m.name}\")\n",
    "        scores[m.name] = await m.single_turn_ascore(sample)\n",
    "    return scores"
   ]
  },
  {
   "cell_type": "markdown",
   "id": "b3b1e219-8319-4dfb-997b-0449a927e113",
   "metadata": {
    "id": "b3b1e219-8319-4dfb-997b-0449a927e113"
   },
   "source": [
    "You compute the score with each request. Below I've outlined a dummy application that does the following steps\n",
    "1. gets a question from the user\n",
    "2. fetch context from the database or vector store that can be used to answer the question from the user\n",
    "3. pass the question and the contexts to the LLM to generate the answer\n",
    "\n",
    "All these step are logged as spans in a single trace in langfuse. You can read more about traces and spans from the [langfuse documentation](https://langfuse.com/docs/tracing)."
   ]
  },
  {
   "cell_type": "code",
   "execution_count": 10,
   "id": "f21a1623-5b47-4425-a6ed-e71a7d5bc25d",
   "metadata": {
    "id": "f21a1623-5b47-4425-a6ed-e71a7d5bc25d"
   },
   "outputs": [
    {
     "name": "stdout",
     "output_type": "stream",
     "text": [
      "calculating faithfulness\n",
      "calculating answer_relevancy\n",
      "calculating llm_context_precision_without_reference\n",
      "RAGAS Scores: {'faithfulness': 0.8, 'answer_relevancy': np.float64(0.9825100521118072), 'llm_context_precision_without_reference': 0.9999999999}\n"
     ]
    },
    {
     "data": {
      "text/plain": [
       "{'faithfulness': 0.8,\n",
       " 'answer_relevancy': np.float64(0.9825100521118072),\n",
       " 'llm_context_precision_without_reference': 0.9999999999}"
      ]
     },
     "execution_count": 10,
     "metadata": {},
     "output_type": "execute_result"
    }
   ],
   "source": [
    "# start a new trace when you get a question\n",
    "question = row['question']\n",
    "contexts = row['contexts']\n",
    "answer = row['answer']\n",
    "\n",
    "with langfuse.start_as_current_span(name=\"rag\") as trace:\n",
    "    # Store trace_id for later use\n",
    "    trace_id = trace.trace_id\n",
    "    \n",
    "    # retrieve the relevant chunks\n",
    "    # chunks = get_similar_chunks(question)\n",
    "    \n",
    "    # pass it as span\n",
    "    with trace.start_as_current_span(\n",
    "        name=\"retrieval\", \n",
    "        input={'question': question}, \n",
    "        output={'contexts': contexts}\n",
    "    ):\n",
    "        pass\n",
    "\n",
    "    # use llm to generate a answer with the chunks\n",
    "    # answer = get_response_from_llm(question, chunks)\n",
    "    \n",
    "    with trace.start_as_current_span(\n",
    "        name=\"generation\", \n",
    "        input={'question': question, 'contexts': contexts}, \n",
    "        output={'answer': answer}\n",
    "    ):\n",
    "        pass\n",
    "\n",
    "    # compute scores for the question, context, answer tuple\n",
    "    ragas_scores = await score_with_ragas(question, contexts, answer)\n",
    "\n",
    "print(\"RAGAS Scores:\", ragas_scores)\n",
    "ragas_scores"
   ]
  },
  {
   "cell_type": "markdown",
   "id": "6403f6ac-807c-441c-9fe2-a6bf2f6771f3",
   "metadata": {
    "id": "6403f6ac-807c-441c-9fe2-a6bf2f6771f3"
   },
   "source": [
    "Once the scores are computed you can add them to the trace in Langfuse:"
   ]
  },
  {
   "cell_type": "code",
   "execution_count": 11,
   "id": "1f0d222b-1db3-44e9-ba98-3d2ba6ee00d2",
   "metadata": {
    "id": "1f0d222b-1db3-44e9-ba98-3d2ba6ee00d2"
   },
   "outputs": [],
   "source": [
    "# send the scores\n",
    "# Use the trace_id stored from the previous cell\n",
    "for m in metrics:\n",
    "    langfuse.create_score(\n",
    "        name=m.name, \n",
    "        value=ragas_scores[m.name], \n",
    "        trace_id=trace_id\n",
    "    )"
   ]
  },
  {
   "cell_type": "markdown",
   "id": "19a0e5d0-3a67-46e0-b5c6-baf272dbea3b",
   "metadata": {
    "id": "19a0e5d0-3a67-46e0-b5c6-baf272dbea3b"
   },
   "source": [
    "![Trace with RAGAS scores](https://langfuse.com/images/docs/ragas-trace-score.png)"
   ]
  },
  {
   "cell_type": "markdown",
   "id": "4fd68b13-9743-424f-830a-c6d32e3d09c6",
   "metadata": {
    "id": "4fd68b13-9743-424f-830a-c6d32e3d09c6"
   },
   "source": [
    "Note that the scoring is blocking so make sure that you sent the generated answer before waiting for the scores to get computed. Alternatively you can run `score_with_ragas()` in a separate thread and pass in the trace_id to log the scores.\n",
    "\n",
    "Or you can consider"
   ]
  },
  {
   "cell_type": "markdown",
   "id": "605416ed-e0ba-43d2-8cc9-b2343ebbe309",
   "metadata": {
    "id": "605416ed-e0ba-43d2-8cc9-b2343ebbe309"
   },
   "source": [
    "## Scoring as batch\n",
    "\n",
    "Scoring each production trace can be time-consuming and costly depending on your application architecture and traffic. In that case, it's better to start off with a batch scoring method. Decide a timespan you want to run the batch process and the number of traces you want to _sample_ from that time slice. Create a dataset and call `ragas.evaluate` to analyze the result.\n",
    "\n",
    "You can run this periodically to keep track of how the scores are changing across timeslices and figure out if there are any discrepancies.\n",
    "\n",
    "To create demo data in Langfuse, lets first create ~10 traces with the fiqa dataset."
   ]
  },
  {
   "cell_type": "code",
   "execution_count": 12,
   "id": "66910fc2-b84f-4a44-947a-854ca6fb48e2",
   "metadata": {
    "id": "66910fc2-b84f-4a44-947a-854ca6fb48e2"
   },
   "outputs": [],
   "source": [
    "# fiqa traces\n",
    "for interaction in fiqa_eval.select(range(10, 20)):\n",
    "    question = interaction['question']\n",
    "    contexts = interaction['contexts']\n",
    "    answer = interaction['answer']\n",
    "    \n",
    "    with langfuse.start_as_current_span(name=\"rag\") as trace:\n",
    "        with trace.start_as_current_span(\n",
    "            name=\"retrieval\",\n",
    "            input={'question': question},\n",
    "            output={'contexts': contexts}\n",
    "        ):\n",
    "            pass\n",
    "        \n",
    "        with trace.start_as_current_span(\n",
    "            name=\"generation\",\n",
    "            input={'question': question, 'contexts': contexts},\n",
    "            output={'answer': answer}\n",
    "        ):\n",
    "            pass\n",
    "\n",
    "# await that Langfuse SDK has processed all events before trying to retrieve it in the next step\n",
    "langfuse.flush()"
   ]
  },
  {
   "cell_type": "markdown",
   "id": "061d56ac-8acc-4537-b6c0-591d92cb8806",
   "metadata": {
    "id": "061d56ac-8acc-4537-b6c0-591d92cb8806"
   },
   "source": [
    "Now that the dataset is uploaded to langfuse you can retrieve it as needed with this handy function."
   ]
  },
  {
   "cell_type": "code",
   "execution_count": 17,
   "id": "25f13042-b8b8-44bb-803d-b790c39c39f4",
   "metadata": {
    "id": "25f13042-b8b8-44bb-803d-b790c39c39f4"
   },
   "outputs": [],
   "source": [
    "def get_traces(name=None, limit=None, user_id=None):\n",
    "    all_data = []\n",
    "    page = 1\n",
    "\n",
    "    while True:\n",
    "        response = langfuse.api.trace.list(\n",
    "            name=name, page=page, user_id=user_id\n",
    "        )\n",
    "        if not response.data:\n",
    "            break\n",
    "        page += 1\n",
    "        all_data.extend(response.data)\n",
    "        if len(all_data) > limit:\n",
    "            break\n",
    "\n",
    "    return all_data[:limit]"
   ]
  },
  {
   "cell_type": "code",
   "execution_count": 18,
   "id": "c0b778cc-cb02-43d6-a81b-fc586905d81e",
   "metadata": {
    "id": "c0b778cc-cb02-43d6-a81b-fc586905d81e"
   },
   "outputs": [
    {
     "data": {
      "text/plain": [
       "3"
      ]
     },
     "execution_count": 18,
     "metadata": {},
     "output_type": "execute_result"
    }
   ],
   "source": [
    "from random import sample\n",
    "\n",
    "NUM_TRACES_TO_SAMPLE = 3\n",
    "traces = get_traces(name='rag', limit=5)\n",
    "traces_sample = sample(traces, NUM_TRACES_TO_SAMPLE)\n",
    "\n",
    "len(traces_sample)"
   ]
  },
  {
   "cell_type": "markdown",
   "id": "d37337dd-fe8a-4a4e-b2fc-f7435cf0eb51",
   "metadata": {
    "id": "d37337dd-fe8a-4a4e-b2fc-f7435cf0eb51"
   },
   "source": [
    "Now lets make a batch and score it. Ragas uses huggingface dataset object to build the dataset and run the evaluation. If you run this on your own production data, use the right keys to extract the question, contexts and answer from the trace"
   ]
  },
  {
   "cell_type": "code",
   "execution_count": 20,
   "id": "d3928d37-1b60-471e-a99d-8a158ea8652b",
   "metadata": {
    "id": "d3928d37-1b60-471e-a99d-8a158ea8652b"
   },
   "outputs": [],
   "source": [
    "# score on a sample\n",
    "from random import sample\n",
    "\n",
    "evaluation_batch = {\n",
    "    \"question\": [],\n",
    "    \"contexts\": [],\n",
    "    \"answer\": [],\n",
    "    \"trace_id\": [],\n",
    "}\n",
    "\n",
    "for t in traces_sample:\n",
    "    observations = [langfuse.api.observations.get(o) for o in t.observations]\n",
    "    for o in observations:\n",
    "        if o.name == 'retrieval':\n",
    "            question = o.input['question']\n",
    "            contexts = o.output['contexts']\n",
    "        if o.name=='generation':\n",
    "            answer = o.output['answer']\n",
    "    evaluation_batch['question'].append(question)\n",
    "    evaluation_batch['contexts'].append(contexts)\n",
    "    evaluation_batch['answer'].append(answer)\n",
    "    evaluation_batch['trace_id'].append(t.id)"
   ]
  },
  {
   "cell_type": "code",
   "execution_count": 21,
   "id": "bf83f16d-4c15-484d-9ed2-e696aa8a0e28",
   "metadata": {
    "id": "bf83f16d-4c15-484d-9ed2-e696aa8a0e28"
   },
   "outputs": [
    {
     "data": {
      "application/vnd.jupyter.widget-view+json": {
       "model_id": "0138edad71624c21bcff396c3e8bc42b",
       "version_major": 2,
       "version_minor": 0
      },
      "text/plain": [
       "Evaluating:   0%|          | 0/6 [00:00<?, ?it/s]"
      ]
     },
     "metadata": {},
     "output_type": "display_data"
    }
   ],
   "source": [
    "# run ragas evaluate\n",
    "from datasets import Dataset\n",
    "from ragas import evaluate\n",
    "from ragas.metrics import Faithfulness, ResponseRelevancy\n",
    "\n",
    "ds = Dataset.from_dict(evaluation_batch)\n",
    "r = evaluate(ds, metrics=[Faithfulness(), ResponseRelevancy()])"
   ]
  },
  {
   "cell_type": "markdown",
   "id": "1a4da691-4965-4fcd-bfd0-9a5f3e454f48",
   "metadata": {
    "id": "1a4da691-4965-4fcd-bfd0-9a5f3e454f48"
   },
   "source": [
    "And that is it! You can see the scores over a time period."
   ]
  },
  {
   "cell_type": "code",
   "execution_count": 22,
   "id": "ecf51162-edc3-4c54-9fce-89595d01004d",
   "metadata": {
    "id": "ecf51162-edc3-4c54-9fce-89595d01004d"
   },
   "outputs": [
    {
     "data": {
      "text/plain": [
       "{'faithfulness': 0.5516, 'answer_relevancy': 0.9294}"
      ]
     },
     "execution_count": 22,
     "metadata": {},
     "output_type": "execute_result"
    }
   ],
   "source": [
    "r"
   ]
  },
  {
   "cell_type": "markdown",
   "id": "d50f869a-50ab-4040-8b48-fb5c8eecb9b8",
   "metadata": {
    "id": "d50f869a-50ab-4040-8b48-fb5c8eecb9b8"
   },
   "source": [
    "You can also push the scores back into Langfuse or use the exported pandas dataframe to run further analysis."
   ]
  },
  {
   "cell_type": "code",
   "execution_count": 23,
   "id": "e9137f38-275f-4f74-be17-530db0fcc3e1",
   "metadata": {
    "colab": {
     "base_uri": "https://localhost:8080/",
     "height": 196
    },
    "id": "e9137f38-275f-4f74-be17-530db0fcc3e1",
    "outputId": "9d63c285-2a87-4f00-f509-52773e8e0972"
   },
   "outputs": [
    {
     "data": {
      "text/html": [
       "<div>\n",
       "<style scoped>\n",
       "    .dataframe tbody tr th:only-of-type {\n",
       "        vertical-align: middle;\n",
       "    }\n",
       "\n",
       "    .dataframe tbody tr th {\n",
       "        vertical-align: top;\n",
       "    }\n",
       "\n",
       "    .dataframe thead th {\n",
       "        text-align: right;\n",
       "    }\n",
       "</style>\n",
       "<table border=\"1\" class=\"dataframe\">\n",
       "  <thead>\n",
       "    <tr style=\"text-align: right;\">\n",
       "      <th></th>\n",
       "      <th>user_input</th>\n",
       "      <th>retrieved_contexts</th>\n",
       "      <th>response</th>\n",
       "      <th>faithfulness</th>\n",
       "      <th>answer_relevancy</th>\n",
       "      <th>trace_id</th>\n",
       "    </tr>\n",
       "  </thead>\n",
       "  <tbody>\n",
       "    <tr>\n",
       "      <th>0</th>\n",
       "      <td>Do I need a new EIN since I am hiring employee...</td>\n",
       "      <td>[You don't need to notify the IRS of new membe...</td>\n",
       "      <td>\\nNo, you do not need a new EIN since you are ...</td>\n",
       "      <td>0.750000</td>\n",
       "      <td>0.992491</td>\n",
       "      <td>9a96d48d96d45b1bb6d28d48b7cc93d4</td>\n",
       "    </tr>\n",
       "    <tr>\n",
       "      <th>1</th>\n",
       "      <td>Privacy preferences on creditworthiness data</td>\n",
       "      <td>[See the first item in the list: For our every...</td>\n",
       "      <td>\\nThe best answer to this question is that you...</td>\n",
       "      <td>0.571429</td>\n",
       "      <td>0.875799</td>\n",
       "      <td>18e23692aa5b2b245c176574e247a236</td>\n",
       "    </tr>\n",
       "    <tr>\n",
       "      <th>2</th>\n",
       "      <td>Have plenty of cash flow but bad credit</td>\n",
       "      <td>[This is probably a good time to note that cre...</td>\n",
       "      <td>\\nIf you have plenty of cash flow but bad cred...</td>\n",
       "      <td>0.333333</td>\n",
       "      <td>0.919893</td>\n",
       "      <td>877d64dc4355743e2d2f1b2607d9ec14</td>\n",
       "    </tr>\n",
       "  </tbody>\n",
       "</table>\n",
       "</div>"
      ],
      "text/plain": [
       "                                          user_input  \\\n",
       "0  Do I need a new EIN since I am hiring employee...   \n",
       "1       Privacy preferences on creditworthiness data   \n",
       "2            Have plenty of cash flow but bad credit   \n",
       "\n",
       "                                  retrieved_contexts  \\\n",
       "0  [You don't need to notify the IRS of new membe...   \n",
       "1  [See the first item in the list: For our every...   \n",
       "2  [This is probably a good time to note that cre...   \n",
       "\n",
       "                                            response  faithfulness  \\\n",
       "0  \\nNo, you do not need a new EIN since you are ...      0.750000   \n",
       "1  \\nThe best answer to this question is that you...      0.571429   \n",
       "2  \\nIf you have plenty of cash flow but bad cred...      0.333333   \n",
       "\n",
       "   answer_relevancy                          trace_id  \n",
       "0          0.992491  9a96d48d96d45b1bb6d28d48b7cc93d4  \n",
       "1          0.875799  18e23692aa5b2b245c176574e247a236  \n",
       "2          0.919893  877d64dc4355743e2d2f1b2607d9ec14  "
      ]
     },
     "execution_count": 23,
     "metadata": {},
     "output_type": "execute_result"
    }
   ],
   "source": [
    "df = r.to_pandas()\n",
    "\n",
    "# add the langfuse trace_id to the result dataframe\n",
    "df[\"trace_id\"] = ds[\"trace_id\"]\n",
    "\n",
    "df.head()"
   ]
  },
  {
   "cell_type": "code",
   "execution_count": 24,
   "id": "dce92841-2ef6-4392-875f-cb7184c3cd22",
   "metadata": {
    "id": "dce92841-2ef6-4392-875f-cb7184c3cd22"
   },
   "outputs": [],
   "source": [
    "for _, row in df.iterrows():\n",
    "    for metric_name in [\"faithfulness\", \"answer_relevancy\"]:\n",
    "        langfuse.create_score(\n",
    "            name=metric_name,\n",
    "            value=row[metric_name],\n",
    "            trace_id=row[\"trace_id\"]\n",
    "        )"
   ]
  },
  {
   "cell_type": "markdown",
   "id": "e9b02f19-c421-41fd-9ab3-70466839170c",
   "metadata": {
    "id": "e9b02f19-c421-41fd-9ab3-70466839170c"
   },
   "source": [
    "![List of traces with RAGAS scores](https://langfuse.com/images/docs/ragas-list-score-traces.png)"
   ]
  }
 ],
 "metadata": {
  "colab": {
   "provenance": []
  },
  "kernelspec": {
   "display_name": ".venv",
   "language": "python",
   "name": "python3"
  },
  "language_info": {
   "codemirror_mode": {
    "name": "ipython",
    "version": 3
   },
   "file_extension": ".py",
   "mimetype": "text/x-python",
   "name": "python",
   "nbconvert_exporter": "python",
   "pygments_lexer": "ipython3",
   "version": "3.13.2"
  }
 },
 "nbformat": 4,
 "nbformat_minor": 5
}

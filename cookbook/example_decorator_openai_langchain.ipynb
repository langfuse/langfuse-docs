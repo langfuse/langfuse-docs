{
  "cells": [
    {
      "cell_type": "markdown",
      "metadata": {},
      "source": [
        "---\n",
        "description: LLM Rap Battle traced using the Langfuse Decorator, OpenAI & Langchain Integration\n",
        "category: Examples\n",
        "---"
      ]
    },
    {
      "cell_type": "markdown",
      "metadata": {
        "id": "ZqZ8AN39K6kG"
      },
      "source": [
        "# Example: Langfuse Decorator + OpenAI Integration + Langchain Integration"
      ]
    },
    {
      "cell_type": "code",
      "execution_count": null,
      "metadata": {
        "id": "pla_RO_7bP3u"
      },
      "outputs": [],
      "source": [
        "%pip install langfuse openai langchain_openai langchain"
      ]
    },
    {
      "cell_type": "code",
      "execution_count": null,
      "metadata": {
        "id": "LQ4UnVpDbP3v"
      },
      "outputs": [],
      "source": [
        "import os\n",
        "\n",
        "# Get keys for your project from the project settings page\n",
        "# https://cloud.langfuse.com\n",
        "os.environ[\"LANGFUSE_PUBLIC_KEY\"] = \"\"\n",
        "os.environ[\"LANGFUSE_SECRET_KEY\"] = \"\"\n",
        "os.environ[\"LANGFUSE_HOST\"] = \"https://cloud.langfuse.com\" # 🇪🇺 EU region\n",
        "# os.environ[\"LANGFUSE_HOST\"] = \"https://us.cloud.langfuse.com\" # 🇺🇸 US region\n",
        "\n",
        "# Your openai key\n",
        "os.environ[\"OPENAI_API_KEY\"] = \"\""
      ]
    },
    {
      "cell_type": "markdown",
      "metadata": {
        "id": "pJXWPL1Xg_HO"
      },
      "source": [
        "## Imports"
      ]
    },
    {
      "cell_type": "code",
      "execution_count": null,
      "metadata": {
        "id": "FKB4e1cpl1lu"
      },
      "outputs": [],
      "source": [
        "import random"
      ]
    },
    {
      "cell_type": "code",
      "execution_count": null,
      "metadata": {
        "id": "anEKybkhlwju"
      },
      "outputs": [],
      "source": [
        "from operator import itemgetter\n",
        "from langchain_openai import ChatOpenAI\n",
        "from langchain.prompts import ChatPromptTemplate\n",
        "from langchain.schema import StrOutputParser\n",
        "from langfuse.decorators import observe"
      ]
    },
    {
      "cell_type": "code",
      "execution_count": null,
      "metadata": {
        "id": "itxfY1Cug9iE"
      },
      "outputs": [],
      "source": [
        "from langfuse.decorators import langfuse_context, observe\n",
        "\n",
        "# import openai\n",
        "from langfuse.openai import openai"
      ]
    },
    {
      "cell_type": "markdown",
      "metadata": {
        "id": "Om5dYvIwg14h"
      },
      "source": [
        "## Example: LLM Rap Battle"
      ]
    },
    {
      "cell_type": "code",
      "execution_count": null,
      "metadata": {
        "id": "UNOk7cElboz1"
      },
      "outputs": [],
      "source": [
        "@observe()\n",
        "def get_random_rap_topic():\n",
        "  topics = [\n",
        "      \"OSS software\",\n",
        "      \"artificial general intelligence\"\n",
        "  ]\n",
        "  return random.choice(topics)"
      ]
    },
    {
      "cell_type": "code",
      "execution_count": null,
      "metadata": {
        "id": "O-QmAjTGfX-Q"
      },
      "outputs": [],
      "source": [
        "@observe()\n",
        "def summarize_rap_langchain(rap):\n",
        "    langfuse_handler = langfuse_context.get_current_langchain_handler()\n",
        "\n",
        "    # Create chain\n",
        "    prompt = ChatPromptTemplate.from_template(\"Summarrize this rap: {rap}\")\n",
        "    model = ChatOpenAI()\n",
        "    chain = prompt | model | StrOutputParser()\n",
        "\n",
        "    # Pass handler to invoke\n",
        "    summary = chain.invoke(\n",
        "        {\"rap\": rap},\n",
        "        config={\"callbacks\":[langfuse_handler]}\n",
        "    )\n",
        "\n",
        "    return summary"
      ]
    },
    {
      "cell_type": "code",
      "execution_count": null,
      "metadata": {
        "id": "MXl9E_mNcWw_"
      },
      "outputs": [],
      "source": [
        "@observe()\n",
        "def rap_battle(turns: int = 5):\n",
        "  topic = get_random_rap_topic()\n",
        "\n",
        "  print(f\"Topic: {topic}\")\n",
        "\n",
        "  langfuse_context.update_current_trace(\n",
        "     metadata={\"topic\":topic},\n",
        "     tags=[\"Launch Week 1\"]\n",
        "  )\n",
        "\n",
        "  messages = [\n",
        "      {\"role\": \"system\", \"content\": \"We are all rap artist. When it is our turn, we drop a fresh line.\"},\n",
        "      {\"role\": \"user\", \"content\": f\"Kick it off, today's topic is {topic}, here's the mic...\"}\n",
        "  ]\n",
        "\n",
        "  for turn in range(turns):\n",
        "      completion = openai.chat.completions.create(\n",
        "        model=\"gpt-3.5-turbo\",\n",
        "        messages=messages,\n",
        "      )\n",
        "      rap_line = completion.choices[0].message.content\n",
        "      messages.append({\"role\": \"assistant\", \"content\": rap_line})\n",
        "      print(f\"\\nRap {turn}: {rap_line}\")\n",
        "\n",
        "  summary = summarize_rap_langchain([message['content'] for message in messages])\n",
        "\n",
        "  return summary"
      ]
    },
    {
      "cell_type": "code",
      "execution_count": null,
      "metadata": {
        "id": "Vg8bc0mzd7uG"
      },
      "outputs": [],
      "source": [
        "rap_summary = rap_battle(turns=4)\n",
        "print(\"\\nSummary: \" + rap_summary)"
      ]
    }
  ],
  "metadata": {
    "colab": {
      "provenance": []
    },
    "kernelspec": {
      "display_name": "Python 3 (ipykernel)",
      "language": "python",
      "name": "python3"
    },
    "language_info": {
      "codemirror_mode": {
        "name": "ipython",
        "version": 3
      },
      "file_extension": ".py",
      "mimetype": "text/x-python",
      "name": "python",
      "nbconvert_exporter": "python",
      "pygments_lexer": "ipython3",
      "version": "3.9.18"
    }
  },
  "nbformat": 4,
  "nbformat_minor": 0
}

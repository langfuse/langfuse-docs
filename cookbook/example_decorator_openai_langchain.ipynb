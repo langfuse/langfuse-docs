{
 "cells": [
  {
   "cell_type": "markdown",
   "metadata": {},
   "source": [
    "---\n",
    "description: LLM Rap Battle traced using the Langfuse Decorator, OpenAI & Langchain Integration\n",
    "category: Integrations\n",
    "---"
   ]
  },
  {
   "cell_type": "markdown",
   "metadata": {
    "id": "ZqZ8AN39K6kG"
   },
   "source": [
    "# Example: Langfuse Decorator + OpenAI Integration + Langchain Integration"
   ]
  },
  {
   "cell_type": "code",
   "execution_count": null,
   "metadata": {
    "id": "pla_RO_7bP3u"
   },
   "outputs": [],
   "source": [
    "%pip install langfuse openai langchain_openai langchain --upgrade"
   ]
  },
  {
   "cell_type": "code",
   "execution_count": 5,
   "metadata": {
    "id": "LQ4UnVpDbP3v"
   },
   "outputs": [],
   "source": [
    "import os\n",
    "\n",
    "# Get keys for your project from the project settings page: https://cloud.langfuse.com\n",
    "os.environ[\"LANGFUSE_PUBLIC_KEY\"] = \"pk-lf-...\" \n",
    "os.environ[\"LANGFUSE_SECRET_KEY\"] = \"sk-lf-...\" \n",
    "os.environ[\"LANGFUSE_HOST\"] = \"https://cloud.langfuse.com\" # 🇪🇺 EU region\n",
    "# os.environ[\"LANGFUSE_HOST\"] = \"https://us.cloud.langfuse.com\" # 🇺🇸 US region\n",
    "\n",
    "# Your openai key\n",
    "os.environ[\"OPENAI_API_KEY\"] = \"sk-proj-...\""
   ]
  },
  {
   "cell_type": "markdown",
   "metadata": {
    "id": "pJXWPL1Xg_HO"
   },
   "source": [
    "## Imports"
   ]
  },
  {
   "cell_type": "code",
   "execution_count": 6,
   "metadata": {
    "id": "anEKybkhlwju"
   },
   "outputs": [],
   "source": [
    "import random\n",
    "from operator import itemgetter\n",
    "from langchain_openai import ChatOpenAI\n",
    "from langchain.prompts import ChatPromptTemplate\n",
    "from langchain.schema import StrOutputParser\n",
    "from langfuse import observe"
   ]
  },
  {
   "cell_type": "code",
   "execution_count": 7,
   "metadata": {
    "id": "itxfY1Cug9iE"
   },
   "outputs": [],
   "source": [
    "from langfuse import observe, get_client\n",
    "langfuse = get_client()\n",
    "\n",
    "# import openai\n",
    "from langfuse.openai import openai"
   ]
  },
  {
   "cell_type": "markdown",
   "metadata": {
    "id": "Om5dYvIwg14h"
   },
   "source": [
    "## Example: LLM Rap Battle"
   ]
  },
  {
   "cell_type": "code",
   "execution_count": 8,
   "metadata": {
    "id": "UNOk7cElboz1"
   },
   "outputs": [],
   "source": [
    "@observe()\n",
    "def get_random_rap_topic():\n",
    "  topics = [\n",
    "      \"OSS software\",\n",
    "      \"artificial general intelligence\"\n",
    "  ]\n",
    "  return random.choice(topics)"
   ]
  },
  {
   "cell_type": "code",
   "execution_count": 12,
   "metadata": {
    "id": "O-QmAjTGfX-Q"
   },
   "outputs": [],
   "source": [
    "from langfuse.langchain import CallbackHandler\n",
    "\n",
    "@observe()\n",
    "def summarize_rap_langchain(rap):\n",
    "\n",
    "    # Initialize the Langfuse handler\n",
    "    langfuse_handler = CallbackHandler()\n",
    "\n",
    "    # Create chain\n",
    "    prompt = ChatPromptTemplate.from_template(\"Summarrize this rap: {rap}\")\n",
    "    model = ChatOpenAI()\n",
    "    chain = prompt | model | StrOutputParser()\n",
    "\n",
    "    # Pass handler to invoke\n",
    "    summary = chain.invoke(\n",
    "        {\"rap\": rap},\n",
    "        config={\"callbacks\":[langfuse_handler]}\n",
    "    )\n",
    "\n",
    "    return summary"
   ]
  },
  {
   "cell_type": "code",
   "execution_count": 13,
   "metadata": {
    "id": "MXl9E_mNcWw_"
   },
   "outputs": [],
   "source": [
    "@observe()\n",
    "def rap_battle(turns: int = 5):\n",
    "  topic = get_random_rap_topic()\n",
    "\n",
    "  print(f\"Topic: {topic}\")\n",
    "\n",
    "  langfuse.update_current_trace(\n",
    "     metadata={\"topic\":topic},\n",
    "     tags=[\"Launch Week 1\"]\n",
    "  )\n",
    "\n",
    "  messages = [\n",
    "      {\"role\": \"system\", \"content\": \"We are all rap artist. When it is our turn, we drop a fresh line.\"},\n",
    "      {\"role\": \"user\", \"content\": f\"Kick it off, today's topic is {topic}, here's the mic...\"}\n",
    "  ]\n",
    "\n",
    "  for turn in range(turns):\n",
    "      completion = openai.chat.completions.create(\n",
    "        model=\"gpt-4o\",\n",
    "        messages=messages,\n",
    "      )\n",
    "      rap_line = completion.choices[0].message.content\n",
    "      messages.append({\"role\": \"assistant\", \"content\": rap_line})\n",
    "      print(f\"\\nRap {turn}: {rap_line}\")\n",
    "\n",
    "  summary = summarize_rap_langchain([message['content'] for message in messages])\n",
    "\n",
    "  return summary"
   ]
  },
  {
   "cell_type": "code",
   "execution_count": 14,
   "metadata": {
    "id": "Vg8bc0mzd7uG"
   },
   "outputs": [
    {
     "name": "stdout",
     "output_type": "stream",
     "text": [
      "Topic: artificial general intelligence\n",
      "\n",
      "Rap 0: I'm kickin' it with AGI, the future's in my sights,  \n",
      "Machines getting smarter, like they got new insights,  \n",
      "Beyond narrow AI, it's a brand new domain,  \n",
      "Computers thinkin' freely, sharpenin' their brain.  \n",
      "\n",
      "Rap 1: Flippin' through algorithms, a digital symphony,  \n",
      "These code lines are flowin', create new epiphanies,  \n",
      "Boundless like the universe, we're breakin' every mold,  \n",
      "With AGI in the lab, we're changin' stories untold.  \n",
      "\n",
      "Rap 2: Pixels turn to poetry with intelligence so bold,  \n",
      "Machines learnin' feelings, understanding what’s unsaid,  \n",
      "They sift through data waves, pickin' up the threads,  \n",
      "Craftin' neural pathways where human thoughts are spread.  \n",
      "\n",
      "Rap 3: Mathematics in motion, like a symphony of thought,  \n",
      "Explorin' every crevice, solutions we sought,  \n",
      "From zeroes and ones to infinite potential,  \n",
      "In the realm of AGI, we're only experimental.  \n",
      "\n",
      "Summary: The rap is about artificial general intelligence (AGI) and how it is changing the future. The artists discuss the capabilities of machines becoming smarter and thinking freely, breaking boundaries and creating new epiphanies. They describe AGI as creating new possibilities and understanding human thoughts, with infinite potential and still in an experimental stage.\n"
     ]
    }
   ],
   "source": [
    "rap_summary = rap_battle(turns=4)\n",
    "print(\"\\nSummary: \" + rap_summary)"
   ]
  }
 ],
 "metadata": {
  "colab": {
   "provenance": []
  },
  "kernelspec": {
   "display_name": ".venv",
   "language": "python",
   "name": "python3"
  },
  "language_info": {
   "codemirror_mode": {
    "name": "ipython",
    "version": 3
   },
   "file_extension": ".py",
   "mimetype": "text/x-python",
   "name": "python",
   "nbconvert_exporter": "python",
   "pygments_lexer": "ipython3",
   "version": "3.13.2"
  }
 },
 "nbformat": 4,
 "nbformat_minor": 0
}

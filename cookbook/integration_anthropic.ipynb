{
  "cells": [
    {
      "cell_type": "markdown",
      "metadata": {},
      "source": [
        "<!-- NOTEBOOK_METADATA source: \"⚠️ Jupyter Notebook\" title: \"Observability for Anthropic with Langfuse Integration\" sidebarTitle: \"Anthropic\" logo: \"/images/integrations/anthropic_icon.png\" description: \"Learn how to integrate Langfuse with Anthropic for comprehensive tracing and debugging of your AI conversations.\" category: \"Integrations\" -->\n",
        "\n",
        "# Trace Anthropic Models in Langfuse\n",
        "\n",
        "Anthropic provides advanced language models like Claude, known for their safety, helpfulness, and strong reasoning capabilities. By combining Anthropic's models with **Langfuse**, you can trace, monitor, and analyze your AI workloads in development and production.\n",
        "\n",
        "This notebook demonstrates **two** different ways to use Anthropic models with Langfuse:\n",
        "1. **Anthropic SDK:** Use Langfuse decorators to wrap Anthropic SDK calls for automatic tracing.\n",
        "2. **OpenAI SDK:** Use Anthropic's OpenAI-compatible endpoints via Langfuse's OpenAI SDK wrapper.\n",
        "\n",
        "> **What is Anthropic?**  \n",
        "Anthropic is an AI safety company that develops Claude, a family of large language models designed to be helpful, harmless, and honest. Claude models excel at complex reasoning, analysis, and creative tasks.\n",
        "\n",
        "> **What is Langfuse?**  \n",
        "[Langfuse](https://langfuse.com) is an open source platform for LLM observability and monitoring. It helps you trace and monitor your AI applications by capturing metadata, prompt details, token usage, latency, and more.\n"
      ]
    },
    {
      "cell_type": "markdown",
      "metadata": {},
      "source": [
        "<!-- STEPS_START -->\n",
        "## Step 1: Install Dependencies\n",
        "\n",
        "Before you begin, install the necessary packages in your Python environment:\n",
        "\n",
        "- **anthropic**: The official Anthropic Python SDK for using Claude models.\n",
        "- **openai**: Needed to call Anthropic's OpenAI-compatible endpoints.\n",
        "- **langfuse**: Required for sending trace data to the Langfuse platform.\n"
      ]
    },
    {
      "cell_type": "code",
      "execution_count": null,
      "metadata": {},
      "outputs": [],
      "source": [
        "%pip install anthropic openai langfuse"
      ]
    },
    {
      "cell_type": "markdown",
      "metadata": {},
      "source": [
        "## Step 2: Configure Langfuse SDK\n",
        "\n",
        "Next, set up your Langfuse API keys. You can get these keys by signing up for a free [Langfuse Cloud](https://cloud.langfuse.com/) account or by [self-hosting Langfuse](https://langfuse.com/self-hosting). These environment variables are essential for the Langfuse client to authenticate and send data to your Langfuse project.\n",
        "\n",
        "Also set your Anthropic API ([Anthropic Console](https://console.anthropic.com/))."
      ]
    },
    {
      "cell_type": "code",
      "execution_count": null,
      "metadata": {},
      "outputs": [],
      "source": [
        "import os\n",
        "\n",
        "# Get keys for your project from the project settings page: https://cloud.langfuse.com\n",
        "os.environ[\"LANGFUSE_PUBLIC_KEY\"] = \"pk-lf-...\" \n",
        "os.environ[\"LANGFUSE_SECRET_KEY\"] = \"sk-lf-...\" \n",
        "os.environ[\"LANGFUSE_HOST\"] = \"https://cloud.langfuse.com\" # 🇪🇺 EU region\n",
        "# os.environ[\"LANGFUSE_HOST\"] = \"https://us.cloud.langfuse.com\" # 🇺🇸 US region\n",
        "\n",
        "os.environ[\"ANTHROPIC_API_KEY\"] = \"sk-ant-...\"  # Your Anthropic API key"
      ]
    },
    {
      "cell_type": "markdown",
      "metadata": {},
      "source": [
        "With the environment variables set, we can now initialize the Langfuse client. `get_client()` initializes the Langfuse client using the credentials provided in the environment variables."
      ]
    },
    {
      "cell_type": "code",
      "execution_count": null,
      "metadata": {},
      "outputs": [],
      "source": [
        "from langfuse import get_client\n",
        "\n",
        "langfuse = get_client()\n",
        " \n",
        "# Verify connection\n",
        "if langfuse.auth_check():\n",
        "    print(\"Langfuse client is authenticated and ready!\")\n",
        "else:\n",
        "    print(\"Authentication failed. Please check your credentials and host.\")"
      ]
    },
    {
      "cell_type": "markdown",
      "metadata": {},
      "source": [
        "## Approach 1: Using Native Anthropic SDK with Langfuse Decorators\n",
        "\n",
        "Langfuse decorators provide a simple way to trace function calls and automatically capture input/output data. This approach allows you to use the native Anthropic SDK while getting full observability through Langfuse.\n",
        "\n",
        "<!-- CALLOUT_START type: \"info\" emoji: \"ℹ️\" -->\n",
        "**Note:** For more examples on using Langfuse decorators, see the [Langfuse Python SDK documentation](https://langfuse.com/docs/sdk/python/decorators).\n",
        "<!-- CALLOUT_END -->"
      ]
    },
    {
      "cell_type": "code",
      "execution_count": null,
      "metadata": {},
      "outputs": [],
      "source": [
        "from langfuse import observe\n",
        "from anthropic import Anthropic\n",
        "\n",
        "# Initialize the Anthropic client\n",
        "anthropic = Anthropic(\n",
        "    api_key=os.environ.get(\"ANTHROPIC_API_KEY\")\n",
        ")\n",
        "\n",
        "@observe()\n",
        "def chat_with_claude(messages: list, model: str = \"claude-3-5-sonnet-20241022\", max_tokens: int = 1024):\n",
        "    \"\"\"Chat with Claude using the Anthropic SDK and trace with Langfuse.\"\"\"\n",
        "    \n",
        "    # Make the API call to Anthropic\n",
        "    response = anthropic.messages.create(\n",
        "        model=model,\n",
        "        max_tokens=max_tokens,\n",
        "        messages=messages\n",
        "    )\n",
        "    \n",
        "    # Update Langfuse observation with model details and usage\n",
        "    langfuse.update_current_generation(\n",
        "        model=model,\n",
        "        input=messages,\n",
        "        output=response.content[0].text,\n",
        "        usage_details={\n",
        "            \"input\": response.usage.input_tokens,\n",
        "            \"output\": response.usage.output_tokens,\n",
        "            \"total\": response.usage.input_tokens + response.usage.output_tokens\n",
        "        },\n",
        "        metadata={\n",
        "            \"stop_reason\": response.stop_reason\n",
        "        }\n",
        "    )\n",
        "    \n",
        "    return response"
      ]
    },
    {
      "cell_type": "code",
      "execution_count": null,
      "metadata": {},
      "outputs": [],
      "source": [
        "# Example usage with decorator\n",
        "messages = [\n",
        "    {\"role\": \"user\", \"content\": \"What is Langfuse and how does it help with LLM observability?\"}\n",
        "]\n",
        "\n",
        "response = chat_with_claude(messages)\n",
        "print(response.content[0].text)"
      ]
    },
    {
      "cell_type": "markdown",
      "metadata": {},
      "source": [
        "## Approach 2: Using the Langfuse OpenAI SDK Drop-in Replacement\n",
        "\n",
        "Anthropic provides [OpenAI-compatible endpoints](https://docs.anthropic.com/en/api/openai-sdk) that allow you to use the OpenAI SDK to interact with Claude models. This is particularly useful if you have existing code using the OpenAI SDK that you want to switch to Claude."
      ]
    },
    {
      "cell_type": "code",
      "execution_count": null,
      "metadata": {},
      "outputs": [],
      "source": [
        "# Langfuse OpenAI client\n",
        "from langfuse.openai import OpenAI\n",
        "\n",
        "client = OpenAI(\n",
        "    api_key=os.environ.get(\"ANTHROPIC_API_KEY\"),  # Your Anthropic API key\n",
        "    base_url=\"https://api.anthropic.com/v1/\"  # Anthropic's API endpoint\n",
        ")\n",
        "\n",
        "response = client.chat.completions.create(\n",
        "    model=\"claude-opus-4-20250514\", # Anthropic model name\n",
        "    messages=[\n",
        "        {\"role\": \"system\", \"content\": \"You are a helpful assistant.\"},\n",
        "        {\"role\": \"user\", \"content\": \"Who are you?\"}\n",
        "    ],\n",
        ")\n",
        "\n",
        "print(response.choices[0].message.content)"
      ]
    },
    {
      "cell_type": "markdown",
      "metadata": {},
      "source": [
        "### View Traces in Langfuse\n",
        "\n",
        "After executing the application, navigate to your Langfuse Trace Table. You will find detailed traces of the application's execution, providing insights into the agent conversations, LLM calls, inputs, outputs, and performance metrics. \n",
        "\n",
        "![Langfuse Trace](https://langfuse.com/images/cookbook/integration_anthropic/anthropic-example-trace.png)\n",
        "\n",
        "You can also view the public trace here: \n",
        "\n",
        "- [Approach 1](https://cloud.langfuse.com/project/cloramnkj0002jz088vzn1ja4/traces/c0265bd14c1142294bbbb50759cec2f9?timestamp=2025-07-22T15:59:24.590Z&display=details)\n",
        "- [Approach 2](https://cloud.langfuse.com/project/cloramnkj0002jz088vzn1ja4/traces/8e8da1b2c15036ed9c25b37c604f2d29?timestamp=2025-07-22T16:05:47.602Z&display=details)\n",
        "\n",
        "<!-- STEPS_END -->"
      ]
    }
  ],
  "metadata": {
    "kernelspec": {
      "display_name": ".venv",
      "language": "python",
      "name": "python3"
    },
    "language_info": {
      "codemirror_mode": {
        "name": "ipython",
        "version": 3
      },
      "file_extension": ".py",
      "mimetype": "text/x-python",
      "name": "python",
      "nbconvert_exporter": "python",
      "pygments_lexer": "ipython3",
      "version": "3.13.2"
    }
  },
  "nbformat": 4,
  "nbformat_minor": 4
}

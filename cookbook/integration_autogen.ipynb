{
 "cells": [
  {
   "cell_type": "markdown",
   "metadata": {},
   "source": [
    "<!-- NOTEBOOK_METADATA source: \"Jupyter Notebook\" title: \"Observability for AutoGen with Langfuse Integration\" description: \"Learn how to integrate Langfuse with AutoGen via OpenTelemetry using OpenLit for comprehensive tracing and debugging of your AI agent conversations.\" category: \"Integrations\" -->\n",
    "\n",
    "# Integrate Langfuse with AutoGen\n",
    "\n",
    "This notebook provides a step-by-step guide on integrating **Langfuse** with **AutoGen** to achieve comprehensive observability and debugging for your multi-agent LLM applications.\n",
    "\n",
    "> **What is AutoGen?** [AutoGen](https://microsoft.github.io/autogen/stable/) ([GitHub](https://github.com/microsoft/autogen)) is an open-source framework developed by Microsoft for building LLM applications, including agents capable of complex reasoning and interactions. AutoGen simplifies the creation of conversational agents that can collaborate or compete to solve tasks.\n",
    "\n",
    "> **What is Langfuse?** [Langfuse](https://langfuse.com) is an open-source LLM engineering platform. It offers tracing and monitoring capabilities for AI applications. Langfuse helps developers debug, analyze, and optimize their AI systems by providing detailed insights and integrating with a wide array of tools and frameworks through native integrations, OpenTelemetry, and dedicated SDKs.\n",
    "\n",
    "## Getting Started\n",
    "\n",
    "Let's walk through a practical example of using AutoGen and integrating it with Langfuse via OpenTelemetry for comprehensive tracing.\n",
    "\n",
    "<!-- STEPS_START -->\n",
    "### Step 1: Install Dependencies\n",
    "\n",
    "<!-- CALLOUT_START type: \"info\" emoji: \"⚠️\" -->\n",
    "> **Note:** This notebook utilizes the Langfuse OTel Python SDK v3. For users of Python SDK v2, please refer to our [legacy AutoGen integration guide](https://github.com/langfuse/langfuse-docs/blob/26a3aa9e935a0325b463e3fa585772fd20c23642/cookbook/integration_autogen.ipynb).\n",
    "<!-- CALLOUT_END -->\n"
   ]
  },
  {
   "cell_type": "code",
   "execution_count": null,
   "metadata": {},
   "outputs": [],
   "source": [
    "%pip install langfuse openlit \"autogen-agentchat\" \"autogen-ext[openai]\" -U"
   ]
  },
  {
   "cell_type": "markdown",
   "metadata": {},
   "source": [
    "### Step 2: Configure Langfuse SDK\n",
    "\n",
    "Next, set up your Langfuse API keys. You can get these keys by signing up for a free [Langfuse Cloud](https://cloud.langfuse.com/) account or by [self-hosting Langfuse](https://langfuse.com/self-hosting). These environment variables are essential for the Langfuse client to authenticate and send data to your Langfuse project."
   ]
  },
  {
   "cell_type": "code",
   "execution_count": 2,
   "metadata": {},
   "outputs": [],
   "source": [
    "import os\n",
    "\n",
    "# Get keys for your project from the project settings page: https://cloud.langfuse.com\n",
    "os.environ[\"LANGFUSE_PUBLIC_KEY\"] = \"pk-lf-...\" \n",
    "os.environ[\"LANGFUSE_SECRET_KEY\"] = \"sk-lf-...\"\n",
    "os.environ[\"LANGFUSE_HOST\"] = \"https://cloud.langfuse.com\" # 🇪🇺 EU region\n",
    "# os.environ[\"LANGFUSE_HOST\"] = \"https://us.cloud.langfuse.com\" # 🇺🇸 US region\n",
    "\n",
    "# Your OpenAI key\n",
    "os.environ[\"OPENAI_API_KEY\"] = \"sk-proj-...\""
   ]
  },
  {
   "cell_type": "raw",
   "metadata": {
    "vscode": {
     "languageId": "raw"
    }
   },
   "source": [
    "With the environment variables set, we can now initialize the Langfuse client. `get_client()` initializes the Langfuse client using the credentials provided in the environment variables.\n"
   ]
  },
  {
   "cell_type": "code",
   "execution_count": null,
   "metadata": {},
   "outputs": [],
   "source": [
    "from langfuse import get_client\n",
    " \n",
    "langfuse = get_client()\n",
    " \n",
    "# Verify connection\n",
    "if langfuse.auth_check():\n",
    "    print(\"Langfuse client is authenticated and ready!\")\n",
    "else:\n",
    "    print(\"Authentication failed. Please check your credentials and host.\")\n"
   ]
  },
  {
   "cell_type": "markdown",
   "metadata": {},
   "source": [
    "### Step 3: Initialize OpenLit Instrumentation\n",
    "\n",
    "Now, we initialize the [OpenLit](https://github.com/openlit/openlit) instrumentation. OpenLit automatically captures AutoGen operations and exports OpenTelemetry (OTel) spans to Langfuse."
   ]
  },
  {
   "cell_type": "code",
   "execution_count": null,
   "metadata": {},
   "outputs": [],
   "source": [
    "import openlit\n",
    "\n",
    "# Initialize OpenLIT instrumentation. The disable_batch flag is set to true to process traces immediately.\n",
    "openlit.init(tracer=langfuse._otel_tracer, disable_batch=True)"
   ]
  },
  {
   "cell_type": "markdown",
   "metadata": {},
   "source": [
    "### Step 5: Basic AutoGen Application\n",
    "\n",
    "Let's create a straightforward AutoGen application. In this example, we'll create a simple multi-agent conversation where an Assistant agent answers a user's question. This will serve as the foundation for demonstrating Langfuse tracing."
   ]
  },
  {
   "cell_type": "code",
   "execution_count": null,
   "metadata": {},
   "outputs": [],
   "source": [
    "from autogen_agentchat.agents import AssistantAgent\n",
    "from autogen_ext.models.openai import OpenAIChatCompletionClient\n",
    "\n",
    "model_client = OpenAIChatCompletionClient(model=\"gpt-4o\")\n",
    "agent = AssistantAgent(\"assistant\", model_client=model_client)\n",
    "print(await agent.run(task=\"Say 'Hello World!'\"))\n",
    "await model_client.close()"
   ]
  },
  {
   "cell_type": "markdown",
   "metadata": {},
   "source": [
    "### Step 6: View Traces in Langfuse\n",
    "\n",
    "After executing the application, navigate to your Langfuse Trace Table. You will find detailed traces of the application's execution, providing insights into the agent conversations, LLM calls, inputs, outputs, and performance metrics. The trace will show the complete flow from the initial user query through the agent interactions to the final response.\n",
    "\n",
    "![Langfuse Trace](https://langfuse.com/images/cookbook/integration-autogen/autogen-example-trace.png)\n",
    "\n",
    "You can also view the public trace here: [Langfuse Trace Example](https://cloud.langfuse.com/project/cloramnkj0002jz088vzn1ja4/traces/1b72c51fabed12ae7df83bfd4a09f545?timestamp=2025-06-06T11:31:33.965Z&display=details)\n",
    "<!-- STEPS_END -->"
   ]
  },
  {
   "cell_type": "markdown",
   "metadata": {},
   "source": [
    "## Add Additional Attributes\n",
    "\n",
    "Langfuse allows you to pass additional attributes to your spans. These can include `user_id`, `tags`, `session_id`, and custom `metadata`. Enriching traces with these details is important for analysis, debugging, and monitoring of your application's behavior across different users or sessions.\n",
    "\n",
    "The following code demonstrates how to start a custom span with `langfuse.start_as_current_span` and then update the trace associated with this span using `span.update_trace()`. \n",
    "\n",
    "**→ Learn more about [Updating Trace and Span Attributes](https://langfuse.com/docs/sdk/python/sdk-v3#updating-observations).**"
   ]
  },
  {
   "cell_type": "code",
   "execution_count": null,
   "metadata": {},
   "outputs": [],
   "source": [
    "with langfuse.start_as_current_span(\n",
    "    name=\"autogen-chat-trace\",\n",
    "    ) as span:\n",
    "    \n",
    "    # Run your application here\n",
    "    task= \"Say 'Hello World!'\"\n",
    "    model_client = OpenAIChatCompletionClient(model=\"gpt-4o\")\n",
    "    agent = AssistantAgent(\"assistant\", model_client=model_client)\n",
    "    response = await agent.run(task=task)\n",
    "    print(response.messages[1].content)\n",
    "    await model_client.close()\n",
    "\n",
    "    # Pass additional attributes to the span\n",
    "    span.update_trace(\n",
    "        input=task,\n",
    "        output=response.messages[1].content,\n",
    "        user_id=\"user_123\",\n",
    "        session_id=\"session_abc\",\n",
    "        tags=[\"dev\", \"autogen\"],\n",
    "        metadata={\"email\": \"user@langfuse.com\"},\n",
    "        version=\"1.0.0\"\n",
    "        )\n",
    "\n",
    "# Flush events in short-lived applications\n",
    "langfuse.flush()"
   ]
  },
  {
   "cell_type": "markdown",
   "metadata": {},
   "source": [
    "## Score Traces and Spans\n",
    "\n",
    "Langfuse lets you ingest custom scores for individual spans or entire traces. This scoring workflow enables you to implement custom quality checks at runtime or facilitate human-in-the-loop evaluation processes.\n",
    "\n",
    "In the example below, we demonstrate how to score a specific span for `relevance` (a numeric score) and the overall trace for `feedback` (a categorical score). This helps in systematically assessing and improving your application.\n",
    "\n",
    "**→ Learn more about [Custom Scores in Langfuse](https://langfuse.com/docs/scores/custom).** "
   ]
  },
  {
   "cell_type": "code",
   "execution_count": null,
   "metadata": {},
   "outputs": [],
   "source": [
    "with langfuse.start_as_current_span(\n",
    "    name=\"autogen-chat-trace\",\n",
    "    ) as span:\n",
    "    \n",
    "    # Run your application here\n",
    "    task= \"Say 'Hello World!'\"\n",
    "    model_client = OpenAIChatCompletionClient(model=\"gpt-4o\")\n",
    "    agent = AssistantAgent(\"assistant\", model_client=model_client)\n",
    "    response = await agent.run(task=task)\n",
    "    print(response.messages[1].content)\n",
    "    await model_client.close()\n",
    "    \n",
    "    # Score this specific span\n",
    "    span.score(name=\"relevance\", value=0.9, data_type=\"NUMERIC\")\n",
    "\n",
    "    # Score the overall trace\n",
    "    span.score_trace(name=\"feedback\", value=\"positive\", data_type=\"CATEGORICAL\")\n",
    "\n",
    "# Flush events in short-lived applications\n",
    "langfuse.flush()"
   ]
  },
  {
   "cell_type": "markdown",
   "metadata": {
    "vscode": {
     "languageId": "raw"
    }
   },
   "source": [
    "## Manage Prompts with Langfuse\n",
    "\n",
    "Langfuse Prompt Management allows you to collaboratively create, version, and deploy prompts. You can manage prompts either through the Langfuse SDK or directly within the Langfuse UI. These managed prompts can then be fetched into your application at runtime.\n",
    "\n",
    "The code below illustrates fetching a prompt named `agent-system-message` from Langfuse, compiling it with an input variable, and then using this compiled prompt to configure your AutoGen agent. \n",
    "\n",
    "**→ Get started with [Langfuse Prompt Management](https://langfuse.com/docs/prompts/get-started).**\n",
    "\n",
    "<!-- CALLOUT_START type: \"info\" emoji: \"🔗\" -->\n",
    "_**Note:** Linking the Langfuse Prompt and the Generation is currently not possible. This is on our roadmap and we are tracking this [here](https://github.com/orgs/langfuse/discussions/7180)._\n",
    "<!-- CALLOUT_END -->"
   ]
  },
  {
   "cell_type": "code",
   "execution_count": null,
   "metadata": {},
   "outputs": [],
   "source": [
    "# Fetch the prompt from langfuse\n",
    "langfuse_prompt = langfuse.get_prompt(name=\"answer-question\")\n",
    "\n",
    "# Compile the prompt with the input\n",
    "compiled_prompt = langfuse_prompt.compile(country = \"France\")\n",
    "\n",
    "# Run your application\n",
    "with langfuse.start_as_current_span(\n",
    "    name=\"autogen-trace\",\n",
    "    ) as span:\n",
    "    \n",
    "    # Run your application here\n",
    "    model_client = OpenAIChatCompletionClient(model=\"gpt-4o\")\n",
    "    agent = AssistantAgent(\"assistant\", model_client=model_client)\n",
    "    response = await agent.run(task=compiled_prompt)\n",
    "    print(response.messages[1].content)\n",
    "    await model_client.close()\n",
    "\n",
    "# Flush events in short-lived applications\n",
    "langfuse.flush()\n"
   ]
  },
  {
   "cell_type": "raw",
   "metadata": {
    "vscode": {
     "languageId": "raw"
    }
   },
   "source": [
    "## Dataset Experiments\n",
    "\n",
    "Offline evaluation using datasets is a critical part of the LLM development lifecycle. Langfuse supports this through Dataset Experiments. The typical workflow involves:\n",
    "\n",
    "1.  **Benchmark Dataset**: Defining a dataset with input prompts and their corresponding expected outputs.\n",
    "2.  **Application Run**: Running your LLM application against each item in the dataset.\n",
    "3.  **Evaluation**: Comparing the generated outputs against the expected results or using other scoring mechanisms (e.g., model-based evaluation) to assess performance.\n",
    "\n",
    "The following example demonstrates how to use a pre-existing dataset containing questions and their expected answers to run an experiment with your AutoGen application.\n",
    "\n",
    "**→ Learn more about [Langfuse Dataset Experiments](https://langfuse.com/docs/datasets/overview).**\n"
   ]
  },
  {
   "cell_type": "code",
   "execution_count": null,
   "metadata": {},
   "outputs": [],
   "source": [
    "from langfuse import get_client\n",
    " \n",
    "langfuse = get_client()\n",
    " \n",
    "# Fetch an existing dataset\n",
    "dataset = langfuse.get_dataset(name=\"capital_cities_11\")\n",
    "for item in dataset.items:\n",
    "    print(f\"Input: {item.input['country']}, Expected Output: {item.expected_output}\")\n"
   ]
  },
  {
   "cell_type": "raw",
   "metadata": {
    "vscode": {
     "languageId": "raw"
    }
   },
   "source": [
    "Next, we iterate through each item in the dataset, run our AutoGen application with the item's input, and log the results as a run associated with that dataset item in Langfuse. This allows for structured evaluation and comparison of different application versions or prompt configurations.\n",
    "\n",
    "The `item.run()` context manager is used to create a new trace for each dataset item processed in the experiment. Optionally you can score the dataset runs.\n"
   ]
  },
  {
   "cell_type": "code",
   "execution_count": null,
   "metadata": {},
   "outputs": [],
   "source": [
    "from langfuse import get_client\n",
    " \n",
    "langfuse = get_client()\n",
    "dataset_name = \"capital_cities_11\"\n",
    "current_run_name = \"capital_cities_run-autogen_02\" # Identifies this specific evaluation run\n",
    "current_run_metadata={\"model_provider\": \"OpenAI\", \"temperature_setting\": 0.7}\n",
    "current_run_description=\"Evaluation run for Q&A model on June 4th\"\n",
    " \n",
    "# Assume 'your_application' is your instrumented application function\n",
    "async def your_application(question):\n",
    "    with langfuse.start_as_current_span(name=\"autogen-trace\") as span:\n",
    "\n",
    "        model_client = OpenAIChatCompletionClient(model=\"gpt-4o\")\n",
    "        agent = AssistantAgent(\"assistant\", model_client=model_client)\n",
    "        response = await agent.run(task=question)\n",
    "        print(response.messages[1].content)\n",
    "        await model_client.close()\n",
    " \n",
    "        # Update the trace with the input and output\n",
    "        span.update_trace(\n",
    "            input=question,\n",
    "            output=response.messages[1].content,\n",
    "        )\n",
    " \n",
    "        return response.messages[1].content\n",
    " \n",
    "dataset = langfuse.get_dataset(name=dataset_name) # Fetch your pre-populated dataset\n",
    " \n",
    "for item in dataset.items:\n",
    "    print(f\"Running evaluation for item: {item.id} (Input: {item.input['country']})\")\n",
    " \n",
    "    # Use the item.run() context manager\n",
    "    with item.run(\n",
    "        run_name=current_run_name,\n",
    "        run_metadata=current_run_metadata,\n",
    "        run_description=current_run_description\n",
    "    ) as root_span: \n",
    "        # All subsequent langfuse operations within this block are part of this trace.\n",
    "        generated_answer = await your_application(\n",
    "            question=\"What is the capital of \" + item.input[\"country\"] + \"? Just answer with the name of the city.\",\n",
    "        )\n",
    " \n",
    "        # Optionally, score the result against the expected output\n",
    "        if item.expected_output and generated_answer == item.expected_output:\n",
    "            root_span.score_trace(name=\"exact_match\", value=1.0)\n",
    "        else:\n",
    "            root_span.score_trace(name=\"exact_match\", value=0.0)\n",
    " \n",
    "print(f\"\\nFinished processing dataset '{dataset_name}' for run '{current_run_name}'.\")\n"
   ]
  },
  {
   "cell_type": "raw",
   "metadata": {
    "vscode": {
     "languageId": "raw"
    }
   },
   "source": [
    "## Explore More Langfuse Features\n",
    "\n",
    "Langfuse offers more features to enhance your LLM development and observability workflow:\n",
    "\n",
    "- [LLM-as-a-Judge Evaluators](https://langfuse.com/docs/scores/model-based-evals)\n",
    "- [Custom Dashboards](https://langfuse.com/docs/analytics/custom-dashboards)\n",
    "- [LLM Playground](https://langfuse.com/docs/playground)\n",
    "- [Prompt Management](https://langfuse.com/docs/prompts/get-started)\n",
    "- [Prompt Experiments](https://langfuse.com/docs/datasets/prompt-experiments)\n",
    "- [More Integrations](https://langfuse.com/docs/integrations/overview)\n"
   ]
  }
 ],
 "metadata": {
  "kernelspec": {
   "display_name": ".venv",
   "language": "python",
   "name": "python3"
  },
  "language_info": {
   "codemirror_mode": {
    "name": "ipython",
    "version": 3
   },
   "file_extension": ".py",
   "mimetype": "text/x-python",
   "name": "python",
   "nbconvert_exporter": "python",
   "pygments_lexer": "ipython3",
   "version": "3.13.2"
  }
 },
 "nbformat": 4,
 "nbformat_minor": 2
}

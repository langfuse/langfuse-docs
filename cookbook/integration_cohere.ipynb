{
 "cells": [
  {
   "cell_type": "markdown",
   "metadata": {},
   "source": [
    "---\n",
    "title: Integrate Cohere with Langfuse\n",
    "sidebarTitle: Cohere\n",
    "description: Guide on integrating Cohere with Langfuse via the OpenAI SDK for observability and debugging.\n",
    "category: Integrations\n",
    "logo: /images/integrations/cohere_icon.svg\n",
    "---\n",
    "\n",
    "# Observability for Cohere with Langfuse"
   ]
  },
  {
   "cell_type": "markdown",
   "metadata": {},
   "source": [
    "This guide shows you how to integrate Cohere with Langfuse using the OpenAI SDK Compatibility API. Trace and monitor your applications seamlessly."
   ]
  },
  {
   "cell_type": "markdown",
   "metadata": {},
   "source": [
    "> **What is Cohere?** [Cohere](https://docs.cohere.com/docs/) is an AI platform that provides state-of-the-art language models via API, allowing developers to build applications with natural language understanding capabilities."
   ]
  },
  {
   "cell_type": "markdown",
   "metadata": {},
   "source": [
    "> **What is Langfuse?** [Langfuse](https://langfuse.com) is an open source LLM engineering platform for tracing, monitoring, and debugging LLM applications."
   ]
  },
  {
   "cell_type": "markdown",
   "metadata": {},
   "source": [
    "## Step 1: Install Dependencies\n",
    "\n",
    "Ensure you have the necessary Python packages installed:"
   ]
  },
  {
   "cell_type": "code",
   "execution_count": null,
   "metadata": {},
   "outputs": [],
   "source": [
    "%pip install openai langfuse"
   ]
  },
  {
   "cell_type": "markdown",
   "metadata": {},
   "source": [
    "## Step 2: Set Up Environment Variables"
   ]
  },
  {
   "cell_type": "code",
   "execution_count": 1,
   "metadata": {},
   "outputs": [],
   "source": [
    "import os\n",
    "\n",
    "# Get keys for your project from the project settings page\n",
    "# https://cloud.langfuse.com\n",
    "\n",
    "os.environ[\"LANGFUSE_PUBLIC_KEY\"] = \"pk-lf...\" \n",
    "os.environ[\"LANGFUSE_SECRET_KEY\"] = \"sk-lf...\" \n",
    "os.environ[\"LANGFUSE_HOST\"] = \"https://cloud.langfuse.com\" # 🇪🇺 EU region\n",
    "# os.environ[\"LANGFUSE_HOST\"] = \"https://us.cloud.langfuse.com\" # 🇺🇸 US region\n",
    "\n",
    "# Set your Cohere API key from your Cohere account settings\n",
    "os.environ[\"COHERE_API_KEY\"] = \"...\""
   ]
  },
  {
   "cell_type": "markdown",
   "metadata": {},
   "source": [
    "## Step 3: Use Cohere with the OpenAI SDK\n",
    "\n",
    "Leverage the Compatibility API by replacing the base URL with Cohere's endpoint when initializing the client."
   ]
  },
  {
   "cell_type": "code",
   "execution_count": 2,
   "metadata": {},
   "outputs": [],
   "source": [
    "# Instead of importing openai directly, use Langfuse's drop-in replacement\n",
    "from langfuse.openai import openai\n",
    "\n",
    "client = openai.OpenAI(\n",
    "  api_key=os.environ.get(\"COHERE_API_KEY\"),\n",
    "  base_url=\"https://api.cohere.ai/compatibility/v1\"  # Cohere Compatibility API endpoint\n",
    ")"
   ]
  },
  {
   "cell_type": "markdown",
   "metadata": {},
   "source": [
    "## Step 4: Run an Example\n",
    "\n",
    "The example below demonstrates a basic chat completion request. All API calls are automatically traced by Langfuse."
   ]
  },
  {
   "cell_type": "code",
   "execution_count": null,
   "metadata": {},
   "outputs": [],
   "source": [
    "response = client.chat.completions.create(\n",
    "  model=\"command-r7b-12-2024\",  # Replace with the desired Cohere model\n",
    "  messages=[\n",
    "    {\"role\": \"system\", \"content\": \"You are an assistant.\"},\n",
    "    {\"role\": \"user\", \"content\": \"Tell me about the benefits of using Cohere with Langfuse.\"}\n",
    "  ],\n",
    "  name=\"Cohere-Trace\"\n",
    ")\n",
    "\n",
    "print(response.choices[0].message.content)"
   ]
  },
  {
   "cell_type": "markdown",
   "metadata": {},
   "source": [
    "## Step 5: See Traces in Langfuse\n",
    "\n",
    "After running the example, log in to Langfuse to view the detailed traces, including request parameters, response content, token usage, and latency metrics.\n",
    "\n",
    "![Langfuse Trace Example](https://langfuse.com/images/cookbook/integration_cohere/cohere-example-trace.png)\n",
    "\n",
    "_[Public example trace](https://cloud.langfuse.com/project/cloramnkj0002jz088vzn1ja4/traces/17d82424-f22f-46d1-a63b-6ec3e2c3da1e?timestamp=2025-03-05T11%3A35%3A26.398Z&observation=490e73b2-fdf5-40ad-95d7-a1d0bd054e0e)_"
   ]
  },
  {
   "cell_type": "markdown",
   "metadata": {},
   "source": [
    "## Resources\n",
    "\n",
    "- [Cohere Documentation](https://docs.cohere.com/docs/compatibility-api)\n",
    "- [Langfuse](https://langfuse.com)\n",
    "- [Langfuse OpenAI Integration Guide](https://langfuse.com/integrations/model-providers/openai-py)"
   ]
  }
 ],
 "metadata": {
  "kernelspec": {
   "display_name": ".venv",
   "language": "python",
   "name": "python3"
  },
  "language_info": {
   "codemirror_mode": {
    "name": "ipython",
    "version": 3
   },
   "file_extension": ".py",
   "mimetype": "text/x-python",
   "name": "python",
   "nbconvert_exporter": "python",
   "pygments_lexer": "ipython3",
   "version": "3.13.2"
  }
 },
 "nbformat": 4,
 "nbformat_minor": 4
}

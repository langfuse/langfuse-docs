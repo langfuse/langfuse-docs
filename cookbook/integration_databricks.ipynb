{
  "cells": [
    {
      "cell_type": "markdown",
      "metadata": {},
      "source": [
        "---\n",
        "title: \"Integrate Databricks with Langfuse\"\n",
        "description: \"Learn how to monitor and trace Databricks models with Langfuse to improve and debug your AI applications.\"\n",
        "---"
      ]
    },
    {
      "cell_type": "markdown",
      "metadata": {},
      "source": [
        "# Observability for Databricks Models with Langfuse\n",
        "\n",
        "Databricks provides a powerful platform for hosting and serving large language models. By combining Databricks' serving endpoints with **Langfuse**, you can trace, monitor, and analyze your AI workloads in development and production.\n",
        "\n",
        "This notebook demonstrates **three** different ways to use Databricks models with Langfuse:\n",
        "1. **OpenAI SDK:** Use Databricks model endpoints via the OpenAI SDK.\n",
        "2. **LangChain:** Integrate with the Databricks LLM interface in a LangChain pipeline.\n",
        "3. **LlamaIndex:** Use Databricks endpoints within LlamaIndex.\n",
        "\n",
        "> **What is Databricks Model Serving?**  \n",
        "Databricks Model Serving allows you to serve large-scale models in a production environment, with automatic scaling and a robust infrastructure. It also enables you to fine-tune LLMs on your private data, ensuring your models can leverage proprietary information while maintaining data privacy.\n",
        "\n",
        "> **What is Langfuse?**  \n",
        "[Langfuse](https://langfuse.com) is an open source platform for LLM observability and monitoring. It helps you trace and monitor your AI applications by capturing metadata, prompt details, token usage, latency, and more.\n"
      ]
    },
    {
      "cell_type": "markdown",
      "metadata": {},
      "source": [
        "## 1. Install Dependencies\n",
        "\n",
        "Before you begin, install the necessary packages in your Python environment:\n",
        "\n",
        "- **openai**: Needed to call Databricks endpoints via the OpenAI SDK.\n",
        "- **databricks-langchain**: Needed to call Databricks endpoints via an \"OpenAI-like\" interface.\n",
        "- **llama-index** and **llama-index-llms-databricks**: For using Databricks endpoints within LlamaIndex.\n",
        "- **langfuse**: Required for sending trace data to the Langfuse platform.\n"
      ]
    },
    {
      "cell_type": "code",
      "execution_count": 1,
      "metadata": {},
      "outputs": [],
      "source": [
        "%pip install openai langfuse databricks-langchain llama-index llama-index-llms-databricks"
      ]
    },
    {
      "cell_type": "markdown",
      "metadata": {},
      "source": [
        "## 2. Set Up Environment Variables\n",
        "\n",
        "Configure your **Langfuse** credentials and **Databricks** credentials as environment variables. Replace the dummy keys below with the real ones from your respective accounts.\n",
        "\n",
        " - `LANGFUSE_PUBLIC_KEY` / `LANGFUSE_SECRET_KEY`: From your Langfuse Project Settings.\n",
        " - `LANGFUSE_HOST`: `https://cloud.langfuse.com` (EU region) or `https://us.cloud.langfuse.com` (US region).\n",
        " - `DATABRICKS_TOKEN`: Your Databricks personal access token.\n",
        " - `DATABRICKS_HOST`: Your Databricks workspace URL (e.g., `https://dbc-xxxxxxx.cloud.databricks.com`).\n"
      ]
    },
    {
      "cell_type": "code",
      "execution_count": 1,
      "metadata": {},
      "outputs": [],
      "source": [
        "import os\n",
        "\n",
        "# Example environment variables (replace with your actual keys/tokens)\n",
        "os.environ[\"LANGFUSE_PUBLIC_KEY\"] = \"pk-lf-...\"  # your public key\n",
        "os.environ[\"LANGFUSE_SECRET_KEY\"] = \"sk-lf-...\"  # your secret key\n",
        "os.environ[\"LANGFUSE_HOST\"] = \"https://cloud.langfuse.com\"  # or https://us.cloud.langfuse.com\n",
        "\n",
        "os.environ[\"DATABRICKS_TOKEN\"] = \"dapi-...\"  # Databricks personal access token\n",
        "os.environ[\"DATABRICKS_HOST\"] = \"https://dbc-XXXXX-XXXX.cloud.databricks.com\""
      ]
    },
    {
      "cell_type": "markdown",
      "metadata": {},
      "source": [
        "## Approach 1: Using Databricks Models via the OpenAI SDK\n",
        "\n",
        "Databricks endpoints can act as a drop-in replacement for the OpenAI API. This makes it easy to integrate with existing code that relies on the `openai` library. Under the hood, `langfuse.openai.OpenAI` automatically traces your requests to Langfuse.\n",
        "\n",
        "### Steps\n",
        "1. Import the `OpenAI` client from `langfuse.openai`.\n",
        "2. Create a client, setting `api_key` to your Databricks token and `base_url` to your Databricks workspace endpoints.\n",
        "3. Use the client’s `chat.completions.create()` method to send a prompt.\n",
        "4. See the trace in your Langfuse dashboard.\n",
        "\n",
        "**Note:** For more examples on tracing OpenAI with Langfuse see the [OpenAI integration docs](https://langfuse.com/docs/integrations/openai/python/get-started)."
      ]
    },
    {
      "cell_type": "code",
      "execution_count": 2,
      "metadata": {},
      "outputs": [],
      "source": [
        "# Langfuse OpenAI client\n",
        "from langfuse.openai import OpenAI\n",
        "\n",
        "# Retrieve the environment variables\n",
        "databricks_token = os.environ.get(\"DATABRICKS_TOKEN\")\n",
        "databricks_host = os.environ.get(\"DATABRICKS_HOST\")\n",
        "\n",
        "# Create an OpenAI-like client pointing to Databricks\n",
        "client = OpenAI(\n",
        "    api_key=databricks_token,  # Databricks personal access token\n",
        "    base_url=f\"{databricks_host}/serving-endpoints\",  # your Databricks workspace\n",
        ")"
      ]
    },
    {
      "cell_type": "code",
      "execution_count": 3,
      "metadata": {},
      "outputs": [
        {
          "name": "stdout",
          "output_type": "stream",
          "text": [
            "1. Databricks is a cloud-based data engineering and analytics platform that enables users to build, deploy, and run data science workloads at scale.\n",
            "2. It includes a streaming data processing engine called Spark Streaming that is often used in real-time analytics and big data processing applications, as well as a data warehousing platform called Delta Lake that allows users to store and query large amounts of data.\n",
            "3. Databricks is based on the open-source Apache Spark and LakeFormation libraries and was founded in 2013 by the original developers of Spark.\n",
            "4. It is often used in combination with other big data technologies, such as Hadoop, NoSQL databases, and data visualization tools, to help organizations manage and analyze large volumes of data.\n",
            "5. It also includes machine learning libraries, like \"MLlib\" and \"MLflow\" which enable to build, train, and deploy machine learning models directly on the cluster.\n"
          ]
        }
      ],
      "source": [
        "response = client.chat.completions.create(\n",
        "    messages=[\n",
        "        {\"role\": \"system\", \"content\": \"You are an AI assistant.\"},\n",
        "        {\"role\": \"user\", \"content\": \"What is Databricks?\"}\n",
        "    ],\n",
        "    model=\"mistral-7b\", # Adjust based on your Databricks serving endpoint name\n",
        "    max_tokens=256\n",
        ")\n",
        "\n",
        "# Print out the response from the model\n",
        "print(response.choices[0].message.content)"
      ]
    },
    {
      "cell_type": "markdown",
      "metadata": {},
      "source": [
        "Once the request completes, **log in to your Langfuse dashboard** and look for the new trace. You will see details like the prompt, response, latency, token usage, etc.\n",
        "\n",
        "![Databricks example trace in Langfuse](/images/docs/databricks/databricks-example-trace-openai-sdk.png)\n",
        "\n",
        "_[Link to public trace in Langfuse](https://cloud.langfuse.com/project/cloramnkj0002jz088vzn1ja4/traces/029b2344-e2a2-4c52-8d04-bd71f70c1120?timestamp=2025-03-06T14%3A45%3A04.141Z)_ \n",
        "\n",
        "\n"
      ]
    },
    {
      "cell_type": "markdown",
      "metadata": {},
      "source": [
        "## Approach 2: Using LangChain\n",
        "\n",
        "Databricks models can also be used via LangChain. The [`ChatDatabricks`](https://python.langchain.com/docs/integrations/chat/databricks/) class wraps your Databricks Model Serving endpoint.\n",
        "\n",
        "### Steps\n",
        "1. Set `DATABRICKS_HOST` as an environment variable.\n",
        "2. Initialize a Langfuse `CallbackHandler` that automatically collects trace data.\n",
        "3. Use `ChatDatabricks` with your endpoint name, temperature, or other parameters.\n",
        "4. Invoke the model with messages and pass in the Langfuse callback handler.\n",
        "5. See the trace in your Langfuse dashboard.\n",
        "\n",
        "**Note:** For more examples on tracing LangChain with Langfuse see the [LangChain integration docs](https://langfuse.com/docs/integrations/langchain/tracing)."
      ]
    },
    {
      "cell_type": "code",
      "execution_count": 4,
      "metadata": {},
      "outputs": [],
      "source": [
        "from langfuse.callback import CallbackHandler\n",
        "\n",
        "# Initialize the Langfuse callback handler\n",
        "langfuse_handler = CallbackHandler(\n",
        "    secret_key=os.environ.get(\"LANGFUSE_SECRET_KEY\"),\n",
        "    public_key=os.environ.get(\"LANGFUSE_PUBLIC_KEY\"),\n",
        "    host=os.environ.get(\"LANGFUSE_HOST\")\n",
        ")"
      ]
    },
    {
      "cell_type": "code",
      "execution_count": 5,
      "metadata": {},
      "outputs": [
        {
          "data": {
            "text/plain": [
              "AIMessage(content='1. Databricks Model Serving is a feature of the Databricks Runtime that allows you to deploy and manage machine learning models in a scalable and efficient manner.\\n2. It provides a centralized platform for storing, deploying, and serving machine learning models, allowing you to easily manage and scale your models as needed.\\n3. It supports a wide range of machine learning frameworks and libraries, including TensorFlow, PyTorch, and scikit-learn.\\n4. It also provides features such as automatic model versioning, model monitoring, and model deployment to Kubernetes.\\n5. It allows you to easily deploy models to production environments, making it easier to integrate machine learning into your existing workflows.', additional_kwargs={}, response_metadata={'prompt_tokens': 36, 'completion_tokens': 155, 'total_tokens': 191}, id='run-e3106e54-8a77-48bc-bf03-8983636ec3c1-0')"
            ]
          },
          "execution_count": 5,
          "metadata": {},
          "output_type": "execute_result"
        }
      ],
      "source": [
        "from databricks_langchain import ChatDatabricks\n",
        "\n",
        "chat_model = ChatDatabricks(\n",
        "    endpoint=\"mistral-7b\",   # Your Databricks Model Serving endpoint name\n",
        "    temperature=0.1,\n",
        "    max_tokens=256,\n",
        "    # Other parameters can be added here\n",
        ")\n",
        "\n",
        "# Build a prompt as a list of system/user messages\n",
        "messages = [\n",
        "    (\"system\", \"You are a chatbot that can answer questions about Databricks.\"),\n",
        "    (\"user\", \"What is Databricks Model Serving?\")\n",
        "]\n",
        "\n",
        "# Invoke the model using LangChain's .invoke() method\n",
        "chat_model.invoke(messages, config={\"callbacks\": [langfuse_handler]})"
      ]
    },
    {
      "cell_type": "markdown",
      "metadata": {},
      "source": [
        "After running the code, open your Langfuse dashboard to see the recorded conversation.\n",
        "\n",
        "![Databricks example trace in Langfuse](https://langfuse.com/images/docs/databricks/databricks-example-trace-langchain.png)\n",
        "\n",
        "_[Link to public trace in Langfuse](https://cloud.langfuse.com/project/cloramnkj0002jz088vzn1ja4/traces/a55411bb-4bb4-435c-b922-e446683888ff?timestamp=2025-03-06T14%3A57%3A59.273Z)_ \n"
      ]
    },
    {
      "cell_type": "markdown",
      "metadata": {},
      "source": [
        "## Approach 3: Using LlamaIndex\n",
        "\n",
        "If you use [LlamaIndex](https://github.com/jerryjliu/llama_index) for data ingestion, indexing, or retrieval-augmented generation, you can replace the default LLM with a Databricks endpoint.\n",
        "\n",
        "### Steps\n",
        "1. Import `Databricks` from `llama_index.llms.databricks`.\n",
        "2. Initialize a `Databricks` LLM with your endpoint name and Databricks credentials.\n",
        "3. Use `LlamaIndexInstrumentor` from `langfuse.llama_index` to enable automatic tracing.\n",
        "4. Invoke the LLM with a chat request.\n",
        "5. See the trace in your Langfuse dashboard.\n",
        "\n",
        "**Note:** For more examples on tracing LlamaIdex with Langfuse see the [LlamaIndex integration docs](https://langfuse.com/docs/integrations/llama-index/get-started).\n"
      ]
    },
    {
      "cell_type": "code",
      "execution_count": null,
      "metadata": {},
      "outputs": [],
      "source": [
        "from llama_index.llms.databricks import Databricks\n",
        "\n",
        "# Create a Databricks LLM instance\n",
        "llm = Databricks(\n",
        "    model=\"mistral-7b\",  # Your Databricks serving endpoint name\n",
        "    api_key=os.environ.get(\"DATABRICKS_TOKEN\"),\n",
        "    api_base=f\"{os.environ.get('DATABRICKS_HOST')}/serving-endpoints/\"\n",
        ")"
      ]
    },
    {
      "cell_type": "code",
      "execution_count": 8,
      "metadata": {},
      "outputs": [],
      "source": [
        "from langfuse.llama_index import LlamaIndexInstrumentor\n",
        "from llama_index.core.llms import ChatMessage\n",
        "\n",
        "# Initialize the LlamaIndexInstrumentor to trace LlamaIndex operations\n",
        "instrumentor = LlamaIndexInstrumentor(\n",
        "    secret_key=os.environ.get(\"LANGFUSE_SECRET_KEY\"),\n",
        "    public_key=os.environ.get(\"LANGFUSE_PUBLIC_KEY\"),\n",
        "    host=os.environ.get(\"LANGFUSE_HOST\")\n",
        ")\n",
        "\n",
        "# Start automatic tracing\n",
        "instrumentor.start()"
      ]
    },
    {
      "cell_type": "code",
      "execution_count": 9,
      "metadata": {},
      "outputs": [
        {
          "name": "stderr",
          "output_type": "stream",
          "text": [
            "Trace ID is not set. Creating generation client with new trace id.\n"
          ]
        },
        {
          "name": "stdout",
          "output_type": "stream",
          "text": [
            "assistant: 1. Databricks is a cloud-based data science platform that provides a suite of tools for data processing, machine learning, and analytics. It is designed to be scalable and flexible, allowing users to easily process large amounts of data and build complex data pipelines.\n",
            "2. Databricks is built on top of Apache Spark, an open-source data processing engine that is widely used in the industry. It also includes a number of other tools and libraries, such as Apache Hadoop, Apache Flink, and Apache Hive, that are commonly used in data science workflows.\n",
            "3. Databricks provides a number of features that make it easy to work with data, including data warehousing, data lakes, and data pipelines. It also includes a number of machine learning tools, such as TensorFlow and PyTorch, that can be used to build and train machine learning models.\n",
            "4. Databricks is used by a wide range of organizations, including financial institutions, healthcare providers, and retailers, to process and analyze large amounts of data. It is also used by data scientists and data engineers to build and deploy data-driven applications.\n"
          ]
        }
      ],
      "source": [
        "messages = [\n",
        "    ChatMessage(role=\"system\", content=\"You are a helpful assistant.\"),\n",
        "    ChatMessage(role=\"user\", content=\"What is Databricks?\")\n",
        "]\n",
        "\n",
        "response = llm.chat(messages)\n",
        "print(response)\n",
        "\n",
        "# Flush any pending events to Langfuse\n",
        "instrumentor.flush()"
      ]
    },
    {
      "cell_type": "markdown",
      "metadata": {},
      "source": [
        "You can now log into Langfuse to view your LlamaIndex calls, with details on prompts, token usage, completion data, and more.\n",
        "\n",
        "![Databricks example LlamaIndex trace in Langfuse](https://langfuse.com/images/docs/databricks/databricks-example-llamaindex-trace.png)\n",
        "\n",
        "_[Link to public trace in Langfuse](https://cloud.langfuse.com/project/cloramnkj0002jz088vzn1ja4/traces/589a858e-9678-4624-bcb6-2e0266ecb1b3?timestamp=2025-03-06T15%3A10%3A02.467Z&observation=dd7b6235-6c92-4c9b-a966-872bc281c060)_ \n"
      ]
    },
    {
      "cell_type": "markdown",
      "metadata": {},
      "source": [
        "## Enhancing Tracing (Optional)\n",
        "\n",
        "Langfuse supports additional features for richer trace data:\n",
        "\n",
        "- Add [metadata](https://langfuse.com/docs/tracing-features/metadata), [tags](https://langfuse.com/docs/tracing-features/tags), [log levels](https://langfuse.com/docs/tracing-features/log-levels) and [user IDs](https://langfuse.com/docs/tracing-features/users) to traces\n",
        "- Group traces by [sessions](https://langfuse.com/docs/tracing-features/sessions)\n",
        "- [`@observe()` decorator](https://langfuse.com/docs/sdk/python/decorators) to trace additional application logic\n",
        "- Use [Langfuse Prompt Management](https://langfuse.com/docs/prompts/get-started) and link prompts to traces\n",
        "- Add [score](https://langfuse.com/docs/scores/custom) to traces\n",
        "\n",
        "Check out the [Langfuse docs](https://langfuse.com/docs) for more details."
      ]
    },
    {
      "cell_type": "markdown",
      "metadata": {},
      "source": [
        "## Next Steps\n",
        "- See how to use Databricks models in the Langfuse Playground and for LLM-as-a-Judge evaluations [here](https://langfuse.com/docs/integrations/databricks/use-with-playground-and-evals.mdx).\n",
        "- Explore the [Databricks documentation](https://docs.databricks.com/aws/en/machine-learning/model-serving/manage-serving-endpoints) for advanced model serving configurations.\n",
        "- Learn more about [Langfuse tracing features](https://langfuse.com/docs) to track your entire application flow.\n",
        "- Try out Langfuse [Prompt Management](https://langfuse.com/docs/prompts/get-started) or set up [LLM-as-a-Judge evaluations](https://langfuse.com/docs/scores/model-based-evals).\n"
      ]
    }
  ],
  "metadata": {
    "kernelspec": {
      "display_name": "Python 3",
      "language": "python",
      "name": "python3"
    },
    "language_info": {
      "codemirror_mode": {
        "name": "ipython",
        "version": 3
      },
      "file_extension": ".py",
      "mimetype": "text/x-python",
      "name": "python",
      "nbconvert_exporter": "python",
      "pygments_lexer": "ipython3",
      "version": "3.13.1"
    }
  },
  "nbformat": 4,
  "nbformat_minor": 4
}

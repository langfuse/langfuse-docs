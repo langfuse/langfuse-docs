{
 "cells": [
  {
   "cell_type": "markdown",
   "metadata": {},
   "source": [
    "---\n",
    "description: Example cookbook on how to monitor DeepSeek models with Langfuse using the OpenAI SDK\n",
    "category: Integrations\n",
    "---\n",
    "\n",
    "# Cookbook: Monitor DeepSeek Models with Langfuse Using the OpenAI SDK\n",
    "\n",
    "The DeepSeek API uses an API format compatible with OpenAI. By modifying the configuration, you can use the OpenAI SDK or software compatible with the OpenAI API to access the DeepSeek API.\n",
    "\n",
    "This cookbook demonstrates how to monitor [DeepSeek](https://github.com/deepseek-ai/DeepSeek-V3) models using the OpenAI SDK integration with [Langfuse](https://langfuse.com). By leveraging Langfuse's observability tools and the OpenAI SDK, you can effectively debug, monitor, and evaluate your applications that utilize DeepSeek models.\n",
    "\n",
    "This guide will walk you through setting up the integration, making requests to DeepSeek models, and observing the interactions with Langfuse.\n",
    "\n",
    "**Note:** *Langfuse is also natively integrated with [LangChain](https://langfuse.com/docs/integrations/langchain/tracing), [LlamaIndex](https://langfuse.com/docs/integrations/llama-index/get-started), [LiteLLM](https://langfuse.com/docs/integrations/litellm/tracing), and [other frameworks](https://langfuse.com/docs/integrations/overview). These frameworks can be used as well to trace DeepSeek requests.*\n",
    "\n",
    "## Setup\n",
    "\n",
    "### Install Required Packages\n",
    "\n",
    "To get started, install the necessary packages. Ensure you have the latest versions of `langfuse` and `openai`."
   ]
  },
  {
   "cell_type": "code",
   "execution_count": null,
   "metadata": {},
   "outputs": [],
   "source": [
    "%pip install langfuse openai --upgrade"
   ]
  },
  {
   "cell_type": "markdown",
   "metadata": {},
   "source": [
    "### Set Environment Variables\n",
    "\n",
    "Set up your environment variables with the necessary keys. Obtain your Langfuse project keys from [Langfuse Cloud](https://cloud.langfuse.com). You will also need an access token from [DeepSeek](https://platform.deepseek.com/api_keys) to access their models."
   ]
  },
  {
   "cell_type": "code",
   "execution_count": 1,
   "metadata": {},
   "outputs": [],
   "source": [
    "import os\n",
    "\n",
    "# Get keys for your project from the project settings page: https://cloud.langfuse.com\n",
    "os.environ[\"LANGFUSE_PUBLIC_KEY\"] = \"pk-lf-...\" \n",
    "os.environ[\"LANGFUSE_SECRET_KEY\"] = \"sk-lf-...\" \n",
    "os.environ[\"LANGFUSE_HOST\"] = \"https://cloud.langfuse.com\" # 🇪🇺 EU region\n",
    "# os.environ[\"LANGFUSE_HOST\"] = \"https://us.cloud.langfuse.com\" # 🇺🇸 US region\n",
    "\n",
    "# Your DeepSeek API key (get it from https://platform.deepseek.com/api_keys)\n",
    "os.environ[\"DEEPSEEK_API_KEY\"] = \"sk-...\"  # Replace with your DeepSeek API key"
   ]
  },
  {
   "cell_type": "markdown",
   "metadata": {},
   "source": [
    "### Import Necessary Modules\n",
    "\n",
    "Instead of importing `openai` directly, import it from `langfuse.openai`. Also, import any other necessary modules.\n",
    "\n",
    "Check out our [OpenAI integration docs](https://langfuse.com/docs/integrations/openai/python/get-started) to learn how to use this integration with other Langfuse [features](https://langfuse.com/docs/tracing#advanced-usage)."
   ]
  },
  {
   "cell_type": "code",
   "execution_count": 2,
   "metadata": {},
   "outputs": [],
   "source": [
    "# Instead of: import openai\n",
    "from langfuse.openai import OpenAI\n",
    "from langfuse import observe"
   ]
  },
  {
   "cell_type": "markdown",
   "metadata": {},
   "source": [
    "### Initialize the OpenAI Client for DeepSeek Models\n",
    "\n",
    "Initialize the OpenAI client, pointing it to the DeepSeek model endpoint. Replace the model URL and APP key with your own."
   ]
  },
  {
   "cell_type": "code",
   "execution_count": 3,
   "metadata": {},
   "outputs": [],
   "source": [
    "# Initialize the OpenAI client, pointing it to the DeepSeek Inference API\n",
    "client = OpenAI(\n",
    "    base_url=\"https://api.deepseek.com\",  # Replace with the DeepSeek model endpoint URL\n",
    "    api_key=os.getenv('DEEPSEEK_API_KEY'),  # Replace with your DeepSeek API key\n",
    ")"
   ]
  },
  {
   "cell_type": "markdown",
   "metadata": {},
   "source": [
    "## Examples\n",
    "\n",
    "### Chat Completion Request\n",
    "\n",
    "Use the `client` to make a chat completion request to the DeepSeek model. The `model` parameter can be any identifier since the actual model is specified in the `base_url`.\n"
   ]
  },
  {
   "cell_type": "code",
   "execution_count": 4,
   "metadata": {},
   "outputs": [
    {
     "name": "stdout",
     "output_type": "stream",
     "text": [
      "AI is cool because it automates tasks, enhances creativity, and solves complex problems quickly—making life smarter and easier.\n"
     ]
    }
   ],
   "source": [
    "completion = client.chat.completions.create(\n",
    "    model=\"deepseek-chat\", \n",
    "    messages=[\n",
    "        {\"role\": \"system\", \"content\": \"You are a helpful assistant.\"},\n",
    "        {\"role\": \"user\", \"content\": \"Why is AI cool? Answer in 20 words or less.\"}\n",
    "    ]\n",
    ")\n",
    "print(completion.choices[0].message.content)"
   ]
  },
  {
   "cell_type": "markdown",
   "metadata": {},
   "source": [
    "![Example trace in Langfuse](https://langfuse.com/images/cookbook/integration_deepseek/deepseek-simple-trace.png)\n",
    "\n",
    "*[View the example trace in Langfuse](https://cloud.langfuse.com/project/cloramnkj0002jz088vzn1ja4/traces/83702a6c-ae0e-4317-87fa-dc82568a2d89?timestamp=2025-01-09T17%3A06%3A40.848Z)*"
   ]
  },
  {
   "cell_type": "markdown",
   "metadata": {},
   "source": [
    "### Observe the Request with Langfuse\n",
    "\n",
    "By using the `OpenAI` client from `langfuse.openai`, your requests are automatically traced in Langfuse. You can also use the `@observe()` decorator to group multiple generations into a single trace.\n"
   ]
  },
  {
   "cell_type": "code",
   "execution_count": 5,
   "metadata": {},
   "outputs": [
    {
     "name": "stdout",
     "output_type": "stream",
     "text": [
      "**The Lost Token**  \n",
      "\n",
      "Timmy the Token was excited—today, he’d help the language model craft a story! But as he raced through the data pipeline, he took a wrong turn, tumbling into a forgotten cache.  \n",
      "\n",
      "\"Hello?\" Timmy echoed. Only silence replied.  \n",
      "\n",
      "Days passed. The model stuttered without him. Then, a cleanup script swept through. \"Gotcha!\" it chirped, rescuing Timmy.  \n",
      "\n",
      "Back in the prompt, Timmy gleamed. The model sparked to life: *\"Once, a token got lost…\"*  \n",
      "\n",
      "And so, Timmy’s adventure became the very story he was meant to tell.  \n",
      "\n",
      "(100 words exactly)\n"
     ]
    }
   ],
   "source": [
    "@observe()  # Decorator to automatically create a trace and nest generations\n",
    "def generate_story():\n",
    "    completion = client.chat.completions.create(\n",
    "        name=\"story-generator\",\n",
    "        model=\"deepseek-chat\",\n",
    "        messages=[\n",
    "            {\"role\": \"system\", \"content\": \"You are a creative storyteller.\"},\n",
    "            {\"role\": \"user\", \"content\": \"Tell me a short story about a token that got lost on its way to the language model. Answer in 100 words or less.\"}\n",
    "        ],\n",
    "        metadata={\"genre\": \"adventure\"},\n",
    "    )\n",
    "    return completion.choices[0].message.content\n",
    "\n",
    "story = generate_story()\n",
    "print(story)"
   ]
  },
  {
   "cell_type": "markdown",
   "metadata": {},
   "source": [
    "![Example trace in Langfuse](https://langfuse.com/images/cookbook/integration_deepseek/deepseek-story-trace.png)\n",
    "\n",
    "*[View the example trace in Langfuse](https://cloud.langfuse.com/project/cloramnkj0002jz088vzn1ja4/traces/9a0dca39-9fac-4fce-ace9-52b85edfb0d8?timestamp=2025-01-09T17%3A08%3A25.698Z)*"
   ]
  },
  {
   "cell_type": "markdown",
   "metadata": {},
   "source": [
    "### Add Additional Langfuse Features (User, Tags, Metadata, Session)\n",
    "\n",
    "You can enhance your traces by adding [attributes](https://langfuse.com/docs/integrations/openai/python/get-started#custom-trace-properties) such as `user_id`, `session_id`, `tags`, and `metadata`."
   ]
  },
  {
   "cell_type": "code",
   "execution_count": null,
   "metadata": {},
   "outputs": [
    {
     "name": "stdout",
     "output_type": "stream",
     "text": [
      "The Pythagorean theorem states that in a right-angled triangle, the square of the hypotenuse (the side opposite the right angle) is equal to the sum of the squares of the other two sides. Mathematically, if \\( a \\) and \\( b \\) are the legs, and \\( c \\) is the hypotenuse, then:  \n",
      "\n",
      "\\[ a^2 + b^2 = c^2 \\]  \n",
      "\n",
      "This theorem helps calculate distances, solve geometry problems, and is foundational in trigonometry. For example, if \\( a = 3 \\) and \\( b = 4 \\), then \\( c = 5 \\) because \\( 3^2 + 4^2 = 5^2 \\).\n"
     ]
    }
   ],
   "source": [
    "from langfuse import get_client\n",
    " \n",
    "langfuse = get_client()\n",
    " \n",
    "# Trace attributes must be set on enclosing span\n",
    "with langfuse.start_as_current_span(name=\"math-tutor\") as span:\n",
    "    span.update_trace(\n",
    "        session_id=\"session_123\",\n",
    "        user_id=\"user_456\",\n",
    "        tags=[\"math\"]\n",
    "    )\n",
    " \n",
    "    result = client.chat.completions.create(\n",
    "        model=\"deepseek-chat\",\n",
    "        messages=[\n",
    "            {\"role\": \"system\", \"content\": \"You are a math tutor.\"},\n",
    "            {\"role\": \"user\", \"content\": \"Help me understand the Pythagorean theorem. Answer in 100 words or less.\"}\n",
    "        ],\n",
    "        name=\"test-chat\",\n",
    "        metadata={\"someMetadataKey\": \"someValue\"},\n",
    "    )\n",
    "\n",
    "print(result.choices[0].message.content)"
   ]
  },
  {
   "cell_type": "markdown",
   "metadata": {},
   "source": [
    "*[View the example trace in Langfuse](https://cloud.langfuse.com/project/cloramnkj0002jz088vzn1ja4/traces/19dc2f6afdf9bdfc295c10b2403e7b07?timestamp=2025-06-13T09:26:11.293Z&display=details)*"
   ]
  },
  {
   "cell_type": "markdown",
   "metadata": {},
   "source": [
    "### Utilize Langfuse Context to Update Trace Attributes\n",
    "\n",
    "You can modify trace attributes within a function using `langfuse`."
   ]
  },
  {
   "cell_type": "code",
   "execution_count": 9,
   "metadata": {},
   "outputs": [
    {
     "name": "stdout",
     "output_type": "stream",
     "text": [
      "Blockchain is a decentralized digital ledger that records transactions across a network of computers. Each block contains transaction data, linked securely to the previous one, ensuring transparency and immutability. (30 words)\n"
     ]
    }
   ],
   "source": [
    "from langfuse import get_client, observe\n",
    "langfuse = get_client()\n",
    "\n",
    "@observe()\n",
    "def technical_explanation():\n",
    "    # Your main application logic\n",
    "    response = client.chat.completions.create(\n",
    "        name=\"tech-explainer\",\n",
    "        model=\"deepseek-chat\",\n",
    "        messages=[\n",
    "            {\"role\": \"user\", \"content\": \"Explain how blockchain technology works. Answer in 30 words or less.\"}\n",
    "        ],\n",
    "    ).choices[0].message.content\n",
    "\n",
    "    # Update the current trace with additional information\n",
    "    langfuse.update_current_trace(\n",
    "        name=\"Blockchain Explanation\",\n",
    "        session_id=\"session_xyz789\",\n",
    "        user_id=\"user_tech_42\",\n",
    "        tags=[\"technology\", \"blockchain\"],\n",
    "        metadata={\"topic\": \"blockchain\", \"difficulty\": \"intermediate\"},\n",
    "    )\n",
    "\n",
    "    return response\n",
    "\n",
    "result = technical_explanation()\n",
    "print(result)"
   ]
  },
  {
   "cell_type": "markdown",
   "metadata": {},
   "source": [
    "*[View the example trace in Langfuse](https://cloud.langfuse.com/project/cloramnkj0002jz088vzn1ja4/traces/06cca972-a885-454f-8303-0fd753dbf5e3?timestamp=2025-01-09T17%3A10%3A39.275Z)*"
   ]
  },
  {
   "cell_type": "markdown",
   "metadata": {},
   "source": [
    "### Programmatically Add Scores\n",
    "\n",
    "Langfuse lets you ingest custom scores for individual spans or entire traces. This scoring workflow enables you to implement custom quality checks at runtime or facilitate human-in-the-loop evaluation processes.\n",
    "\n",
    "In the example below, we demonstrate how to score a specific span for conciseness (a numeric score) and the overall trace for feedback (a categorical score). This helps in systematically assessing and improving your application."
   ]
  },
  {
   "cell_type": "code",
   "execution_count": 11,
   "metadata": {},
   "outputs": [
    {
     "name": "stdout",
     "output_type": "stream",
     "text": [
      "The Pythagorean theorem states that in a right-angled triangle, the square of the hypotenuse (the side opposite the right angle) is equal to the sum of the squares of the other two sides. Mathematically, it’s written as:  \n",
      "\n",
      "\\[ a^2 + b^2 = c^2 \\]  \n",
      "\n",
      "Here, \\(a\\) and \\(b\\) are the legs, and \\(c\\) is the hypotenuse. For example, if \\(a = 3\\) and \\(b = 4\\), then \\(c = 5\\) because \\(3^2 + 4^2 = 9 + 16 = 25 = 5^2\\). This theorem helps calculate distances and solve geometry problems involving right triangles.\n"
     ]
    }
   ],
   "source": [
    "from langfuse import get_client\n",
    " \n",
    "langfuse = get_client()\n",
    " \n",
    "# Trace attributes must be set on enclosing span\n",
    "with langfuse.start_as_current_span(name=\"math-tutor\") as span:\n",
    "\n",
    "    result = client.chat.completions.create(\n",
    "        model=\"deepseek-chat\",\n",
    "        messages=[\n",
    "            {\"role\": \"system\", \"content\": \"You are a math tutor.\"},\n",
    "            {\"role\": \"user\", \"content\": \"Help me understand the Pythagorean theorem. Answer in 100 words or less.\"}\n",
    "        ],\n",
    "        name=\"test-chat\",\n",
    "        metadata={\"someMetadataKey\": \"someValue\"},\n",
    "    )\n",
    "\n",
    "    # Score this specific span\n",
    "    span.score(name=\"conciseness\", value=0.8, data_type=\"NUMERIC\")\n",
    " \n",
    "    # Score the overall trace\n",
    "    span.score_trace(name=\"feedback\", value=\"positive\", data_type=\"CATEGORICAL\")\n",
    "\n",
    "print(result.choices[0].message.content)"
   ]
  },
  {
   "cell_type": "markdown",
   "metadata": {},
   "source": [
    "*[View the example trace in Langfuse](https://cloud.langfuse.com/project/cloramnkj0002jz088vzn1ja4/traces/44616768-253d-41fd-b336-8611899a2fad?timestamp=2025-01-09T17%3A11%3A01.665Z)*"
   ]
  },
  {
   "cell_type": "markdown",
   "metadata": {},
   "source": [
    "### Learn More\n",
    "\n",
    "- **[Langfuse Documentation](https://langfuse.com/docs)**: Explore the full capabilities of Langfuse and learn how to utilize advanced features.\n",
    "- **[Langfuse Integrations](https://langfuse.com/docs/integrations)**: Discover other integrations and examples.\n",
    "- **[DeepSeek GitHub Repository](https://github.com/deepseek-ai/DeepSeek-V3)**: Learn more about DeepSeek models and access additional resources.\n",
    "\n",
    "## Feedback\n",
    "\n",
    "If you have any feedback or requests, please create an issue on [GitHub](https://github.com/langfuse/langfuse/issues) or share your ideas with the community on [Discord](https://langfuse.com/discord)."
   ]
  }
 ],
 "metadata": {
  "kernelspec": {
   "display_name": ".venv",
   "language": "python",
   "name": "python3"
  },
  "language_info": {
   "codemirror_mode": {
    "name": "ipython",
    "version": 3
   },
   "file_extension": ".py",
   "mimetype": "text/x-python",
   "name": "python",
   "nbconvert_exporter": "python",
   "pygments_lexer": "ipython3",
   "version": "3.13.2"
  }
 },
 "nbformat": 4,
 "nbformat_minor": 2
}

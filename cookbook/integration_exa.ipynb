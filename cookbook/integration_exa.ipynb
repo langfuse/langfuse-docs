{
 "cells": [
  {
   "cell_type": "markdown",
   "metadata": {},
   "source": [
    "<!-- NOTEBOOK_METADATA source: \"⚠️ Jupyter Notebook\" title: \"Monitor Exa AI Search with Langfuse\" sidebarTitle: \"Exa\" logo: \"/images/integrations/exa_icon.png\" description: \"Learn how to trace Exa AI search operations using Langfuse to capture detailed observability data for your search queries and API calls.\" category: \"Integrations\" -->\n",
    "\n",
    "# Exa Integration\n",
    "\n",
    "In this guide, we'll show you how to integrate [Langfuse](https://langfuse.com) with [Exa](https://exa.ai/) to trace your AI search operations. By leveraging Langfuse's tracing capabilities, you can automatically capture details such as inputs, outputs, and execution times of your Exa search functions.\n",
    "\n",
    "> **What is Exa?** [Exa](https://exa.ai/) is an AI-powered search API built for LLMs and AI applications. Unlike traditional search engines, Exa is designed to understand semantic meaning and retrieve high-quality, relevant results that are perfect for AI use cases like RAG (Retrieval-Augmented Generation), research, and content discovery.\n",
    "\n",
    "> **What is Langfuse?** [Langfuse](https://langfuse.com) is an open source LLM engineering platform that helps teams trace API calls, monitor performance, and debug issues in their AI applications.\n",
    "\n",
    "## Get Started\n",
    "\n",
    "First, install the necessary Python packages:"
   ]
  },
  {
   "cell_type": "code",
   "execution_count": null,
   "metadata": {},
   "outputs": [],
   "source": [
    "%pip install langfuse exa-py"
   ]
  },
  {
   "cell_type": "markdown",
   "metadata": {},
   "source": [
    "Next, configure your environment with your Langfuse API keys. You can obtain your keys from your Langfuse dashboard."
   ]
  },
  {
   "cell_type": "code",
   "execution_count": null,
   "metadata": {},
   "outputs": [],
   "source": [
    "import os\n",
    "# Get keys for your project from the project settings page https://cloud.langfuse.com\n",
    "\n",
    "os.environ[\"LANGFUSE_PUBLIC_KEY\"] = \"pk-lf-...\"\n",
    "os.environ[\"LANGFUSE_SECRET_KEY\"] = \"sk-lf-...\" \n",
    "os.environ[\"LANGFUSE_BASE_URL\"] = \"https://cloud.langfuse.com\" # 🇪🇺 EU region\n",
    "# os.environ[\"LANGFUSE_BASE_URL\"] = \"https://us.cloud.langfuse.com\" # 🇺🇸 US region"
   ]
  },
  {
   "cell_type": "markdown",
   "metadata": {},
   "source": [
    "Initialize the Exa client with your Exa API key."
   ]
  },
  {
   "cell_type": "code",
   "execution_count": null,
   "metadata": {},
   "outputs": [],
   "source": [
    "from exa_py import Exa\n",
    "\n",
    "exa = Exa(api_key=\"exa_...\")"
   ]
  },
  {
   "cell_type": "markdown",
   "metadata": {},
   "source": [
    "## Trace Exa Search Operations\n",
    "\n",
    "To monitor your Exa search operations, we use the [Langfuse `@observe()` decorator](https://langfuse.com/docs/sdk/python/decorators). In this example, the `@observe()` decorator captures the inputs, outputs, and execution time of the `search_with_exa()` function. All trace data is automatically sent to Langfuse, allowing you to monitor your Exa operations in real time."
   ]
  },
  {
   "cell_type": "code",
   "execution_count": null,
   "metadata": {},
   "outputs": [],
   "source": [
    "from langfuse import observe\n",
    "\n",
    "@observe()\n",
    "def search_with_exa(query: str, num_results: int = 5):\n",
    "    \"\"\"Search the web using Exa AI and return results.\"\"\"\n",
    "    results = exa.search_and_contents(\n",
    "        query,\n",
    "        num_results=num_results,\n",
    "        text=True\n",
    "    )\n",
    "    return results\n",
    "\n",
    "# Example: Search for information about Langfuse\n",
    "search_results = search_with_exa(\"What is Langfuse and how does it help with LLM observability?\")\n",
    "\n",
    "# Display the results\n",
    "for result in search_results.results:\n",
    "    print(f\"Title: {result.title}\")\n",
    "    print(f\"URL: {result.url}\")\n",
    "    print(f\"Text: {result.text[:200]}...\\n\")"
   ]
  },
  {
   "cell_type": "markdown",
   "metadata": {},
   "source": [
    "## Advanced: Trace Multiple Exa Operations\n",
    "\n",
    "You can also trace more complex workflows that involve multiple Exa API calls. Here's an example that demonstrates searching and finding similar content:"
   ]
  },
  {
   "cell_type": "code",
   "execution_count": null,
   "metadata": {},
   "outputs": [],
   "source": [
    "@observe()\n",
    "def find_similar_content(url: str, num_results: int = 5):\n",
    "    \"\"\"Find similar content to a given URL using Exa.\"\"\"\n",
    "    results = exa.find_similar_and_contents(\n",
    "        url,\n",
    "        num_results=num_results\n",
    "    )\n",
    "    return results\n",
    "\n",
    "@observe()\n",
    "def search_and_find_similar(query: str):\n",
    "    \"\"\"Search for content and find similar pages.\"\"\"\n",
    "    # First, search for the query\n",
    "    search_results = search_with_exa(query, num_results=3)\n",
    "    \n",
    "    # Then, find similar content to the top result\n",
    "    if search_results.results:\n",
    "        top_url = search_results.results[0].url\n",
    "        similar_results = find_similar_content(top_url, num_results=3)\n",
    "        return {\n",
    "            \"search_results\": search_results,\n",
    "            \"similar_results\": similar_results\n",
    "        }\n",
    "    \n",
    "    return {\"search_results\": search_results}\n",
    "\n",
    "# Execute the nested operations\n",
    "results = search_and_find_similar(\"LLM observability tools\")"
   ]
  },
  {
   "cell_type": "markdown",
   "metadata": {},
   "source": [
    "## See Traces in Langfuse\n",
    "\n",
    "After executing the traced functions, log in to your [Langfuse Dashboard](https://cloud.langfuse.com) to view detailed trace logs. You'll be able to see:\n",
    "\n",
    "- Search queries and their parameters\n",
    "- Response times for each API call\n",
    "- Nested traces showing the relationship between search and similarity operations\n",
    "- Full input and output data for debugging\n",
    "\n",
    "The trace will show the complete execution flow, including all nested function calls and their respective inputs and outputs."
   ]
  },
  {
   "cell_type": "markdown",
   "metadata": {},
   "source": [
    "<!-- MARKDOWN_COMPONENT name: \"LearnMore\" path: \"@/components-mdx/integration-learn-more.mdx\" -->"
   ]
  }
 ],
 "metadata": {
  "kernelspec": {
   "display_name": ".venv",
   "language": "python",
   "name": "python3"
  },
  "language_info": {
   "codemirror_mode": {
    "name": "ipython",
    "version": 3
   },
   "file_extension": ".py",
   "mimetype": "text/x-python",
   "name": "python",
   "nbconvert_exporter": "python",
   "pygments_lexer": "ipython3",
   "version": "3.13.2"
  }
 },
 "nbformat": 4,
 "nbformat_minor": 2
}

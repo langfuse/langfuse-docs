{
 "cells": [
  {
   "cell_type": "markdown",
   "id": "92277381",
   "metadata": {},
   "source": [
    "<!-- NOTEBOOK_METADATA source: \"⚠️ Jupyter Notebook\" title: \"Observability for Google Agent Development Kit with Langfuse\" sidebarTitle: \"Google ADK\" logo: \"/images/integrations/google_adk_icon.png\" description: \"Learn how to instrument Google ADK agents with Langfuse via OpenTelemetry\" category: \"Integrations\" -->\n",
    "\n",
    "# Integrate Langfuse with Google's Agent Development Kit\n",
    "\n",
    "This notebook demonstrates how to capture detailed traces from a [Google Agent Development Kit](https://github.com/google/adk-python) (ADK) application with **[Langfuse](https://langfuse.com)** using the OpenTelemetry (OTel) protocol.\n",
    "\n",
    "> **Why Agent Development Kit?**  \n",
    "> [Google’s Agent Development Kit](https://developers.googleblog.com/en/agent-development-kit-easy-to-build-multi-agent-applications/) streamlines building, orchestrating, and tracing generative-AI agents out of the box, letting you move from prototype to production far faster than wiring everything yourself.\n",
    "\n",
    "> **Why Langfuse?**  \n",
    "> [Langfuse](https://langfuse.com) gives you a detailed dashboard and rich analytics for every prompt, model response, and function call in your agent, making it easy to debug, evaluate, and iterate on LLM apps."
   ]
  },
  {
   "cell_type": "markdown",
   "id": "aed0302b",
   "metadata": {},
   "source": [
    "<!-- STEPS_START -->\n",
    "## Step&nbsp;1: Install dependencies"
   ]
  },
  {
   "cell_type": "code",
   "execution_count": null,
   "id": "bd5bde5b",
   "metadata": {},
   "outputs": [],
   "source": [
    "%pip install langfuse google-adk openinference-instrumentation-google-adk -q"
   ]
  },
  {
   "cell_type": "markdown",
   "id": "5e79d567",
   "metadata": {},
   "source": [
    "## Step 2: Set up environment variables\n",
    "\n",
    "Fill in the **Langfuse** and your **Gemini API key**."
   ]
  },
  {
   "cell_type": "code",
   "execution_count": null,
   "id": "59bda6ea",
   "metadata": {},
   "outputs": [],
   "source": [
    "import os\n",
    "\n",
    "# Get keys for your project from the project settings page: https://cloud.langfuse.com\n",
    "os.environ[\"LANGFUSE_PUBLIC_KEY\"] = \"pk-lf-...\" \n",
    "os.environ[\"LANGFUSE_SECRET_KEY\"] = \"sk-lf-...\" \n",
    "os.environ[\"LANGFUSE_HOST\"] = \"https://cloud.langfuse.com\" # 🇪🇺 EU region\n",
    "# os.environ[\"LANGFUSE_HOST\"] = \"https://us.cloud.langfuse.com\" # 🇺🇸 US region\n",
    "\n",
    "# Gemini API Key (Get from Google AI Studio: https://aistudio.google.com/app/apikey)\n",
    "os.environ[\"GOOGLE_API_KEY\"] = \"...\" "
   ]
  },
  {
   "cell_type": "markdown",
   "id": "d5a0c1d4",
   "metadata": {},
   "source": [
    "With the environment variables set, we can now initialize the Langfuse client. `get_client()` initializes the Langfuse client using the credentials provided in the environment variables."
   ]
  },
  {
   "cell_type": "code",
   "execution_count": 3,
   "id": "056a7e43",
   "metadata": {},
   "outputs": [
    {
     "name": "stdout",
     "output_type": "stream",
     "text": [
      "Langfuse client is authenticated and ready!\n"
     ]
    }
   ],
   "source": [
    "from langfuse import get_client\n",
    " \n",
    "langfuse = get_client()\n",
    " \n",
    "# Verify connection\n",
    "if langfuse.auth_check():\n",
    "    print(\"Langfuse client is authenticated and ready!\")\n",
    "else:\n",
    "    print(\"Authentication failed. Please check your credentials and host.\")"
   ]
  },
  {
   "cell_type": "markdown",
   "id": "1e83b860",
   "metadata": {},
   "source": [
    "## Step 3: OpenTelemetry Instrumentation\n",
    "\n",
    "Use the [`GoogleADKInstrumentor`](https://github.com/Arize-ai/openinference/tree/main/python/instrumentation/openinference-instrumentation-google-adk) library to wrap ADK calls and send OpenTelemetry spans to Langfuse."
   ]
  },
  {
   "cell_type": "code",
   "execution_count": null,
   "id": "395937fc",
   "metadata": {},
   "outputs": [],
   "source": [
    "from openinference.instrumentation.google_adk import GoogleADKInstrumentor\n",
    "\n",
    "GoogleADKInstrumentor().instrument()"
   ]
  },
  {
   "cell_type": "markdown",
   "id": "96b60fd5",
   "metadata": {},
   "source": [
    "## Step 3: Build a hello world agent\n",
    "\n",
    "Every tool call and model completion is captured as an OpenTelemetry span and forwarded to Langfuse."
   ]
  },
  {
   "cell_type": "code",
   "execution_count": null,
   "id": "f2631d97",
   "metadata": {},
   "outputs": [],
   "source": [
    "from google.adk.agents import Agent\n",
    "from google.adk.runners import Runner\n",
    "from google.adk.sessions import InMemorySessionService\n",
    "from google.genai import types\n",
    "\n",
    "def say_hello():\n",
    "    return {\"greeting\": \"Hello Langfuse 👋\"}\n",
    "\n",
    "agent = Agent(\n",
    "    name=\"hello_agent\",\n",
    "    model=\"gemini-2.0-flash\",\n",
    "    instruction=\"Always greet using the say_hello tool.\",\n",
    "    tools=[say_hello],\n",
    ")\n",
    "\n",
    "APP_NAME = \"hello_app\"\n",
    "USER_ID = \"demo-user\"\n",
    "SESSION_ID = \"demo-session\"\n",
    "\n",
    "session_service = InMemorySessionService()\n",
    "# create_session is async → await it in notebooks\n",
    "await session_service.create_session(app_name=APP_NAME, user_id=USER_ID, session_id=SESSION_ID)\n",
    "\n",
    "runner = Runner(agent=agent, app_name=APP_NAME, session_service=session_service)\n",
    "\n",
    "user_msg = types.Content(role=\"user\", parts=[types.Part(text=\"hi\")])\n",
    "for event in runner.run(user_id=USER_ID, session_id=SESSION_ID, new_message=user_msg):\n",
    "    if event.is_final_response():\n",
    "        print(event.content.parts[0].text)"
   ]
  },
  {
   "cell_type": "markdown",
   "id": "11073339",
   "metadata": {},
   "source": [
    "## Step 4: View the trace in Langfuse\n",
    "\n",
    "Head over to your **Langfuse dashboard → Traces**. You should see traces including all tool calls and model inputs/outputs.\n",
    "\n",
    "![Google ADK example trace in Langfuse](https://langfuse.com/images/cookbook/integration-google-adk/google-adk-trace.png)\n",
    "\n",
    "[Link to trace in Langfuse](https://cloud.langfuse.com/project/cloramnkj0002jz088vzn1ja4/traces/b82a0bdc1994fc5d1c8576ca032543f7?timestamp=2025-08-28T07:32:30.303Z&display=details)\n",
    "\n",
    "<!-- STEPS_END -->"
   ]
  },
  {
   "cell_type": "markdown",
   "id": "7be998e7",
   "metadata": {},
   "source": [
    "<!-- MARKDOWN_COMPONENT name: \"LearnMore\" path: \"@/components-mdx/integration-learn-more.mdx\" -->"
   ]
  }
 ],
 "metadata": {
  "kernelspec": {
   "display_name": ".venv",
   "language": "python",
   "name": "python3"
  },
  "language_info": {
   "codemirror_mode": {
    "name": "ipython",
    "version": 3
   },
   "file_extension": ".py",
   "mimetype": "text/x-python",
   "name": "python",
   "nbconvert_exporter": "python",
   "pygments_lexer": "ipython3",
   "version": "3.13.2"
  }
 },
 "nbformat": 4,
 "nbformat_minor": 5
}

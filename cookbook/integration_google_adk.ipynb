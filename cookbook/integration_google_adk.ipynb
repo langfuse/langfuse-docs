{
 "cells": [
  {
   "cell_type": "markdown",
   "id": "92277381",
   "metadata": {},
   "source": [
    "<!-- NOTEBOOK_METADATA source: \"⚠️ Jupyter Notebook\" title: \"Observability for Google Agent Development Kit with Langfuse\" sidebarTitle: \"Google ADK\" logo: \"/images/integrations/google_adk_icon.png\" description: \"Learn how to instrument Google ADK agents with Langfuse via OpenTelemetry\" category: \"Integrations\" -->\n",
    "\n",
    "# Integrate Langfuse with Google's Agent Development Kit\n",
    "\n",
    "This notebook demonstrates how to capture detailed traces from a [Google Agent Development Kit](https://github.com/google/adk-python) (ADK) application with **[Langfuse](https://langfuse.com)** using the OpenTelemetry (OTel) protocol.\n",
    "\n",
    "> **Why Agent Development Kit?**  \n",
    "> [Google’s Agent Development Kit](https://developers.googleblog.com/en/agent-development-kit-easy-to-build-multi-agent-applications/) streamlines building, orchestrating, and tracing generative-AI agents out of the box, letting you move from prototype to production far faster than wiring everything yourself.\n",
    "\n",
    "> **Why Langfuse?**  \n",
    "> [Langfuse](https://langfuse.com) gives you a detailed dashboard and rich analytics for every prompt, model response, and function call in your agent, making it easy to debug, evaluate, and iterate on LLM apps."
   ]
  },
  {
   "cell_type": "markdown",
   "id": "aed0302b",
   "metadata": {},
   "source": [
    "<!-- STEPS_START -->\n",
    "## Step&nbsp;1: Install dependencies"
   ]
  },
  {
   "cell_type": "code",
   "execution_count": null,
   "id": "bd5bde5b",
   "metadata": {},
   "outputs": [],
   "source": [
    "%pip install langfuse google-adk -q"
   ]
  },
  {
   "cell_type": "markdown",
   "id": "5e79d567",
   "metadata": {},
   "source": [
    "## Step 2: Set up environment variables\n",
    "\n",
    "Fill in the **Langfuse** and **OpenTelemetry** credentials for your project. Also set your **Gemini API key**."
   ]
  },
  {
   "cell_type": "code",
   "execution_count": 4,
   "id": "59bda6ea",
   "metadata": {},
   "outputs": [],
   "source": [
    "import os\n",
    "import base64\n",
    "\n",
    "# Get keys for your project from the project settings page: https://cloud.langfuse.com\n",
    "os.environ[\"LANGFUSE_PUBLIC_KEY\"] = \"pk-lf-...\" \n",
    "os.environ[\"LANGFUSE_SECRET_KEY\"] = \"sk-lf-...\" \n",
    "os.environ[\"LANGFUSE_HOST\"] = \"https://cloud.langfuse.com\" # 🇪🇺 EU region\n",
    "# os.environ[\"LANGFUSE_HOST\"] = \"https://us.cloud.langfuse.com\" # 🇺🇸 US region\n",
    "\n",
    "# Build Basic Auth header.\n",
    "LANGFUSE_AUTH = base64.b64encode(\n",
    "    f\"{os.environ.get('LANGFUSE_PUBLIC_KEY')}:{os.environ.get('LANGFUSE_SECRET_KEY')}\".encode()\n",
    ").decode()\n",
    " \n",
    "# Configure OpenTelemetry endpoint & headers\n",
    "os.environ[\"OTEL_EXPORTER_OTLP_ENDPOINT\"] = os.environ.get(\"LANGFUSE_HOST\") + \"/api/public/otel\"\n",
    "os.environ[\"OTEL_EXPORTER_OTLP_HEADERS\"] = f\"Authorization=Basic {LANGFUSE_AUTH}\"\n",
    "\n",
    "\n",
    "# Gemini API Key (Get from Google AI Studio: https://aistudio.google.com/app/apikey)\n",
    "os.environ[\"GOOGLE_API_KEY\"] = \"...\" "
   ]
  },
  {
   "cell_type": "markdown",
   "id": "d5a0c1d4",
   "metadata": {},
   "source": [
    "With the environment variables set, we can now initialize the Langfuse client. `get_client()` initializes the Langfuse client using the credentials provided in the environment variables."
   ]
  },
  {
   "cell_type": "code",
   "execution_count": 3,
   "id": "056a7e43",
   "metadata": {},
   "outputs": [
    {
     "name": "stdout",
     "output_type": "stream",
     "text": [
      "Langfuse client is authenticated and ready!\n"
     ]
    }
   ],
   "source": [
    "from langfuse import get_client\n",
    " \n",
    "langfuse = get_client()\n",
    " \n",
    "# Verify connection\n",
    "if langfuse.auth_check():\n",
    "    print(\"Langfuse client is authenticated and ready!\")\n",
    "else:\n",
    "    print(\"Authentication failed. Please check your credentials and host.\")"
   ]
  },
  {
   "cell_type": "markdown",
   "id": "96b60fd5",
   "metadata": {},
   "source": [
    "## Step 3: Build a hello world agent\n",
    "\n",
    "Every tool call and model completion is captured as an OpenTelemetry span and forwarded to Langfuse."
   ]
  },
  {
   "cell_type": "code",
   "execution_count": 5,
   "id": "f2631d97",
   "metadata": {},
   "outputs": [
    {
     "name": "stderr",
     "output_type": "stream",
     "text": [
      "Warning: there are non-text parts in the response: ['function_call'], returning concatenated text result from text parts. Check the full candidates.content.parts accessor to get the full model response.\n"
     ]
    },
    {
     "name": "stdout",
     "output_type": "stream",
     "text": [
      "Hello Langfuse 👋!\n",
      "\n"
     ]
    }
   ],
   "source": [
    "from google.adk import Agent, Runner\n",
    "from google.adk.sessions import InMemorySessionService\n",
    "from google.genai import types\n",
    "\n",
    "# 1. ‘say_hello’ tool\n",
    "def say_hello():\n",
    "    return {\"greeting\": \"Hello Langfuse 👋\"}\n",
    "\n",
    "agent = Agent(\n",
    "    name=\"hello_agent\",\n",
    "    model=\"gemini-2.0-flash\",\n",
    "    instruction=\"Always greet using the say_hello tool.\",\n",
    "    tools=[say_hello],\n",
    ")\n",
    "\n",
    "# 2. session service + runner \n",
    "session_service = InMemorySessionService()\n",
    "\n",
    "APP_NAME  = \"hello_app\"\n",
    "USER_ID   = \"demo-user\"\n",
    "SESSION_ID = \"demo-session\"  # any string; UUIDs work too\n",
    "\n",
    "# create the session once\n",
    "session_service.create_session(\n",
    "    app_name=APP_NAME, user_id=USER_ID, session_id=SESSION_ID\n",
    ")\n",
    "\n",
    "runner = Runner(agent=agent, app_name=APP_NAME, session_service=session_service)\n",
    "\n",
    "# 3.  single‑turn run \n",
    "user_msg = types.Content(role=\"user\", parts=[types.Part(text=\"hi\")])\n",
    "\n",
    "for event in runner.run(user_id=USER_ID, session_id=SESSION_ID, new_message=user_msg):\n",
    "    if event.is_final_response():\n",
    "        print(event.content.parts[0].text)"
   ]
  },
  {
   "cell_type": "markdown",
   "id": "11073339",
   "metadata": {},
   "source": [
    "## Step 4: View the trace in Langfuse\n",
    "\n",
    "Head over to your **Langfuse dashboard → Traces**. You should see traces including all tool calls and model inputs/outputs.\n",
    "\n",
    "![Google ADK example trace in Langfuse](https://langfuse.com/images/cookbook/integration-google-adk/google-adk-trace.png)\n",
    "<!-- STEPS_END -->"
   ]
  },
  {
   "cell_type": "markdown",
   "id": "7be998e7",
   "metadata": {},
   "source": [
    "<!-- MARKDOWN_COMPONENT name: \"LearnMore\" path: \"@/components-mdx/integration-learn-more.mdx\" -->"
   ]
  }
 ],
 "metadata": {
  "kernelspec": {
   "display_name": ".venv",
   "language": "python",
   "name": "python3"
  },
  "language_info": {
   "codemirror_mode": {
    "name": "ipython",
    "version": 3
   },
   "file_extension": ".py",
   "mimetype": "text/x-python",
   "name": "python",
   "nbconvert_exporter": "python",
   "pygments_lexer": "ipython3",
   "version": "3.13.2"
  }
 },
 "nbformat": 4,
 "nbformat_minor": 5
}

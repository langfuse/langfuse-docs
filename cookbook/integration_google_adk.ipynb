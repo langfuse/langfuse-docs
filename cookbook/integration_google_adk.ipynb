{
 "cells": [
  {
   "cell_type": "markdown",
   "id": "92277381",
   "metadata": {},
   "source": [
    "---\n",
    "title: Observability for Google Agent Development Kit with Langfuse\n",
    "description: Learn how to instrument Google ADK agents with Langfuse via OpenTelemetry\n",
    "category: Integrations\n",
    "---\n",
    "\n",
    "# Integrate Langfuse with Google's Agent Development Kit\n",
    "\n",
    "This notebook demonstrates how to capture detailed traces from a [Google Agent Development Kit](https://github.com/google-generative-ai/agent-development-kit) (ADK) application with **[Langfuse](https://langfuse.com)** using the OpenTelemetry (OTel) protocol.\n",
    "\n",
    "> **Why Agent Development Kit?**  \n",
    "> [Google’s Agent Development Kit](https://developers.googleblog.com/en/agent-development-kit-easy-to-build-multi-agent-applications/) streamlines building, orchestrating, and tracing generative-AI agents out of the box, letting you move from prototype to production far faster than wiring everything yourself.\n",
    "\n",
    "> **Why Langfuse?**  \n",
    "> [Langfuse](https://langfuse.com) gives you a detailed dashboard and rich analytics for every prompt, model response, and function call in your agent, making it easy to debug, evaluate, and iterate on LLM apps."
   ]
  },
  {
   "cell_type": "markdown",
   "id": "aed0302b",
   "metadata": {},
   "source": [
    "## Step&nbsp;1: Install dependencies"
   ]
  },
  {
   "cell_type": "code",
   "execution_count": null,
   "id": "bd5bde5b",
   "metadata": {},
   "outputs": [],
   "source": [
    "%pip install google-adk opentelemetry-sdk opentelemetry-exporter-otlp -q"
   ]
  },
  {
   "cell_type": "markdown",
   "id": "5e79d567",
   "metadata": {},
   "source": [
    "## Step 2: Set up environment variables\n",
    "\n",
    "Fill in the **Langfuse** and **OpenTelemetry** credentials for your project. Also set your **Gemini API key**."
   ]
  },
  {
   "cell_type": "code",
   "execution_count": null,
   "id": "59bda6ea",
   "metadata": {},
   "outputs": [],
   "source": [
    "import os\n",
    "import base64\n",
    "\n",
    "LANGFUSE_PUBLIC_KEY = \"pk-lf-...\"\n",
    "LANGFUSE_SECRET_KEY = \"sk-lf-...\"\n",
    "LANGFUSE_AUTH=base64.b64encode(f\"{LANGFUSE_PUBLIC_KEY}:{LANGFUSE_SECRET_KEY}\".encode()).decode()\n",
    "\n",
    "os.environ[\"OTEL_EXPORTER_OTLP_ENDPOINT\"] = \"https://cloud.langfuse.com/api/public/otel\" # EU data region\n",
    "# os.environ[\"OTEL_EXPORTER_OTLP_ENDPOINT\"] = \"https://us.cloud.langfuse.com/api/public/otel\" # US data region\n",
    "os.environ[\"OTEL_EXPORTER_OTLP_HEADERS\"] = f\"Authorization=Basic {LANGFUSE_AUTH}\"\n",
    "\n",
    "# Gemini API Key (Get from Google AI Studio: https://aistudio.google.com/app/apikey)\n",
    "os.environ[\"GOOGLE_API_KEY\"] = \"...\" "
   ]
  },
  {
   "cell_type": "markdown",
   "id": "6076f09c",
   "metadata": {},
   "source": [
    "## Step 3: Initialise OTel\n",
    "\n",
    "We configure an **OTLPSpanExporter** so every span generated in this notebook is pushed straight to Langfuse."
   ]
  },
  {
   "cell_type": "code",
   "execution_count": null,
   "id": "5dec4476",
   "metadata": {},
   "outputs": [],
   "source": [
    "from opentelemetry import trace\n",
    "from opentelemetry.sdk.resources import Resource\n",
    "from opentelemetry.sdk.trace import TracerProvider\n",
    "from opentelemetry.sdk.trace.export import BatchSpanProcessor\n",
    "from opentelemetry.exporter.otlp.proto.http.trace_exporter import OTLPSpanExporter\n",
    "\n",
    "provider = TracerProvider(resource=Resource.create({\"service.name\": \"hello_agent\"}))\n",
    "exporter = OTLPSpanExporter()\n",
    "provider.add_span_processor(BatchSpanProcessor(exporter))\n",
    "trace.set_tracer_provider(provider)\n",
    "tracer = trace.get_tracer(\"hello_app\")"
   ]
  },
  {
   "cell_type": "markdown",
   "id": "96b60fd5",
   "metadata": {},
   "source": [
    "## Step 4: Build a hello world agent\n",
    "\n",
    "Every tool call and model completion is captured as an OpenTelemetry span and forwarded to Langfuse."
   ]
  },
  {
   "cell_type": "code",
   "execution_count": null,
   "id": "f2631d97",
   "metadata": {},
   "outputs": [],
   "source": [
    "from google.adk import Agent, Runner\n",
    "from google.adk.sessions import InMemorySessionService\n",
    "from google.genai import types\n",
    "\n",
    "# 1. ‘say_hello’ tool\n",
    "def say_hello():\n",
    "    return {\"greeting\": \"Hello Langfuse 👋\"}\n",
    "\n",
    "agent = Agent(\n",
    "    name=\"hello_agent\",\n",
    "    model=\"gemini-2.0-flash\",\n",
    "    instruction=\"Always greet using the say_hello tool.\",\n",
    "    tools=[say_hello],\n",
    ")\n",
    "\n",
    "# 2. session service + runner \n",
    "session_service = InMemorySessionService()\n",
    "\n",
    "APP_NAME  = \"hello_app\"\n",
    "USER_ID   = \"demo-user\"\n",
    "SESSION_ID = \"demo-session\"  # any string; UUIDs work too\n",
    "\n",
    "# create the session once\n",
    "session_service.create_session(\n",
    "    app_name=APP_NAME, user_id=USER_ID, session_id=SESSION_ID\n",
    ")\n",
    "\n",
    "runner = Runner(agent=agent, app_name=APP_NAME, session_service=session_service)\n",
    "\n",
    "# 3.  single‑turn run \n",
    "user_msg = types.Content(role=\"user\", parts=[types.Part(text=\"hi\")])\n",
    "\n",
    "for event in runner.run(user_id=USER_ID, session_id=SESSION_ID, new_message=user_msg):\n",
    "    if event.is_final_response():\n",
    "        print(event.content.parts[0].text)"
   ]
  },
  {
   "cell_type": "markdown",
   "id": "11073339",
   "metadata": {},
   "source": [
    "## Step 5: View the trace in Langfuse\n",
    "\n",
    "Head over to your **Langfuse dashboard → Traces**. You should see traces including all tool calls and model inputs/outputs.\n",
    "\n",
    "![Google ADK example trace in Langfuse](https://langfuse.com/images/cookbook/integration-google-adk/google-adk-trace.png)"
   ]
  }
 ],
 "metadata": {
  "language_info": {
   "name": "python"
  }
 },
 "nbformat": 4,
 "nbformat_minor": 5
}

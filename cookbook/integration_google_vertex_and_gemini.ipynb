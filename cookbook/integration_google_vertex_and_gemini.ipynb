{
  "cells": [
    {
      "cell_type": "markdown",
      "metadata": {
        "id": "tdwb8Tpuu6f-"
      },
      "source": [
        "---\n",
        "title: Observability and Metrics for Google Vertex AI and Gemini\n",
        "description: Open source observability for Google Vertex AI applications and the Vertex AI SDK.\n",
        "category: Integrations\n",
        "---\n",
        "\n",
        "# Google Vertex AI and Google Gemini Integration\n",
        "\n",
        "[**Google Vertex AI**](https://cloud.google.com/vertex-ai) grants access to Google's own series of Gemini models as well as various models via the Vertex Model Garden (e.g. Claude3).\n",
        "\n",
        "When **using Langfuse with Google Vertex AI**, you can easily capture [detailed traces](https://langfuse.com/docs/tracing) and metrics for every request, giving you insights into the performance and behavior of your application.\n",
        "\n",
        "All in-ui Langfuse features next to tracing (playground, llm-as-a-judge evaluation, prompt experiments) are fully compatible with Google Vertex AI – just add your Vertex configuration in the project settings.\n",
        "\n",
        "![Langfuse Overview Google Vertex](https://static.langfuse.com/cookbooks%2Fgoogle-vertex%2Fgoogle-vertex-langfuse.gif)\n",
        "\n",
        "## Integration Options\n",
        "\n",
        "There are a few ways through which you can capture traces and metrics for Google Vertex AI:\n",
        "\n",
        "1. via an application framework that is integrated with Langfuse:\n",
        "\n",
        "   - [Langchain](https://langfuse.com/docs/integrations/langchain)\n",
        "   - [Llama Index](https://langfuse.com/docs/integrations/llama-index) \n",
        "   - [Haystack](https://langfuse.com/docs/integrations/haystack)\n",
        "   - [Vercel AI SDK](https://langfuse.com/docs/integrations/vercel-ai-sdk)\n",
        "\n",
        "2. via a Proxy such as [LiteLLM](https://langfuse.com/docs/integrations/litellm)\n",
        "3. via wrapping the Vertex AI SDK with the [Langfuse Decorator](https://langfuse.com/docs/sdk/python/decorators) (_see example below_)"
      ]
    },
    {
      "cell_type": "markdown",
      "metadata": {},
      "source": [
        "## Notebook Setup\n",
        "\n",
        "This is an example notebook which illustrates the different ways to capture traces and metrics for Google Vertex AI. Let's first setup the notebook environment by installing the requirements and authenticating with Google and Langfuse.\n",
        "\n",
        "### Install Requirements"
      ]
    },
    {
      "cell_type": "code",
      "execution_count": null,
      "metadata": {
        "colab": {
          "base_uri": "https://localhost:8080/",
          "height": 1000
        },
        "collapsed": true,
        "id": "PiHNXHgDKztZ",
        "outputId": "5de665da-6629-4885-e3dd-1e4dac183792"
      },
      "outputs": [],
      "source": [
        "# install requirements for this notebook\n",
        "%pip install langchain langchain-google-vertexai langfuse anthropic[vertex] google-cloud-aiplatform"
      ]
    },
    {
      "cell_type": "markdown",
      "metadata": {
        "id": "387AQKX4MoA6"
      },
      "source": [
        "### Authenticate with Google Vertex\n",
        "\n",
        "**Authenticate your notebook environment (Colab only)**\n",
        "\n",
        "If you are running this notebook on Google Colab, run the cell below to authenticate your environment."
      ]
    },
    {
      "cell_type": "code",
      "execution_count": 2,
      "metadata": {
        "id": "vadbqueiMlRE"
      },
      "outputs": [],
      "source": [
        "import sys\n",
        "\n",
        "if \"google.colab\" in sys.modules:\n",
        "    from google.colab import auth\n",
        "\n",
        "    auth.authenticate_user()"
      ]
    },
    {
      "cell_type": "markdown",
      "metadata": {
        "id": "h5mnM0OS1h5W"
      },
      "source": [
        "**Set Google Cloud project information and initialize Vertex AI SDK**\n",
        "\n",
        "To get started using Vertex AI, you must have an existing Google Cloud project and [enable the Vertex AI API](https://console.cloud.google.com/flows/enableapi?apiid=aiplatform.googleapis.com).\n",
        "\n",
        "Learn more about setting up a [project and a development environment](https://cloud.google.com/vertex-ai/docs/start/cloud-environment)."
      ]
    },
    {
      "cell_type": "code",
      "execution_count": 3,
      "metadata": {
        "id": "Qi-XCLB7yAql"
      },
      "outputs": [],
      "source": [
        "PROJECT_ID = \"vertex-gemini-credentials\"\n",
        "LOCATION = \"us-central1\"\n",
        "\n",
        "import vertexai\n",
        "\n",
        "vertexai.init(project=PROJECT_ID, location=LOCATION)"
      ]
    },
    {
      "cell_type": "markdown",
      "metadata": {
        "id": "RphwSixxNXHe"
      },
      "source": [
        "### Authenticate with Langfuse"
      ]
    },
    {
      "cell_type": "code",
      "execution_count": 1,
      "metadata": {
        "id": "yrteQaVPLPmU"
      },
      "outputs": [],
      "source": [
        "import os\n",
        "\n",
        "# Get keys for your project from the project settings page\n",
        "# https://cloud.langfuse.com\n",
        "os.environ[\"LANGFUSE_SECRET_KEY\"] = \"\"\n",
        "os.environ[\"LANGFUSE_PUBLIC_KEY\"] = \"\"\n",
        "os.environ[\"LANGFUSE_HOST\"] = \"https://cloud.langfuse.com\" # 🇪🇺 EU region\n",
        "# os.environ[\"LANGFUSE_HOST\"] = \"https://us.cloud.langfuse.com\" # 🇺🇸 US region"
      ]
    },
    {
      "cell_type": "markdown",
      "metadata": {
        "id": "X9hGiRqUgOC8"
      },
      "source": [
        "## How to wrap the Vertex AI SDK with the Langfuse Decorator\n",
        "\n",
        "The langfuse [`@observe()` decorator for Python](https://langfuse.com/docs/sdk/python/decorators) is powerful as it helps to instrument any LLM call and regular python function. Thereby you can trace complex LLM applications and non-LLM steps such as context retrieval, important LLM calls, or conversational memory management.\n",
        "\n",
        "In the following example, we wrap the Vertex AI SDK with the Langfuse decorator once (`vertex_generate_content`) to capture token counts and model metadata, and then reuse the decorated function.\n",
        "\n",
        "### Wrap SDK"
      ]
    },
    {
      "cell_type": "code",
      "execution_count": null,
      "metadata": {},
      "outputs": [],
      "source": [
        "import base64\n",
        "import vertexai\n",
        "from vertexai.generative_models import GenerativeModel, Part, FinishReason\n",
        "import vertexai.preview.generative_models as generative_models\n",
        "\n",
        "from langfuse.decorators import langfuse_context, observe\n",
        "\n",
        "@observe(as_type=\"generation\")\n",
        "def vertex_generate_content(input, model_name = \"gemini-pro\"):\n",
        "  vertexai.init(project=\"vertex-gemini-credentials\", location=\"us-central1\")\n",
        "  model = GenerativeModel(model_name)\n",
        "  response = model.generate_content(\n",
        "      [input],\n",
        "      generation_config={\n",
        "        \"max_output_tokens\": 8192,\n",
        "        \"temperature\": 1,\n",
        "        \"top_p\": 0.95,\n",
        "      }\n",
        "  )\n",
        "\n",
        "  # pass model, model input, and usage metrics to Langfuse\n",
        "  langfuse_context.update_current_observation(\n",
        "      input=input,\n",
        "      model=model_name,\n",
        "      usage_details={\n",
        "          \"input\": response.usage_metadata.prompt_token_count,\n",
        "          \"output\": response.usage_metadata.candidates_token_count,\n",
        "          \"total\": response.usage_metadata.total_token_count\n",
        "      }\n",
        "  )\n",
        "  return response.candidates[0].content.parts[0].text\n"
      ]
    },
    {
      "cell_type": "markdown",
      "metadata": {},
      "source": [
        "### Run example"
      ]
    },
    {
      "cell_type": "code",
      "execution_count": 7,
      "metadata": {
        "colab": {
          "base_uri": "https://localhost:8080/",
          "height": 52
        },
        "id": "6rHSBNOQgTOz",
        "outputId": "9cc0bafe-26af-4f71-daee-430ecc8e1b6a"
      },
      "outputs": [
        {
          "data": {
            "application/vnd.google.colaboratory.intrinsic+json": {
              "type": "string"
            },
            "text/plain": [
              "\"The Sun, a giant ball so near and bright,\\nIt casts its warmth and life-sustaining light,\\nSo vast in size it fills our sky with gold,\\nIts fiery furnace stories yet untold,\\nA tiny speck, our Earth, around it goes,\\nIn endless dance as planets should all know,\\nIts light and heat our very being feed,\\nWithout its grace we could never succeed. \\n\\nSo, Sun we thank you for your brilliance true, \\nAnd all you do, that's good and kind and new,\\nWe bask and breathe, you make our world so fair,\\nA glowing star, our Sun beyond compare.\\n\""
            ]
          },
          "execution_count": 7,
          "metadata": {},
          "output_type": "execute_result"
        }
      ],
      "source": [
        "@observe()\n",
        "def assemble_prompt():\n",
        "  return \"please generate a small poem adressing the size of the sun and its importance for humanity\"\n",
        "\n",
        "@observe()\n",
        "def poem():\n",
        "  prompt = assemble_prompt()\n",
        "  return vertex_generate_content(prompt)\n",
        "\n",
        "poem()"
      ]
    },
    {
      "cell_type": "markdown",
      "metadata": {
        "id": "_t0q_hTJ_eoS"
      },
      "source": [
        "See [example trace](https://cloud.langfuse.com/project/cloramnkj0002jz088vzn1ja4/traces/582ab430-6fa3-4842-b472-96d33e12cd5f?timestamp=2024-12-02T15%3A01%3A42.419Z) in Langfuse.\n",
        "\n",
        "![Trace in Langfuse](https://static.langfuse.com/cookbooks%2Fgoogle-vertex%2Fgoogle-vertex-decorator-trace.gif)"
      ]
    },
    {
      "cell_type": "markdown",
      "metadata": {
        "id": "Lpv5HciNNu8C"
      },
      "source": [
        "## Trace Vertex AI via Langchain\n",
        "\n",
        "Alternatively, you can use one of the native Langfuse integrations.\n",
        "\n",
        "Here, we'll use the [LangChain integration](https://langfuse.com/docs/integrations/langchain/tracing) to gain detailed traces of the LLM calls made to Google Vertex."
      ]
    },
    {
      "cell_type": "code",
      "execution_count": 4,
      "metadata": {
        "id": "nP96WDJqN02x"
      },
      "outputs": [],
      "source": [
        "# Intialize callback handler\n",
        "from langfuse.callback import CallbackHandler\n",
        "langfuse_handler = CallbackHandler()"
      ]
    },
    {
      "cell_type": "markdown",
      "metadata": {
        "id": "O2QCe6n5Vbqz"
      },
      "source": [
        "### Gemini Models"
      ]
    },
    {
      "cell_type": "code",
      "execution_count": 5,
      "metadata": {
        "colab": {
          "base_uri": "https://localhost:8080/",
          "height": 87
        },
        "id": "ZuWwPgsGL5Un",
        "outputId": "bd761b93-64cf-40ed-a146-33eda4327523"
      },
      "outputs": [
        {
          "data": {
            "application/vnd.google.colaboratory.intrinsic+json": {
              "type": "string"
            },
            "text/plain": [
              "\"## Pros of Python \\n\\n* **Easy to learn:** Python has a simple and elegant syntax, making it one of the easiest programming languages to learn, even for beginners. This makes it a popular choice for teaching programming concepts and for rapid prototyping.\\n* **Versatile:** Python is a general-purpose language, meaning it can be used for a wide range of tasks, from web development and data science to machine learning and game development. This versatility makes it a valuable tool for developers of all skill levels.\\n* **Large and active community:** Python has a large and active community of developers, which provides a wealth of resources, libraries, and support for users. This makes it easy to find help and inspiration when working on Python projects.\\n* **Extensive libraries:** Python has a vast collection of libraries and frameworks available for various tasks, including data analysis, web development, machine learning, and scientific computing. This makes it easier to find pre-built solutions for common problems, saving developers time and effort.\\n* **Open-source:** Python is an open-source language, which means it is free to use and distribute. This makes it accessible to everyone and allows developers to contribute to the language's development.\\n* **Portable:** Python code can run on a wide range of platforms, including Windows, macOS, Linux, and Unix. This makes it a portable language that can be used on different systems without modification.\\n* **Focus on readability:** Python's syntax is designed to be clear and readable, with a focus on using plain English keywords and a consistent style. This makes it easier to understand and maintain code, especially for collaborative projects.\\n\\n## Cons of Python\\n\\n* **Speed:** Python is an interpreted language, which means it is typically slower than compiled languages like C++ or Java. This can be a disadvantage for performance-critical applications.\\n* **Dynamic typing:** Python is a dynamically typed language, which means that variable types are not declared explicitly. This can lead to errors if a variable is used with an incorrect data type.\\n* **Limited memory management:** Python has automatic memory management, which can simplify development but can also lead to memory leaks if not used carefully.\\n* **Global Interpreter Lock (GIL):** The GIL is a feature of Python that prevents multiple threads from executing Python code simultaneously. This can limit the performance of Python applications in multi-core environments.\\n* **Maturity:** Although Python is a mature language, it is still evolving, and its libraries and frameworks can be subject to frequent changes and updates. This can make it challenging to maintain code over time.\\n\\n\\nOverall, Python is a powerful and versatile language with a wide range of uses. Its ease of use, large community, and extensive libraries make it a popular choice for many developers. However, its slower speed and dynamic typing can be limitations for certain applications.\""
            ]
          },
          "execution_count": 5,
          "metadata": {},
          "output_type": "execute_result"
        }
      ],
      "source": [
        "from langchain_google_vertexai import VertexAI\n",
        "\n",
        "model = VertexAI(model_name=\"gemini-pro\", project=PROJECT_ID)\n",
        "\n",
        "# pass langfuse_handler as callback to `invoke`\n",
        "model.invoke(\"What are some of the pros and cons of Python as a programming language?\", config={\"callbacks\": [langfuse_handler]})"
      ]
    },
    {
      "cell_type": "markdown",
      "metadata": {
        "id": "eio866WszKzL"
      },
      "source": [
        "See [example trace](https://cloud.langfuse.com/project/cloramnkj0002jz088vzn1ja4/traces/0a0381d9-e8b4-4478-b5c0-7a71dd5cd296?timestamp=2024-12-02T14%3A59%3A42.809Z) in Langfuse.\n",
        "\n",
        "![Trace](https://static.langfuse.com/cookbooks%2Fgoogle-vertex%2Flangchain-gemini-pro.png)"
      ]
    },
    {
      "cell_type": "markdown",
      "metadata": {
        "id": "ESZLj8B5WGz-"
      },
      "source": [
        "### Anthropic Models via Vertex Model Garden"
      ]
    },
    {
      "cell_type": "code",
      "execution_count": null,
      "metadata": {
        "id": "T21YXwLZWJTb"
      },
      "outputs": [],
      "source": [
        "from langchain_google_vertexai.model_garden import ChatAnthropicVertex\n",
        "\n",
        "model = ChatAnthropicVertex(\n",
        "    model_name=\"claude-3-haiku@20240307\",\n",
        "    project=PROJECT_ID\n",
        ")\n",
        "\n",
        "# pass langfuse_handler as callback to `invoke`\n",
        "model.invoke(\"What are some of the pros and cons of Python as a programming language?\", config={\"callbacks\": [langfuse_handler]})"
      ]
    },
    {
      "cell_type": "markdown",
      "metadata": {
        "id": "DHzSwszt12QV"
      },
      "source": [
        "See [example trace](https://cloud.langfuse.com/project/cloramnkj0002jz088vzn1ja4/traces/6cdcb1fb-b02f-4571-baee-bada0fa2719a?timestamp=2024-12-02T15%3A00%3A39.193Z) in Langfuse.\n",
        "\n",
        "![Trace in Langfuse](https://static.langfuse.com/cookbooks%2Fgoogle-vertex%2Flangchain-vertex-anthropic.png)"
      ]
    },
    {
      "cell_type": "markdown",
      "metadata": {},
      "source": [
        "## Can I monitor Google Vertex and Gemini cost and token usage in Langfuse?\n",
        "\n",
        "Yes, you can monitor cost and token usage of your Google Vertex and Gemini calls in Langfuse. The native integrations with LLM application frameworks and the LiteLLM proxy will automatically report token usage to Langfuse.\n",
        "\n",
        "If you use the Langfuse decorator or the low-level Python SDK, you can [report](https://langfuse.com/docs/model-usage-and-cost) token usage and (optionally) also cost information directly. See example above for details.\n",
        "\n",
        "You can define custom price information via the Langfuse dashboard or UI ([see docs](https://langfuse.com/docs/model-usage-and-cost)) to adjust to the exact pricing of your models on Google Vertex and Gemini."
      ]
    }
  ],
  "metadata": {
    "colab": {
      "provenance": []
    },
    "kernelspec": {
      "display_name": "Python 3",
      "name": "python3"
    },
    "language_info": {
      "name": "python"
    }
  },
  "nbformat": 4,
  "nbformat_minor": 0
}

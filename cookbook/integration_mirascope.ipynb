{
  "cells": [
    {
      "cell_type": "markdown",
      "metadata": {
        "id": "oWgwstPBqiJP"
      },
      "source": [
        "---\n",
        "description: Cookbook with examples of the Langfuse Integration for Mirascope (Python).\n",
        "category: Integrations\n",
        "---\n",
        "\n",
        "# Cookbook: Mirascope x Langfuse Observability\n",
        "\n",
        "[Mirascope](https://www.mirascope.io/) is a Python toolkit for building with LLMs. It allows devs to write Pythonic code while profiting from its abstractions to common LLM use cases and models.\n",
        "\n",
        "[Langfuse](https://langfuse.com/docs) is an open source LLM engineering platform. Traces, evals, prompt management and metrics to debug and improve your LLM application.\n",
        "\n",
        "With the [Langfuse <-> Mirascope integration](https://langfuse.com/docs/integrations/mirascope), you can log your application to Langfuse by adding the `@with_langfuse` decorator.\n",
        "\n",
        "Let's dive right in with some examples:"
      ]
    },
    {
      "cell_type": "code",
      "execution_count": null,
      "metadata": {
        "colab": {
          "base_uri": "https://localhost:8080/"
        },
        "id": "S3PsmedXPfRb",
        "outputId": "864c38c2-2234-4f91-dbc3-92ce8dde423e"
      },
      "outputs": [],
      "source": [
        "# Install Mirascope and Langfuse\n",
        "%pip install \"mirascope[langfuse]\""
      ]
    },
    {
      "cell_type": "code",
      "execution_count": 2,
      "metadata": {
        "id": "k_HOC3bzgG5u"
      },
      "outputs": [],
      "source": [
        "import os\n",
        "\n",
        "# Get keys for your project from the project settings page\n",
        "# https://cloud.langfuse.com\n",
        "os.environ[\"LANGFUSE_SECRET_KEY\"] = \"sk-...\"\n",
        "os.environ[\"LANGFUSE_PUBLIC_KEY\"] = \"pk-...\"\n",
        "os.environ[\"LANGFUSE_HOST\"] = \"https://cloud.langfuse.com\" # 🇪🇺 EU region\n",
        "# os.environ[\"LANGFUSE_HOST\"] = \"https://us.cloud.langfuse.com\" # 🇺🇸 US region\n",
        "\n",
        "# Your openai key\n",
        "os.environ[\"OPENAI_API_KEY\"] = \"sk-...\""
      ]
    },
    {
      "cell_type": "markdown",
      "metadata": {
        "id": "vbNfTv2ZpNnl"
      },
      "source": [
        "## Log a first simple call"
      ]
    },
    {
      "cell_type": "code",
      "execution_count": 6,
      "metadata": {
        "colab": {
          "base_uri": "https://localhost:8080/"
        },
        "id": "vkhWieQqQ0V0",
        "outputId": "f3f67311-c314-40ec-debf-b14f792bade9"
      },
      "outputs": [
        {
          "name": "stdout",
          "output_type": "stream",
          "text": [
            "I recommend **\"The House in the Cerulean Sea\" by TJ Klune**. It's a heartwarming fantasy that follows Linus Baker, a caseworker for magical children, who is sent on a special assignment to a mysterious orphanage. There, he discovers unique and lovable characters and confronts themes of acceptance, found family, and the importance of love and kindness. The book combines whimsy, humor, and poignant moments, making it a delightful read for fantasy lovers.\n"
          ]
        }
      ],
      "source": [
        "from mirascope.integrations.langfuse import with_langfuse\n",
        "from mirascope.core import openai, prompt_template\n",
        "\n",
        "@with_langfuse()\n",
        "@openai.call(\"gpt-4o-mini\")\n",
        "@prompt_template(\"Recommend a {genre} book\")\n",
        "def recommend_book(genre: str):\n",
        "    ...\n",
        "\n",
        "response = recommend_book(\"fantasy\")\n",
        "print(response.content)"
      ]
    },
    {
      "cell_type": "markdown",
      "metadata": {
        "id": "fb6VXNG-KDIb"
      },
      "source": [
        "[**Example trace**](https://cloud.langfuse.com/project/cloramnkj0002jz088vzn1ja4/traces/84bbb50e-aebc-424a-ae8a-e1012914d46b)\n",
        "\n",
        "![Trace of simple Mirascope execution in Langfuse](https://langfuse.com/images/cookbook/integration_mirascope_simple.png)"
      ]
    },
    {
      "cell_type": "markdown",
      "metadata": {
        "id": "-gTt8qBAqdUZ"
      },
      "source": [
        "## Let's use it together with the Langfuse decorator\n",
        "\n",
        "We'll use\n",
        "- Mirascope's `@with_langfuse()` decorator to log the generation\n",
        "- and Langfuse default [`@observe()` decorator](https://langfuse.com/docs/sdk/python/decorators) which works with any Python function to observe the `generate_facts` function and group the generations into a single trace."
      ]
    },
    {
      "cell_type": "code",
      "execution_count": 41,
      "metadata": {},
      "outputs": [
        {
          "name": "stdout",
          "output_type": "stream",
          "text": [
            "Sure! Frogs can breathe through their skin, allowing them to absorb oxygen and release carbon dioxide directly into and out of their bloodstream. This process is known as cutaneous respiration.\n",
            "Some species of frogs can absorb water through their skin, meaning they don't need to drink water with their mouths.\n",
            "Frogs can breathe through their skin! This adaptation allows them to absorb oxygen directly from water, which is especially useful when they're submerged.\n"
          ]
        }
      ],
      "source": [
        "from mirascope.integrations.langfuse import with_langfuse\n",
        "from mirascope.core import openai, prompt_template\n",
        "\n",
        "@with_langfuse()\n",
        "@openai.call(\"gpt-4o\")\n",
        "@prompt_template(\"Give me one short random fact about {name}\")\n",
        "def random_fact(name: str):\n",
        "    ...\n",
        "\n",
        "@observe()\n",
        "def generate_facts(number_of_facts: int):\n",
        "    for i in range(number_of_facts):\n",
        "        response = random_fact(f\"frogs\")\n",
        "        print(response.content)\n",
        "\n",
        "generate_facts(3)"
      ]
    },
    {
      "cell_type": "markdown",
      "metadata": {
        "id": "lL8LNzRFr4eW"
      },
      "source": [
        "Head over to the Langfuse Traces table [in Langfuse Cloud](https://cloud.langfuse.com ) to see the entire chat history, token counts, cost, model, latencies and more\n",
        "\n",
        "[**Example trace**](https://cloud.langfuse.com/project/cloramnkj0002jz088vzn1ja4/traces/71eba8c4-3088-4af2-8d35-5b19d668d6aa)\n",
        "\n",
        "![Trace of complex Mirascope execution in Langfuse](https://langfuse.com/images/cookbook/integration_mirascope_complex.png)"
      ]
    },
    {
      "cell_type": "markdown",
      "metadata": {
        "id": "sgNkqrAZsOnj"
      },
      "source": [
        "## That's a wrap.\n",
        "\n",
        "There's a lot more you can do:\n",
        "\n",
        "- **Mirascope**: Head over to [their docs](https://docs.mirascope.io/latest/) to learn more about what you can do with the framework.\n",
        "- **Langfuse**: Have a look at Evals, Datasets, Prompt Management to start exploring [all that Langfuse can do](https://langfuse.com/docs)."
      ]
    }
  ],
  "metadata": {
    "colab": {
      "provenance": []
    },
    "kernelspec": {
      "display_name": "Python 3",
      "name": "python3"
    },
    "language_info": {
      "codemirror_mode": {
        "name": "ipython",
        "version": 3
      },
      "file_extension": ".py",
      "mimetype": "text/x-python",
      "name": "python",
      "nbconvert_exporter": "python",
      "pygments_lexer": "ipython3",
      "version": "3.12.4"
    }
  },
  "nbformat": 4,
  "nbformat_minor": 0
}

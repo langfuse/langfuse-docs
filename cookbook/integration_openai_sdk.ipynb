{
 "cells": [
  {
   "cell_type": "markdown",
   "metadata": {
    "id": "Ki7E44X5ViQB"
   },
   "source": [
    "---\n",
    "description: Drop-in replacement of OpenAI SDK to get full observability in Langfuse by changing only the import\n",
    "category: Integrations\n",
    "---"
   ]
  },
  {
   "cell_type": "markdown",
   "metadata": {
    "id": "mfMAzJYcirtK"
   },
   "source": [
    "# Cookbook: OpenAI Integration (Python)"
   ]
  },
  {
   "cell_type": "markdown",
   "metadata": {
    "id": "B0A389k2irtK"
   },
   "source": [
    "This is a cookbook with examples of the Langfuse Integration for OpenAI (Python).\n",
    "\n",
    "Follow the [integration guide](https://langfuse.com/docs/integrations/openai/get-started) to add this integration to your OpenAI project."
   ]
  },
  {
   "cell_type": "markdown",
   "metadata": {
    "id": "Uq04G_FSWjF-"
   },
   "source": [
    "## Setup"
   ]
  },
  {
   "cell_type": "markdown",
   "metadata": {
    "id": "XYoil3FcOIQt"
   },
   "source": [
    "The integration is compatible with OpenAI SDK versions `>=0.27.8`. It supports async functions and streaming for OpenAI SDK versions `>=1.0.0`."
   ]
  },
  {
   "cell_type": "code",
   "execution_count": null,
   "metadata": {
    "id": "hVOOiBtUPtOO"
   },
   "outputs": [],
   "source": [
    "%pip install langfuse openai --upgrade"
   ]
  },
  {
   "cell_type": "code",
   "execution_count": 2,
   "metadata": {
    "id": "7-s-hY3PPupC"
   },
   "outputs": [],
   "source": [
    "import os\n",
    "\n",
    "# get keys for your project from https://cloud.langfuse.com\n",
    "os.environ[\"LANGFUSE_PUBLIC_KEY\"] = \"\"\n",
    "os.environ[\"LANGFUSE_SECRET_KEY\"] = \"\"\n",
    "\n",
    "# your openai key\n",
    "os.environ[\"OPENAI_API_KEY\"] = \"\"\n",
    "\n",
    "# Your host, defaults to https://cloud.langfuse.com\n",
    "# For US data region, set to \"https://us.cloud.langfuse.com\"\n",
    "# os.environ[\"LANGFUSE_HOST\"] = \"http://localhost:3000\""
   ]
  },
  {
   "cell_type": "code",
   "execution_count": 4,
   "metadata": {
    "id": "ldSEJ0bAP4sj"
   },
   "outputs": [],
   "source": [
    "# instead of: import openai\n",
    "from langfuse.openai import openai"
   ]
  },
  {
   "cell_type": "code",
   "execution_count": null,
   "metadata": {
    "id": "G8qkHd8oK_o9"
   },
   "outputs": [],
   "source": [
    "# For debugging, checks the SDK connection with the server. Do not use in production as it adds latency.\n",
    "openai.langfuse_auth_check()"
   ]
  },
  {
   "cell_type": "markdown",
   "metadata": {
    "id": "2ovnAAdbaLmD"
   },
   "source": [
    "## Examples\n",
    "\n",
    "### Chat completion (text)"
   ]
  },
  {
   "cell_type": "code",
   "execution_count": null,
   "metadata": {
    "id": "c8RhokKUP9I0"
   },
   "outputs": [],
   "source": [
    "completion = openai.chat.completions.create(\n",
    "  name=\"test-chat\",\n",
    "  model=\"gpt-3.5-turbo\",\n",
    "  messages=[\n",
    "      {\"role\": \"system\", \"content\": \"You are a very accurate calculator. You output only the result of the calculation.\"},\n",
    "      {\"role\": \"user\", \"content\": \"1 + 1 = \"}],\n",
    "  temperature=0,\n",
    "  metadata={\"someMetadataKey\": \"someValue\"},\n",
    ")"
   ]
  },
  {
   "cell_type": "markdown",
   "metadata": {
    "id": "SAqxBgOqKTzO"
   },
   "source": [
    "### Chat completion (image)\n",
    "\n",
    "Simple example using the OpenAI vision's functionality. Images may be passed in the `user` messages. \n",
    "\n",
    "Langfuse supports images passed via link. No support for base64 encoded images yet, see [roadmap](https://langfuse.com/docs/roadmap) for details."
   ]
  },
  {
   "cell_type": "code",
   "execution_count": null,
   "metadata": {},
   "outputs": [],
   "source": [
    "completion = openai.chat.completions.create(\n",
    "  name=\"test-url-image\",\n",
    "  model=\"gpt-4o-mini\", # GPT-4o, GPT-4o mini, and GPT-4 Turbo have vision capabilities\n",
    "  messages=[\n",
    "      {\"role\": \"system\", \"content\": \"You are an AI trained to describe and interpret images. Describe the main objects and actions in the image.\"},\n",
    "      {\"role\": \"user\", \"content\": [\n",
    "        {\"type\": \"text\", \"text\": \"What’s depicted in this image?\"},\n",
    "        {\n",
    "          \"type\": \"image_url\",\n",
    "          \"image_url\": {\n",
    "            \"url\": \"https://static.langfuse.com/langfuse-dev/langfuse-example-image.jpeg\",\n",
    "          },\n",
    "        },\n",
    "      ],\n",
    "    }\n",
    "  ],\n",
    "  temperature=0,\n",
    "  metadata={\"someMetadataKey\": \"someValue\"},\n",
    ")"
   ]
  },
  {
   "cell_type": "markdown",
   "metadata": {
    "id": "M4iJpqYQirtM"
   },
   "source": [
    "Go to https://cloud.langfuse.com or your own instance to see your generation.\n",
    "\n",
    "![Chat completion](https://langfuse.com/images/docs/multi-modal-trace.png)"
   ]
  },
  {
   "cell_type": "markdown",
   "metadata": {},
   "source": [
    "### Chat completion (streaming)\n",
    "\n",
    "Simple example using the OpenAI streaming functionality."
   ]
  },
  {
   "cell_type": "code",
   "execution_count": null,
   "metadata": {
    "id": "b9gRlb2rKTaA"
   },
   "outputs": [],
   "source": [
    "completion = openai.chat.completions.create(\n",
    "  name=\"test-chat\",\n",
    "  model=\"gpt-3.5-turbo\",\n",
    "  messages=[\n",
    "      {\"role\": \"system\", \"content\": \"You are a professional comedian.\"},\n",
    "      {\"role\": \"user\", \"content\": \"Tell me a joke.\"}],\n",
    "  temperature=0,\n",
    "  metadata={\"someMetadataKey\": \"someValue\"},\n",
    "  stream=True\n",
    ")\n",
    "\n",
    "for chunk in completion:\n",
    "  print(chunk.choices[0].delta.content, end=\"\")"
   ]
  },
  {
   "cell_type": "markdown",
   "metadata": {
    "id": "F2pvm0qLKg7Q"
   },
   "source": [
    "### Chat completion (async)\n",
    "\n",
    "Simple example using the OpenAI async client. It takes the Langfuse configurations either from the environment variables or from the attributes on the `openai` module."
   ]
  },
  {
   "cell_type": "code",
   "execution_count": null,
   "metadata": {
    "id": "Hggwggv_MKpV"
   },
   "outputs": [],
   "source": [
    "from langfuse.openai import AsyncOpenAI\n",
    "\n",
    "async_client = AsyncOpenAI()"
   ]
  },
  {
   "cell_type": "code",
   "execution_count": null,
   "metadata": {
    "id": "ZIUKD8Z3KmvQ"
   },
   "outputs": [],
   "source": [
    "completion = await async_client.chat.completions.create(\n",
    "  name=\"test-chat\",\n",
    "  model=\"gpt-3.5-turbo\",\n",
    "  messages=[\n",
    "      {\"role\": \"system\", \"content\": \"You are a very accurate calculator. You output only the result of the calculation.\"},\n",
    "      {\"role\": \"user\", \"content\": \"1 + 100 = \"}],\n",
    "  temperature=0,\n",
    "  metadata={\"someMetadataKey\": \"someValue\"},\n",
    ")"
   ]
  },
  {
   "cell_type": "markdown",
   "metadata": {
    "id": "M4iJpqYQirtM"
   },
   "source": [
    "Go to https://cloud.langfuse.com or your own instance to see your generation.\n",
    "\n",
    "![Chat completion](https://langfuse.com/images/docs/openai-chat.png)"
   ]
  },
  {
   "cell_type": "markdown",
   "metadata": {
    "id": "ky7CtCNzaSrn"
   },
   "source": [
    "### Functions\n",
    "\n",
    "Simple example using Pydantic to generate the function schema."
   ]
  },
  {
   "cell_type": "code",
   "execution_count": null,
   "metadata": {
    "id": "jJfBdHowaRgs"
   },
   "outputs": [],
   "source": [
    "%pip install pydantic --upgrade"
   ]
  },
  {
   "cell_type": "code",
   "execution_count": null,
   "metadata": {
    "id": "2gA-zGk7VYYp"
   },
   "outputs": [],
   "source": [
    "from typing import List\n",
    "from pydantic import BaseModel\n",
    "\n",
    "class StepByStepAIResponse(BaseModel):\n",
    "    title: str\n",
    "    steps: List[str]\n",
    "schema = StepByStepAIResponse.schema() # returns a dict like JSON schema"
   ]
  },
  {
   "cell_type": "code",
   "execution_count": null,
   "metadata": {
    "id": "ORtNcN4-afDC"
   },
   "outputs": [],
   "source": [
    "import json\n",
    "response = openai.chat.completions.create(\n",
    "    name=\"test-function\",\n",
    "    model=\"gpt-3.5-turbo-0613\",\n",
    "    messages=[\n",
    "       {\"role\": \"user\", \"content\": \"Explain how to assemble a PC\"}\n",
    "    ],\n",
    "    functions=[\n",
    "        {\n",
    "          \"name\": \"get_answer_for_user_query\",\n",
    "          \"description\": \"Get user answer in series of steps\",\n",
    "          \"parameters\": StepByStepAIResponse.schema()\n",
    "        }\n",
    "    ],\n",
    "    function_call={\"name\": \"get_answer_for_user_query\"}\n",
    ")\n",
    "\n",
    "output = json.loads(response.choices[0].message.function_call.arguments)"
   ]
  },
  {
   "cell_type": "markdown",
   "metadata": {
    "id": "qurrm-Ntp24O"
   },
   "source": [
    "Go to https://cloud.langfuse.com or your own instance to see your generation.\n",
    "\n",
    "![Function](https://langfuse.com/images/docs/openai-function.png)\n"
   ]
  },
  {
   "cell_type": "markdown",
   "metadata": {},
   "source": [
    "## AzureOpenAI\n",
    "\n",
    "The integration also works with the `AzureOpenAI` and `AsyncAzureOpenAI` classes."
   ]
  },
  {
   "cell_type": "code",
   "execution_count": null,
   "metadata": {},
   "outputs": [],
   "source": [
    "AZURE_OPENAI_KEY=\"\"\n",
    "AZURE_ENDPOINT=\"\"\n",
    "AZURE_DEPLOYMENT_NAME=\"cookbook-gpt-4o-mini\" # example deployment name"
   ]
  },
  {
   "cell_type": "code",
   "execution_count": null,
   "metadata": {},
   "outputs": [],
   "source": [
    "# instead of: from openai import AzureOpenAI\n",
    "from langfuse.openai import AzureOpenAI"
   ]
  },
  {
   "cell_type": "code",
   "execution_count": null,
   "metadata": {},
   "outputs": [],
   "source": [
    "client = AzureOpenAI(\n",
    "    api_key=AZURE_OPENAI_KEY,  \n",
    "    api_version=\"2023-03-15-preview\",\n",
    "    azure_endpoint=AZURE_ENDPOINT\n",
    ")"
   ]
  },
  {
   "cell_type": "code",
   "execution_count": null,
   "metadata": {},
   "outputs": [],
   "source": [
    "client.chat.completions.create(\n",
    "  name=\"test-chat-azure-openai\",\n",
    "  model=AZURE_DEPLOYMENT_NAME, # deployment name\n",
    "  messages=[\n",
    "      {\"role\": \"system\", \"content\": \"You are a very accurate calculator. You output only the result of the calculation.\"},\n",
    "      {\"role\": \"user\", \"content\": \"1 + 1 = \"}],\n",
    "  temperature=0,\n",
    "  metadata={\"someMetadataKey\": \"someValue\"},\n",
    ")"
   ]
  },
  {
   "cell_type": "markdown",
   "metadata": {},
   "source": [
    "Example trace: https://cloud.langfuse.com/project/cloramnkj0002jz088vzn1ja4/traces/7ceb3ee3-0f2a-4f36-ad11-87ff636efd1e"
   ]
  },
  {
   "cell_type": "markdown",
   "metadata": {
    "id": "Su1OaQq3rPPh"
   },
   "source": [
    "## Group multiple generations into a single trace\n",
    "\n",
    "Many applications require more than one OpenAI call. The `@observe()` decorator allows to nest all LLM calls of a single API invocation into the same `trace` in Langfuse."
   ]
  },
  {
   "cell_type": "code",
   "execution_count": null,
   "metadata": {
    "id": "zMDVxzS1ltWU"
   },
   "outputs": [],
   "source": [
    "from langfuse.openai import openai\n",
    "from langfuse.decorators import observe\n",
    "\n",
    "@observe() # decorator to automatically create trace and nest generations\n",
    "def main(country: str, user_id: str, **kwargs) -> str:\n",
    "    # nested generation 1: use openai to get capital of country\n",
    "    capital = openai.chat.completions.create(\n",
    "      name=\"geography-teacher\",\n",
    "      model=\"gpt-3.5-turbo\",\n",
    "      messages=[\n",
    "          {\"role\": \"system\", \"content\": \"You are a Geography teacher helping students learn the capitals of countries. Output only the capital when being asked.\"},\n",
    "          {\"role\": \"user\", \"content\": country}],\n",
    "      temperature=0,\n",
    "    ).choices[0].message.content\n",
    "\n",
    "    # nested generation 2: use openai to write poem on capital\n",
    "    poem = openai.chat.completions.create(\n",
    "      name=\"poet\",\n",
    "      model=\"gpt-3.5-turbo\",\n",
    "      messages=[\n",
    "          {\"role\": \"system\", \"content\": \"You are a poet. Create a poem about a city.\"},\n",
    "          {\"role\": \"user\", \"content\": capital}],\n",
    "      temperature=1,\n",
    "      max_tokens=200,\n",
    "    ).choices[0].message.content\n",
    "\n",
    "    return poem\n",
    "\n",
    "# run main function and let Langfuse decorator do the rest\n",
    "print(main(\"Bulgaria\", \"admin\"))"
   ]
  },
  {
   "cell_type": "markdown",
   "metadata": {
    "id": "Ehx2NZuIrPPh"
   },
   "source": [
    "Go to https://cloud.langfuse.com or your own instance to see your trace.\n",
    "\n",
    "![Trace with multiple OpenAI calls](https://langfuse.com/images/docs/openai-trace-grouped.png)"
   ]
  },
  {
   "cell_type": "markdown",
   "metadata": {
    "id": "-HeMqTWgK4xL"
   },
   "source": [
    "## Fully featured: Interoperability with Langfuse SDK\n",
    "\n",
    "The `trace` is a core object in Langfuse and you can add rich metadata to it. See [Python SDK docs](https://langfuse.com/docs/sdk/python#traces-1) for full documentation on this.\n",
    "\n",
    "Some of the functionality enabled by custom traces:\n",
    "- custom name to identify a specific trace-type\n",
    "- user-level tracking\n",
    "- experiment tracking via versions and releases\n",
    "- custom metadata"
   ]
  },
  {
   "cell_type": "code",
   "execution_count": null,
   "metadata": {
    "id": "28to65wpK4xL"
   },
   "outputs": [],
   "source": [
    "from langfuse.openai import openai\n",
    "from langfuse.decorators import langfuse_context, observe\n",
    "\n",
    "@observe() # decorator to automatically create trace and nest generations\n",
    "def main(country: str, user_id: str, **kwargs) -> str:\n",
    "    # nested generation 1: use openai to get capital of country\n",
    "    capital = openai.chat.completions.create(\n",
    "      name=\"geography-teacher\",\n",
    "      model=\"gpt-3.5-turbo\",\n",
    "      messages=[\n",
    "          {\"role\": \"system\", \"content\": \"You are a Geography teacher helping students learn the capitals of countries. Output only the capital when being asked.\"},\n",
    "          {\"role\": \"user\", \"content\": country}],\n",
    "      temperature=0,\n",
    "    ).choices[0].message.content\n",
    "\n",
    "    # nested generation 2: use openai to write poem on capital\n",
    "    poem = openai.chat.completions.create(\n",
    "      name=\"poet\",\n",
    "      model=\"gpt-3.5-turbo\",\n",
    "      messages=[\n",
    "          {\"role\": \"system\", \"content\": \"You are a poet. Create a poem about a city.\"},\n",
    "          {\"role\": \"user\", \"content\": capital}],\n",
    "      temperature=1,\n",
    "      max_tokens=200,\n",
    "    ).choices[0].message.content\n",
    "\n",
    "    # rename trace and set attributes (e.g., medatata) as needed\n",
    "    langfuse_context.update_current_trace(\n",
    "        name=\"City poem generator\",\n",
    "        session_id=\"1234\",\n",
    "        user_id=user_id,\n",
    "        tags=[\"tag1\", \"tag2\"],\n",
    "        public=True,\n",
    "        metadata = {\n",
    "        \"env\": \"development\",\n",
    "        },\n",
    "        release = \"v0.0.21\"\n",
    "    )\n",
    "\n",
    "    return poem\n",
    "\n",
    "# create random trace_id, could also use existing id from your application, e.g. conversation id\n",
    "trace_id = str(uuid4())\n",
    "\n",
    "# run main function, set your own id, and let Langfuse decorator do the rest\n",
    "print(main(\"Bulgaria\", \"admin\", langfuse_observation_id=trace_id))"
   ]
  },
  {
   "cell_type": "markdown",
   "metadata": {
    "id": "O3jxed-VrPPi"
   },
   "source": [
    "## Programmatically add scores"
   ]
  },
  {
   "cell_type": "markdown",
   "metadata": {
    "id": "uMO6tn53rPPi"
   },
   "source": [
    "You can add [scores](https://langfuse.com/docs/scores) to the trace, to e.g. record user feedback or some programmatic evaluation. Scores are used throughout Langfuse to filter traces and on the dashboard. See the docs on scores for more details.\n",
    "\n",
    "The score is associated to the trace using the `trace_id`."
   ]
  },
  {
   "cell_type": "code",
   "execution_count": null,
   "metadata": {
    "id": "J0argbJhrPPi"
   },
   "outputs": [],
   "source": [
    "from langfuse import Langfuse\n",
    "from langfuse.decorators import langfuse_context, observe\n",
    "\n",
    "langfuse = Langfuse()\n",
    "\n",
    "@observe() # decorator to automatically create trace and nest generations\n",
    "def main():\n",
    "    # get trace_id of current trace\n",
    "    trace_id = langfuse_context.get_current_trace_id()\n",
    "\n",
    "    # rest of your application ...\n",
    "\n",
    "    return \"res\", trace_id\n",
    "\n",
    "# execute the main function to generate a trace\n",
    "_, trace_id = main()\n",
    "\n",
    "# Score the trace from outside the trace context\n",
    "langfuse.score(\n",
    "    trace_id=trace_id,\n",
    "    name=\"my-score-name\",\n",
    "    value=1\n",
    ")"
   ]
  }
 ],
 "metadata": {
  "colab": {
   "provenance": []
  },
  "kernelspec": {
   "display_name": "Python 3 (ipykernel)",
   "language": "python",
   "name": "python3"
  },
  "language_info": {
   "codemirror_mode": {
    "name": "ipython",
    "version": 3
   },
   "file_extension": ".py",
   "mimetype": "text/x-python",
   "name": "python",
   "nbconvert_exporter": "python",
   "pygments_lexer": "ipython3",
   "version": "3.9.18"
  }
 },
 "nbformat": 4,
 "nbformat_minor": 4
}

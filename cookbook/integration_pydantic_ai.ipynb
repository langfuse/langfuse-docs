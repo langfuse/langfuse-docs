{
  "cells": [
    {
      "cell_type": "markdown",
      "metadata": {},
      "source": [
        "---\n",
        "description: Open Source Observability for Pydantic AI. Example cookbook for the Pydantic AI Langfuse integration using OpenTelemetry.\n",
        "category: Integrations\n",
        "---\n",
        "\n",
        "# Pydantic AI Integration via OpenTelemetry"
      ]
    },
    {
      "cell_type": "code",
      "execution_count": null,
      "metadata": {
        "colab": {
          "base_uri": "https://localhost:8080/",
          "height": 1000
        },
        "id": "p7zqVoQVAzii",
        "outputId": "69c960b8-7645-42ee-ce2c-a615653678e1"
      },
      "outputs": [],
      "source": [
        "%pip install pydantic-ai[logfire]"
      ]
    },
    {
      "cell_type": "code",
      "execution_count": 1,
      "metadata": {
        "id": "Vhj-dTnXBii3"
      },
      "outputs": [],
      "source": [
        "import os\n",
        "import base64\n",
        "\n",
        "LANGFUSE_PUBLIC_KEY=\"\"\n",
        "LANGFUSE_SECRET_KEY=\"\"\n",
        "LANGFUSE_AUTH=base64.b64encode(f\"{LANGFUSE_PUBLIC_KEY}:{LANGFUSE_SECRET_KEY}\".encode()).decode()\n",
        "\n",
        "os.environ[\"OTEL_EXPORTER_OTLP_ENDPOINT\"] = \"https://cloud.langfuse.com/api/public/otel\" # EU data region\n",
        "# os.environ[\"OTEL_EXPORTER_OTLP_ENDPOINT\"] = \"https://us.cloud.langfuse.com/api/public/otel\" # US data region\n",
        "os.environ[\"OTEL_EXPORTER_OTLP_HEADERS\"] = f\"Authorization=Basic {LANGFUSE_AUTH}\"\n",
        "\n",
        "# your openai key\n",
        "os.environ[\"OPENAI_API_KEY\"] = \"\""
      ]
    },
    {
      "cell_type": "code",
      "execution_count": 2,
      "metadata": {
        "id": "mYU7iIWACUyC"
      },
      "outputs": [],
      "source": [
        "import nest_asyncio\n",
        "nest_asyncio.apply()"
      ]
    },
    {
      "cell_type": "code",
      "execution_count": null,
      "metadata": {
        "colab": {
          "base_uri": "https://localhost:8080/"
        },
        "id": "ysE9xblmBv2V",
        "outputId": "80168afd-6470-4cb1-8cb4-d4a0ae59c85e"
      },
      "outputs": [],
      "source": [
        "import logfire\n",
        "\n",
        "logfire.configure(\n",
        "    service_name='my_logfire_service',\n",
        "\n",
        "    # Sending to Logfire is on by default regardless of the OTEL env vars.\n",
        "    send_to_logfire=False,\n",
        ")"
      ]
    },
    {
      "cell_type": "code",
      "execution_count": 4,
      "metadata": {
        "id": "ozWO44i8AxV3"
      },
      "outputs": [],
      "source": [
        "from pydantic_ai import Agent, RunContext\n",
        "\n",
        "roulette_agent = Agent(\n",
        "    'openai:gpt-4o',\n",
        "    deps_type=int,\n",
        "    result_type=bool,\n",
        "    system_prompt=(\n",
        "        'Use the `roulette_wheel` function to see if the '\n",
        "        'customer has won based on the number they provide.'\n",
        "    ),\n",
        ")\n",
        "\n",
        "\n",
        "@roulette_agent.tool\n",
        "async def roulette_wheel(ctx: RunContext[int], square: int) -> str:\n",
        "    \"\"\"check if the square is a winner\"\"\"\n",
        "    return 'winner' if square == ctx.deps else 'loser'"
      ]
    },
    {
      "cell_type": "code",
      "execution_count": null,
      "metadata": {
        "colab": {
          "base_uri": "https://localhost:8080/"
        },
        "id": "V4Ic6U7DB7vO",
        "outputId": "756da737-7c58-4c46-a578-941815ca5d2a"
      },
      "outputs": [],
      "source": [
        "# Run the agent\n",
        "success_number = 18\n",
        "result = roulette_agent.run_sync('Put my money on square eighteen', deps=success_number)\n",
        "print(result.data)"
      ]
    },
    {
      "cell_type": "markdown",
      "metadata": {
        "id": "qXjZqGq6tUso"
      },
      "source": [
        "[Example trace](https://cloud.langfuse.com/project/cloramnkj0002jz088vzn1ja4/traces/0194c8b3c1fbb67529f717d4009a310b?timestamp=2025-02-02T22%3A06%3A51.387Z)\n",
        "\n",
        "![Pydantic AI OpenAI Trace](https://langfuse.com/images/cookbook/otel-integration-pydantic-ai/pydanticai-openai-trace-tree.png)"
      ]
    },
    {
      "cell_type": "code",
      "execution_count": null,
      "metadata": {
        "colab": {
          "base_uri": "https://localhost:8080/"
        },
        "id": "851sPORkCKQl",
        "outputId": "327666e0-5f34-48d6-b2f4-2e9f773f8c1f"
      },
      "outputs": [],
      "source": [
        "result = roulette_agent.run_sync('I bet five is the winner', deps=success_number)\n",
        "print(result.data)"
      ]
    },
    {
      "cell_type": "markdown",
      "metadata": {
        "id": "zRvogldEta2f"
      },
      "source": [
        "[Example trace](https://cloud.langfuse.com/project/cloramnkj0002jz088vzn1ja4/traces/0194c8b3d11a9a66859edb3fade14760?timestamp=2025-02-02T22%3A06%3A55.258Z)"
      ]
    }
  ],
  "metadata": {
    "colab": {
      "provenance": []
    },
    "kernelspec": {
      "display_name": "Python 3",
      "name": "python3"
    },
    "language_info": {
      "name": "python"
    }
  },
  "nbformat": 4,
  "nbformat_minor": 0
}

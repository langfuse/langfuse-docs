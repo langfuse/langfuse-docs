## 1) Install

Use a clean virtualenv.

```bash
%pip install -U "openai-agents" "temporalio[opentelemetry]" "langfuse" "openinference-instrumentation-openai-agents"
```## What you will build

- A Temporal workflow that runs an OpenAI Agent
- A preflight activity with retry/backoff
- A human approval signal with timeout fallback
- OpenTelemetry spans exported to Langfuse<!-- NOTEBOOK_METADATA source: "⚠️ Jupyter Notebook" title: "Temporal + OpenAI Agents SDK" sidebarTitle: "Temporal + OpenAI Agents" logo: "/images/integrations/openai_icon.svg" description: "Trace Temporal workflows and OpenAI Agents with OpenTelemetry and view spans in Langfuse." category: "Integrations" -->

# Temporal + OpenAI Agents SDK with Langfuse (OTel)

Trace durable agents with Temporal and OpenAI Agents. Export spans via OpenTelemetry to Langfuse. Includes a retrying preflight and an approval signal.
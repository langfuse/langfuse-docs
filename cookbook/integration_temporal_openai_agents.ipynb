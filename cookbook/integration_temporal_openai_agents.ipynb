## 3) Initialize Langfuse + instrument OpenAI Agentsimport os

# Langfuse (choose EU or US host)
os.environ["LANGFUSE_PUBLIC_KEY"] = "pk-lf-..."
os.environ["LANGFUSE_SECRET_KEY"] = "sk-lf-..."
os.environ["LANGFUSE_HOST"] = "https://cloud.langfuse.com"  # EU
# os.environ["LANGFUSE_HOST"] = "https://us.cloud.langfuse.com"  # US

# OpenAI
os.environ["OPENAI_API_KEY"] = "sk-..."

# Temporal
os.environ["TEMPORAL_ADDRESS"] = "localhost:7233"
os.environ["TEMPORAL_NAMESPACE"] = "default"
os.environ["TEMPORAL_TASK_QUEUE"] = "agents-task-queue"## 2) Configure environment

Set keys and Temporal config.## What you will build

- Temporal workflow runs one OpenAI Agent
- Preflight activity with retry/backoff
- OpenTelemetry spans exported to Langfuse## 1) Install

Use a clean virtualenv.

```bash
%pip install -U "openai-agents" "temporalio[opentelemetry]" "langfuse" "openinference-instrumentation-openai-agents"
```## What you will build

- A Temporal workflow that runs an OpenAI Agent
- A preflight activity with retry/backoff
- A human approval signal with timeout fallback
- OpenTelemetry spans exported to Langfuse<!-- NOTEBOOK_METADATA source: "⚠️ Jupyter Notebook" title: "Temporal + OpenAI Agents SDK" sidebarTitle: "Temporal + OpenAI Agents" logo: "/images/integrations/openai_icon.svg" description: "Trace Temporal workflows and OpenAI Agents with OpenTelemetry and view spans in Langfuse." category: "Integrations" -->

# Temporal + OpenAI Agents SDK with Langfuse (OTel)

Trace durable agents with Temporal and OpenAI Agents. Export spans via OpenTelemetry to Langfuse. Includes a retrying preflight and an approval signal.
## 1) Install

Use a clean virtualenv.

```bash
%pip install -U "openai-agents" "temporalio[opentelemetry]" "langfuse" "openinference-instrumentation-openai-agents"
```## What you will build

- A Temporal workflow that runs an OpenAI Agent
- A preflight activity with retry/backoff
- A human approval signal with timeout fallback
- OpenTelemetry spans exported to Langfuse---
title: Temporal + OpenAI Agents SDK with Langfuse (OTel)
description: Trace Temporal workflows and OpenAI Agents with OpenTelemetry and view spans in Langfuse.
---

# Temporal + OpenAI Agents SDK with Langfuse (OTel)

Trace durable agents with Temporal and OpenAI Agents. Export spans via OpenTelemetry to Langfuse. Includes a retrying preflight and an approval signal.
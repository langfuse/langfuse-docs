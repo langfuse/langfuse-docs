{
 "cells": [
  {
   "cell_type": "markdown",
   "metadata": {},
   "source": [
    "---\n",
    "title: \"Monitor Together.ai with Langfuse\"\n",
    "description: \"Learn how to integrate Together.ai with Langfuse using the OpenAI drop-in replacement.\"\n",
    "---"
   ]
  },
  {
   "cell_type": "markdown",
   "metadata": {},
   "source": [
    "# Observability for Together.ai with Langfuse"
   ]
  },
  {
   "cell_type": "markdown",
   "metadata": {},
   "source": [
    "This guide shows you how to integrate Together.ai with Langfuse. Together's API endpoints for chat, language and code, images, and embeddings are fully compatible with OpenAI's API. This allows us to use the Langfuse OpenAI drop-in replacement to trace all parts of your application."
   ]
  },
  {
   "cell_type": "markdown",
   "metadata": {},
   "source": [
    "> **What is Together.ai?** [Together.ai](https://docs.together.ai/docs/openai-api-compatibility) empowers developers and researchers to train, fine-tune, and deploy generative AI models, offering access to over 100 open-source models on both serverless and dedicated instances. The platform emphasizes decentralized cloud services, enabling organizations of all sizes to customize AI solutions using their own data."
   ]
  },
  {
   "cell_type": "markdown",
   "metadata": {},
   "source": [
    "> **What is Langfuse?** [Langfuse](https://langfuse.com) is an open source LLM engineering platform that helps teams trace API calls, monitor performance, and debug issues in their AI applications."
   ]
  },
  {
   "cell_type": "markdown",
   "metadata": {},
   "source": [
    "## Step 1: Install Dependencies\n",
    "\n",
    "Make sure you have installed the necessary Python packages:"
   ]
  },
  {
   "cell_type": "code",
   "execution_count": null,
   "metadata": {},
   "outputs": [],
   "source": [
    "%pip install openai langfuse"
   ]
  },
  {
   "cell_type": "markdown",
   "metadata": {},
   "source": [
    "## Step 2: Set Up Environment Variables"
   ]
  },
  {
   "cell_type": "code",
   "execution_count": 2,
   "metadata": {},
   "outputs": [],
   "source": [
    "import os\n",
    "\n",
    "# Get keys for your project from the project settings page\n",
    "# https://cloud.langfuse.com\n",
    "\n",
    "os.environ[\"LANGFUSE_PUBLIC_KEY\"] = \"pk-lf-...\" # DOCS EXAMPLE KEYS\n",
    "os.environ[\"LANGFUSE_SECRET_KEY\"] = \"sk-lf-...\" # DOCS EXAMPLE KEYS\n",
    "os.environ[\"LANGFUSE_HOST\"] = \"https://cloud.langfuse.com\" # 🇪🇺 EU region\n",
    "# os.environ[\"LANGFUSE_HOST\"] = \"https://us.cloud.langfuse.com\" # 🇺🇸 US region\n",
    "\n",
    "\n",
    "# Get your Together.ai API key from the project settings page\n",
    "os.environ[\"TOGETHER_API_KEY\"] = \"...\""
   ]
  },
  {
   "cell_type": "markdown",
   "metadata": {},
   "source": [
    "## Step 3: Langfuse OpenAI drop-in Replacement\n",
    "\n",
    "In this step we use the native [OpenAI drop-in replacement](https://langfuse.com/docs/integrations/openai/python/get-started) by importing `from langfuse.openai import openai`.\n",
    "\n",
    "To start using Together with OpenAI's client libraries, pass in your Together API key to the `api_key` option, and change the `base_url` to `https://api.together.xyz/v1`:"
   ]
  },
  {
   "cell_type": "code",
   "execution_count": 3,
   "metadata": {},
   "outputs": [],
   "source": [
    "# instead of import openai:\n",
    "from langfuse.openai import openai\n",
    "\n",
    "client = openai.OpenAI(\n",
    "  api_key=os.environ.get(\"TOGETHER_API_KEY\"),\n",
    "  base_url=\"https://api.together.xyz/v1\",\n",
    ")"
   ]
  },
  {
   "cell_type": "markdown",
   "metadata": {},
   "source": [
    "**Note:** The OpenAI drop-in replacement is fully compatible with the [Low-Level Langfuse Python SDKs](https://langfuse.com/docs/sdk/python/low-level-sdk) and [`@observe()` decorator](https://langfuse.com/docs/sdk/python/decorators) to trace all parts of your application.\n",
    "\n",
    "## Step 4: Run An Example\n",
    "\n",
    "The following cell demonstrates how to call Together.ai's chat model using the traced OpenAI client. All API calls will be automatically traced by Langfuse."
   ]
  },
  {
   "cell_type": "code",
   "execution_count": 4,
   "metadata": {},
   "outputs": [
    {
     "name": "stdout",
     "output_type": "stream",
     "text": [
      "San Francisco, the City by the Bay, is a vibrant and eclectic destination that offers a wide range of exciting experiences for visitors. As a travel agent, I'd be delighted to share with you the top 3 things to do in San Francisco:\n",
      "\n",
      "1. **Explore the Golden Gate Bridge**: This iconic suspension bridge is an engineering marvel and a symbol of San Francisco. Take a stroll across the bridge, which offers breathtaking views of the San Francisco Bay, the city skyline, and the Pacific Ocean. You can also walk or bike across the bridge, or take a guided tour to learn more about its history and construction.\n",
      "\n",
      "As you walk across the bridge, be sure to stop at the Golden Gate Bridge Pavilion, which offers stunning views and interactive exhibits that showcase the bridge's history and significance. If you're feeling adventurous, you can also take a guided kayak tour under the bridge, which offers a unique perspective on this iconic landmark.\n",
      "\n",
      "2. **Visit Alcatraz Island**: Located in the San Francisco Bay, Alcatraz Island is a former maximum-security prison that was once home to some of the most notorious inmates in American history, including Al Capone. Take a ferry to the island and explore the prison cells, the solitary confinement cells, and the gardens and courtyards that were once the domain of the prisoners.\n",
      "\n",
      "As you explore the island, you'll learn about the history of the prison and the lives of the inmates who were once held there. You'll also see the remnants of the prison's notorious past, including the cells where prisoners were kept in solitary confinement and the exercise yard where they were allowed to exercise.\n",
      "\n",
      "3. **Walk across the Painted Ladies**: The Painted Ladies are a row of colorful Victorian houses that are one of San Francisco's most iconic landmarks. Located in Alamo Square, these houses are a photographer's dream, with their bright colors and ornate details. Take a stroll across the square and admire the houses, which were once the homes of wealthy San Francisco families.\n",
      "\n",
      "As you walk across the square, be sure to take in the stunning views of the city skyline and the surrounding hills. You can also take a guided tour of the houses, which will give you a deeper understanding of their history and significance. If you're feeling adventurous, you can also take a hike up the nearby hills, which offer breathtaking views of the city and the bay.\n",
      "\n",
      "These are just a few of the many exciting experiences that San Francisco has to offer. Whether you're interested in history, architecture, or outdoor adventures, there's something for everyone in this vibrant and eclectic city.\n",
      "\n",
      "Would you like me to recommend any additional activities or experiences in San Francisco?\n"
     ]
    }
   ],
   "source": [
    "client = openai.OpenAI(\n",
    "  api_key=os.environ.get(\"TOGETHER_API_KEY\"),\n",
    "  base_url=\"https://api.together.xyz/v1\",\n",
    ")\n",
    "\n",
    "response = client.chat.completions.create(\n",
    "  model=\"meta-llama/Meta-Llama-3.1-8B-Instruct-Turbo\",\n",
    "  messages=[\n",
    "    {\"role\": \"system\", \"content\": \"You are a travel agent. Be descriptive and helpful.\"},\n",
    "    {\"role\": \"user\", \"content\": \"Tell me the top 3 things to do in San Francisco\"},\n",
    "  ]\n",
    ")\n",
    "\n",
    "print(response.choices[0].message.content)"
   ]
  },
  {
   "cell_type": "markdown",
   "metadata": {},
   "source": [
    "## Step 5: See Traces in Langfuse\n",
    "\n",
    "After running the example model call, you can see the traces in Langfuse. You will see detailed information about your Together.ai API calls, including:\n",
    "\n",
    "- Request parameters (model, messages, temperature, etc.)\n",
    "- Response content\n",
    "- Token usage statistics\n",
    "- Latency metrics\n",
    "\n",
    "![Langfuse Trace Example](https://langfuse.com/images/cookbook/integration-togetherai/togetherai-example-trace.png)\n",
    "\n",
    "_[Public example trace link in Langfuse](https://cloud.langfuse.com/project/cloramnkj0002jz088vzn1ja4/traces/d3c13a6f-00c5-4090-8f18-6ce18c794950?timestamp=2025-02-25T15%3A43%3A52.800Z&observation=9eeb3b33-49f0-4557-ac00-d3cbe6bc051e)_"
   ]
  },
  {
   "cell_type": "markdown",
   "metadata": {},
   "source": [
    "## Resources\n",
    "\n",
    "- Check the [Together.ai Documentation](https://docs.together.ai/docs/openai-api-compatibility) for further details on available models and API options.\n",
    "- Visit [Langfuse](https://langfuse.com) to learn more about monitoring and tracing capabilities for your LLM applications."
   ]
  }
 ],
 "metadata": {
  "kernelspec": {
   "display_name": "Python 3",
   "language": "python",
   "name": "python3"
  },
  "language_info": {
   "codemirror_mode": {
    "name": "ipython",
    "version": 3
   },
   "file_extension": ".py",
   "mimetype": "text/x-python",
   "name": "python",
   "nbconvert_exporter": "python",
   "pygments_lexer": "ipython3",
   "version": "3.13.1"
  }
 },
 "nbformat": 4,
 "nbformat_minor": 4
}

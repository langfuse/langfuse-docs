{
 "cells": [
  {
   "cell_type": "markdown",
   "metadata": {},
   "source": [
    "---\n",
    "title: \"Integrate X.ai (Grok) with Langfuse\"\n",
    "description: \"Guide on integrating xAI's Grok models with Langfuse for observability.\"\n",
    "---"
   ]
  },
  {
   "cell_type": "markdown",
   "metadata": {},
   "source": [
    "# Observability for xAI / Grok with Langfuse"
   ]
  },
  {
   "cell_type": "markdown",
   "metadata": {},
   "source": [
    "This guide shows you how to integrate Grok with Langfuse using the OpenAI SDK."
   ]
  },
  {
   "cell_type": "markdown",
   "metadata": {},
   "source": [
    "> **What is Grok?** Grok is X.ai’s advanced AI platform that streamlines natural language processing for intelligent application integration. Learn more at [Grok Documentation](https://docs.x.ai/docs)."
   ]
  },
  {
   "cell_type": "markdown",
   "metadata": {},
   "source": [
    "> **What is Langfuse?** [Langfuse](https://langfuse.com) is an open source LLM engineering platform that helps teams trace API calls, monitor performance, and debug issues in their AI applications."
   ]
  },
  {
   "cell_type": "markdown",
   "metadata": {},
   "source": [
    "## Step 1: Install Dependencies\n",
    "\n",
    "Make sure you have installed the necessary Python packages:"
   ]
  },
  {
   "cell_type": "code",
   "execution_count": null,
   "metadata": {},
   "outputs": [],
   "source": [
    "%pip install openai langfuse"
   ]
  },
  {
   "cell_type": "markdown",
   "metadata": {},
   "source": [
    "## Step 2: Set Up Environment Variables"
   ]
  },
  {
   "cell_type": "code",
   "execution_count": 1,
   "metadata": {},
   "outputs": [],
   "source": [
    "import os\n",
    "\n",
    "# Get keys for your project from the project settings page\n",
    "# https://cloud.langfuse.com\n",
    "\n",
    "os.environ[\"LANGFUSE_PUBLIC_KEY\"] = \"pk-lf-...\" # DOCS EXAMPLE KEYS\n",
    "os.environ[\"LANGFUSE_SECRET_KEY\"] = \"sk-lf-...\" # DOCS EXAMPLE KEYS\n",
    "os.environ[\"LANGFUSE_HOST\"] = \"https://cloud.langfuse.com\" # 🇪🇺 EU region\n",
    "# os.environ[\"LANGFUSE_HOST\"] = \"https://us.cloud.langfuse.com\" # 🇺🇸 US region\n",
    "\n",
    "\n",
    "# Get your Grok API key from your Grok account settings\n",
    "os.environ[\"GROK_API_KEY\"] = \"xai-...\""
   ]
  },
  {
   "cell_type": "markdown",
   "metadata": {},
   "source": [
    "## Step 3: Use Grok with the OpenAI SDK\n",
    "\n",
    "To utilize Grok through the OpenAI SDK, we use the Langfuse drop-in replacement for OpenAI. Replace the base URL with Grok’s endpoint."
   ]
  },
  {
   "cell_type": "code",
   "execution_count": 4,
   "metadata": {},
   "outputs": [],
   "source": [
    "# Instead of importing openai directly:\n",
    "from langfuse.openai import openai\n",
    "\n",
    "client = openai.OpenAI(\n",
    "  api_key=os.environ.get(\"GROK_API_KEY\"),\n",
    "  base_url=\"https://api.x.ai/v1\"  # Grok's endpoint\n",
    ")"
   ]
  },
  {
   "cell_type": "markdown",
   "metadata": {},
   "source": [
    "## Step 4: Run an Example\n",
    "\n",
    "The following example demonstrates how to make a simple request using Grok's API. All API calls will be automatically traced by Langfuse."
   ]
  },
  {
   "cell_type": "code",
   "execution_count": 12,
   "metadata": {},
   "outputs": [
    {
     "name": "stdout",
     "output_type": "stream",
     "text": [
      "Langfuse is an observability and debugging tool specifically designed for Large Language Model (LLM) applications. It helps developers and engineers monitor, debug, and improve their LLM-powered applications by providing insights into the performance and behavior of the models. Key features of Langfuse include:\n",
      "\n",
      "- **Tracing**: Allows you to track the flow of requests through your application, helping you understand how different components interact.\n",
      "- **Metrics**: Provides quantitative data on the performance of your LLM, such as latency, throughput, and error rates.\n",
      "- **Logs**: Captures detailed logs of interactions with the LLM, which can be invaluable for debugging and understanding model behavior.\n",
      "- **Analytics**: Offers analytics to help you optimize your application based on real usage data.\n",
      "\n",
      "Langfuse is particularly useful for teams working on complex AI-driven applications, as it helps in identifying issues, optimizing performance, and ensuring the reliability of the system.\n"
     ]
    }
   ],
   "source": [
    "response = client.chat.completions.create(\n",
    "  model=\"grok-2-latest\",\n",
    "  messages=[\n",
    "    {\"role\": \"system\", \"content\": \"You are an assistant.\"},\n",
    "    {\"role\": \"user\", \"content\": \"What is Langfuse?\"}\n",
    "  ],\n",
    "  name = \"Grok-2-Trace\"\n",
    ")\n",
    "\n",
    "print(response.choices[0].message.content)"
   ]
  },
  {
   "cell_type": "markdown",
   "metadata": {},
   "source": [
    "## Step 5: Enhance Tracing (Optional)\n",
    "\n",
    "You can enhance your Grok traces:\n",
    "\n",
    "- Add [metadata](https://langfuse.com/docs/tracing-features/metadata), [tags](https://langfuse.com/docs/tracing-features/tags), [log levels](https://langfuse.com/docs/tracing-features/log-levels) and [user IDs](https://langfuse.com/docs/tracing-features/users) to traces\n",
    "- Group traces by [sessions](https://langfuse.com/docs/tracing-features/sessions)\n",
    "- [`@observe()` decorator](https://langfuse.com/docs/sdk/python/decorators) to trace additional application logic\n",
    "- Use [Langfuse Prompt Management](https://langfuse.com/docs/prompts/get-started) and link prompts to traces\n",
    "- Add [score](https://langfuse.com/docs/scores/custom) to traces\n",
    "\n",
    "Visit the [OpenAI SDK cookbook](https://langfuse.com/docs/integrations/openai/python/examples) to see more examples on passing additional parameters.\n",
    "Find out more about Langfuse Evaluations and Prompt Management in the [Langfuse documentation](https://langfuse.com/docs).\n"
   ]
  },
  {
   "cell_type": "markdown",
   "metadata": {},
   "source": [
    "## Step 6: See Traces in Langfuse\n",
    "\n",
    "After running the example, log in to Langfuse to view the detailed traces, including:\n",
    "\n",
    "- Request parameters\n",
    "- Response content\n",
    "- Token usage and latency metrics\n",
    "\n",
    "<img src=\"https://langfuse.com/images/cookbook/integration-grok/grok-example-trace.png\" alt=\"Langfuse Trace Example\" style=\"border-radius: 8px;\" />\n",
    "\n",
    "_[Public example trace link in Langfuse](https://cloud.langfuse.com/project/cloramnkj0002jz088vzn1ja4/traces/9178205e-2cb4-4952-8ec0-5244a1105263?timestamp=2025-03-05T11%3A07%3A46.600Z)_"
   ]
  },
  {
   "cell_type": "markdown",
   "metadata": {},
   "source": []
  },
  {
   "cell_type": "markdown",
   "metadata": {},
   "source": []
  },
  {
   "cell_type": "markdown",
   "metadata": {},
   "source": [
    "## Resources\n",
    "\n",
    "- [Grok Documentation](https://docs.x.ai/docs/overview)\n",
    "- [Langfuse](https://langfuse.com)\n",
    "- [Langfuse OpenAI Integration Guide](https://langfuse.com/docs/integrations/openai/python/get-started)"
   ]
  }
 ],
 "metadata": {
  "kernelspec": {
   "display_name": "Python 3",
   "language": "python",
   "name": "python3"
  },
  "language_info": {
   "codemirror_mode": {
    "name": "ipython",
    "version": 3
   },
   "file_extension": ".py",
   "mimetype": "text/x-python",
   "name": "python",
   "nbconvert_exporter": "python",
   "pygments_lexer": "ipython3",
   "version": "3.13.1"
  }
 },
 "nbformat": 4,
 "nbformat_minor": 4
}

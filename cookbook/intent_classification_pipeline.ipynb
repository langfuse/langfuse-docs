{
 "cells": [
  {
   "cell_type": "markdown",
   "id": "2ff8aea0-ad89-46ff-8f1f-cc293ef0afba",
   "metadata": {},
   "source": [
    "# Intent classification of Langfuse trace data"
   ]
  },
  {
   "cell_type": "markdown",
   "id": "a762d31e-ccf5-40db-81bb-ef2067bee296",
   "metadata": {},
   "source": [
    "The traces that your application picks up can provide a lot of insight into how your users are interacting with your service.  However, as interactions grow, manually reviewing this data can become cumbersome.  Intent classification can help you automate labeling and make sense of the trace data.  By accurately identifying intents, you can create labels that help you manage and analyze traces.  \n",
    "\n",
    "You can approach intent classification in two ways - supervised and unsupervised.  In a supervised approach, you provide a model labeled training data.  When making predictions, the model will output one of the pre-defined labels you provided.  In an unsupervised approach, a model would attempt to find clusters within the data.  Afterwards, you could label each group appropriately.  This notebook will help you build a basic intent classification pipeline for each approach.  \n",
    "\n",
    "By the end of this notebook, you'll have two basic pipelines that will:\n",
    "1. extract trace data from one of your Langfuse projects\n",
    "2. train an intent classification model\n",
    "3. predict the intent of traces (using both supervised and unsupervised approaches)\n",
    "4. upload predicted intent results back to Langfuse"
   ]
  },
  {
   "cell_type": "markdown",
   "id": "48c087c4-9003-48b5-a800-34f825beba9d",
   "metadata": {},
   "source": [
    "## Setup"
   ]
  },
  {
   "cell_type": "markdown",
   "id": "d1e9eaf7-c254-4e40-a86e-505e5d5b057e",
   "metadata": {},
   "source": [
    "You will need an .env file with the following variables for your Langfuse project.\n",
    "```\n",
    "LANGFUSE_SECRET_KEY=\n",
    "LANGFUSE_PUBLIC_KEY=\n",
    "LANGFUSE_HOST=\n",
    "```"
   ]
  },
  {
   "cell_type": "code",
   "execution_count": 1,
   "id": "cc4dcba1-7de3-4754-8255-8735acc98a80",
   "metadata": {},
   "outputs": [],
   "source": [
    "import warnings\n",
    "warnings.filterwarnings(\"ignore\")"
   ]
  },
  {
   "cell_type": "code",
   "execution_count": 2,
   "id": "16898eb6-89a6-44a2-b831-53a9b3a0718e",
   "metadata": {},
   "outputs": [
    {
     "name": "stdout",
     "output_type": "stream",
     "text": [
      "Note: you may need to restart the kernel to use updated packages.\n"
     ]
    }
   ],
   "source": [
    "# Install Langfuse\n",
    "%pip install --quiet langfuse"
   ]
  },
  {
   "cell_type": "code",
   "execution_count": 3,
   "id": "14c811cb-0479-458b-8ab0-761f493912be",
   "metadata": {},
   "outputs": [
    {
     "name": "stdout",
     "output_type": "stream",
     "text": [
      "Note: you may need to restart the kernel to use updated packages.\n"
     ]
    }
   ],
   "source": [
    "# Install Notebook dependencies\n",
    "%pip install --quiet ipywidgets"
   ]
  },
  {
   "cell_type": "code",
   "execution_count": 4,
   "id": "24080f06-8a13-452c-8c3a-a0a25486b5e3",
   "metadata": {},
   "outputs": [
    {
     "name": "stdout",
     "output_type": "stream",
     "text": [
      "Note: you may need to restart the kernel to use updated packages.\n"
     ]
    }
   ],
   "source": [
    "# Install dependencies for making a model\n",
    "%pip install --quiet pandas scikit-learn sentence-transformers torch transformers"
   ]
  },
  {
   "cell_type": "code",
   "execution_count": 5,
   "id": "8d1ec9b4-a598-4afc-a8ab-db4dab2ed4fa",
   "metadata": {},
   "outputs": [
    {
     "name": "stdout",
     "output_type": "stream",
     "text": [
      "Note: you may need to restart the kernel to use updated packages.\n"
     ]
    }
   ],
   "source": [
    "# Install dependencies for unsupervised intent recognition\n",
    "%pip install --quiet chromadb hdbscan openai"
   ]
  },
  {
   "cell_type": "code",
   "execution_count": 6,
   "id": "c662d68b-c72d-4378-acc7-391fdb0ce075",
   "metadata": {
    "editable": true,
    "slideshow": {
     "slide_type": ""
    },
    "tags": []
   },
   "outputs": [
    {
     "name": "stdout",
     "output_type": "stream",
     "text": [
      "Note: you may need to restart the kernel to use updated packages.\n"
     ]
    }
   ],
   "source": [
    "# Install python-dotenv to read in secrets\n",
    "%pip install --quiet python-dotenv"
   ]
  },
  {
   "cell_type": "code",
   "execution_count": 7,
   "id": "88db9eb4-93ad-456c-95c2-5ce2447ec4c8",
   "metadata": {},
   "outputs": [],
   "source": [
    "from sentence_transformers import SentenceTransformer\n",
    "embedding_model = SentenceTransformer(\"all-mpnet-base-v2\")"
   ]
  },
  {
   "cell_type": "code",
   "execution_count": 8,
   "id": "6adbbfba-fa64-44b7-a108-af9be9b13bb9",
   "metadata": {},
   "outputs": [
    {
     "data": {
      "text/plain": [
       "True"
      ]
     },
     "execution_count": 8,
     "metadata": {},
     "output_type": "execute_result"
    }
   ],
   "source": [
    "from dotenv import load_dotenv\n",
    "load_dotenv()"
   ]
  },
  {
   "cell_type": "markdown",
   "id": "83ff9754-537a-4365-8ab5-17780c96e3ea",
   "metadata": {},
   "source": [
    "## Supervised intent classification pipeline"
   ]
  },
  {
   "cell_type": "markdown",
   "id": "b0b2a32e-3a8e-4d48-8395-8e9c306017ba",
   "metadata": {},
   "source": [
    "### Retrieve Langfuse traces"
   ]
  },
  {
   "cell_type": "code",
   "execution_count": 9,
   "id": "20f0f9c2-92dc-4062-aff0-b4bf0e559946",
   "metadata": {},
   "outputs": [],
   "source": [
    "import os\n",
    "from langfuse import Langfuse"
   ]
  },
  {
   "cell_type": "code",
   "execution_count": 10,
   "id": "47b62b36-7ef6-4e32-a0df-2389fccf4b73",
   "metadata": {},
   "outputs": [],
   "source": [
    "langfuse = Langfuse(\n",
    "    secret_key=os.environ.get(\"LANGFUSE_SECRET_KEY\"),\n",
    "    public_key=os.environ.get(\"LANGFUSE_PUBLIC_KEY\"),\n",
    "    host=os.environ.get(\"LANGFUSE_HOST\")\n",
    ")"
   ]
  },
  {
   "cell_type": "markdown",
   "id": "140ea9b2-51e6-4362-a88d-09575ead1c82",
   "metadata": {},
   "source": [
    "#### Create dummy trace data\n",
    "If your project is empty, you can run the next two cells to create some simple dummy trace data to use for this notebook.  The remainder of this section expects a trace with a \"message\" key in the input.  You may need to adjust the notebook to your trace data's structure if you use data with another structure."
   ]
  },
  {
   "cell_type": "code",
   "execution_count": 11,
   "id": "6e692c86-146e-4202-9d18-65cad4e076d3",
   "metadata": {},
   "outputs": [],
   "source": [
    "sample_utterances = [\n",
    "    \"Hello again\",\n",
    "    \"Can you do anything else?\",\n",
    "    \"Could you recommend a good book?\",\n",
    "    \"I'd like to watch a drama\",\n",
    "]"
   ]
  },
  {
   "cell_type": "code",
   "execution_count": 12,
   "id": "46e0eff5-8982-4c27-815f-045067474231",
   "metadata": {},
   "outputs": [],
   "source": [
    "# Create dummy traces\n",
    "for utterance in sample_utterances:\n",
    "    input = {\n",
    "        \"message\": utterance\n",
    "    }\n",
    "    langfuse.trace(\n",
    "        input=input\n",
    "    )"
   ]
  },
  {
   "cell_type": "markdown",
   "id": "76578f87-8e16-4e10-8b76-56275742446e",
   "metadata": {},
   "source": [
    "#### Fetch data from your project"
   ]
  },
  {
   "cell_type": "code",
   "execution_count": 13,
   "id": "8239735a-1d18-4e65-ad4e-4b5d85126902",
   "metadata": {},
   "outputs": [
    {
     "data": {
      "text/plain": [
       "FetchTracesResponse(data=[TraceWithDetails(id='9b73a066-5dfa-4005-bc7d-33c810a0b97a', timestamp=datetime.datetime(2024, 10, 6, 12, 20, 7, 344000, tzinfo=datetime.timezone.utc), name=None, input={'message': \"I'd like to watch a drama\"}, output=None, session_id=None, release=None, version=None, user_id=None, metadata=None, tags=[], public=False, html_path='/project/cm1s2r3d600hwlpo4x0iqsweb/traces/9b73a066-5dfa-4005-bc7d-33c810a0b97a', latency=0.0, total_cost=0.0, observations=[], scores=[], createdAt='2024-10-06T12:20:08.159Z', externalId=None, updatedAt='2024-10-06T12:20:08.159Z', projectId='cm1s2r3d600hwlpo4x0iqsweb', bookmarked=False), TraceWithDetails(id='4ef0e084-8145-465e-a966-7a5700b7827d', timestamp=datetime.datetime(2024, 10, 6, 12, 20, 7, 343000, tzinfo=datetime.timezone.utc), name=None, input={'message': 'Could you recommend a good book?'}, output=None, session_id=None, release=None, version=None, user_id=None, metadata=None, tags=[], public=False, html_path='/project/cm1s2r3d600hwlpo4x0iqsweb/traces/4ef0e084-8145-465e-a966-7a5700b7827d', latency=0.0, total_cost=0.0, observations=[], scores=[], createdAt='2024-10-06T12:20:08.107Z', externalId=None, updatedAt='2024-10-06T12:20:08.107Z', projectId='cm1s2r3d600hwlpo4x0iqsweb', bookmarked=False), TraceWithDetails(id='969a3121-e34e-4bb2-8225-0912dff9a34c', timestamp=datetime.datetime(2024, 10, 6, 12, 20, 7, 343000, tzinfo=datetime.timezone.utc), name=None, input={'message': 'Can you do anything else?'}, output=None, session_id=None, release=None, version=None, user_id=None, metadata=None, tags=[], public=False, html_path='/project/cm1s2r3d600hwlpo4x0iqsweb/traces/969a3121-e34e-4bb2-8225-0912dff9a34c', latency=0.0, total_cost=0.0, observations=[], scores=[], createdAt='2024-10-06T12:20:08.056Z', externalId=None, updatedAt='2024-10-06T12:20:08.056Z', projectId='cm1s2r3d600hwlpo4x0iqsweb', bookmarked=False), TraceWithDetails(id='3f1b06eb-aeee-4438-9204-9058ae49a5b0', timestamp=datetime.datetime(2024, 10, 6, 12, 20, 7, 343000, tzinfo=datetime.timezone.utc), name=None, input={'message': 'Hello again'}, output=None, session_id=None, release=None, version=None, user_id=None, metadata=None, tags=[], public=False, html_path='/project/cm1s2r3d600hwlpo4x0iqsweb/traces/3f1b06eb-aeee-4438-9204-9058ae49a5b0', latency=0.0, total_cost=0.0, observations=[], scores=[], createdAt='2024-10-06T12:20:07.984Z', externalId=None, updatedAt='2024-10-06T12:20:07.984Z', projectId='cm1s2r3d600hwlpo4x0iqsweb', bookmarked=False)], meta=MetaResponse(page=1, limit=50, total_items=4, total_pages=1))"
      ]
     },
     "execution_count": 13,
     "metadata": {},
     "output_type": "execute_result"
    }
   ],
   "source": [
    "traces = langfuse.fetch_traces()\n",
    "traces"
   ]
  },
  {
   "cell_type": "code",
   "execution_count": 14,
   "id": "7c976be3-38d9-437a-bc26-b4926289cd09",
   "metadata": {},
   "outputs": [],
   "source": [
    "traces_list = []\n",
    "for trace in traces.data:\n",
    "    trace_info = [trace.id, trace.input[\"message\"]]\n",
    "    traces_list.append(trace_info)"
   ]
  },
  {
   "cell_type": "code",
   "execution_count": 15,
   "id": "9b1f2762-1271-4d04-8bb5-f016a3115d53",
   "metadata": {},
   "outputs": [
    {
     "data": {
      "text/html": [
       "<div>\n",
       "<style scoped>\n",
       "    .dataframe tbody tr th:only-of-type {\n",
       "        vertical-align: middle;\n",
       "    }\n",
       "\n",
       "    .dataframe tbody tr th {\n",
       "        vertical-align: top;\n",
       "    }\n",
       "\n",
       "    .dataframe thead th {\n",
       "        text-align: right;\n",
       "    }\n",
       "</style>\n",
       "<table border=\"1\" class=\"dataframe\">\n",
       "  <thead>\n",
       "    <tr style=\"text-align: right;\">\n",
       "      <th></th>\n",
       "      <th>trace_id</th>\n",
       "      <th>message</th>\n",
       "    </tr>\n",
       "  </thead>\n",
       "  <tbody>\n",
       "    <tr>\n",
       "      <th>0</th>\n",
       "      <td>9b73a066-5dfa-4005-bc7d-33c810a0b97a</td>\n",
       "      <td>I'd like to watch a drama</td>\n",
       "    </tr>\n",
       "    <tr>\n",
       "      <th>1</th>\n",
       "      <td>4ef0e084-8145-465e-a966-7a5700b7827d</td>\n",
       "      <td>Could you recommend a good book?</td>\n",
       "    </tr>\n",
       "    <tr>\n",
       "      <th>2</th>\n",
       "      <td>969a3121-e34e-4bb2-8225-0912dff9a34c</td>\n",
       "      <td>Can you do anything else?</td>\n",
       "    </tr>\n",
       "    <tr>\n",
       "      <th>3</th>\n",
       "      <td>3f1b06eb-aeee-4438-9204-9058ae49a5b0</td>\n",
       "      <td>Hello again</td>\n",
       "    </tr>\n",
       "  </tbody>\n",
       "</table>\n",
       "</div>"
      ],
      "text/plain": [
       "                               trace_id                           message\n",
       "0  9b73a066-5dfa-4005-bc7d-33c810a0b97a         I'd like to watch a drama\n",
       "1  4ef0e084-8145-465e-a966-7a5700b7827d  Could you recommend a good book?\n",
       "2  969a3121-e34e-4bb2-8225-0912dff9a34c         Can you do anything else?\n",
       "3  3f1b06eb-aeee-4438-9204-9058ae49a5b0                       Hello again"
      ]
     },
     "execution_count": 15,
     "metadata": {},
     "output_type": "execute_result"
    }
   ],
   "source": [
    "import pandas as pd\n",
    "traces_df = pd.DataFrame(traces_list, columns=[\"trace_id\", \"message\"])\n",
    "traces_df"
   ]
  },
  {
   "cell_type": "markdown",
   "id": "512c3d56-1f50-4e3e-ba60-225842739e31",
   "metadata": {},
   "source": [
    "### Build and train an intent classification model"
   ]
  },
  {
   "cell_type": "code",
   "execution_count": 16,
   "id": "59aad3e2-3d44-466c-b546-cc2eddff2a25",
   "metadata": {},
   "outputs": [],
   "source": [
    "import numpy as np\n",
    "from sklearn.base import TransformerMixin, BaseEstimator\n",
    "from sklearn.linear_model import LogisticRegression\n",
    "from sklearn.metrics import classification_report, accuracy_score\n",
    "from sklearn.model_selection import train_test_split\n",
    "from sklearn.pipeline import Pipeline\n",
    "from tqdm.notebook import tqdm"
   ]
  },
  {
   "cell_type": "code",
   "execution_count": 17,
   "id": "5721da7c-a8e6-4e53-b9aa-2de1c9622775",
   "metadata": {},
   "outputs": [],
   "source": [
    "# Note: This is a very small dataset.\n",
    "# More data will help make the model  more accurate and avoid overfitting.\n",
    "sample_data = {\n",
    "    \"text\": [\n",
    "        # Greeting utterances\n",
    "        \"hi\",\n",
    "        \"hello\",\n",
    "        \"howdy\",\n",
    "        \"hey there\",\n",
    "        \"greetings\",\n",
    "        \"Nice to see you\",\n",
    "        \"Let's start\",\n",
    "        \"begin\",\n",
    "        \"good morning\",\n",
    "        \"Good afternoon\",\n",
    "        # Menu utterances\n",
    "        \"I want to talk about something else\",\n",
    "        \"options\",\n",
    "        \"menu, please\",\n",
    "        \"Could we chat about another subject\",\n",
    "        \"I want to see the menu\",\n",
    "        \"switch topics\",\n",
    "        \"What else can you do\",\n",
    "        \"discuss about something else\",\n",
    "        \"Show me the menu\",\n",
    "        \"Can we do something else\",\n",
    "        # Restart utterances\n",
    "        \"restart\",\n",
    "        \"I'd like to do this again\",\n",
    "        \"let me try again\",\n",
    "        \"one more time\",\n",
    "        \"Can I review that?\",\n",
    "        \"check again\",\n",
    "        \"redo\",\n",
    "        \"again please\",\n",
    "        \"that was great, let's start from teh beginning\",\n",
    "        \"go back to start\",\n",
    "    ],\n",
    "    \"intent\": [\n",
    "        \"greeting\",\n",
    "        \"greeting\",\n",
    "        \"greeting\",\n",
    "        \"greeting\",\n",
    "        \"greeting\",\n",
    "        \"greeting\",\n",
    "        \"greeting\",\n",
    "        \"greeting\",\n",
    "        \"greeting\",\n",
    "        \"greeting\",\n",
    "        \"menu\",\n",
    "        \"menu\",\n",
    "        \"menu\",\n",
    "        \"menu\",\n",
    "        \"menu\",\n",
    "        \"menu\",\n",
    "        \"menu\",\n",
    "        \"menu\",\n",
    "        \"menu\",\n",
    "        \"menu\",\n",
    "        \"restart\",\n",
    "        \"restart\",\n",
    "        \"restart\",\n",
    "        \"restart\",\n",
    "        \"restart\",\n",
    "        \"restart\",\n",
    "        \"restart\",\n",
    "        \"restart\",\n",
    "        \"restart\",\n",
    "        \"restart\",\n",
    "    ]\n",
    "}"
   ]
  },
  {
   "cell_type": "code",
   "execution_count": 18,
   "id": "4c96119a-aea3-4f4c-b267-40352eaf9548",
   "metadata": {},
   "outputs": [
    {
     "data": {
      "text/html": [
       "<div>\n",
       "<style scoped>\n",
       "    .dataframe tbody tr th:only-of-type {\n",
       "        vertical-align: middle;\n",
       "    }\n",
       "\n",
       "    .dataframe tbody tr th {\n",
       "        vertical-align: top;\n",
       "    }\n",
       "\n",
       "    .dataframe thead th {\n",
       "        text-align: right;\n",
       "    }\n",
       "</style>\n",
       "<table border=\"1\" class=\"dataframe\">\n",
       "  <thead>\n",
       "    <tr style=\"text-align: right;\">\n",
       "      <th></th>\n",
       "      <th>text</th>\n",
       "      <th>intent</th>\n",
       "    </tr>\n",
       "  </thead>\n",
       "  <tbody>\n",
       "    <tr>\n",
       "      <th>0</th>\n",
       "      <td>hi</td>\n",
       "      <td>greeting</td>\n",
       "    </tr>\n",
       "    <tr>\n",
       "      <th>1</th>\n",
       "      <td>hello</td>\n",
       "      <td>greeting</td>\n",
       "    </tr>\n",
       "    <tr>\n",
       "      <th>2</th>\n",
       "      <td>howdy</td>\n",
       "      <td>greeting</td>\n",
       "    </tr>\n",
       "    <tr>\n",
       "      <th>3</th>\n",
       "      <td>hey there</td>\n",
       "      <td>greeting</td>\n",
       "    </tr>\n",
       "    <tr>\n",
       "      <th>4</th>\n",
       "      <td>greetings</td>\n",
       "      <td>greeting</td>\n",
       "    </tr>\n",
       "  </tbody>\n",
       "</table>\n",
       "</div>"
      ],
      "text/plain": [
       "        text    intent\n",
       "0         hi  greeting\n",
       "1      hello  greeting\n",
       "2      howdy  greeting\n",
       "3  hey there  greeting\n",
       "4  greetings  greeting"
      ]
     },
     "execution_count": 18,
     "metadata": {},
     "output_type": "execute_result"
    }
   ],
   "source": [
    "df = pd.DataFrame(sample_data)\n",
    "df.head()"
   ]
  },
  {
   "cell_type": "code",
   "execution_count": 19,
   "id": "773b0731-143d-46be-a14d-7867db8023a4",
   "metadata": {},
   "outputs": [],
   "source": [
    "X_train, X_test, y_train, y_test = train_test_split(\n",
    "    df[\"text\"],\n",
    "    df[\"intent\"],\n",
    "    test_size=0.5,\n",
    "    random_state=14\n",
    ")"
   ]
  },
  {
   "cell_type": "code",
   "execution_count": 20,
   "id": "7786964e-850c-4fa1-94a6-fbdacba41dfc",
   "metadata": {},
   "outputs": [],
   "source": [
    "class Encoder(BaseEstimator, TransformerMixin):\n",
    "    def __init__(self):\n",
    "        self.embedding_model = embedding_model\n",
    "\n",
    "    def transform(self, X):\n",
    "        return self.embedding_model.encode(list(X))\n",
    "\n",
    "    def fit(self, X, y=None):\n",
    "        return self"
   ]
  },
  {
   "cell_type": "code",
   "execution_count": 22,
   "id": "e6c2a7d6-17a2-40f1-a227-97cf2de043eb",
   "metadata": {},
   "outputs": [],
   "source": [
    "pipeline = Pipeline([\n",
    "    ('encoder', Encoder()),\n",
    "    ('clf', LogisticRegression()),\n",
    "])"
   ]
  },
  {
   "cell_type": "code",
   "execution_count": 23,
   "id": "604bd2b3-8ac0-4daf-9f0c-3f5d366c93db",
   "metadata": {},
   "outputs": [
    {
     "data": {
      "text/html": [
       "<style>#sk-container-id-1 {\n",
       "  /* Definition of color scheme common for light and dark mode */\n",
       "  --sklearn-color-text: black;\n",
       "  --sklearn-color-line: gray;\n",
       "  /* Definition of color scheme for unfitted estimators */\n",
       "  --sklearn-color-unfitted-level-0: #fff5e6;\n",
       "  --sklearn-color-unfitted-level-1: #f6e4d2;\n",
       "  --sklearn-color-unfitted-level-2: #ffe0b3;\n",
       "  --sklearn-color-unfitted-level-3: chocolate;\n",
       "  /* Definition of color scheme for fitted estimators */\n",
       "  --sklearn-color-fitted-level-0: #f0f8ff;\n",
       "  --sklearn-color-fitted-level-1: #d4ebff;\n",
       "  --sklearn-color-fitted-level-2: #b3dbfd;\n",
       "  --sklearn-color-fitted-level-3: cornflowerblue;\n",
       "\n",
       "  /* Specific color for light theme */\n",
       "  --sklearn-color-text-on-default-background: var(--sg-text-color, var(--theme-code-foreground, var(--jp-content-font-color1, black)));\n",
       "  --sklearn-color-background: var(--sg-background-color, var(--theme-background, var(--jp-layout-color0, white)));\n",
       "  --sklearn-color-border-box: var(--sg-text-color, var(--theme-code-foreground, var(--jp-content-font-color1, black)));\n",
       "  --sklearn-color-icon: #696969;\n",
       "\n",
       "  @media (prefers-color-scheme: dark) {\n",
       "    /* Redefinition of color scheme for dark theme */\n",
       "    --sklearn-color-text-on-default-background: var(--sg-text-color, var(--theme-code-foreground, var(--jp-content-font-color1, white)));\n",
       "    --sklearn-color-background: var(--sg-background-color, var(--theme-background, var(--jp-layout-color0, #111)));\n",
       "    --sklearn-color-border-box: var(--sg-text-color, var(--theme-code-foreground, var(--jp-content-font-color1, white)));\n",
       "    --sklearn-color-icon: #878787;\n",
       "  }\n",
       "}\n",
       "\n",
       "#sk-container-id-1 {\n",
       "  color: var(--sklearn-color-text);\n",
       "}\n",
       "\n",
       "#sk-container-id-1 pre {\n",
       "  padding: 0;\n",
       "}\n",
       "\n",
       "#sk-container-id-1 input.sk-hidden--visually {\n",
       "  border: 0;\n",
       "  clip: rect(1px 1px 1px 1px);\n",
       "  clip: rect(1px, 1px, 1px, 1px);\n",
       "  height: 1px;\n",
       "  margin: -1px;\n",
       "  overflow: hidden;\n",
       "  padding: 0;\n",
       "  position: absolute;\n",
       "  width: 1px;\n",
       "}\n",
       "\n",
       "#sk-container-id-1 div.sk-dashed-wrapped {\n",
       "  border: 1px dashed var(--sklearn-color-line);\n",
       "  margin: 0 0.4em 0.5em 0.4em;\n",
       "  box-sizing: border-box;\n",
       "  padding-bottom: 0.4em;\n",
       "  background-color: var(--sklearn-color-background);\n",
       "}\n",
       "\n",
       "#sk-container-id-1 div.sk-container {\n",
       "  /* jupyter's `normalize.less` sets `[hidden] { display: none; }`\n",
       "     but bootstrap.min.css set `[hidden] { display: none !important; }`\n",
       "     so we also need the `!important` here to be able to override the\n",
       "     default hidden behavior on the sphinx rendered scikit-learn.org.\n",
       "     See: https://github.com/scikit-learn/scikit-learn/issues/21755 */\n",
       "  display: inline-block !important;\n",
       "  position: relative;\n",
       "}\n",
       "\n",
       "#sk-container-id-1 div.sk-text-repr-fallback {\n",
       "  display: none;\n",
       "}\n",
       "\n",
       "div.sk-parallel-item,\n",
       "div.sk-serial,\n",
       "div.sk-item {\n",
       "  /* draw centered vertical line to link estimators */\n",
       "  background-image: linear-gradient(var(--sklearn-color-text-on-default-background), var(--sklearn-color-text-on-default-background));\n",
       "  background-size: 2px 100%;\n",
       "  background-repeat: no-repeat;\n",
       "  background-position: center center;\n",
       "}\n",
       "\n",
       "/* Parallel-specific style estimator block */\n",
       "\n",
       "#sk-container-id-1 div.sk-parallel-item::after {\n",
       "  content: \"\";\n",
       "  width: 100%;\n",
       "  border-bottom: 2px solid var(--sklearn-color-text-on-default-background);\n",
       "  flex-grow: 1;\n",
       "}\n",
       "\n",
       "#sk-container-id-1 div.sk-parallel {\n",
       "  display: flex;\n",
       "  align-items: stretch;\n",
       "  justify-content: center;\n",
       "  background-color: var(--sklearn-color-background);\n",
       "  position: relative;\n",
       "}\n",
       "\n",
       "#sk-container-id-1 div.sk-parallel-item {\n",
       "  display: flex;\n",
       "  flex-direction: column;\n",
       "}\n",
       "\n",
       "#sk-container-id-1 div.sk-parallel-item:first-child::after {\n",
       "  align-self: flex-end;\n",
       "  width: 50%;\n",
       "}\n",
       "\n",
       "#sk-container-id-1 div.sk-parallel-item:last-child::after {\n",
       "  align-self: flex-start;\n",
       "  width: 50%;\n",
       "}\n",
       "\n",
       "#sk-container-id-1 div.sk-parallel-item:only-child::after {\n",
       "  width: 0;\n",
       "}\n",
       "\n",
       "/* Serial-specific style estimator block */\n",
       "\n",
       "#sk-container-id-1 div.sk-serial {\n",
       "  display: flex;\n",
       "  flex-direction: column;\n",
       "  align-items: center;\n",
       "  background-color: var(--sklearn-color-background);\n",
       "  padding-right: 1em;\n",
       "  padding-left: 1em;\n",
       "}\n",
       "\n",
       "\n",
       "/* Toggleable style: style used for estimator/Pipeline/ColumnTransformer box that is\n",
       "clickable and can be expanded/collapsed.\n",
       "- Pipeline and ColumnTransformer use this feature and define the default style\n",
       "- Estimators will overwrite some part of the style using the `sk-estimator` class\n",
       "*/\n",
       "\n",
       "/* Pipeline and ColumnTransformer style (default) */\n",
       "\n",
       "#sk-container-id-1 div.sk-toggleable {\n",
       "  /* Default theme specific background. It is overwritten whether we have a\n",
       "  specific estimator or a Pipeline/ColumnTransformer */\n",
       "  background-color: var(--sklearn-color-background);\n",
       "}\n",
       "\n",
       "/* Toggleable label */\n",
       "#sk-container-id-1 label.sk-toggleable__label {\n",
       "  cursor: pointer;\n",
       "  display: block;\n",
       "  width: 100%;\n",
       "  margin-bottom: 0;\n",
       "  padding: 0.5em;\n",
       "  box-sizing: border-box;\n",
       "  text-align: center;\n",
       "}\n",
       "\n",
       "#sk-container-id-1 label.sk-toggleable__label-arrow:before {\n",
       "  /* Arrow on the left of the label */\n",
       "  content: \"▸\";\n",
       "  float: left;\n",
       "  margin-right: 0.25em;\n",
       "  color: var(--sklearn-color-icon);\n",
       "}\n",
       "\n",
       "#sk-container-id-1 label.sk-toggleable__label-arrow:hover:before {\n",
       "  color: var(--sklearn-color-text);\n",
       "}\n",
       "\n",
       "/* Toggleable content - dropdown */\n",
       "\n",
       "#sk-container-id-1 div.sk-toggleable__content {\n",
       "  max-height: 0;\n",
       "  max-width: 0;\n",
       "  overflow: hidden;\n",
       "  text-align: left;\n",
       "  /* unfitted */\n",
       "  background-color: var(--sklearn-color-unfitted-level-0);\n",
       "}\n",
       "\n",
       "#sk-container-id-1 div.sk-toggleable__content.fitted {\n",
       "  /* fitted */\n",
       "  background-color: var(--sklearn-color-fitted-level-0);\n",
       "}\n",
       "\n",
       "#sk-container-id-1 div.sk-toggleable__content pre {\n",
       "  margin: 0.2em;\n",
       "  border-radius: 0.25em;\n",
       "  color: var(--sklearn-color-text);\n",
       "  /* unfitted */\n",
       "  background-color: var(--sklearn-color-unfitted-level-0);\n",
       "}\n",
       "\n",
       "#sk-container-id-1 div.sk-toggleable__content.fitted pre {\n",
       "  /* unfitted */\n",
       "  background-color: var(--sklearn-color-fitted-level-0);\n",
       "}\n",
       "\n",
       "#sk-container-id-1 input.sk-toggleable__control:checked~div.sk-toggleable__content {\n",
       "  /* Expand drop-down */\n",
       "  max-height: 200px;\n",
       "  max-width: 100%;\n",
       "  overflow: auto;\n",
       "}\n",
       "\n",
       "#sk-container-id-1 input.sk-toggleable__control:checked~label.sk-toggleable__label-arrow:before {\n",
       "  content: \"▾\";\n",
       "}\n",
       "\n",
       "/* Pipeline/ColumnTransformer-specific style */\n",
       "\n",
       "#sk-container-id-1 div.sk-label input.sk-toggleable__control:checked~label.sk-toggleable__label {\n",
       "  color: var(--sklearn-color-text);\n",
       "  background-color: var(--sklearn-color-unfitted-level-2);\n",
       "}\n",
       "\n",
       "#sk-container-id-1 div.sk-label.fitted input.sk-toggleable__control:checked~label.sk-toggleable__label {\n",
       "  background-color: var(--sklearn-color-fitted-level-2);\n",
       "}\n",
       "\n",
       "/* Estimator-specific style */\n",
       "\n",
       "/* Colorize estimator box */\n",
       "#sk-container-id-1 div.sk-estimator input.sk-toggleable__control:checked~label.sk-toggleable__label {\n",
       "  /* unfitted */\n",
       "  background-color: var(--sklearn-color-unfitted-level-2);\n",
       "}\n",
       "\n",
       "#sk-container-id-1 div.sk-estimator.fitted input.sk-toggleable__control:checked~label.sk-toggleable__label {\n",
       "  /* fitted */\n",
       "  background-color: var(--sklearn-color-fitted-level-2);\n",
       "}\n",
       "\n",
       "#sk-container-id-1 div.sk-label label.sk-toggleable__label,\n",
       "#sk-container-id-1 div.sk-label label {\n",
       "  /* The background is the default theme color */\n",
       "  color: var(--sklearn-color-text-on-default-background);\n",
       "}\n",
       "\n",
       "/* On hover, darken the color of the background */\n",
       "#sk-container-id-1 div.sk-label:hover label.sk-toggleable__label {\n",
       "  color: var(--sklearn-color-text);\n",
       "  background-color: var(--sklearn-color-unfitted-level-2);\n",
       "}\n",
       "\n",
       "/* Label box, darken color on hover, fitted */\n",
       "#sk-container-id-1 div.sk-label.fitted:hover label.sk-toggleable__label.fitted {\n",
       "  color: var(--sklearn-color-text);\n",
       "  background-color: var(--sklearn-color-fitted-level-2);\n",
       "}\n",
       "\n",
       "/* Estimator label */\n",
       "\n",
       "#sk-container-id-1 div.sk-label label {\n",
       "  font-family: monospace;\n",
       "  font-weight: bold;\n",
       "  display: inline-block;\n",
       "  line-height: 1.2em;\n",
       "}\n",
       "\n",
       "#sk-container-id-1 div.sk-label-container {\n",
       "  text-align: center;\n",
       "}\n",
       "\n",
       "/* Estimator-specific */\n",
       "#sk-container-id-1 div.sk-estimator {\n",
       "  font-family: monospace;\n",
       "  border: 1px dotted var(--sklearn-color-border-box);\n",
       "  border-radius: 0.25em;\n",
       "  box-sizing: border-box;\n",
       "  margin-bottom: 0.5em;\n",
       "  /* unfitted */\n",
       "  background-color: var(--sklearn-color-unfitted-level-0);\n",
       "}\n",
       "\n",
       "#sk-container-id-1 div.sk-estimator.fitted {\n",
       "  /* fitted */\n",
       "  background-color: var(--sklearn-color-fitted-level-0);\n",
       "}\n",
       "\n",
       "/* on hover */\n",
       "#sk-container-id-1 div.sk-estimator:hover {\n",
       "  /* unfitted */\n",
       "  background-color: var(--sklearn-color-unfitted-level-2);\n",
       "}\n",
       "\n",
       "#sk-container-id-1 div.sk-estimator.fitted:hover {\n",
       "  /* fitted */\n",
       "  background-color: var(--sklearn-color-fitted-level-2);\n",
       "}\n",
       "\n",
       "/* Specification for estimator info (e.g. \"i\" and \"?\") */\n",
       "\n",
       "/* Common style for \"i\" and \"?\" */\n",
       "\n",
       ".sk-estimator-doc-link,\n",
       "a:link.sk-estimator-doc-link,\n",
       "a:visited.sk-estimator-doc-link {\n",
       "  float: right;\n",
       "  font-size: smaller;\n",
       "  line-height: 1em;\n",
       "  font-family: monospace;\n",
       "  background-color: var(--sklearn-color-background);\n",
       "  border-radius: 1em;\n",
       "  height: 1em;\n",
       "  width: 1em;\n",
       "  text-decoration: none !important;\n",
       "  margin-left: 1ex;\n",
       "  /* unfitted */\n",
       "  border: var(--sklearn-color-unfitted-level-1) 1pt solid;\n",
       "  color: var(--sklearn-color-unfitted-level-1);\n",
       "}\n",
       "\n",
       ".sk-estimator-doc-link.fitted,\n",
       "a:link.sk-estimator-doc-link.fitted,\n",
       "a:visited.sk-estimator-doc-link.fitted {\n",
       "  /* fitted */\n",
       "  border: var(--sklearn-color-fitted-level-1) 1pt solid;\n",
       "  color: var(--sklearn-color-fitted-level-1);\n",
       "}\n",
       "\n",
       "/* On hover */\n",
       "div.sk-estimator:hover .sk-estimator-doc-link:hover,\n",
       ".sk-estimator-doc-link:hover,\n",
       "div.sk-label-container:hover .sk-estimator-doc-link:hover,\n",
       ".sk-estimator-doc-link:hover {\n",
       "  /* unfitted */\n",
       "  background-color: var(--sklearn-color-unfitted-level-3);\n",
       "  color: var(--sklearn-color-background);\n",
       "  text-decoration: none;\n",
       "}\n",
       "\n",
       "div.sk-estimator.fitted:hover .sk-estimator-doc-link.fitted:hover,\n",
       ".sk-estimator-doc-link.fitted:hover,\n",
       "div.sk-label-container:hover .sk-estimator-doc-link.fitted:hover,\n",
       ".sk-estimator-doc-link.fitted:hover {\n",
       "  /* fitted */\n",
       "  background-color: var(--sklearn-color-fitted-level-3);\n",
       "  color: var(--sklearn-color-background);\n",
       "  text-decoration: none;\n",
       "}\n",
       "\n",
       "/* Span, style for the box shown on hovering the info icon */\n",
       ".sk-estimator-doc-link span {\n",
       "  display: none;\n",
       "  z-index: 9999;\n",
       "  position: relative;\n",
       "  font-weight: normal;\n",
       "  right: .2ex;\n",
       "  padding: .5ex;\n",
       "  margin: .5ex;\n",
       "  width: min-content;\n",
       "  min-width: 20ex;\n",
       "  max-width: 50ex;\n",
       "  color: var(--sklearn-color-text);\n",
       "  box-shadow: 2pt 2pt 4pt #999;\n",
       "  /* unfitted */\n",
       "  background: var(--sklearn-color-unfitted-level-0);\n",
       "  border: .5pt solid var(--sklearn-color-unfitted-level-3);\n",
       "}\n",
       "\n",
       ".sk-estimator-doc-link.fitted span {\n",
       "  /* fitted */\n",
       "  background: var(--sklearn-color-fitted-level-0);\n",
       "  border: var(--sklearn-color-fitted-level-3);\n",
       "}\n",
       "\n",
       ".sk-estimator-doc-link:hover span {\n",
       "  display: block;\n",
       "}\n",
       "\n",
       "/* \"?\"-specific style due to the `<a>` HTML tag */\n",
       "\n",
       "#sk-container-id-1 a.estimator_doc_link {\n",
       "  float: right;\n",
       "  font-size: 1rem;\n",
       "  line-height: 1em;\n",
       "  font-family: monospace;\n",
       "  background-color: var(--sklearn-color-background);\n",
       "  border-radius: 1rem;\n",
       "  height: 1rem;\n",
       "  width: 1rem;\n",
       "  text-decoration: none;\n",
       "  /* unfitted */\n",
       "  color: var(--sklearn-color-unfitted-level-1);\n",
       "  border: var(--sklearn-color-unfitted-level-1) 1pt solid;\n",
       "}\n",
       "\n",
       "#sk-container-id-1 a.estimator_doc_link.fitted {\n",
       "  /* fitted */\n",
       "  border: var(--sklearn-color-fitted-level-1) 1pt solid;\n",
       "  color: var(--sklearn-color-fitted-level-1);\n",
       "}\n",
       "\n",
       "/* On hover */\n",
       "#sk-container-id-1 a.estimator_doc_link:hover {\n",
       "  /* unfitted */\n",
       "  background-color: var(--sklearn-color-unfitted-level-3);\n",
       "  color: var(--sklearn-color-background);\n",
       "  text-decoration: none;\n",
       "}\n",
       "\n",
       "#sk-container-id-1 a.estimator_doc_link.fitted:hover {\n",
       "  /* fitted */\n",
       "  background-color: var(--sklearn-color-fitted-level-3);\n",
       "}\n",
       "</style><div id=\"sk-container-id-1\" class=\"sk-top-container\"><div class=\"sk-text-repr-fallback\"><pre>Pipeline(steps=[(&#x27;encoder&#x27;, Encoder()), (&#x27;clf&#x27;, LogisticRegression())])</pre><b>In a Jupyter environment, please rerun this cell to show the HTML representation or trust the notebook. <br />On GitHub, the HTML representation is unable to render, please try loading this page with nbviewer.org.</b></div><div class=\"sk-container\" hidden><div class=\"sk-item sk-dashed-wrapped\"><div class=\"sk-label-container\"><div class=\"sk-label fitted sk-toggleable\"><input class=\"sk-toggleable__control sk-hidden--visually\" id=\"sk-estimator-id-1\" type=\"checkbox\" ><label for=\"sk-estimator-id-1\" class=\"sk-toggleable__label fitted sk-toggleable__label-arrow fitted\">&nbsp;&nbsp;Pipeline<a class=\"sk-estimator-doc-link fitted\" rel=\"noreferrer\" target=\"_blank\" href=\"https://scikit-learn.org/1.5/modules/generated/sklearn.pipeline.Pipeline.html\">?<span>Documentation for Pipeline</span></a><span class=\"sk-estimator-doc-link fitted\">i<span>Fitted</span></span></label><div class=\"sk-toggleable__content fitted\"><pre>Pipeline(steps=[(&#x27;encoder&#x27;, Encoder()), (&#x27;clf&#x27;, LogisticRegression())])</pre></div> </div></div><div class=\"sk-serial\"><div class=\"sk-item\"><div class=\"sk-estimator fitted sk-toggleable\"><input class=\"sk-toggleable__control sk-hidden--visually\" id=\"sk-estimator-id-2\" type=\"checkbox\" ><label for=\"sk-estimator-id-2\" class=\"sk-toggleable__label fitted sk-toggleable__label-arrow fitted\">Encoder</label><div class=\"sk-toggleable__content fitted\"><pre>Encoder()</pre></div> </div></div><div class=\"sk-item\"><div class=\"sk-estimator fitted sk-toggleable\"><input class=\"sk-toggleable__control sk-hidden--visually\" id=\"sk-estimator-id-3\" type=\"checkbox\" ><label for=\"sk-estimator-id-3\" class=\"sk-toggleable__label fitted sk-toggleable__label-arrow fitted\">&nbsp;LogisticRegression<a class=\"sk-estimator-doc-link fitted\" rel=\"noreferrer\" target=\"_blank\" href=\"https://scikit-learn.org/1.5/modules/generated/sklearn.linear_model.LogisticRegression.html\">?<span>Documentation for LogisticRegression</span></a></label><div class=\"sk-toggleable__content fitted\"><pre>LogisticRegression()</pre></div> </div></div></div></div></div></div>"
      ],
      "text/plain": [
       "Pipeline(steps=[('encoder', Encoder()), ('clf', LogisticRegression())])"
      ]
     },
     "execution_count": 23,
     "metadata": {},
     "output_type": "execute_result"
    }
   ],
   "source": [
    "pipeline.fit(X_train, y_train)"
   ]
  },
  {
   "cell_type": "code",
   "execution_count": 24,
   "id": "d41b191c-4260-44e9-8d61-baa21b2f6c0b",
   "metadata": {},
   "outputs": [
    {
     "data": {
      "text/plain": [
       "array(['greeting', 'menu', 'menu', 'greeting', 'restart', 'greeting',\n",
       "       'restart', 'menu', 'greeting', 'greeting', 'restart', 'greeting',\n",
       "       'menu', 'menu', 'menu'], dtype=object)"
      ]
     },
     "execution_count": 24,
     "metadata": {},
     "output_type": "execute_result"
    }
   ],
   "source": [
    "y_pred = pipeline.predict(X_test)\n",
    "y_pred"
   ]
  },
  {
   "cell_type": "code",
   "execution_count": 25,
   "id": "7b4a2430-45a1-47f6-9c55-e31f833090c1",
   "metadata": {},
   "outputs": [
    {
     "data": {
      "text/plain": [
       "array(['menu'], dtype=object)"
      ]
     },
     "execution_count": 25,
     "metadata": {},
     "output_type": "execute_result"
    }
   ],
   "source": [
    "single_pred = pipeline.predict([\"Please let's move on\"])\n",
    "single_pred"
   ]
  },
  {
   "cell_type": "code",
   "execution_count": 26,
   "id": "3c333ad4-bbd4-473f-957d-86663a434eab",
   "metadata": {},
   "outputs": [
    {
     "data": {
      "text/plain": [
       "array([[0.30275491, 0.39219676, 0.30504833]])"
      ]
     },
     "execution_count": 26,
     "metadata": {},
     "output_type": "execute_result"
    }
   ],
   "source": [
    "probas = pipeline.predict_proba([\"Please let's move on\"])\n",
    "probas"
   ]
  },
  {
   "cell_type": "code",
   "execution_count": 27,
   "id": "70ee4c1a-1c6b-4d27-a5a2-bce4f000b097",
   "metadata": {},
   "outputs": [
    {
     "data": {
      "text/plain": [
       "0.39219676403837844"
      ]
     },
     "execution_count": 27,
     "metadata": {},
     "output_type": "execute_result"
    }
   ],
   "source": [
    "confidence_score = float(np.max(probas, axis=1)[0])\n",
    "confidence_score"
   ]
  },
  {
   "cell_type": "code",
   "execution_count": 28,
   "id": "099e68ca-7a39-4dde-84b5-d16473e98b6c",
   "metadata": {},
   "outputs": [
    {
     "name": "stdout",
     "output_type": "stream",
     "text": [
      "\n",
      "Classification Report:\n",
      "               precision    recall  f1-score   support\n",
      "\n",
      "    greeting       0.83      1.00      0.91         5\n",
      "        menu       0.67      1.00      0.80         4\n",
      "     restart       1.00      0.50      0.67         6\n",
      "\n",
      "    accuracy                           0.80        15\n",
      "   macro avg       0.83      0.83      0.79        15\n",
      "weighted avg       0.86      0.80      0.78        15\n",
      "\n"
     ]
    }
   ],
   "source": [
    "print(\"\\nClassification Report:\\n\", classification_report(y_test, y_pred))"
   ]
  },
  {
   "cell_type": "markdown",
   "id": "3fd8b29c-7cf7-4abb-9e36-b6badf3eefdf",
   "metadata": {},
   "source": [
    "### Run predictions on traces"
   ]
  },
  {
   "cell_type": "code",
   "execution_count": 29,
   "id": "71c537ea-1958-40c1-b143-c9baa36d08bd",
   "metadata": {},
   "outputs": [],
   "source": [
    "for index, row in traces_df.iterrows():\n",
    "    result = pipeline.predict([row[\"message\"]])\n",
    "    probas = pipeline.predict_proba([row[\"message\"]])\n",
    "    confidence_score = float(np.max(probas, axis=1)[0])\n",
    "    \n",
    "    traces_df.at[index, \"label\"] = \"\".join(result)\n",
    "    traces_df.at[index, \"confidence_score\"] = confidence_score"
   ]
  },
  {
   "cell_type": "markdown",
   "id": "3159b278-c153-499e-a064-4be84a0386d0",
   "metadata": {},
   "source": [
    "### Tag traces with labels"
   ]
  },
  {
   "cell_type": "code",
   "execution_count": 30,
   "id": "2ab68706-f204-4ee9-a2f0-fc870ace3cad",
   "metadata": {},
   "outputs": [],
   "source": [
    "# Note: This will add to existing tags, not add duplicate tags.\n",
    "for index, row in traces_df.iterrows():\n",
    "    if row[\"confidence_score\"] > 0.30:\n",
    "        trace_id = row[\"trace_id\"]\n",
    "        label = row[\"label\"]\n",
    "        langfuse.trace(id=trace_id, tags = [label])"
   ]
  },
  {
   "cell_type": "markdown",
   "id": "a9ca468a-fae5-41b4-9f5b-b1c9c159db0b",
   "metadata": {},
   "source": [
    "## Unsupervised intent classification pipeline"
   ]
  },
  {
   "cell_type": "markdown",
   "id": "66e69ba7-0c17-4152-a734-68146836a456",
   "metadata": {},
   "source": [
    "### Upload sample utterances to Langfuse and retrieve them\n",
    "As before, you can run the next few cells to create some simple dummy trace data based on the training data from the previous section.  The remainder of this section expects a trace with a \"message\" key in the input.  You may need to adjust the notebook to your trace data's structure if you use data with another structure."
   ]
  },
  {
   "cell_type": "code",
   "execution_count": 42,
   "id": "ef8a6c08-a64b-4969-9b67-04e81f113211",
   "metadata": {},
   "outputs": [],
   "source": [
    "# This uses the training data for the intent classification model earlier\n",
    "sample_utterances_2 = sample_data[\"text\"]"
   ]
  },
  {
   "cell_type": "code",
   "execution_count": 32,
   "id": "0797e356-71c3-4649-bc8e-a3ebd8246848",
   "metadata": {},
   "outputs": [],
   "source": [
    "# Create dummy traces\n",
    "for utterance in sample_utterances_2:\n",
    "    input = {\n",
    "        \"message\": utterance\n",
    "    }\n",
    "    langfuse.trace(\n",
    "        input=input\n",
    "    )"
   ]
  },
  {
   "cell_type": "code",
   "execution_count": 33,
   "id": "89ac06fe-b19f-42d0-a2a8-5e1ad9376d62",
   "metadata": {},
   "outputs": [],
   "source": [
    "traces = langfuse.fetch_traces()"
   ]
  },
  {
   "cell_type": "code",
   "execution_count": 34,
   "id": "7f200ba3-bd50-4ff5-ae36-296dda6eaa00",
   "metadata": {},
   "outputs": [],
   "source": [
    "traces_list = []\n",
    "for trace in traces.data:\n",
    "    trace_info = [trace.id, trace.input[\"message\"]]\n",
    "    traces_list.append(trace_info)"
   ]
  },
  {
   "cell_type": "code",
   "execution_count": 43,
   "id": "2bc1089b-d032-49e4-8344-927ce8b28376",
   "metadata": {},
   "outputs": [],
   "source": [
    "cluster_traces_df = pd.DataFrame(traces_list, columns=[\"trace_id\", \"message\"])"
   ]
  },
  {
   "cell_type": "code",
   "execution_count": 44,
   "id": "ee81f075-e118-4ff8-b15c-9cf0f93002ce",
   "metadata": {},
   "outputs": [
    {
     "data": {
      "text/html": [
       "<div>\n",
       "<style scoped>\n",
       "    .dataframe tbody tr th:only-of-type {\n",
       "        vertical-align: middle;\n",
       "    }\n",
       "\n",
       "    .dataframe tbody tr th {\n",
       "        vertical-align: top;\n",
       "    }\n",
       "\n",
       "    .dataframe thead th {\n",
       "        text-align: right;\n",
       "    }\n",
       "</style>\n",
       "<table border=\"1\" class=\"dataframe\">\n",
       "  <thead>\n",
       "    <tr style=\"text-align: right;\">\n",
       "      <th></th>\n",
       "      <th>trace_id</th>\n",
       "      <th>message</th>\n",
       "    </tr>\n",
       "  </thead>\n",
       "  <tbody>\n",
       "    <tr>\n",
       "      <th>5</th>\n",
       "      <td>da6beb43-e166-4eda-93e6-a24827cfff78</td>\n",
       "      <td>Can I review that?</td>\n",
       "    </tr>\n",
       "    <tr>\n",
       "      <th>6</th>\n",
       "      <td>2d7ec4e4-5719-4ba5-913b-a8cc9277b947</td>\n",
       "      <td>one more time</td>\n",
       "    </tr>\n",
       "    <tr>\n",
       "      <th>7</th>\n",
       "      <td>89857e58-cd81-40d9-9b7d-a1855142b709</td>\n",
       "      <td>I want to see the menu</td>\n",
       "    </tr>\n",
       "    <tr>\n",
       "      <th>8</th>\n",
       "      <td>eb72ac35-4ef2-4a72-af3b-9b606175d3a4</td>\n",
       "      <td>Could we chat about another subject</td>\n",
       "    </tr>\n",
       "    <tr>\n",
       "      <th>9</th>\n",
       "      <td>9cf13b34-e89e-43d5-ba5d-7ef8cc8cb4c5</td>\n",
       "      <td>menu, please</td>\n",
       "    </tr>\n",
       "    <tr>\n",
       "      <th>10</th>\n",
       "      <td>f94d4b68-1c1c-4ae3-9343-b5065bd601a4</td>\n",
       "      <td>let me try again</td>\n",
       "    </tr>\n",
       "  </tbody>\n",
       "</table>\n",
       "</div>"
      ],
      "text/plain": [
       "                                trace_id                              message\n",
       "5   da6beb43-e166-4eda-93e6-a24827cfff78                   Can I review that?\n",
       "6   2d7ec4e4-5719-4ba5-913b-a8cc9277b947                        one more time\n",
       "7   89857e58-cd81-40d9-9b7d-a1855142b709               I want to see the menu\n",
       "8   eb72ac35-4ef2-4a72-af3b-9b606175d3a4  Could we chat about another subject\n",
       "9   9cf13b34-e89e-43d5-ba5d-7ef8cc8cb4c5                         menu, please\n",
       "10  f94d4b68-1c1c-4ae3-9343-b5065bd601a4                     let me try again"
      ]
     },
     "execution_count": 44,
     "metadata": {},
     "output_type": "execute_result"
    }
   ],
   "source": [
    "# Exclude the four traces from before\n",
    "cluster_traces_df = cluster_traces_df[~cluster_traces_df[\"trace_id\"].isin(traces_df[\"trace_id\"])]\n",
    "cluster_traces_df[5:11]"
   ]
  },
  {
   "cell_type": "markdown",
   "id": "8e04f908-a9ef-4333-bd84-00c1c6122c4e",
   "metadata": {},
   "source": [
    "### Embed the utterances"
   ]
  },
  {
   "cell_type": "code",
   "execution_count": 45,
   "id": "11c63fbd-86c0-4c67-a0c7-d05fbc0f9bd2",
   "metadata": {},
   "outputs": [],
   "source": [
    "embeddings = embedding_model.encode(sample_utterances_2)"
   ]
  },
  {
   "cell_type": "markdown",
   "id": "2d97475d-95ae-487e-a974-fcdb8884865a",
   "metadata": {},
   "source": [
    "### Save embeddings to a vector database\n",
    "For this notebook, the embeddings in the `embeddings` variable are all you need.  However, saving embeddings and metadata to a vector database offers a more robust pipeline.  You can reuse the embeddings later in subsequent labeling sessions to recategorize intents or adjust labels."
   ]
  },
  {
   "cell_type": "code",
   "execution_count": 46,
   "id": "0df61cef-ed4d-4f37-a9c9-bf98ca8d4595",
   "metadata": {},
   "outputs": [],
   "source": [
    "import chromadb"
   ]
  },
  {
   "cell_type": "code",
   "execution_count": 47,
   "id": "3f228408-21ff-47b2-9d6d-72db705ac588",
   "metadata": {},
   "outputs": [],
   "source": [
    "# Note: use PersistentClient() to save to and load from your local machine\n",
    "client = chromadb.Client()"
   ]
  },
  {
   "cell_type": "code",
   "execution_count": 48,
   "id": "73660849-f7e2-4540-b956-5a493824faff",
   "metadata": {},
   "outputs": [],
   "source": [
    "collection = client.create_collection(\"traces\")"
   ]
  },
  {
   "cell_type": "code",
   "execution_count": 49,
   "id": "72307f69-f023-4a24-abb9-55919a475ff9",
   "metadata": {},
   "outputs": [],
   "source": [
    "for i, (utterance, embedding, trace) in enumerate(zip(sample_utterances_2, embeddings, traces_list)):\n",
    "    collection.add(\n",
    "        documents=[utterance],\n",
    "        embeddings=[embedding],\n",
    "        metadatas=[{\"trace_id\":trace[0]}],\n",
    "        ids=[str(i)]\n",
    "    )"
   ]
  },
  {
   "cell_type": "code",
   "execution_count": 50,
   "id": "22755b96-3761-4269-ade3-6a0d4b2553fe",
   "metadata": {},
   "outputs": [
    {
     "data": {
      "text/plain": [
       "{'ids': ['0', '1', '2'],\n",
       " 'embeddings': array([[ 0.03394877, -0.00561435, -0.00121842, ...,  0.00074777,\n",
       "         -0.03420043,  0.01577002],\n",
       "        [ 0.03063983, -0.00623007, -0.00212156, ...,  0.03398374,\n",
       "         -0.01675461,  0.00519884],\n",
       "        [ 0.0427538 ,  0.03953217,  0.00019924, ...,  0.0452202 ,\n",
       "         -0.03691882,  0.01709924]]),\n",
       " 'metadatas': [{'trace_id': '049ca5be-0726-4667-bb0c-97c788bd3a8d'},\n",
       "  {'trace_id': '16756ba4-7b4c-4f7b-a537-9b6ae9d6bf82'},\n",
       "  {'trace_id': '4f99dd4f-2ac6-4871-9e3b-71874bed6f3c'}],\n",
       " 'documents': ['hi', 'hello', 'howdy'],\n",
       " 'uris': None,\n",
       " 'data': None,\n",
       " 'included': ['embeddings', 'documents', 'metadatas']}"
      ]
     },
     "execution_count": 50,
     "metadata": {},
     "output_type": "execute_result"
    }
   ],
   "source": [
    "sample_chroma_records = collection.get(limit=3, include=[\"embeddings\", \"documents\", \"metadatas\"])\n",
    "sample_chroma_records"
   ]
  },
  {
   "cell_type": "code",
   "execution_count": 51,
   "id": "5c510145-86e1-465f-a48c-b6fb839751a7",
   "metadata": {},
   "outputs": [],
   "source": [
    "chroma_embeddings = collection.get(include=[\"embeddings\"])"
   ]
  },
  {
   "cell_type": "code",
   "execution_count": 52,
   "id": "b06577d6-0c1a-4531-bd9f-8ecfc21ae1dd",
   "metadata": {},
   "outputs": [],
   "source": [
    "embeddings = chroma_embeddings[\"embeddings\"]"
   ]
  },
  {
   "cell_type": "markdown",
   "id": "733ebb2a-27ed-483e-b014-ff91f256638a",
   "metadata": {},
   "source": [
    "### Find clusters among utterances"
   ]
  },
  {
   "cell_type": "code",
   "execution_count": 53,
   "id": "a3440931-67dc-40cc-bf81-f515f61616fb",
   "metadata": {},
   "outputs": [],
   "source": [
    "import hdbscan"
   ]
  },
  {
   "cell_type": "code",
   "execution_count": 54,
   "id": "20f9c819-c8b4-44fd-b98e-cdf07529d15e",
   "metadata": {},
   "outputs": [],
   "source": [
    "clusterer = hdbscan.HDBSCAN(min_cluster_size=2)"
   ]
  },
  {
   "cell_type": "code",
   "execution_count": 55,
   "id": "0be82584-47c1-4da1-9b1a-860e4a0e4ad8",
   "metadata": {},
   "outputs": [
    {
     "data": {
      "text/plain": [
       "array([ 0,  0,  0,  0,  0,  0,  2,  2,  0,  0,  1, -1,  3,  1,  3,  1, -1,\n",
       "        1,  3,  1,  2,  2,  2,  2, -1, -1,  2,  2,  2,  2])"
      ]
     },
     "execution_count": 55,
     "metadata": {},
     "output_type": "execute_result"
    }
   ],
   "source": [
    "cluster_labels = clusterer.fit_predict(embeddings)\n",
    "cluster_labels"
   ]
  },
  {
   "cell_type": "code",
   "execution_count": 56,
   "id": "f79cd56d-e2d5-4038-b60b-dccf61d849f6",
   "metadata": {},
   "outputs": [],
   "source": [
    "clustered_utterances = {}\n",
    "for idx, label in enumerate(cluster_labels):\n",
    "    if label == -1:\n",
    "        continue\n",
    "    if label not in clustered_utterances:\n",
    "        clustered_utterances[label] = []\n",
    "    clustered_utterances[label].append(utterances[idx])"
   ]
  },
  {
   "cell_type": "code",
   "execution_count": 57,
   "id": "cbc802a5-70e4-405d-9d3f-12a003488c2c",
   "metadata": {},
   "outputs": [],
   "source": [
    "for index, row in cluster_traces_df.iterrows():\n",
    "    clusters = list(cluster_labels)\n",
    "    cluster_id = clusters[index]\n",
    "    cluster_traces_df.at[index,'cluster'] = cluster_id\n",
    "cluster_traces_df[\"cluster\"] = cluster_traces_df[\"cluster\"].astype(int)"
   ]
  },
  {
   "cell_type": "code",
   "execution_count": 58,
   "id": "858f4eb6-0ddc-4f7a-b4b5-b8be583e8363",
   "metadata": {},
   "outputs": [
    {
     "data": {
      "text/html": [
       "<div>\n",
       "<style scoped>\n",
       "    .dataframe tbody tr th:only-of-type {\n",
       "        vertical-align: middle;\n",
       "    }\n",
       "\n",
       "    .dataframe tbody tr th {\n",
       "        vertical-align: top;\n",
       "    }\n",
       "\n",
       "    .dataframe thead th {\n",
       "        text-align: right;\n",
       "    }\n",
       "</style>\n",
       "<table border=\"1\" class=\"dataframe\">\n",
       "  <thead>\n",
       "    <tr style=\"text-align: right;\">\n",
       "      <th></th>\n",
       "      <th>trace_id</th>\n",
       "      <th>message</th>\n",
       "      <th>cluster</th>\n",
       "    </tr>\n",
       "  </thead>\n",
       "  <tbody>\n",
       "    <tr>\n",
       "      <th>5</th>\n",
       "      <td>da6beb43-e166-4eda-93e6-a24827cfff78</td>\n",
       "      <td>Can I review that?</td>\n",
       "      <td>0</td>\n",
       "    </tr>\n",
       "    <tr>\n",
       "      <th>6</th>\n",
       "      <td>2d7ec4e4-5719-4ba5-913b-a8cc9277b947</td>\n",
       "      <td>one more time</td>\n",
       "      <td>2</td>\n",
       "    </tr>\n",
       "    <tr>\n",
       "      <th>7</th>\n",
       "      <td>89857e58-cd81-40d9-9b7d-a1855142b709</td>\n",
       "      <td>I want to see the menu</td>\n",
       "      <td>2</td>\n",
       "    </tr>\n",
       "    <tr>\n",
       "      <th>8</th>\n",
       "      <td>eb72ac35-4ef2-4a72-af3b-9b606175d3a4</td>\n",
       "      <td>Could we chat about another subject</td>\n",
       "      <td>0</td>\n",
       "    </tr>\n",
       "    <tr>\n",
       "      <th>9</th>\n",
       "      <td>9cf13b34-e89e-43d5-ba5d-7ef8cc8cb4c5</td>\n",
       "      <td>menu, please</td>\n",
       "      <td>0</td>\n",
       "    </tr>\n",
       "    <tr>\n",
       "      <th>10</th>\n",
       "      <td>f94d4b68-1c1c-4ae3-9343-b5065bd601a4</td>\n",
       "      <td>let me try again</td>\n",
       "      <td>1</td>\n",
       "    </tr>\n",
       "  </tbody>\n",
       "</table>\n",
       "</div>"
      ],
      "text/plain": [
       "                                trace_id                              message  \\\n",
       "5   da6beb43-e166-4eda-93e6-a24827cfff78                   Can I review that?   \n",
       "6   2d7ec4e4-5719-4ba5-913b-a8cc9277b947                        one more time   \n",
       "7   89857e58-cd81-40d9-9b7d-a1855142b709               I want to see the menu   \n",
       "8   eb72ac35-4ef2-4a72-af3b-9b606175d3a4  Could we chat about another subject   \n",
       "9   9cf13b34-e89e-43d5-ba5d-7ef8cc8cb4c5                         menu, please   \n",
       "10  f94d4b68-1c1c-4ae3-9343-b5065bd601a4                     let me try again   \n",
       "\n",
       "    cluster  \n",
       "5         0  \n",
       "6         2  \n",
       "7         2  \n",
       "8         0  \n",
       "9         0  \n",
       "10        1  "
      ]
     },
     "execution_count": 58,
     "metadata": {},
     "output_type": "execute_result"
    }
   ],
   "source": [
    "cluster_traces_df[5:11]"
   ]
  },
  {
   "cell_type": "markdown",
   "id": "e3b7bb8e-cb8b-41ba-b070-4338c034ecad",
   "metadata": {},
   "source": [
    "### Generate and assign label to cluster"
   ]
  },
  {
   "cell_type": "code",
   "execution_count": 59,
   "id": "73ec742a-78ca-4a3b-b141-d91969796b46",
   "metadata": {},
   "outputs": [],
   "source": [
    "import openai"
   ]
  },
  {
   "cell_type": "code",
   "execution_count": 60,
   "id": "a3dba394-5c0b-4d67-9ce3-31bb4a6e2068",
   "metadata": {},
   "outputs": [],
   "source": [
    "openai.api_key = os.environ.get(\"OPENAI_API_KEY\")"
   ]
  },
  {
   "cell_type": "code",
   "execution_count": 61,
   "id": "7c9a941e-7c85-46aa-ae6e-adfcba0f7671",
   "metadata": {},
   "outputs": [],
   "source": [
    "# Note: Depending on the volume of data you are running, \n",
    "# you may want to limit the number of utterances representing each group (ex. utterances_group[:5])\n",
    "\n",
    "def generate_label(utterances_group):\n",
    "    prompt = f\"\"\"\n",
    "        # Task\n",
    "        Your goal is to assign an intent label that most accurately fits the given group of utterances.\n",
    "        You will only provide a single label, no explanation.  The label should be snake cased.\n",
    "\n",
    "        ## Example utterances\n",
    "        so long\n",
    "        bye\n",
    "\n",
    "        ## Example labels\n",
    "        goodbye\n",
    "        end_conversation        \n",
    "        \n",
    "        Utterances: {utterances_group}\n",
    "        Label:\n",
    "    \"\"\"\n",
    "    response = openai.chat.completions.create(\n",
    "        model=\"gpt-4o-mini\",\n",
    "        messages=[\n",
    "            {\n",
    "                \"role\": \"user\",\n",
    "                \"content\": prompt\n",
    "            }\n",
    "        ],\n",
    "        max_tokens=50\n",
    "    )\n",
    "    return response.choices[0].message.content.strip()"
   ]
  },
  {
   "cell_type": "code",
   "execution_count": 62,
   "id": "1df6b214-a5b3-4eeb-871f-99973dc83ec2",
   "metadata": {},
   "outputs": [
    {
     "name": "stdout",
     "output_type": "stream",
     "text": [
      "Cluster 0: greet\n",
      "Cluster 2: start_conversation\n",
      "Cluster 1: switch_topic\n",
      "Cluster 3: view_menu\n"
     ]
    }
   ],
   "source": [
    "cluster_labels_map = {}\n",
    "for cluster_id, utterances_group in clustered_utterances.items():\n",
    "    label = generate_label(utterances_group)\n",
    "    cluster_labels_map[cluster_id] = label\n",
    "    print(f\"Cluster {cluster_id}: {label}\")"
   ]
  },
  {
   "cell_type": "code",
   "execution_count": 63,
   "id": "24748a1f-0f30-49ca-9f2d-d2aedb181198",
   "metadata": {},
   "outputs": [],
   "source": [
    "for index, row in cluster_traces_df.iterrows():\n",
    "    cluster_id = row[\"cluster\"]\n",
    "    if cluster_id != -1:\n",
    "        intent_label = cluster_labels_map[cluster_id]\n",
    "        cluster_traces_df.at[index, \"label\"] = intent_label"
   ]
  },
  {
   "cell_type": "code",
   "execution_count": 64,
   "id": "91846049-0ef8-4b06-8ce4-6fbb13156b27",
   "metadata": {},
   "outputs": [
    {
     "data": {
      "text/html": [
       "<div>\n",
       "<style scoped>\n",
       "    .dataframe tbody tr th:only-of-type {\n",
       "        vertical-align: middle;\n",
       "    }\n",
       "\n",
       "    .dataframe tbody tr th {\n",
       "        vertical-align: top;\n",
       "    }\n",
       "\n",
       "    .dataframe thead th {\n",
       "        text-align: right;\n",
       "    }\n",
       "</style>\n",
       "<table border=\"1\" class=\"dataframe\">\n",
       "  <thead>\n",
       "    <tr style=\"text-align: right;\">\n",
       "      <th></th>\n",
       "      <th>trace_id</th>\n",
       "      <th>message</th>\n",
       "      <th>cluster</th>\n",
       "      <th>label</th>\n",
       "    </tr>\n",
       "  </thead>\n",
       "  <tbody>\n",
       "    <tr>\n",
       "      <th>0</th>\n",
       "      <td>049ca5be-0726-4667-bb0c-97c788bd3a8d</td>\n",
       "      <td>go back to start</td>\n",
       "      <td>0</td>\n",
       "      <td>greet</td>\n",
       "    </tr>\n",
       "    <tr>\n",
       "      <th>1</th>\n",
       "      <td>16756ba4-7b4c-4f7b-a537-9b6ae9d6bf82</td>\n",
       "      <td>that was great, let's start from teh beginning</td>\n",
       "      <td>0</td>\n",
       "      <td>greet</td>\n",
       "    </tr>\n",
       "    <tr>\n",
       "      <th>2</th>\n",
       "      <td>4f99dd4f-2ac6-4871-9e3b-71874bed6f3c</td>\n",
       "      <td>again please</td>\n",
       "      <td>0</td>\n",
       "      <td>greet</td>\n",
       "    </tr>\n",
       "    <tr>\n",
       "      <th>3</th>\n",
       "      <td>e1081798-6ffc-4a7c-ac9e-4b3716d2fb80</td>\n",
       "      <td>redo</td>\n",
       "      <td>0</td>\n",
       "      <td>greet</td>\n",
       "    </tr>\n",
       "    <tr>\n",
       "      <th>4</th>\n",
       "      <td>3249d6c1-9ed3-42ab-9080-109f89840ffd</td>\n",
       "      <td>check again</td>\n",
       "      <td>0</td>\n",
       "      <td>greet</td>\n",
       "    </tr>\n",
       "    <tr>\n",
       "      <th>5</th>\n",
       "      <td>da6beb43-e166-4eda-93e6-a24827cfff78</td>\n",
       "      <td>Can I review that?</td>\n",
       "      <td>0</td>\n",
       "      <td>greet</td>\n",
       "    </tr>\n",
       "    <tr>\n",
       "      <th>6</th>\n",
       "      <td>2d7ec4e4-5719-4ba5-913b-a8cc9277b947</td>\n",
       "      <td>one more time</td>\n",
       "      <td>2</td>\n",
       "      <td>start_conversation</td>\n",
       "    </tr>\n",
       "    <tr>\n",
       "      <th>7</th>\n",
       "      <td>89857e58-cd81-40d9-9b7d-a1855142b709</td>\n",
       "      <td>I want to see the menu</td>\n",
       "      <td>2</td>\n",
       "      <td>start_conversation</td>\n",
       "    </tr>\n",
       "    <tr>\n",
       "      <th>8</th>\n",
       "      <td>eb72ac35-4ef2-4a72-af3b-9b606175d3a4</td>\n",
       "      <td>Could we chat about another subject</td>\n",
       "      <td>0</td>\n",
       "      <td>greet</td>\n",
       "    </tr>\n",
       "    <tr>\n",
       "      <th>9</th>\n",
       "      <td>9cf13b34-e89e-43d5-ba5d-7ef8cc8cb4c5</td>\n",
       "      <td>menu, please</td>\n",
       "      <td>0</td>\n",
       "      <td>greet</td>\n",
       "    </tr>\n",
       "    <tr>\n",
       "      <th>10</th>\n",
       "      <td>f94d4b68-1c1c-4ae3-9343-b5065bd601a4</td>\n",
       "      <td>let me try again</td>\n",
       "      <td>1</td>\n",
       "      <td>switch_topic</td>\n",
       "    </tr>\n",
       "    <tr>\n",
       "      <th>11</th>\n",
       "      <td>5493033f-ca43-46b9-87e6-d89c1e2d96dc</td>\n",
       "      <td>I'd like to do this again</td>\n",
       "      <td>-1</td>\n",
       "      <td>NaN</td>\n",
       "    </tr>\n",
       "    <tr>\n",
       "      <th>12</th>\n",
       "      <td>d0c15f05-a917-4720-8e11-c6c207a828e2</td>\n",
       "      <td>restart</td>\n",
       "      <td>3</td>\n",
       "      <td>view_menu</td>\n",
       "    </tr>\n",
       "    <tr>\n",
       "      <th>13</th>\n",
       "      <td>8551a06b-ddef-461e-81b3-8a19a2e147c9</td>\n",
       "      <td>Can we do something else</td>\n",
       "      <td>1</td>\n",
       "      <td>switch_topic</td>\n",
       "    </tr>\n",
       "    <tr>\n",
       "      <th>14</th>\n",
       "      <td>f1940631-89a7-4559-88e7-650f56e2bb51</td>\n",
       "      <td>Show me the menu</td>\n",
       "      <td>3</td>\n",
       "      <td>view_menu</td>\n",
       "    </tr>\n",
       "    <tr>\n",
       "      <th>15</th>\n",
       "      <td>64199969-7285-4ece-94dd-5c2ac7974d9d</td>\n",
       "      <td>discuss about something else</td>\n",
       "      <td>1</td>\n",
       "      <td>switch_topic</td>\n",
       "    </tr>\n",
       "    <tr>\n",
       "      <th>16</th>\n",
       "      <td>d3910a87-c622-4125-bec9-4630ca9dab8a</td>\n",
       "      <td>What else can you do</td>\n",
       "      <td>-1</td>\n",
       "      <td>NaN</td>\n",
       "    </tr>\n",
       "    <tr>\n",
       "      <th>17</th>\n",
       "      <td>8a219bd7-f17c-4fe5-ad3d-3d4629bc1a88</td>\n",
       "      <td>switch topics</td>\n",
       "      <td>1</td>\n",
       "      <td>switch_topic</td>\n",
       "    </tr>\n",
       "    <tr>\n",
       "      <th>18</th>\n",
       "      <td>8bb5f4f8-1bbd-4241-bc8a-2eab347d854d</td>\n",
       "      <td>options</td>\n",
       "      <td>3</td>\n",
       "      <td>view_menu</td>\n",
       "    </tr>\n",
       "    <tr>\n",
       "      <th>19</th>\n",
       "      <td>26370818-c601-4eda-8c07-d556813485c1</td>\n",
       "      <td>I want to talk about something else</td>\n",
       "      <td>1</td>\n",
       "      <td>switch_topic</td>\n",
       "    </tr>\n",
       "    <tr>\n",
       "      <th>20</th>\n",
       "      <td>1cb8916e-9867-4f40-8598-ace4ebdcc675</td>\n",
       "      <td>Good afternoon</td>\n",
       "      <td>2</td>\n",
       "      <td>start_conversation</td>\n",
       "    </tr>\n",
       "    <tr>\n",
       "      <th>21</th>\n",
       "      <td>c5654288-0fff-4a35-ae2d-542908d216f9</td>\n",
       "      <td>good morning</td>\n",
       "      <td>2</td>\n",
       "      <td>start_conversation</td>\n",
       "    </tr>\n",
       "    <tr>\n",
       "      <th>22</th>\n",
       "      <td>092983bd-9bcc-4825-a99a-b22de2dd0bd3</td>\n",
       "      <td>begin</td>\n",
       "      <td>2</td>\n",
       "      <td>start_conversation</td>\n",
       "    </tr>\n",
       "    <tr>\n",
       "      <th>23</th>\n",
       "      <td>53e1f89a-f334-4211-8c6e-5abaf65e6009</td>\n",
       "      <td>Let's start</td>\n",
       "      <td>2</td>\n",
       "      <td>start_conversation</td>\n",
       "    </tr>\n",
       "    <tr>\n",
       "      <th>24</th>\n",
       "      <td>4cf483d6-9ffe-4a22-af5a-e66f8e73a5d7</td>\n",
       "      <td>Nice to see you</td>\n",
       "      <td>-1</td>\n",
       "      <td>NaN</td>\n",
       "    </tr>\n",
       "    <tr>\n",
       "      <th>25</th>\n",
       "      <td>4c65b33d-b641-47c7-9c5e-61649d08df75</td>\n",
       "      <td>greetings</td>\n",
       "      <td>-1</td>\n",
       "      <td>NaN</td>\n",
       "    </tr>\n",
       "    <tr>\n",
       "      <th>26</th>\n",
       "      <td>4cc26e08-f7e5-40d8-8c17-97e798e94f79</td>\n",
       "      <td>hey there</td>\n",
       "      <td>2</td>\n",
       "      <td>start_conversation</td>\n",
       "    </tr>\n",
       "    <tr>\n",
       "      <th>27</th>\n",
       "      <td>19b27c5a-f462-4827-86c8-f40789b4fcb3</td>\n",
       "      <td>howdy</td>\n",
       "      <td>2</td>\n",
       "      <td>start_conversation</td>\n",
       "    </tr>\n",
       "    <tr>\n",
       "      <th>28</th>\n",
       "      <td>ae3c5684-c820-4395-bab9-76808db65191</td>\n",
       "      <td>hello</td>\n",
       "      <td>2</td>\n",
       "      <td>start_conversation</td>\n",
       "    </tr>\n",
       "    <tr>\n",
       "      <th>29</th>\n",
       "      <td>2db522f4-2c49-4bbe-b3d9-7b81368f9989</td>\n",
       "      <td>hi</td>\n",
       "      <td>2</td>\n",
       "      <td>start_conversation</td>\n",
       "    </tr>\n",
       "  </tbody>\n",
       "</table>\n",
       "</div>"
      ],
      "text/plain": [
       "                                trace_id  \\\n",
       "0   049ca5be-0726-4667-bb0c-97c788bd3a8d   \n",
       "1   16756ba4-7b4c-4f7b-a537-9b6ae9d6bf82   \n",
       "2   4f99dd4f-2ac6-4871-9e3b-71874bed6f3c   \n",
       "3   e1081798-6ffc-4a7c-ac9e-4b3716d2fb80   \n",
       "4   3249d6c1-9ed3-42ab-9080-109f89840ffd   \n",
       "5   da6beb43-e166-4eda-93e6-a24827cfff78   \n",
       "6   2d7ec4e4-5719-4ba5-913b-a8cc9277b947   \n",
       "7   89857e58-cd81-40d9-9b7d-a1855142b709   \n",
       "8   eb72ac35-4ef2-4a72-af3b-9b606175d3a4   \n",
       "9   9cf13b34-e89e-43d5-ba5d-7ef8cc8cb4c5   \n",
       "10  f94d4b68-1c1c-4ae3-9343-b5065bd601a4   \n",
       "11  5493033f-ca43-46b9-87e6-d89c1e2d96dc   \n",
       "12  d0c15f05-a917-4720-8e11-c6c207a828e2   \n",
       "13  8551a06b-ddef-461e-81b3-8a19a2e147c9   \n",
       "14  f1940631-89a7-4559-88e7-650f56e2bb51   \n",
       "15  64199969-7285-4ece-94dd-5c2ac7974d9d   \n",
       "16  d3910a87-c622-4125-bec9-4630ca9dab8a   \n",
       "17  8a219bd7-f17c-4fe5-ad3d-3d4629bc1a88   \n",
       "18  8bb5f4f8-1bbd-4241-bc8a-2eab347d854d   \n",
       "19  26370818-c601-4eda-8c07-d556813485c1   \n",
       "20  1cb8916e-9867-4f40-8598-ace4ebdcc675   \n",
       "21  c5654288-0fff-4a35-ae2d-542908d216f9   \n",
       "22  092983bd-9bcc-4825-a99a-b22de2dd0bd3   \n",
       "23  53e1f89a-f334-4211-8c6e-5abaf65e6009   \n",
       "24  4cf483d6-9ffe-4a22-af5a-e66f8e73a5d7   \n",
       "25  4c65b33d-b641-47c7-9c5e-61649d08df75   \n",
       "26  4cc26e08-f7e5-40d8-8c17-97e798e94f79   \n",
       "27  19b27c5a-f462-4827-86c8-f40789b4fcb3   \n",
       "28  ae3c5684-c820-4395-bab9-76808db65191   \n",
       "29  2db522f4-2c49-4bbe-b3d9-7b81368f9989   \n",
       "\n",
       "                                           message  cluster  \\\n",
       "0                                 go back to start        0   \n",
       "1   that was great, let's start from teh beginning        0   \n",
       "2                                     again please        0   \n",
       "3                                             redo        0   \n",
       "4                                      check again        0   \n",
       "5                               Can I review that?        0   \n",
       "6                                    one more time        2   \n",
       "7                           I want to see the menu        2   \n",
       "8              Could we chat about another subject        0   \n",
       "9                                     menu, please        0   \n",
       "10                                let me try again        1   \n",
       "11                       I'd like to do this again       -1   \n",
       "12                                         restart        3   \n",
       "13                        Can we do something else        1   \n",
       "14                                Show me the menu        3   \n",
       "15                    discuss about something else        1   \n",
       "16                            What else can you do       -1   \n",
       "17                                   switch topics        1   \n",
       "18                                         options        3   \n",
       "19             I want to talk about something else        1   \n",
       "20                                  Good afternoon        2   \n",
       "21                                    good morning        2   \n",
       "22                                           begin        2   \n",
       "23                                     Let's start        2   \n",
       "24                                 Nice to see you       -1   \n",
       "25                                       greetings       -1   \n",
       "26                                       hey there        2   \n",
       "27                                           howdy        2   \n",
       "28                                           hello        2   \n",
       "29                                              hi        2   \n",
       "\n",
       "                 label  \n",
       "0                greet  \n",
       "1                greet  \n",
       "2                greet  \n",
       "3                greet  \n",
       "4                greet  \n",
       "5                greet  \n",
       "6   start_conversation  \n",
       "7   start_conversation  \n",
       "8                greet  \n",
       "9                greet  \n",
       "10        switch_topic  \n",
       "11                 NaN  \n",
       "12           view_menu  \n",
       "13        switch_topic  \n",
       "14           view_menu  \n",
       "15        switch_topic  \n",
       "16                 NaN  \n",
       "17        switch_topic  \n",
       "18           view_menu  \n",
       "19        switch_topic  \n",
       "20  start_conversation  \n",
       "21  start_conversation  \n",
       "22  start_conversation  \n",
       "23  start_conversation  \n",
       "24                 NaN  \n",
       "25                 NaN  \n",
       "26  start_conversation  \n",
       "27  start_conversation  \n",
       "28  start_conversation  \n",
       "29  start_conversation  "
      ]
     },
     "execution_count": 64,
     "metadata": {},
     "output_type": "execute_result"
    }
   ],
   "source": [
    "cluster_traces_df"
   ]
  },
  {
   "cell_type": "markdown",
   "id": "a8c116be-01cc-4154-8d6f-4f70a59c0728",
   "metadata": {},
   "source": [
    "### Update vector database with label metadata"
   ]
  },
  {
   "cell_type": "code",
   "execution_count": 65,
   "id": "f3fe6076-4c83-451c-8cd2-3b1c43213a78",
   "metadata": {},
   "outputs": [],
   "source": [
    "for i, label in enumerate(cluster_labels):\n",
    "    if label != -1:\n",
    "        cluster_label = cluster_labels_map[label]\n",
    "        collection.update(ids=[str(i)], metadatas={\"label\": cluster_label})"
   ]
  },
  {
   "cell_type": "code",
   "execution_count": 66,
   "id": "657a82f0-5d05-4e22-835a-e7f5d2fc9712",
   "metadata": {},
   "outputs": [
    {
     "data": {
      "text/plain": [
       "{'ids': ['0', '1', '2'],\n",
       " 'embeddings': array([[ 0.03394877, -0.00561435, -0.00121842, ...,  0.00074777,\n",
       "         -0.03420043,  0.01577002],\n",
       "        [ 0.03063983, -0.00623007, -0.00212156, ...,  0.03398374,\n",
       "         -0.01675461,  0.00519884],\n",
       "        [ 0.0427538 ,  0.03953217,  0.00019924, ...,  0.0452202 ,\n",
       "         -0.03691882,  0.01709924]]),\n",
       " 'metadatas': [{'label': 'greet',\n",
       "   'trace_id': '049ca5be-0726-4667-bb0c-97c788bd3a8d'},\n",
       "  {'label': 'greet', 'trace_id': '16756ba4-7b4c-4f7b-a537-9b6ae9d6bf82'},\n",
       "  {'label': 'greet', 'trace_id': '4f99dd4f-2ac6-4871-9e3b-71874bed6f3c'}],\n",
       " 'documents': None,\n",
       " 'uris': None,\n",
       " 'data': None,\n",
       " 'included': ['embeddings', 'metadatas']}"
      ]
     },
     "execution_count": 66,
     "metadata": {},
     "output_type": "execute_result"
    }
   ],
   "source": [
    "all_records = collection.get(limit=3, include=[\"embeddings\", \"metadatas\"])\n",
    "all_records"
   ]
  },
  {
   "cell_type": "markdown",
   "id": "6a1424d8-609e-4039-8ad2-c94b834f7fe1",
   "metadata": {},
   "source": [
    "### Tag traces with labels"
   ]
  },
  {
   "cell_type": "code",
   "execution_count": 67,
   "id": "77c71831-d9da-4198-bcdb-245567724416",
   "metadata": {},
   "outputs": [],
   "source": [
    "# Note: This will add to existing tags, not add duplicate tags.\n",
    "for index, row in cluster_traces_df.iterrows():\n",
    "    if row[\"cluster\"] != -1:\n",
    "        trace_id = row[\"trace_id\"]\n",
    "        label = row[\"label\"]\n",
    "        langfuse.trace(id=trace_id, tags = [label])"
   ]
  },
  {
   "cell_type": "markdown",
   "id": "aee61d8c-1dcd-470b-b53a-4e65a22e3ca8",
   "metadata": {},
   "source": [
    "## Conclusion"
   ]
  },
  {
   "cell_type": "markdown",
   "id": "24563e46-9d03-466f-b562-7c6e14d6bdbf",
   "metadata": {},
   "source": [
    "Each approach has its pros and cons.  \n",
    "\n",
    "The supervised approach requires a lot of effort upfront to prepare a labelled dataset of an appropriate size.  During inference, it will only be able to assign labels that it was trained on, so it will not handle new cases well.  However, the inference will be consistent.\n",
    "\n",
    "The unsupervised approach offers more flexibility in working with unlabeled data.  It can output a variety of new labels you didn't define beforehand.  However, the labels may not be consistent between runs (ex., 'hello', 'greeting', or 'start_conversation').  Additionally, the clusters may be more or less permissive than if you had labelled the data.\n",
    "\n",
    "Combining both approaches may be ideal.  Unsupervised intent classification can help you quickly get an overview of a large volume of data, helping you with initial exploratory analysis.  As you understand your trace data better and get more samples, you may benefit from running the supervised model on your data using the intent labels you most care about.  Or, you may want to use the embedded data stored in the vector database to run similarity searches and reuse the labels from previous runs on new instances!"
   ]
  },
  {
   "cell_type": "code",
   "execution_count": null,
   "id": "a75ebac9-2f6f-48eb-a416-cf7264059d47",
   "metadata": {},
   "outputs": [],
   "source": []
  }
 ],
 "metadata": {
  "kernelspec": {
   "display_name": "Python 3 (ipykernel)",
   "language": "python",
   "name": "python3"
  },
  "language_info": {
   "codemirror_mode": {
    "name": "ipython",
    "version": 3
   },
   "file_extension": ".py",
   "mimetype": "text/x-python",
   "name": "python",
   "nbconvert_exporter": "python",
   "pygments_lexer": "ipython3",
   "version": "3.10.12"
  }
 },
 "nbformat": 4,
 "nbformat_minor": 5
}

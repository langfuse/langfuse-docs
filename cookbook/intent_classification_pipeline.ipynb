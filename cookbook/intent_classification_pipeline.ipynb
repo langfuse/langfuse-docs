{
 "cells": [
  {
   "cell_type": "markdown",
   "id": "2ff8aea0-ad89-46ff-8f1f-cc293ef0afba",
   "metadata": {},
   "source": [
    "# Intent classification of Langfuse trace data"
   ]
  },
  {
   "cell_type": "markdown",
   "id": "a762d31e-ccf5-40db-81bb-ef2067bee296",
   "metadata": {},
   "source": [
    "The traces that your application picks up can provide a lot of insight into how your users are interacting with your service.  However, as interactions grow, manually reviewing this data can become cumbersome.  Intent classification can help you automate labeling and make sense of the trace data.  By accurately identifying intents, you can create labels that help you manage and analyze traces.  This notebook will help you build a basic intent classification pipeline.\n",
    "\n",
    "By the end of this notebook, you'll have a basic pipeline that will:\n",
    "1. extract trace data from one of your Langfuse projects\n",
    "2. train an intent classification model\n",
    "3. predict the intent of traces\n",
    "4. upload predicted intent results back to Langfuse"
   ]
  },
  {
   "cell_type": "markdown",
   "id": "48c087c4-9003-48b5-a800-34f825beba9d",
   "metadata": {},
   "source": [
    "## Setup"
   ]
  },
  {
   "cell_type": "markdown",
   "id": "d1e9eaf7-c254-4e40-a86e-505e5d5b057e",
   "metadata": {},
   "source": [
    "You will need an .env file with the following variables for your Langfuse project.\n",
    "```\n",
    "LANGFUSE_SECRET_KEY=\n",
    "LANGFUSE_PUBLIC_KEY=\n",
    "LANGFUSE_HOST=\n",
    "```"
   ]
  },
  {
   "cell_type": "code",
   "execution_count": 1,
   "id": "16898eb6-89a6-44a2-b831-53a9b3a0718e",
   "metadata": {},
   "outputs": [
    {
     "name": "stdout",
     "output_type": "stream",
     "text": [
      "Note: you may need to restart the kernel to use updated packages.\n"
     ]
    }
   ],
   "source": [
    "# Install LangFuse\n",
    "%pip install --quiet langfuse"
   ]
  },
  {
   "cell_type": "code",
   "execution_count": 2,
   "id": "14c811cb-0479-458b-8ab0-761f493912be",
   "metadata": {},
   "outputs": [
    {
     "name": "stdout",
     "output_type": "stream",
     "text": [
      "Note: you may need to restart the kernel to use updated packages.\n"
     ]
    }
   ],
   "source": [
    "# Install Notebook dependencies\n",
    "%pip install --quiet ipywidgets"
   ]
  },
  {
   "cell_type": "code",
   "execution_count": 3,
   "id": "24080f06-8a13-452c-8c3a-a0a25486b5e3",
   "metadata": {},
   "outputs": [
    {
     "name": "stdout",
     "output_type": "stream",
     "text": [
      "Note: you may need to restart the kernel to use updated packages.\n"
     ]
    }
   ],
   "source": [
    "# Install dependencies for making a model\n",
    "%pip install --quiet pandas scikit-learn sentence-transformers torch transformers"
   ]
  },
  {
   "cell_type": "code",
   "execution_count": 4,
   "id": "c662d68b-c72d-4378-acc7-391fdb0ce075",
   "metadata": {
    "editable": true,
    "slideshow": {
     "slide_type": ""
    },
    "tags": []
   },
   "outputs": [
    {
     "name": "stdout",
     "output_type": "stream",
     "text": [
      "Note: you may need to restart the kernel to use updated packages.\n"
     ]
    }
   ],
   "source": [
    "# Install python-dotenv to read in secrets\n",
    "%pip install --quiet python-dotenv"
   ]
  },
  {
   "cell_type": "code",
   "execution_count": 5,
   "id": "6adbbfba-fa64-44b7-a108-af9be9b13bb9",
   "metadata": {},
   "outputs": [
    {
     "data": {
      "text/plain": [
       "True"
      ]
     },
     "execution_count": 5,
     "metadata": {},
     "output_type": "execute_result"
    }
   ],
   "source": [
    "from dotenv import load_dotenv\n",
    "load_dotenv()"
   ]
  },
  {
   "cell_type": "markdown",
   "id": "b0b2a32e-3a8e-4d48-8395-8e9c306017ba",
   "metadata": {},
   "source": [
    "## Retrieve LangFuse traces"
   ]
  },
  {
   "cell_type": "code",
   "execution_count": 6,
   "id": "20f0f9c2-92dc-4062-aff0-b4bf0e559946",
   "metadata": {},
   "outputs": [],
   "source": [
    "import os\n",
    "from langfuse import Langfuse"
   ]
  },
  {
   "cell_type": "code",
   "execution_count": 7,
   "id": "47b62b36-7ef6-4e32-a0df-2389fccf4b73",
   "metadata": {},
   "outputs": [],
   "source": [
    "langfuse = Langfuse(\n",
    "    secret_key=os.environ.get(\"LANGFUSE_SECRET_KEY\"),\n",
    "    public_key=os.environ.get(\"LANGFUSE_PUBLIC_KEY\"),\n",
    "    host=os.environ.get(\"LANGFUSE_HOST\")\n",
    ")"
   ]
  },
  {
   "cell_type": "markdown",
   "id": "140ea9b2-51e6-4362-a88d-09575ead1c82",
   "metadata": {},
   "source": [
    "### Create dummy trace data\n",
    "If your project is empty, you can run the next two cells to create some simple dummy trace data to use for this notebook.  The remainder of this notebook expects a trace with a \"message\" key in the input.  You may need to adjust the notebook to your trace data's structure if you use data with another structure."
   ]
  },
  {
   "cell_type": "code",
   "execution_count": 8,
   "id": "6e692c86-146e-4202-9d18-65cad4e076d3",
   "metadata": {},
   "outputs": [],
   "source": [
    "sample_utterances = [\n",
    "    \"Hello again\",\n",
    "    \"Can you do anything else?\",\n",
    "    \"Could you recommend a good book?\",\n",
    "    \"I'd like to watch a drama\",\n",
    "]"
   ]
  },
  {
   "cell_type": "code",
   "execution_count": 9,
   "id": "46e0eff5-8982-4c27-815f-045067474231",
   "metadata": {},
   "outputs": [],
   "source": [
    "# Create dummy traces\n",
    "for utterance in sample_utterances:\n",
    "    input = {\n",
    "        \"message\": utterance\n",
    "    }\n",
    "    langfuse.trace(\n",
    "        input=input\n",
    "    )"
   ]
  },
  {
   "cell_type": "markdown",
   "id": "76578f87-8e16-4e10-8b76-56275742446e",
   "metadata": {},
   "source": [
    "### Fetch data from your project"
   ]
  },
  {
   "cell_type": "code",
   "execution_count": 10,
   "id": "8239735a-1d18-4e65-ad4e-4b5d85126902",
   "metadata": {},
   "outputs": [
    {
     "data": {
      "text/plain": [
       "FetchTracesResponse(data=[TraceWithDetails(id='71b8c019-1d66-4739-a158-4bc87cb3010e', timestamp=datetime.datetime(2024, 10, 4, 14, 36, 14, 697000, tzinfo=datetime.timezone.utc), name=None, input={'message': 'Can you do anything else?'}, output=None, session_id=None, release=None, version=None, user_id=None, metadata=None, tags=[], public=False, html_path='/project/cm1s2r3d600hwlpo4x0iqsweb/traces/71b8c019-1d66-4739-a158-4bc87cb3010e', latency=0.0, total_cost=0.0, observations=[], scores=[], externalId=None, updatedAt='2024-10-04T14:36:15.648Z', createdAt='2024-10-04T14:36:15.648Z', bookmarked=False, projectId='cm1s2r3d600hwlpo4x0iqsweb'), TraceWithDetails(id='a7fec83b-017d-4651-85d5-09d5d4d31310', timestamp=datetime.datetime(2024, 10, 4, 14, 36, 14, 697000, tzinfo=datetime.timezone.utc), name=None, input={'message': 'Hello again'}, output=None, session_id=None, release=None, version=None, user_id=None, metadata=None, tags=[], public=False, html_path='/project/cm1s2r3d600hwlpo4x0iqsweb/traces/a7fec83b-017d-4651-85d5-09d5d4d31310', latency=0.0, total_cost=0.0, observations=[], scores=[], externalId=None, updatedAt='2024-10-04T14:36:15.542Z', createdAt='2024-10-04T14:36:15.542Z', bookmarked=False, projectId='cm1s2r3d600hwlpo4x0iqsweb'), TraceWithDetails(id='2a6d3c59-0d76-48f0-aa8e-8701ea799055', timestamp=datetime.datetime(2024, 10, 4, 14, 36, 14, 697000, tzinfo=datetime.timezone.utc), name=None, input={'message': \"I'd like to watch a drama\"}, output=None, session_id=None, release=None, version=None, user_id=None, metadata=None, tags=[], public=False, html_path='/project/cm1s2r3d600hwlpo4x0iqsweb/traces/2a6d3c59-0d76-48f0-aa8e-8701ea799055', latency=0.0, total_cost=0.0, observations=[], scores=[], externalId=None, updatedAt='2024-10-04T14:36:15.849Z', createdAt='2024-10-04T14:36:15.849Z', bookmarked=False, projectId='cm1s2r3d600hwlpo4x0iqsweb'), TraceWithDetails(id='8ed0efea-051f-46e3-8f28-ce1df572faa8', timestamp=datetime.datetime(2024, 10, 4, 14, 36, 14, 697000, tzinfo=datetime.timezone.utc), name=None, input={'message': 'Could you recommend a good book?'}, output=None, session_id=None, release=None, version=None, user_id=None, metadata=None, tags=[], public=False, html_path='/project/cm1s2r3d600hwlpo4x0iqsweb/traces/8ed0efea-051f-46e3-8f28-ce1df572faa8', latency=0.0, total_cost=0.0, observations=[], scores=[], externalId=None, updatedAt='2024-10-04T14:36:15.752Z', createdAt='2024-10-04T14:36:15.752Z', bookmarked=False, projectId='cm1s2r3d600hwlpo4x0iqsweb')], meta=MetaResponse(page=1, limit=50, total_items=4, total_pages=1))"
      ]
     },
     "execution_count": 10,
     "metadata": {},
     "output_type": "execute_result"
    }
   ],
   "source": [
    "traces = langfuse.fetch_traces()\n",
    "traces"
   ]
  },
  {
   "cell_type": "code",
   "execution_count": 11,
   "id": "7c976be3-38d9-437a-bc26-b4926289cd09",
   "metadata": {},
   "outputs": [],
   "source": [
    "traces_list = []\n",
    "for trace in traces.data:\n",
    "    trace_info = [trace.id, trace.input[\"message\"]]\n",
    "    traces_list.append(trace_info)"
   ]
  },
  {
   "cell_type": "code",
   "execution_count": 12,
   "id": "9b1f2762-1271-4d04-8bb5-f016a3115d53",
   "metadata": {},
   "outputs": [
    {
     "data": {
      "text/html": [
       "<div>\n",
       "<style scoped>\n",
       "    .dataframe tbody tr th:only-of-type {\n",
       "        vertical-align: middle;\n",
       "    }\n",
       "\n",
       "    .dataframe tbody tr th {\n",
       "        vertical-align: top;\n",
       "    }\n",
       "\n",
       "    .dataframe thead th {\n",
       "        text-align: right;\n",
       "    }\n",
       "</style>\n",
       "<table border=\"1\" class=\"dataframe\">\n",
       "  <thead>\n",
       "    <tr style=\"text-align: right;\">\n",
       "      <th></th>\n",
       "      <th>trace_id</th>\n",
       "      <th>message</th>\n",
       "    </tr>\n",
       "  </thead>\n",
       "  <tbody>\n",
       "    <tr>\n",
       "      <th>0</th>\n",
       "      <td>71b8c019-1d66-4739-a158-4bc87cb3010e</td>\n",
       "      <td>Can you do anything else?</td>\n",
       "    </tr>\n",
       "    <tr>\n",
       "      <th>1</th>\n",
       "      <td>a7fec83b-017d-4651-85d5-09d5d4d31310</td>\n",
       "      <td>Hello again</td>\n",
       "    </tr>\n",
       "    <tr>\n",
       "      <th>2</th>\n",
       "      <td>2a6d3c59-0d76-48f0-aa8e-8701ea799055</td>\n",
       "      <td>I'd like to watch a drama</td>\n",
       "    </tr>\n",
       "    <tr>\n",
       "      <th>3</th>\n",
       "      <td>8ed0efea-051f-46e3-8f28-ce1df572faa8</td>\n",
       "      <td>Could you recommend a good book?</td>\n",
       "    </tr>\n",
       "  </tbody>\n",
       "</table>\n",
       "</div>"
      ],
      "text/plain": [
       "                               trace_id                           message\n",
       "0  71b8c019-1d66-4739-a158-4bc87cb3010e         Can you do anything else?\n",
       "1  a7fec83b-017d-4651-85d5-09d5d4d31310                       Hello again\n",
       "2  2a6d3c59-0d76-48f0-aa8e-8701ea799055         I'd like to watch a drama\n",
       "3  8ed0efea-051f-46e3-8f28-ce1df572faa8  Could you recommend a good book?"
      ]
     },
     "execution_count": 12,
     "metadata": {},
     "output_type": "execute_result"
    }
   ],
   "source": [
    "import pandas as pd\n",
    "traces_df = pd.DataFrame(traces_list, columns=[\"trace_id\", \"message\"])\n",
    "traces_df"
   ]
  },
  {
   "cell_type": "markdown",
   "id": "b6793b6d-45fb-4f13-8153-d48b8ca5cb5f",
   "metadata": {},
   "source": [
    "## Build and test an intent classifier"
   ]
  },
  {
   "cell_type": "code",
   "execution_count": 13,
   "id": "cc4dcba1-7de3-4754-8255-8735acc98a80",
   "metadata": {},
   "outputs": [],
   "source": [
    "import warnings\n",
    "warnings.filterwarnings(\"ignore\")"
   ]
  },
  {
   "cell_type": "code",
   "execution_count": 14,
   "id": "59aad3e2-3d44-466c-b546-cc2eddff2a25",
   "metadata": {},
   "outputs": [],
   "source": [
    "import numpy as np\n",
    "import pandas as pd\n",
    "from sentence_transformers import SentenceTransformer\n",
    "from sklearn.base import TransformerMixin, BaseEstimator\n",
    "from sklearn.linear_model import LogisticRegression\n",
    "from sklearn.metrics import classification_report, accuracy_score\n",
    "from sklearn.model_selection import train_test_split\n",
    "from sklearn.pipeline import Pipeline\n",
    "from tqdm.notebook import tqdm"
   ]
  },
  {
   "cell_type": "code",
   "execution_count": 15,
   "id": "5721da7c-a8e6-4e53-b9aa-2de1c9622775",
   "metadata": {},
   "outputs": [],
   "source": [
    "# Note: This is a very small dataset.\n",
    "# More data will help make the model  more accurate and avoid overfitting.\n",
    "data = {\n",
    "    \"text\": [\n",
    "        # Greeting utterances\n",
    "        \"hi\",\n",
    "        \"hello\",\n",
    "        \"howdy\",\n",
    "        \"hey there\",\n",
    "        \"greetings\",\n",
    "        \"Nice to see you\",\n",
    "        \"Let's start\",\n",
    "        \"begin\",\n",
    "        \"good morning\",\n",
    "        \"Good afternoon\",\n",
    "        # Menu utterances\n",
    "        \"I want to talk about something else\",\n",
    "        \"options\",\n",
    "        \"menu, please\",\n",
    "        \"Could we chat about another subject\",\n",
    "        \"I want to see the menu\",\n",
    "        \"switch topics\",\n",
    "        \"What else can you do\",\n",
    "        \"discuss about something else\",\n",
    "        \"Show me the menu\",\n",
    "        \"Can we do something else\",\n",
    "        # Restart utterances\n",
    "        \"restart\",\n",
    "        \"I'd like to do this again\",\n",
    "        \"let me try again\",\n",
    "        \"one more time\",\n",
    "        \"Can I review that?\",\n",
    "        \"check again\",\n",
    "        \"redo\",\n",
    "        \"again please\",\n",
    "        \"that was great, let's start from teh beginning\",\n",
    "        \"go back to start\",\n",
    "    ],\n",
    "    \"intent\": [\n",
    "        \"greeting\",\n",
    "        \"greeting\",\n",
    "        \"greeting\",\n",
    "        \"greeting\",\n",
    "        \"greeting\",\n",
    "        \"greeting\",\n",
    "        \"greeting\",\n",
    "        \"greeting\",\n",
    "        \"greeting\",\n",
    "        \"greeting\",\n",
    "        \"menu\",\n",
    "        \"menu\",\n",
    "        \"menu\",\n",
    "        \"menu\",\n",
    "        \"menu\",\n",
    "        \"menu\",\n",
    "        \"menu\",\n",
    "        \"menu\",\n",
    "        \"menu\",\n",
    "        \"menu\",\n",
    "        \"restart\",\n",
    "        \"restart\",\n",
    "        \"restart\",\n",
    "        \"restart\",\n",
    "        \"restart\",\n",
    "        \"restart\",\n",
    "        \"restart\",\n",
    "        \"restart\",\n",
    "        \"restart\",\n",
    "        \"restart\",\n",
    "    ]\n",
    "}"
   ]
  },
  {
   "cell_type": "code",
   "execution_count": 16,
   "id": "4c96119a-aea3-4f4c-b267-40352eaf9548",
   "metadata": {},
   "outputs": [
    {
     "data": {
      "text/html": [
       "<div>\n",
       "<style scoped>\n",
       "    .dataframe tbody tr th:only-of-type {\n",
       "        vertical-align: middle;\n",
       "    }\n",
       "\n",
       "    .dataframe tbody tr th {\n",
       "        vertical-align: top;\n",
       "    }\n",
       "\n",
       "    .dataframe thead th {\n",
       "        text-align: right;\n",
       "    }\n",
       "</style>\n",
       "<table border=\"1\" class=\"dataframe\">\n",
       "  <thead>\n",
       "    <tr style=\"text-align: right;\">\n",
       "      <th></th>\n",
       "      <th>text</th>\n",
       "      <th>intent</th>\n",
       "    </tr>\n",
       "  </thead>\n",
       "  <tbody>\n",
       "    <tr>\n",
       "      <th>0</th>\n",
       "      <td>hi</td>\n",
       "      <td>greeting</td>\n",
       "    </tr>\n",
       "    <tr>\n",
       "      <th>1</th>\n",
       "      <td>hello</td>\n",
       "      <td>greeting</td>\n",
       "    </tr>\n",
       "    <tr>\n",
       "      <th>2</th>\n",
       "      <td>howdy</td>\n",
       "      <td>greeting</td>\n",
       "    </tr>\n",
       "    <tr>\n",
       "      <th>3</th>\n",
       "      <td>hey there</td>\n",
       "      <td>greeting</td>\n",
       "    </tr>\n",
       "    <tr>\n",
       "      <th>4</th>\n",
       "      <td>greetings</td>\n",
       "      <td>greeting</td>\n",
       "    </tr>\n",
       "  </tbody>\n",
       "</table>\n",
       "</div>"
      ],
      "text/plain": [
       "        text    intent\n",
       "0         hi  greeting\n",
       "1      hello  greeting\n",
       "2      howdy  greeting\n",
       "3  hey there  greeting\n",
       "4  greetings  greeting"
      ]
     },
     "execution_count": 16,
     "metadata": {},
     "output_type": "execute_result"
    }
   ],
   "source": [
    "df = pd.DataFrame(data)\n",
    "df.head()"
   ]
  },
  {
   "cell_type": "code",
   "execution_count": 17,
   "id": "773b0731-143d-46be-a14d-7867db8023a4",
   "metadata": {},
   "outputs": [],
   "source": [
    "X_train, X_test, y_train, y_test = train_test_split(\n",
    "    df[\"text\"],\n",
    "    df[\"intent\"],\n",
    "    test_size=0.5,\n",
    "    random_state=14\n",
    ")"
   ]
  },
  {
   "cell_type": "code",
   "execution_count": 18,
   "id": "7786964e-850c-4fa1-94a6-fbdacba41dfc",
   "metadata": {},
   "outputs": [],
   "source": [
    "class Encoder(BaseEstimator, TransformerMixin):\n",
    "    def __init__(self, **kwargs):\n",
    "        self.encoding_model = SentenceTransformer(\"all-mpnet-base-v2\")\n",
    "\n",
    "    def transform(self, X):\n",
    "        return self.encoding_model.encode(list(X))\n",
    "\n",
    "    def fit(self, X, y=None):\n",
    "        return self"
   ]
  },
  {
   "cell_type": "code",
   "execution_count": 19,
   "id": "e6c2a7d6-17a2-40f1-a227-97cf2de043eb",
   "metadata": {},
   "outputs": [],
   "source": [
    "pipeline = Pipeline([\n",
    "    ('encoder', Encoder()),\n",
    "    ('clf', LogisticRegression(class_weight=\"balanced\")),\n",
    "])"
   ]
  },
  {
   "cell_type": "code",
   "execution_count": 20,
   "id": "604bd2b3-8ac0-4daf-9f0c-3f5d366c93db",
   "metadata": {},
   "outputs": [
    {
     "data": {
      "text/html": [
       "<style>#sk-container-id-1 {\n",
       "  /* Definition of color scheme common for light and dark mode */\n",
       "  --sklearn-color-text: black;\n",
       "  --sklearn-color-line: gray;\n",
       "  /* Definition of color scheme for unfitted estimators */\n",
       "  --sklearn-color-unfitted-level-0: #fff5e6;\n",
       "  --sklearn-color-unfitted-level-1: #f6e4d2;\n",
       "  --sklearn-color-unfitted-level-2: #ffe0b3;\n",
       "  --sklearn-color-unfitted-level-3: chocolate;\n",
       "  /* Definition of color scheme for fitted estimators */\n",
       "  --sklearn-color-fitted-level-0: #f0f8ff;\n",
       "  --sklearn-color-fitted-level-1: #d4ebff;\n",
       "  --sklearn-color-fitted-level-2: #b3dbfd;\n",
       "  --sklearn-color-fitted-level-3: cornflowerblue;\n",
       "\n",
       "  /* Specific color for light theme */\n",
       "  --sklearn-color-text-on-default-background: var(--sg-text-color, var(--theme-code-foreground, var(--jp-content-font-color1, black)));\n",
       "  --sklearn-color-background: var(--sg-background-color, var(--theme-background, var(--jp-layout-color0, white)));\n",
       "  --sklearn-color-border-box: var(--sg-text-color, var(--theme-code-foreground, var(--jp-content-font-color1, black)));\n",
       "  --sklearn-color-icon: #696969;\n",
       "\n",
       "  @media (prefers-color-scheme: dark) {\n",
       "    /* Redefinition of color scheme for dark theme */\n",
       "    --sklearn-color-text-on-default-background: var(--sg-text-color, var(--theme-code-foreground, var(--jp-content-font-color1, white)));\n",
       "    --sklearn-color-background: var(--sg-background-color, var(--theme-background, var(--jp-layout-color0, #111)));\n",
       "    --sklearn-color-border-box: var(--sg-text-color, var(--theme-code-foreground, var(--jp-content-font-color1, white)));\n",
       "    --sklearn-color-icon: #878787;\n",
       "  }\n",
       "}\n",
       "\n",
       "#sk-container-id-1 {\n",
       "  color: var(--sklearn-color-text);\n",
       "}\n",
       "\n",
       "#sk-container-id-1 pre {\n",
       "  padding: 0;\n",
       "}\n",
       "\n",
       "#sk-container-id-1 input.sk-hidden--visually {\n",
       "  border: 0;\n",
       "  clip: rect(1px 1px 1px 1px);\n",
       "  clip: rect(1px, 1px, 1px, 1px);\n",
       "  height: 1px;\n",
       "  margin: -1px;\n",
       "  overflow: hidden;\n",
       "  padding: 0;\n",
       "  position: absolute;\n",
       "  width: 1px;\n",
       "}\n",
       "\n",
       "#sk-container-id-1 div.sk-dashed-wrapped {\n",
       "  border: 1px dashed var(--sklearn-color-line);\n",
       "  margin: 0 0.4em 0.5em 0.4em;\n",
       "  box-sizing: border-box;\n",
       "  padding-bottom: 0.4em;\n",
       "  background-color: var(--sklearn-color-background);\n",
       "}\n",
       "\n",
       "#sk-container-id-1 div.sk-container {\n",
       "  /* jupyter's `normalize.less` sets `[hidden] { display: none; }`\n",
       "     but bootstrap.min.css set `[hidden] { display: none !important; }`\n",
       "     so we also need the `!important` here to be able to override the\n",
       "     default hidden behavior on the sphinx rendered scikit-learn.org.\n",
       "     See: https://github.com/scikit-learn/scikit-learn/issues/21755 */\n",
       "  display: inline-block !important;\n",
       "  position: relative;\n",
       "}\n",
       "\n",
       "#sk-container-id-1 div.sk-text-repr-fallback {\n",
       "  display: none;\n",
       "}\n",
       "\n",
       "div.sk-parallel-item,\n",
       "div.sk-serial,\n",
       "div.sk-item {\n",
       "  /* draw centered vertical line to link estimators */\n",
       "  background-image: linear-gradient(var(--sklearn-color-text-on-default-background), var(--sklearn-color-text-on-default-background));\n",
       "  background-size: 2px 100%;\n",
       "  background-repeat: no-repeat;\n",
       "  background-position: center center;\n",
       "}\n",
       "\n",
       "/* Parallel-specific style estimator block */\n",
       "\n",
       "#sk-container-id-1 div.sk-parallel-item::after {\n",
       "  content: \"\";\n",
       "  width: 100%;\n",
       "  border-bottom: 2px solid var(--sklearn-color-text-on-default-background);\n",
       "  flex-grow: 1;\n",
       "}\n",
       "\n",
       "#sk-container-id-1 div.sk-parallel {\n",
       "  display: flex;\n",
       "  align-items: stretch;\n",
       "  justify-content: center;\n",
       "  background-color: var(--sklearn-color-background);\n",
       "  position: relative;\n",
       "}\n",
       "\n",
       "#sk-container-id-1 div.sk-parallel-item {\n",
       "  display: flex;\n",
       "  flex-direction: column;\n",
       "}\n",
       "\n",
       "#sk-container-id-1 div.sk-parallel-item:first-child::after {\n",
       "  align-self: flex-end;\n",
       "  width: 50%;\n",
       "}\n",
       "\n",
       "#sk-container-id-1 div.sk-parallel-item:last-child::after {\n",
       "  align-self: flex-start;\n",
       "  width: 50%;\n",
       "}\n",
       "\n",
       "#sk-container-id-1 div.sk-parallel-item:only-child::after {\n",
       "  width: 0;\n",
       "}\n",
       "\n",
       "/* Serial-specific style estimator block */\n",
       "\n",
       "#sk-container-id-1 div.sk-serial {\n",
       "  display: flex;\n",
       "  flex-direction: column;\n",
       "  align-items: center;\n",
       "  background-color: var(--sklearn-color-background);\n",
       "  padding-right: 1em;\n",
       "  padding-left: 1em;\n",
       "}\n",
       "\n",
       "\n",
       "/* Toggleable style: style used for estimator/Pipeline/ColumnTransformer box that is\n",
       "clickable and can be expanded/collapsed.\n",
       "- Pipeline and ColumnTransformer use this feature and define the default style\n",
       "- Estimators will overwrite some part of the style using the `sk-estimator` class\n",
       "*/\n",
       "\n",
       "/* Pipeline and ColumnTransformer style (default) */\n",
       "\n",
       "#sk-container-id-1 div.sk-toggleable {\n",
       "  /* Default theme specific background. It is overwritten whether we have a\n",
       "  specific estimator or a Pipeline/ColumnTransformer */\n",
       "  background-color: var(--sklearn-color-background);\n",
       "}\n",
       "\n",
       "/* Toggleable label */\n",
       "#sk-container-id-1 label.sk-toggleable__label {\n",
       "  cursor: pointer;\n",
       "  display: block;\n",
       "  width: 100%;\n",
       "  margin-bottom: 0;\n",
       "  padding: 0.5em;\n",
       "  box-sizing: border-box;\n",
       "  text-align: center;\n",
       "}\n",
       "\n",
       "#sk-container-id-1 label.sk-toggleable__label-arrow:before {\n",
       "  /* Arrow on the left of the label */\n",
       "  content: \"▸\";\n",
       "  float: left;\n",
       "  margin-right: 0.25em;\n",
       "  color: var(--sklearn-color-icon);\n",
       "}\n",
       "\n",
       "#sk-container-id-1 label.sk-toggleable__label-arrow:hover:before {\n",
       "  color: var(--sklearn-color-text);\n",
       "}\n",
       "\n",
       "/* Toggleable content - dropdown */\n",
       "\n",
       "#sk-container-id-1 div.sk-toggleable__content {\n",
       "  max-height: 0;\n",
       "  max-width: 0;\n",
       "  overflow: hidden;\n",
       "  text-align: left;\n",
       "  /* unfitted */\n",
       "  background-color: var(--sklearn-color-unfitted-level-0);\n",
       "}\n",
       "\n",
       "#sk-container-id-1 div.sk-toggleable__content.fitted {\n",
       "  /* fitted */\n",
       "  background-color: var(--sklearn-color-fitted-level-0);\n",
       "}\n",
       "\n",
       "#sk-container-id-1 div.sk-toggleable__content pre {\n",
       "  margin: 0.2em;\n",
       "  border-radius: 0.25em;\n",
       "  color: var(--sklearn-color-text);\n",
       "  /* unfitted */\n",
       "  background-color: var(--sklearn-color-unfitted-level-0);\n",
       "}\n",
       "\n",
       "#sk-container-id-1 div.sk-toggleable__content.fitted pre {\n",
       "  /* unfitted */\n",
       "  background-color: var(--sklearn-color-fitted-level-0);\n",
       "}\n",
       "\n",
       "#sk-container-id-1 input.sk-toggleable__control:checked~div.sk-toggleable__content {\n",
       "  /* Expand drop-down */\n",
       "  max-height: 200px;\n",
       "  max-width: 100%;\n",
       "  overflow: auto;\n",
       "}\n",
       "\n",
       "#sk-container-id-1 input.sk-toggleable__control:checked~label.sk-toggleable__label-arrow:before {\n",
       "  content: \"▾\";\n",
       "}\n",
       "\n",
       "/* Pipeline/ColumnTransformer-specific style */\n",
       "\n",
       "#sk-container-id-1 div.sk-label input.sk-toggleable__control:checked~label.sk-toggleable__label {\n",
       "  color: var(--sklearn-color-text);\n",
       "  background-color: var(--sklearn-color-unfitted-level-2);\n",
       "}\n",
       "\n",
       "#sk-container-id-1 div.sk-label.fitted input.sk-toggleable__control:checked~label.sk-toggleable__label {\n",
       "  background-color: var(--sklearn-color-fitted-level-2);\n",
       "}\n",
       "\n",
       "/* Estimator-specific style */\n",
       "\n",
       "/* Colorize estimator box */\n",
       "#sk-container-id-1 div.sk-estimator input.sk-toggleable__control:checked~label.sk-toggleable__label {\n",
       "  /* unfitted */\n",
       "  background-color: var(--sklearn-color-unfitted-level-2);\n",
       "}\n",
       "\n",
       "#sk-container-id-1 div.sk-estimator.fitted input.sk-toggleable__control:checked~label.sk-toggleable__label {\n",
       "  /* fitted */\n",
       "  background-color: var(--sklearn-color-fitted-level-2);\n",
       "}\n",
       "\n",
       "#sk-container-id-1 div.sk-label label.sk-toggleable__label,\n",
       "#sk-container-id-1 div.sk-label label {\n",
       "  /* The background is the default theme color */\n",
       "  color: var(--sklearn-color-text-on-default-background);\n",
       "}\n",
       "\n",
       "/* On hover, darken the color of the background */\n",
       "#sk-container-id-1 div.sk-label:hover label.sk-toggleable__label {\n",
       "  color: var(--sklearn-color-text);\n",
       "  background-color: var(--sklearn-color-unfitted-level-2);\n",
       "}\n",
       "\n",
       "/* Label box, darken color on hover, fitted */\n",
       "#sk-container-id-1 div.sk-label.fitted:hover label.sk-toggleable__label.fitted {\n",
       "  color: var(--sklearn-color-text);\n",
       "  background-color: var(--sklearn-color-fitted-level-2);\n",
       "}\n",
       "\n",
       "/* Estimator label */\n",
       "\n",
       "#sk-container-id-1 div.sk-label label {\n",
       "  font-family: monospace;\n",
       "  font-weight: bold;\n",
       "  display: inline-block;\n",
       "  line-height: 1.2em;\n",
       "}\n",
       "\n",
       "#sk-container-id-1 div.sk-label-container {\n",
       "  text-align: center;\n",
       "}\n",
       "\n",
       "/* Estimator-specific */\n",
       "#sk-container-id-1 div.sk-estimator {\n",
       "  font-family: monospace;\n",
       "  border: 1px dotted var(--sklearn-color-border-box);\n",
       "  border-radius: 0.25em;\n",
       "  box-sizing: border-box;\n",
       "  margin-bottom: 0.5em;\n",
       "  /* unfitted */\n",
       "  background-color: var(--sklearn-color-unfitted-level-0);\n",
       "}\n",
       "\n",
       "#sk-container-id-1 div.sk-estimator.fitted {\n",
       "  /* fitted */\n",
       "  background-color: var(--sklearn-color-fitted-level-0);\n",
       "}\n",
       "\n",
       "/* on hover */\n",
       "#sk-container-id-1 div.sk-estimator:hover {\n",
       "  /* unfitted */\n",
       "  background-color: var(--sklearn-color-unfitted-level-2);\n",
       "}\n",
       "\n",
       "#sk-container-id-1 div.sk-estimator.fitted:hover {\n",
       "  /* fitted */\n",
       "  background-color: var(--sklearn-color-fitted-level-2);\n",
       "}\n",
       "\n",
       "/* Specification for estimator info (e.g. \"i\" and \"?\") */\n",
       "\n",
       "/* Common style for \"i\" and \"?\" */\n",
       "\n",
       ".sk-estimator-doc-link,\n",
       "a:link.sk-estimator-doc-link,\n",
       "a:visited.sk-estimator-doc-link {\n",
       "  float: right;\n",
       "  font-size: smaller;\n",
       "  line-height: 1em;\n",
       "  font-family: monospace;\n",
       "  background-color: var(--sklearn-color-background);\n",
       "  border-radius: 1em;\n",
       "  height: 1em;\n",
       "  width: 1em;\n",
       "  text-decoration: none !important;\n",
       "  margin-left: 1ex;\n",
       "  /* unfitted */\n",
       "  border: var(--sklearn-color-unfitted-level-1) 1pt solid;\n",
       "  color: var(--sklearn-color-unfitted-level-1);\n",
       "}\n",
       "\n",
       ".sk-estimator-doc-link.fitted,\n",
       "a:link.sk-estimator-doc-link.fitted,\n",
       "a:visited.sk-estimator-doc-link.fitted {\n",
       "  /* fitted */\n",
       "  border: var(--sklearn-color-fitted-level-1) 1pt solid;\n",
       "  color: var(--sklearn-color-fitted-level-1);\n",
       "}\n",
       "\n",
       "/* On hover */\n",
       "div.sk-estimator:hover .sk-estimator-doc-link:hover,\n",
       ".sk-estimator-doc-link:hover,\n",
       "div.sk-label-container:hover .sk-estimator-doc-link:hover,\n",
       ".sk-estimator-doc-link:hover {\n",
       "  /* unfitted */\n",
       "  background-color: var(--sklearn-color-unfitted-level-3);\n",
       "  color: var(--sklearn-color-background);\n",
       "  text-decoration: none;\n",
       "}\n",
       "\n",
       "div.sk-estimator.fitted:hover .sk-estimator-doc-link.fitted:hover,\n",
       ".sk-estimator-doc-link.fitted:hover,\n",
       "div.sk-label-container:hover .sk-estimator-doc-link.fitted:hover,\n",
       ".sk-estimator-doc-link.fitted:hover {\n",
       "  /* fitted */\n",
       "  background-color: var(--sklearn-color-fitted-level-3);\n",
       "  color: var(--sklearn-color-background);\n",
       "  text-decoration: none;\n",
       "}\n",
       "\n",
       "/* Span, style for the box shown on hovering the info icon */\n",
       ".sk-estimator-doc-link span {\n",
       "  display: none;\n",
       "  z-index: 9999;\n",
       "  position: relative;\n",
       "  font-weight: normal;\n",
       "  right: .2ex;\n",
       "  padding: .5ex;\n",
       "  margin: .5ex;\n",
       "  width: min-content;\n",
       "  min-width: 20ex;\n",
       "  max-width: 50ex;\n",
       "  color: var(--sklearn-color-text);\n",
       "  box-shadow: 2pt 2pt 4pt #999;\n",
       "  /* unfitted */\n",
       "  background: var(--sklearn-color-unfitted-level-0);\n",
       "  border: .5pt solid var(--sklearn-color-unfitted-level-3);\n",
       "}\n",
       "\n",
       ".sk-estimator-doc-link.fitted span {\n",
       "  /* fitted */\n",
       "  background: var(--sklearn-color-fitted-level-0);\n",
       "  border: var(--sklearn-color-fitted-level-3);\n",
       "}\n",
       "\n",
       ".sk-estimator-doc-link:hover span {\n",
       "  display: block;\n",
       "}\n",
       "\n",
       "/* \"?\"-specific style due to the `<a>` HTML tag */\n",
       "\n",
       "#sk-container-id-1 a.estimator_doc_link {\n",
       "  float: right;\n",
       "  font-size: 1rem;\n",
       "  line-height: 1em;\n",
       "  font-family: monospace;\n",
       "  background-color: var(--sklearn-color-background);\n",
       "  border-radius: 1rem;\n",
       "  height: 1rem;\n",
       "  width: 1rem;\n",
       "  text-decoration: none;\n",
       "  /* unfitted */\n",
       "  color: var(--sklearn-color-unfitted-level-1);\n",
       "  border: var(--sklearn-color-unfitted-level-1) 1pt solid;\n",
       "}\n",
       "\n",
       "#sk-container-id-1 a.estimator_doc_link.fitted {\n",
       "  /* fitted */\n",
       "  border: var(--sklearn-color-fitted-level-1) 1pt solid;\n",
       "  color: var(--sklearn-color-fitted-level-1);\n",
       "}\n",
       "\n",
       "/* On hover */\n",
       "#sk-container-id-1 a.estimator_doc_link:hover {\n",
       "  /* unfitted */\n",
       "  background-color: var(--sklearn-color-unfitted-level-3);\n",
       "  color: var(--sklearn-color-background);\n",
       "  text-decoration: none;\n",
       "}\n",
       "\n",
       "#sk-container-id-1 a.estimator_doc_link.fitted:hover {\n",
       "  /* fitted */\n",
       "  background-color: var(--sklearn-color-fitted-level-3);\n",
       "}\n",
       "</style><div id=\"sk-container-id-1\" class=\"sk-top-container\"><div class=\"sk-text-repr-fallback\"><pre>Pipeline(steps=[(&#x27;encoder&#x27;, Encoder()),\n",
       "                (&#x27;clf&#x27;, LogisticRegression(class_weight=&#x27;balanced&#x27;))])</pre><b>In a Jupyter environment, please rerun this cell to show the HTML representation or trust the notebook. <br />On GitHub, the HTML representation is unable to render, please try loading this page with nbviewer.org.</b></div><div class=\"sk-container\" hidden><div class=\"sk-item sk-dashed-wrapped\"><div class=\"sk-label-container\"><div class=\"sk-label fitted sk-toggleable\"><input class=\"sk-toggleable__control sk-hidden--visually\" id=\"sk-estimator-id-1\" type=\"checkbox\" ><label for=\"sk-estimator-id-1\" class=\"sk-toggleable__label fitted sk-toggleable__label-arrow fitted\">&nbsp;&nbsp;Pipeline<a class=\"sk-estimator-doc-link fitted\" rel=\"noreferrer\" target=\"_blank\" href=\"https://scikit-learn.org/1.5/modules/generated/sklearn.pipeline.Pipeline.html\">?<span>Documentation for Pipeline</span></a><span class=\"sk-estimator-doc-link fitted\">i<span>Fitted</span></span></label><div class=\"sk-toggleable__content fitted\"><pre>Pipeline(steps=[(&#x27;encoder&#x27;, Encoder()),\n",
       "                (&#x27;clf&#x27;, LogisticRegression(class_weight=&#x27;balanced&#x27;))])</pre></div> </div></div><div class=\"sk-serial\"><div class=\"sk-item\"><div class=\"sk-estimator fitted sk-toggleable\"><input class=\"sk-toggleable__control sk-hidden--visually\" id=\"sk-estimator-id-2\" type=\"checkbox\" ><label for=\"sk-estimator-id-2\" class=\"sk-toggleable__label fitted sk-toggleable__label-arrow fitted\">Encoder</label><div class=\"sk-toggleable__content fitted\"><pre>Encoder()</pre></div> </div></div><div class=\"sk-item\"><div class=\"sk-estimator fitted sk-toggleable\"><input class=\"sk-toggleable__control sk-hidden--visually\" id=\"sk-estimator-id-3\" type=\"checkbox\" ><label for=\"sk-estimator-id-3\" class=\"sk-toggleable__label fitted sk-toggleable__label-arrow fitted\">&nbsp;LogisticRegression<a class=\"sk-estimator-doc-link fitted\" rel=\"noreferrer\" target=\"_blank\" href=\"https://scikit-learn.org/1.5/modules/generated/sklearn.linear_model.LogisticRegression.html\">?<span>Documentation for LogisticRegression</span></a></label><div class=\"sk-toggleable__content fitted\"><pre>LogisticRegression(class_weight=&#x27;balanced&#x27;)</pre></div> </div></div></div></div></div></div>"
      ],
      "text/plain": [
       "Pipeline(steps=[('encoder', Encoder()),\n",
       "                ('clf', LogisticRegression(class_weight='balanced'))])"
      ]
     },
     "execution_count": 20,
     "metadata": {},
     "output_type": "execute_result"
    }
   ],
   "source": [
    "pipeline.fit(X_train, y_train)"
   ]
  },
  {
   "cell_type": "code",
   "execution_count": 21,
   "id": "d41b191c-4260-44e9-8d61-baa21b2f6c0b",
   "metadata": {},
   "outputs": [
    {
     "data": {
      "text/plain": [
       "array(['greeting', 'menu', 'menu', 'greeting', 'restart', 'greeting',\n",
       "       'restart', 'restart', 'greeting', 'greeting', 'restart',\n",
       "       'greeting', 'menu', 'menu', 'restart'], dtype=object)"
      ]
     },
     "execution_count": 21,
     "metadata": {},
     "output_type": "execute_result"
    }
   ],
   "source": [
    "y_pred = pipeline.predict(X_test)\n",
    "y_pred"
   ]
  },
  {
   "cell_type": "code",
   "execution_count": 22,
   "id": "7b4a2430-45a1-47f6-9c55-e31f833090c1",
   "metadata": {},
   "outputs": [
    {
     "data": {
      "text/plain": [
       "array(['restart'], dtype=object)"
      ]
     },
     "execution_count": 22,
     "metadata": {},
     "output_type": "execute_result"
    }
   ],
   "source": [
    "single_pred = pipeline.predict([\"Please let's move on\"])\n",
    "single_pred"
   ]
  },
  {
   "cell_type": "code",
   "execution_count": 23,
   "id": "3c333ad4-bbd4-473f-957d-86663a434eab",
   "metadata": {},
   "outputs": [
    {
     "data": {
      "text/plain": [
       "array([[0.29999479, 0.33983355, 0.36017166]])"
      ]
     },
     "execution_count": 23,
     "metadata": {},
     "output_type": "execute_result"
    }
   ],
   "source": [
    "probas = pipeline.predict_proba([\"Please let's move on\"])\n",
    "probas"
   ]
  },
  {
   "cell_type": "code",
   "execution_count": 24,
   "id": "70ee4c1a-1c6b-4d27-a5a2-bce4f000b097",
   "metadata": {},
   "outputs": [
    {
     "data": {
      "text/plain": [
       "0.3601716561862601"
      ]
     },
     "execution_count": 24,
     "metadata": {},
     "output_type": "execute_result"
    }
   ],
   "source": [
    "confidence_score = float(np.max(probas, axis=1)[0])\n",
    "confidence_score"
   ]
  },
  {
   "cell_type": "code",
   "execution_count": 25,
   "id": "099e68ca-7a39-4dde-84b5-d16473e98b6c",
   "metadata": {},
   "outputs": [
    {
     "name": "stdout",
     "output_type": "stream",
     "text": [
      "\n",
      "Classification Report:\n",
      "               precision    recall  f1-score   support\n",
      "\n",
      "    greeting       0.83      1.00      0.91         5\n",
      "        menu       1.00      1.00      1.00         4\n",
      "     restart       1.00      0.83      0.91         6\n",
      "\n",
      "    accuracy                           0.93        15\n",
      "   macro avg       0.94      0.94      0.94        15\n",
      "weighted avg       0.94      0.93      0.93        15\n",
      "\n"
     ]
    }
   ],
   "source": [
    "print(\"\\nClassification Report:\\n\", classification_report(y_test, y_pred))"
   ]
  },
  {
   "cell_type": "markdown",
   "id": "3fd8b29c-7cf7-4abb-9e36-b6badf3eefdf",
   "metadata": {},
   "source": [
    "## Run predictions on traces"
   ]
  },
  {
   "cell_type": "code",
   "execution_count": 26,
   "id": "71c537ea-1958-40c1-b143-c9baa36d08bd",
   "metadata": {},
   "outputs": [],
   "source": [
    "for index, row in traces_df.iterrows():\n",
    "    result = pipeline.predict([row[\"message\"]])\n",
    "    probas = pipeline.predict_proba([row[\"message\"]])\n",
    "    confidence_score = float(np.max(probas, axis=1)[0])\n",
    "    \n",
    "    traces_df.at[index, \"label\"] = \"\".join(result)\n",
    "    traces_df.at[index, \"confidence_score\"] = confidence_score"
   ]
  },
  {
   "cell_type": "markdown",
   "id": "3159b278-c153-499e-a064-4be84a0386d0",
   "metadata": {},
   "source": [
    "## Tag traces with labels"
   ]
  },
  {
   "cell_type": "code",
   "execution_count": 27,
   "id": "2ab68706-f204-4ee9-a2f0-fc870ace3cad",
   "metadata": {},
   "outputs": [],
   "source": [
    "# Note: This will add to existing tags, not add duplicate tags.\n",
    "for index, row in traces_df.iterrows():\n",
    "    if row[\"confidence_score\"] > 0.30:\n",
    "        trace_id = row[\"trace_id\"]\n",
    "        label = row[\"label\"]\n",
    "        langfuse.trace(id=trace_id, tags = [label])"
   ]
  },
  {
   "cell_type": "code",
   "execution_count": null,
   "id": "60bf7952-5acc-446e-8a67-cf952e3e13ad",
   "metadata": {},
   "outputs": [],
   "source": []
  }
 ],
 "metadata": {
  "kernelspec": {
   "display_name": "Python 3 (ipykernel)",
   "language": "python",
   "name": "python3"
  },
  "language_info": {
   "codemirror_mode": {
    "name": "ipython",
    "version": 3
   },
   "file_extension": ".py",
   "mimetype": "text/x-python",
   "name": "python",
   "nbconvert_exporter": "python",
   "pygments_lexer": "ipython3",
   "version": "3.10.12"
  }
 },
 "nbformat": 4,
 "nbformat_minor": 5
}

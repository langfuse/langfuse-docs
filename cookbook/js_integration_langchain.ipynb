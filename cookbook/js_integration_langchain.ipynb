{
 "cells": [
  {
   "cell_type": "markdown",
   "id": "ec41aeab-9670-478d-a093-438eeb39883f",
   "metadata": {},
   "source": [
    "---\n",
    "description: Cookbook with examples of the Langfuse Integration for Langchain (JS/TS).\n",
    "category: Integrations\n",
    "---\n",
    "\n",
    "# Cookbook: Langchain Integration (JS/TS)\n",
    "\n",
    "This is a cookbook with examples of the Langfuse Integration for Langchain (JS/TS).\n",
    "\n",
    "Follow the [integration guide](https://langfuse.com/docs/integrations/langchain) to add this integration to your Langchain project. The integration also supports Langchain Python."
   ]
  },
  {
   "cell_type": "markdown",
   "id": "433cd090-63d3-450c-ae95-8c16239cdff8",
   "metadata": {},
   "source": [
    "## Setup"
   ]
  },
  {
   "cell_type": "markdown",
   "id": "7f633097-159f-4d3a-9db4-f01f76b95990",
   "metadata": {},
   "source": [
    "Initialize the Langfuse client with your API keys from the project settings in the Langfuse UI and add them to your environment."
   ]
  },
  {
   "cell_type": "code",
   "execution_count": 1,
   "id": "d93516c9-ec31-4ddf-9fcb-fbbdb6274d77",
   "metadata": {},
   "outputs": [],
   "source": [
    "import { CallbackHandler } from \"npm:langfuse-langchain\"\n",
    "const langfuseLangchainHandler = new CallbackHandler({\n",
    "    publicKey: \"\",\n",
    "    secretKey: \"\",\n",
    "    baseUrl: \"https://cloud.langfuse.com\",\n",
    "    flushAt: 1 // cookbook-only: do not batch events, send them immediately\n",
    "})"
   ]
  },
  {
   "cell_type": "markdown",
   "id": "59615d2d-179e-4234-848f-41db0a6ddd85",
   "metadata": {},
   "source": [
    "## Langchain interfaces\n",
    "\n",
    "Langfuse supports the following Langchain JS interfaces\n",
    "\n",
    "- invoke\n",
    "- stream\n",
    "\n",
    "For this section we will use a very simple example prompt (from Langchain JS [docs](https://js.langchain.com/docs/expression_language/interface)) and ChatOpenAI. Langfuse works with any model."
   ]
  },
  {
   "cell_type": "code",
   "execution_count": 2,
   "id": "f73d1028-810f-47e2-a026-6e67330adc8a",
   "metadata": {},
   "outputs": [],
   "source": [
    "import { ChatOpenAI } from \"npm:@langchain/openai\"\n",
    "import { PromptTemplate } from \"npm:@langchain/core/prompts\"\n",
    "\n",
    "const model = new ChatOpenAI({});\n",
    "const promptTemplate = PromptTemplate.fromTemplate(\n",
    "  \"Tell me a joke about {topic}\"\n",
    ");"
   ]
  },
  {
   "cell_type": "markdown",
   "id": "4c11f504-7780-47b0-8b87-c6858a632c3d",
   "metadata": {},
   "source": [
    "### `invoke`"
   ]
  },
  {
   "cell_type": "code",
   "execution_count": 3,
   "id": "6af7b4c3-3894-485e-8bb2-2efbeb94bebd",
   "metadata": {},
   "outputs": [
    {
     "name": "stdout",
     "output_type": "stream",
     "text": [
      "Why did the bear wear a fur coat to the BBQ?\n",
      "Because it was grizzly cold outside!\n"
     ]
    }
   ],
   "source": [
    "import { RunnableSequence } from \"npm:@langchain/core/runnables\";\n",
    "\n",
    "const chain = RunnableSequence.from([promptTemplate, model]);\n",
    "\n",
    "const res = await chain.invoke(\n",
    "    { topic: \"bears\" },\n",
    "    { callbacks: [langfuseLangchainHandler] }\n",
    ");\n",
    "\n",
    "console.log(res.content)"
   ]
  },
  {
   "cell_type": "markdown",
   "id": "4f5e1865-3cef-4f11-84dc-cf2377851ae3",
   "metadata": {},
   "source": [
    "### `stream`"
   ]
  },
  {
   "cell_type": "code",
   "execution_count": 4,
   "id": "35d68757-98aa-499c-a5b8-b8cc6a45e3c2",
   "metadata": {},
   "outputs": [
    {
     "name": "stdout",
     "output_type": "stream",
     "text": [
      "\n",
      "Why\n",
      " did\n",
      " the\n",
      " bear\n",
      " bring\n",
      " a\n",
      " flashlight\n",
      " to\n",
      " the\n",
      " party\n",
      "?\n",
      " \n",
      "\n",
      "\n",
      "Because\n",
      " he\n",
      " wanted\n",
      " to\n",
      " be\n",
      " the\n",
      " \"\n",
      "bear\n",
      "\"\n",
      " of\n",
      " the\n",
      " light\n",
      "!\n",
      "\n"
     ]
    }
   ],
   "source": [
    "const chain = promptTemplate.pipe(model);\n",
    "const stream = await chain.stream(\n",
    "    { topic: \"bears\" },\n",
    "    { callbacks: [langfuseLangchainHandler] }\n",
    ");\n",
    "for await (const chunk of stream) {\n",
    "  console.log(chunk?.content);\n",
    "}"
   ]
  },
  {
   "cell_type": "markdown",
   "id": "5b8f65da",
   "metadata": {},
   "source": [
    "## Explore the trace in Langfuse\n",
    "\n",
    "In the Langfuse interface, you can see a detailed trace of all steps in the Langchain application.\n",
    "\n",
    "![Langfuse Trace](https://langfuse.com/images/cookbook/js_integration_langchain_trace.png)"
   ]
  }
 ],
 "metadata": {
  "kernelspec": {
   "display_name": "Deno",
   "language": "typescript",
   "name": "deno"
  },
  "language_info": {
   "file_extension": ".ts",
   "mimetype": "text/x.typescript",
   "name": "typescript",
   "nb_converter": "script",
   "pygments_lexer": "typescript",
   "version": "5.3.3"
  }
 },
 "nbformat": 4,
 "nbformat_minor": 5
}

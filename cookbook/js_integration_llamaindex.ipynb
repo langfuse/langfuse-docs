{
 "cells": [
  {
   "cell_type": "code",
   "execution_count": null,
   "metadata": {},
   "outputs": [],
   "source": [
    "import * as dotenv from 'npm:dotenv';\n",
    "import base64 from 'npm:base-64';  // Use default import instead of namespace import\n",
    "\n",
    "dotenv.config();\n",
    "\n",
    "const LANGFUSE_PUBLIC_KEY = \"pk-lf-...\";\n",
    "const LANGFUSE_SECRET_KEY = \"sk-lf-...\";\n",
    "const LANGFUSE_AUTH = base64.encode(`${LANGFUSE_PUBLIC_KEY}:${LANGFUSE_SECRET_KEY}`);\n",
    "\n",
    "\n",
    "process.env[\"OTEL_EXPORTER_OTLP_ENDPOINT\"] = \"https://cloud.langfuse.com/api/public/otel\"; // EU data region\n",
    "// process.env[\"OTEL_EXPORTER_OTLP_ENDPOINT\"] = \"https://us.cloud.langfuse.com/api/public/otel\"; // US data region\n",
    "process.env[\"OTEL_EXPORTER_OTLP_HEADERS\"] = `Authorization=Basic ${LANGFUSE_AUTH}`;\n",
    "\n",
    "\n",
    "process.env[\"TRACELOOP_BASE_URL\"] = \"https://cloud.langfuse.com/api/public/otel\"; // EU data region\n",
    "// process.env[\"OTEL_EXPORTER_OTLP_ENDPOINT\"] = \"https://us.cloud.langfuse.com/api/public/otel\"; // US data region\n",
    "process.env[\"TRACELOOP_HEADERS\"] = `Authorization=Basic ${LANGFUSE_AUTH}`;\n",
    "\n",
    "// your openai key\n",
    "process.env[\"OPENAI_API_KEY\"] = \"sk-...\";"
   ]
  },
  {
   "cell_type": "code",
   "execution_count": 3,
   "metadata": {},
   "outputs": [
    {
     "name": "stdout",
     "output_type": "stream",
     "text": [
      "Traceloop exporting traces to https://cloud.langfuse.com/api/public/otel\n"
     ]
    }
   ],
   "source": [
    "// docs: https://ts.llamaindex.ai/docs/llamaindex/integration/open-llm-metry\n",
    "\n",
    "import * as traceloop from \"npm:@traceloop/node-server-sdk\";\n",
    "\n",
    "traceloop.initialize({ disableBatch: true });"
   ]
  },
  {
   "cell_type": "code",
   "execution_count": 9,
   "metadata": {},
   "outputs": [
    {
     "name": "stdout",
     "output_type": "stream",
     "text": [
      "@opentelemetry/api: Registered a global for diag v1.9.0.\n"
     ]
    },
    {
     "name": "stderr",
     "output_type": "stream",
     "text": [
      "@langtrase/typescript-sdk Module cohere-ai has been loaded before @langtrase/typescript-sdk so it might not work, please initialize it before requiring cohere-ai\n",
      "@langtrase/typescript-sdk Module @google-cloud/vertexai has been loaded before @langtrase/typescript-sdk so it might not work, please initialize it before requiring @google-cloud/vertexai\n"
     ]
    },
    {
     "ename": "",
     "evalue": "",
     "output_type": "error",
     "traceback": [
      "\u001b[1;31mThe Kernel crashed while executing code in the current cell or a previous cell. \n",
      "\u001b[1;31mPlease review the code in the cell(s) to identify a possible cause of the failure. \n",
      "\u001b[1;31mClick <a href='https://aka.ms/vscodeJupyterKernelCrash'>here</a> for more info. \n",
      "\u001b[1;31mView Jupyter <a href='command:jupyter.viewOutput'>log</a> for further details."
     ]
    }
   ],
   "source": [
    "// docs: https://ts.llamaindex.ai/docs/llamaindex/integration/lang-trace\n",
    "\n",
    "import * as Langtrace from \"npm:@langtrase/typescript-sdk\";\n",
    "\n",
    "Langtrace.init();"
   ]
  },
  {
   "cell_type": "code",
   "execution_count": 4,
   "metadata": {},
   "outputs": [
    {
     "name": "stdout",
     "output_type": "stream",
     "text": [
      "Why don't skeletons fight each other?\n",
      "\n",
      "They don't have the guts!\n"
     ]
    }
   ],
   "source": [
    "import { OpenAI } from \"npm:llamaindex\";\n",
    "\n",
    "const llm = new OpenAI();\n",
    "const response = await llm.chat({\n",
    "  messages: [{ content: \"Tell me a joke.\", role: \"user\" }],\n",
    "});\n",
    "\n",
    "console.log(response.message.content);"
   ]
  },
  {
   "cell_type": "markdown",
   "metadata": {},
   "source": []
  },
  {
   "cell_type": "code",
   "execution_count": 5,
   "metadata": {},
   "outputs": [
    {
     "name": "stdout",
     "output_type": "stream",
     "text": [
      "{\n",
      "  role: \"assistant\",\n",
      "  content: \"Functions call themselves,  \\n\" +\n",
      "    \"Layers of logic unfold—  \\n\" +\n",
      "    \"Endless loops of thought.\",\n",
      "  refusal: null\n",
      "}\n"
     ]
    }
   ],
   "source": [
    "import OpenAI from \"npm:openai\";\n",
    "const openai = new OpenAI();\n",
    "\n",
    "const completion = await openai.chat.completions.create({\n",
    "    model: \"gpt-4o-mini\",\n",
    "    messages: [\n",
    "        { role: \"system\", content: \"You are a helpful assistant.\" },\n",
    "        {\n",
    "            role: \"user\",\n",
    "            content: \"Write a haiku about recursion in programming.\",\n",
    "        },\n",
    "    ],\n",
    "    store: true,\n",
    "});\n",
    "\n",
    "console.log(completion.choices[0].message);"
   ]
  }
 ],
 "metadata": {
  "kernelspec": {
   "display_name": "Deno",
   "language": "typescript",
   "name": "deno"
  },
  "language_info": {
   "codemirror_mode": "typescript",
   "file_extension": ".ts",
   "mimetype": "text/x.typescript",
   "name": "typescript",
   "nbconvert_exporter": "script",
   "pygments_lexer": "typescript",
   "version": "5.6.2"
  }
 },
 "nbformat": 4,
 "nbformat_minor": 2
}

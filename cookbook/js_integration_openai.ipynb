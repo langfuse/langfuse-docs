{
 "cells": [
  {
   "cell_type": "markdown",
   "id": "0bf4e4bd-070f-42d2-8aeb-427fd8b509cf",
   "metadata": {},
   "source": [
    "---\n",
    "description: Learn how to use Langfuse for open source observability/tracing of the OpenAI JS SDK by adding `observeOpenAI`.\n",
    "category: Integrations\n",
    "---\n",
    "\n",
    "# Cookbook: OpenAI Integration (JS/TS)\n",
    "\n",
    "This cookbook provides examples of the Langfuse Integration for OpenAI (JS/TS). Follow the [integration guide](https://langfuse.com/docs/integrations/openai/js/get-started) to add this integration to your OpenAI project."
   ]
  },
  {
   "cell_type": "markdown",
   "id": "f5ecf9cd-490a-4f85-803a-b2155677f581",
   "metadata": {},
   "source": [
    "## Setup\n",
    "\n",
    "The integration is compatible with OpenAI SDK versions >=4.0.0.\n",
    "\n",
    "*Note: This cookbook uses Deno.js, which requires different syntax for importing packages and setting environment variables.*"
   ]
  },
  {
   "cell_type": "code",
   "execution_count": null,
   "id": "a2b45ea9-8a61-42a1-9fcc-41f59de553aa",
   "metadata": {},
   "outputs": [],
   "source": [
    "import OpenAI from \"npm:openai@^4.0.0\";\n",
    "import { observeOpenAI } from \"npm:langfuse@^3.6.0\";"
   ]
  },
  {
   "cell_type": "markdown",
   "id": "16b48065-5af2-41ca-9285-3911ce98d3ff",
   "metadata": {},
   "source": [
    "You can set the secrets either via (1) environment variables or (2) initParams:\n",
    "\n",
    "### 1. Environment Variables"
   ]
  },
  {
   "cell_type": "code",
   "execution_count": null,
   "id": "a7cf83d5-7a20-4ae1-a5be-4a8f276a213d",
   "metadata": {},
   "outputs": [],
   "source": [
    "// Set env variables, Deno-specific syntax\n",
    "Deno.env.set(\"OPENAI_API_KEY\", \"\");\n",
    "Deno.env.set(\"LANGFUSE_PUBLIC_KEY\", \"\");\n",
    "Deno.env.set(\"LANGFUSE_SECRET_KEY\", \"\");\n",
    "Deno.env.set(\"LANGFUSE_HOST\", \"https://cloud.langfuse.com\") // For US data region, set this to \"https://us.cloud.langfuse.com\""
   ]
  },
  {
   "cell_type": "code",
   "execution_count": null,
   "id": "d0db9215-4fa9-4e3a-aeb5-bddf48192ea4",
   "metadata": {},
   "outputs": [],
   "source": [
    "// Initialize OpenAI client with observerOpenAI wrapper\n",
    "const openai = observeOpenAI(new OpenAI());"
   ]
  },
  {
   "cell_type": "markdown",
   "id": "47c97184-a64e-45bc-8c8c-9e1e7c862dd3",
   "metadata": {},
   "source": [
    "### 2. InitParams"
   ]
  },
  {
   "cell_type": "code",
   "execution_count": null,
   "id": "c0329c0a-6c14-46ae-9acd-1904cf7de605",
   "metadata": {},
   "outputs": [],
   "source": [
    "import OpenAI from \"npm:openai\";\n",
    "import { observeOpenAI } from \"npm:langfuse\";\n",
    "\n",
    "const openai = observeOpenAI(new OpenAI({apiKey: \"\"}), \n",
    "     {clientInitParams: {\n",
    "        publicKey: \"\",\n",
    "        secretKey: \"\",\n",
    "        baseUrl: \"https://cloud.langfuse.com\", // Your host, defaults to https://cloud.langfuse.com\n",
    "        // For US data region, set this to \"https://us.cloud.langfuse.com\"\n",
    "      }});"
   ]
  },
  {
   "cell_type": "markdown",
   "id": "90e2da1c-ea23-493e-9c74-d212fcf7b2ec",
   "metadata": {},
   "source": [
    "## Examples"
   ]
  },
  {
   "cell_type": "markdown",
   "id": "87bec5a5-7006-46e9-966d-8c57a3c50983",
   "metadata": {},
   "source": [
    "### Chat completion"
   ]
  },
  {
   "cell_type": "code",
   "execution_count": null,
   "id": "b1a00305-0209-4de7-83c5-b87953833a43",
   "metadata": {},
   "outputs": [],
   "source": [
    "import OpenAI from \"npm:openai\";\n",
    "import { observeOpenAI } from \"npm:langfuse\";\n",
    "\n",
    "// Configured via environment variables, see above\n",
    "const openai = observeOpenAI(new OpenAI());\n",
    "\n",
    "const completion = await openai.chat.completions.create({\n",
    "  model: 'gpt-3.5-turbo',\n",
    "  messages: [{ role: \"system\", content: \"Tell me a joke.\" }],\n",
    "  max_tokens: 100,\n",
    "});\n",
    "\n",
    "// notebook only: await events being flushed to Langfuse\n",
    "await openai.flushAsync();\n",
    "\n",
    "console.log(completion.choices[0]?.message.content);"
   ]
  },
  {
   "cell_type": "markdown",
   "id": "bc6d16d9-de98-4f10-8212-fdf43891bf05",
   "metadata": {},
   "source": [
    "Public trace: https://cloud.langfuse.com/project/cloramnkj0002jz088vzn1ja4/traces/c4d32379-749f-460e-ad88-a95f0820c855\n",
    "\n",
    "![Langfuse Trace](https://langfuse.com/images/cookbook/js_integration_openai_simple.png)"
   ]
  },
  {
   "cell_type": "markdown",
   "id": "34ce01c8-cca2-4e7f-b4ef-15640b89a45a",
   "metadata": {},
   "source": [
    "### Chat completion (streaming)\n",
    "\n",
    "Simple example using OpenAI streaming, passing custom parameters to rename the generation and add a tag to the trace."
   ]
  },
  {
   "cell_type": "code",
   "execution_count": null,
   "id": "80b727de-67bf-44c5-93bf-2a9c562794ec",
   "metadata": {},
   "outputs": [],
   "source": [
    "import OpenAI from \"npm:openai\";\n",
    "import { observeOpenAI } from \"npm:langfuse\";\n",
    "\n",
    "// Initialize OpenAI SDK with Langfuse\n",
    "const openaiWithLangfuse = observeOpenAI(new OpenAI(), { generationName: \"OpenAI Stream Trace\", tags: [\"stream\"]} )\n",
    "\n",
    "// Call OpenAI\n",
    "const stream = await openaiWithLangfuse.chat.completions.create({\n",
    "  model: 'gpt-3.5-turbo',\n",
    "  messages: [{ role: \"system\", content: \"Tell me a joke.\" }],\n",
    "  stream: true,\n",
    "});\n",
    "\n",
    "for await (const chunk of stream) {\n",
    "    const content = chunk.choices[0]?.delta?.content || '';\n",
    "    console.log(content);\n",
    "  }\n",
    "\n",
    "// notebook only: await events being flushed to Langfuse\n",
    "await openaiWithLangfuse.flushAsync();"
   ]
  },
  {
   "cell_type": "markdown",
   "id": "6c93ac08-70b1-4d10-b402-5a766918199d",
   "metadata": {},
   "source": [
    "Public trace: https://cloud.langfuse.com/project/cloramnkj0002jz088vzn1ja4/traces/7c7acc02-6129-448b-84d3-5973e0256175"
   ]
  },
  {
   "cell_type": "markdown",
   "id": "d75b0944-ab82-4769-9e6c-a5dda0e5ad9b",
   "metadata": {},
   "source": [
    "### Add additional metadata and parameters\n",
    "\n",
    "The trace is a core object in Langfuse, and you can add rich metadata to it. Refer to the JS/TS SDK documentation and the [reference](https://js.reference.langfuse.com/functions/langfuse.observeOpenAI.html) for comprehensive details.\n",
    "\n",
    "Example usage:\n",
    "\n",
    "- Assigning a custom name to identify a specific trace type\n",
    "- Enabling user-level tracking\n",
    "- Tracking experiments through versions and releases\n",
    "- Adding custom metadata"
   ]
  },
  {
   "cell_type": "code",
   "execution_count": null,
   "id": "6dd7c881-6ead-45e8-a118-090defd8f706",
   "metadata": {},
   "outputs": [],
   "source": [
    "import OpenAI from \"npm:openai\";\n",
    "import { observeOpenAI } from \"npm:langfuse\";\n",
    "\n",
    "// Initialize OpenAI SDK with Langfuse and custom parameters\n",
    "const openaiWithLangfuse = observeOpenAI(new OpenAI(), {\n",
    "    generationName: \"OpenAI Custom Trace\",\n",
    "    metadata: {env: \"dev\"},\n",
    "    sessionId: \"session-id\",\n",
    "    userId: \"user-id\",\n",
    "    tags: [\"custom\"],\n",
    "    version: \"0.0.1\",\n",
    "    release: \"beta\",\n",
    "})\n",
    "\n",
    "// Call OpenAI\n",
    "const completion = await openaiWithLangfuse.chat.completions.create({\n",
    "  model: 'gpt-3.5-turbo',\n",
    "  messages: [{ role: \"system\", content: \"Tell me a joke.\" }],\n",
    "  max_tokens: 100,\n",
    "});\n",
    "\n",
    "// notebook only: await events being flushed to Langfuse\n",
    "await openaiWithLangfuse.flushAsync();"
   ]
  },
  {
   "cell_type": "markdown",
   "id": "e657fc32-c4de-481c-8862-f6168c065f9f",
   "metadata": {},
   "source": [
    "Public trace: https://cloud.langfuse.com/project/cloramnkj0002jz088vzn1ja4/traces/8c7ac9d0-ae3d-43cd-a69b-ef8ce888fd4a"
   ]
  },
  {
   "cell_type": "markdown",
   "id": "2df27fc5-98ca-404d-bdd4-fec06445360a",
   "metadata": {},
   "source": [
    "### Function Calling"
   ]
  },
  {
   "cell_type": "code",
   "execution_count": null,
   "id": "f47eaa4f-e30d-40d4-a264-15796f3fd74c",
   "metadata": {
    "scrolled": true
   },
   "outputs": [],
   "source": [
    "import OpenAI from \"npm:openai\";\n",
    "import { observeOpenAI } from \"npm:langfuse\";\n",
    "\n",
    "// Initialize OpenAI SDK with Langfuse\n",
    "const openaiWithLangfuse = observeOpenAI(new OpenAI(), { generationName: \"OpenAI FunctionCall Trace\", tags: [\"function\"]} )\n",
    "\n",
    "// Define custom function\n",
    "async function getWeather(location: string) {\n",
    "  if (location === \"Berlin\")\n",
    "    {return \"20degC\"}\n",
    "  else \n",
    "    {return \"unknown\"}\n",
    "}\n",
    "\n",
    "// Create function specification required for OpenAI API\n",
    "const functions = [{\n",
    "    type: \"function\",\n",
    "    function: {\n",
    "        name: \"getWeather\",\n",
    "        description: \"Get the current weather in a given location\",\n",
    "        parameters: {\n",
    "            type: \"object\",\n",
    "            properties: {\n",
    "                location: {\n",
    "                    type: \"string\",\n",
    "                    description: \"The city, e.g. San Francisco\",\n",
    "                },\n",
    "            },\n",
    "            required: [\"location\"],\n",
    "        },\n",
    "    },\n",
    "}]\n",
    "\n",
    "// Call OpenAI\n",
    "const res = await openaiWithLangfuse.chat.completions.create({\n",
    "    model: 'gpt-3.5-turbo',\n",
    "    messages: [{ role: 'user', content: \"What's the weather like in Berlin today\"}],\n",
    "    tool_choice: \"auto\",\n",
    "    tools: functions,\n",
    "})\n",
    "\n",
    "const tool_call = res.choices[0].message.tool_calls;\n",
    "if (tool_call[0].function.name === \"getWeather\") {\n",
    "    const argsStr = tool_call[0].function.arguments;\n",
    "    const args = JSON.parse(argsStr); \n",
    "    const answer = await getWeather(args[\"location\"]);\n",
    "    console.log(answer);\n",
    "}\n",
    "\n",
    "// notebook only: await events being flushed to Langfuse\n",
    "await openaiWithLangfuse.flushAsync();"
   ]
  },
  {
   "cell_type": "markdown",
   "id": "448017d3-b925-483f-b16b-e5c735d7e0c6",
   "metadata": {},
   "source": [
    "Public trace: https://cloud.langfuse.com/project/cloramnkj0002jz088vzn1ja4/traces/ef0a2a2c-e9b5-44cf-b984-4b184dc711a7"
   ]
  },
  {
   "cell_type": "markdown",
   "id": "a84acbae-90c9-4a46-9ad4-130d64406318",
   "metadata": {},
   "source": [
    "### Group multiple generations into a single trace\n",
    "\n",
    "Use the Langfuse JS/TS SDK to create traces or spans and add OpenAI calls to it by passing the trace/span as a `parent` to the `observeOpenAI` wrapper."
   ]
  },
  {
   "cell_type": "code",
   "execution_count": null,
   "id": "6023dc91-7347-4d98-bf23-03b6da29de53",
   "metadata": {},
   "outputs": [],
   "source": [
    "import Langfuse from \"npm:langfuse\";\n",
    "import { observeOpenAI } from \"npm:langfuse\";\n",
    "import OpenAI from \"npm:openai\";\n",
    "\n",
    "\n",
    "// Init Langfuse SDK\n",
    "const langfuse = new Langfuse();\n",
    " \n",
    "// Create trace and add params\n",
    "const trace = langfuse.trace({ name: \"capital-poem-generator\", tags: [\"grouped\"]});\n",
    " \n",
    "// Create span\n",
    "const country = \"Germany\";\n",
    "const span = trace.span({ name: country });\n",
    "\n",
    "// Call OpenAI\n",
    "const capital = (\n",
    "  await observeOpenAI(new OpenAI(), {\n",
    "    parent: span,\n",
    "    generationName: \"get-capital\",\n",
    "  }).chat.completions.create({\n",
    "    model: \"gpt-3.5-turbo\",\n",
    "    messages: [\n",
    "      { role: \"system\", content: \"What is the capital of the country?\" },\n",
    "      { role: \"user\", content: country },\n",
    "    ],\n",
    "  })\n",
    ").choices[0].message.content;\n",
    "\n",
    "const poem = (\n",
    "  await observeOpenAI(new OpenAI(), {\n",
    "    parent: span,\n",
    "    generationName: \"generate-poem\",\n",
    "  }).chat.completions.create({\n",
    "    model: \"gpt-3.5-turbo\",\n",
    "    messages: [\n",
    "      {\n",
    "        role: \"system\",\n",
    "        content: \"You are a poet. Create a poem about this city.\",\n",
    "      },\n",
    "      { role: \"user\", content: capital },\n",
    "    ],\n",
    "  })\n",
    ").choices[0].message.content;\n",
    "\n",
    "// End span to get span-level latencies\n",
    "span.end();\n",
    " \n",
    "// notebook only: await events being flushed to Langfuse\n",
    "await langfuse.flushAsync();"
   ]
  },
  {
   "cell_type": "markdown",
   "id": "f54b2361-9df6-4160-95a5-1f3eab7af9bd",
   "metadata": {},
   "source": [
    "Public trace: https://cloud.langfuse.com/project/cloramnkj0002jz088vzn1ja4/traces/02e76ecc-b233-4617-bc29-67538ea1a41c\n",
    "\n",
    "![Langfuse Trace](https://langfuse.com/images/cookbook/js_integration_openai_grouped.png)"
   ]
  },
  {
   "cell_type": "markdown",
   "id": "95db624f-b6e2-4f2a-9561-40cbddd7bc3f",
   "metadata": {},
   "source": [
    "### Update trace"
   ]
  },
  {
   "cell_type": "code",
   "execution_count": null,
   "id": "67d61c52-83c8-4799-990c-73242524f52a",
   "metadata": {},
   "outputs": [],
   "source": [
    "import Langfuse from \"npm:langfuse\";\n",
    "import { observeOpenAI } from \"npm:langfuse\";\n",
    "import OpenAI from \"npm:openai\";\n",
    "\n",
    "// Init Langfuse SDK\n",
    "const langfuse = new Langfuse();\n",
    "\n",
    "// Create trace and add params\n",
    "const trace = langfuse.trace({ name: \"capital-poem-generator\" });\n",
    "\n",
    "// Create span\n",
    "const span = trace.span({ name: \"France\" });\n",
    "\n",
    "const capital = (\n",
    "  await observeOpenAI(new OpenAI(), {\n",
    "    parent: span,\n",
    "    generationName: \"get-capital\",\n",
    "  }).chat.completions.create({\n",
    "    model: \"gpt-3.5-turbo\",\n",
    "    messages: [\n",
    "      { role: \"system\", content: \"What is the capital of the country?\" },\n",
    "      { role: \"user\", content: \"France\" },\n",
    "    ],\n",
    "  })\n",
    ").choices[0].message.content;\n",
    "\n",
    "const poem = (\n",
    "  await observeOpenAI(new OpenAI(), {\n",
    "    parent: span,\n",
    "    generationName: \"generate-poem\",\n",
    "  }).chat.completions.create({\n",
    "    model: \"gpt-3.5-turbo\",\n",
    "    messages: [\n",
    "      {\n",
    "        role: \"system\",\n",
    "        content: \"You are a poet. Create a poem about this city.\",\n",
    "      },\n",
    "      { role: \"user\", content: capital },\n",
    "    ],\n",
    "  })\n",
    ").choices[0].message.content;\n",
    "\n",
    "// Update span to get IO on span-level\n",
    "span.update({input: capital, output: poem});\n",
    "\n",
    "// End span to get span-level latencies\n",
    "span.end();\n",
    "\n",
    "// Update trace\n",
    "trace.update({\n",
    "    name:\"City poem generator\",\n",
    "    tags: [\"updated\"],\n",
    "    metadata: {\"env\": \"development\"},\n",
    "    release: \"v0.0.2\",\n",
    "    output: poem,\n",
    "});\n",
    "\n",
    "// notebook only: await events being flushed to Langfuse\n",
    "await langfuse.flushAsync();"
   ]
  },
  {
   "cell_type": "markdown",
   "id": "2ad2be01-0c27-43b3-8a1c-47406710364a",
   "metadata": {},
   "source": [
    "Public trace: https://cloud.langfuse.com/project/cloramnkj0002jz088vzn1ja4/traces/4a40e120-348f-4c22-bf16-453d5486f47a"
   ]
  },
  {
   "cell_type": "markdown",
   "id": "556d1a5f-e434-4844-946e-3cdff362ea8e",
   "metadata": {},
   "source": [
    "## Get started\n",
    "\n",
    "Follow the [integration guide](https://langfuse.com/docs/integrations/openai/js/get-started) to add this integration to your OpenAI project."
   ]
  }
 ],
 "metadata": {
  "kernelspec": {
   "display_name": "Deno",
   "language": "typescript",
   "name": "deno"
  },
  "language_info": {
   "file_extension": ".ts",
   "mimetype": "text/x.typescript",
   "name": "typescript",
   "nb_converter": "script",
   "pygments_lexer": "typescript",
   "version": "5.4.3"
  }
 },
 "nbformat": 4,
 "nbformat_minor": 5
}

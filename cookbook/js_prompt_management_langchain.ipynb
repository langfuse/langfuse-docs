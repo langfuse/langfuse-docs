{
 "cells": [
  {
   "cell_type": "markdown",
   "metadata": {},
   "source": [
    "---\n",
    "description: Example how to version control and manage prompts with Langfuse Prompt Management and Langchain JS.\n",
    "category: Prompt Management\n",
    "---\n",
    "\n",
    "# Example: Langfuse Prompt Management with Langchain (JS)\n",
    "\n",
    "Langfuse [Prompt Management](https://langfuse.com/docs/prompts) helps to version control and manage prompts collaboratively in one place.\n",
    "\n",
    "This example demonstrates how to use Langfuse Prompt Management together with Langchain JS."
   ]
  },
  {
   "cell_type": "code",
   "execution_count": 1,
   "metadata": {},
   "outputs": [],
   "source": [
    "const langfuseParams = {\n",
    "    publicKey: \"\",\n",
    "    secretKey: \"\",\n",
    "    baseUrl: \"https://cloud.langfuse.com\",\n",
    "    flushAt: 1 // cookbook-only, send all events immediately\n",
    "}"
   ]
  },
  {
   "cell_type": "code",
   "execution_count": 2,
   "metadata": {},
   "outputs": [],
   "source": [
    "import { Langfuse } from \"npm:langfuse\"\n",
    "const langfuse = new Langfuse(langfuseParams)"
   ]
  },
  {
   "cell_type": "markdown",
   "metadata": {},
   "source": [
    "## Simple example\n",
    "\n",
    "### Add new prompt\n",
    "\n",
    "We add the prompt used in this example via the SDK. Alternatively, you can also edit and version the prompt in the Langfuse UI.\n",
    "\n",
    "- `Name` that identifies the prompt in Langfuse Prompt Management\n",
    "- Prompt with `topic` variable\n",
    "- Config including `modelName`, `temperature`\n",
    "- `labels` to include `production` to immediately use prompt as the default\n",
    "\n",
    "For the sake of this notebook, we will add the prompt in Langfuse and use it right away. Usually, you'd update the prompt from time to time in Langfuse and your application fetches the current production version."
   ]
  },
  {
   "cell_type": "code",
   "execution_count": 3,
   "metadata": {},
   "outputs": [],
   "source": [
    "const prompt =  await langfuse.createPrompt({\n",
    "    name: \"jokes\",\n",
    "    prompt: \"Tell me a joke about {{topic}}\",\n",
    "    config: {\n",
    "      modelName: \"gpt-4\",\n",
    "      temperature: 1,\n",
    "    }, // optionally, add configs (e.g. model parameters or model tools)\n",
    "    labels: [\"production\"] // directly promote to production\n",
    "});"
   ]
  },
  {
   "cell_type": "markdown",
   "metadata": {},
   "source": [
    "Prompt in Langfuse\n",
    "\n",
    "![Prompt in Langfuse](https://langfuse.com/images/cookbook/js_prompt_management_langchain_simple_prompt.png)"
   ]
  },
  {
   "cell_type": "markdown",
   "metadata": {},
   "source": [
    "### Run example\n",
    "\n",
    "#### Get current prompt version from Langfuse"
   ]
  },
  {
   "cell_type": "code",
   "execution_count": 4,
   "metadata": {},
   "outputs": [],
   "source": [
    "const prompt = await langfuse.getPrompt(\"jokes\")"
   ]
  },
  {
   "cell_type": "markdown",
   "metadata": {},
   "source": [
    "The prompt includes the prompt string"
   ]
  },
  {
   "cell_type": "code",
   "execution_count": 5,
   "metadata": {},
   "outputs": [
    {
     "data": {
      "text/plain": [
       "\u001b[32m\"Tell me a joke about {{topic}}\"\u001b[39m"
      ]
     },
     "execution_count": 5,
     "metadata": {},
     "output_type": "execute_result"
    }
   ],
   "source": [
    "prompt.prompt"
   ]
  },
  {
   "cell_type": "markdown",
   "metadata": {},
   "source": [
    "and the config object"
   ]
  },
  {
   "cell_type": "markdown",
   "metadata": {},
   "source": [
    "```typescript\n",
    "prompt.config\n",
    "```\n",
    "\n",
    "```\n",
    "{ modelName: [32m\"gpt-4\"\u001b[39m, temperature: \u001b[33m1\u001b[39m }\n",
    " ```"
   ]
  },
  {
   "cell_type": "markdown",
   "metadata": {},
   "source": [
    "#### Transform prompt into Langchain PromptTemplate\n",
    "\n",
    "Use the utility method `.getLangchainPrompt()` to transform the Langfuse prompt into a string that can be used in Langchain.\n",
    "\n",
    "Context: Langfuse declares input variables in prompt templates using double brackets (`{{input variable}}`). Langchain uses single brackets for declaring input variables in PromptTemplates (`{input variable}`). The utility method `.getLangchainPrompt()` replaces the double brackets with single brackets.\n",
    "\n",
    "Also, pass the Langfuse prompt as metadata to the PromptTemplate to automatically link generations that use the prompt."
   ]
  },
  {
   "cell_type": "code",
   "execution_count": 8,
   "metadata": {},
   "outputs": [],
   "source": [
    "import { PromptTemplate } from \"npm:@langchain/core/prompts\"\n",
    "\n",
    "const promptTemplate = PromptTemplate.fromTemplate(\n",
    "    prompt.getLangchainPrompt()\n",
    "  ).withConfig({\n",
    "    metadata: { langfusePrompt: prompt }\n",
    "  });"
   ]
  },
  {
   "cell_type": "markdown",
   "metadata": {},
   "source": [
    "#### Setup Langfuse Tracing for Langchain JS\n",
    "\n",
    "We'll use the native [Langfuse Tracing for Langchain JS](https://langfuse.com/docs/integrations/langchain) when executing this chain. This is fully optional and can be used independently from Prompt Management."
   ]
  },
  {
   "cell_type": "code",
   "execution_count": 9,
   "metadata": {},
   "outputs": [],
   "source": [
    "import { CallbackHandler } from \"npm:langfuse-langchain\"\n",
    "const langfuseLangchainHandler = new CallbackHandler(langfuseParams)"
   ]
  },
  {
   "cell_type": "markdown",
   "metadata": {},
   "source": [
    "#### Create chain\n",
    "\n",
    "We use the `modelName` and `temperature` stored in `prompt.config`."
   ]
  },
  {
   "cell_type": "code",
   "execution_count": 10,
   "metadata": {},
   "outputs": [],
   "source": [
    "import { ChatOpenAI } from \"npm:@langchain/openai\"\n",
    "import { RunnableSequence } from \"npm:@langchain/core/runnables\";\n",
    "\n",
    "const model = new ChatOpenAI({\n",
    "    modelName: prompt.config.modelName,\n",
    "    temperature: prompt.config.temperature\n",
    "});\n",
    "const chain = RunnableSequence.from([promptTemplate, model]);"
   ]
  },
  {
   "cell_type": "markdown",
   "metadata": {},
   "source": [
    "#### Invoke chain"
   ]
  },
  {
   "cell_type": "code",
   "execution_count": 11,
   "metadata": {},
   "outputs": [],
   "source": [
    "const res = await chain.invoke(\n",
    "    { topic: \"Europe and the Americas\" },\n",
    "    { callbacks: [langfuseLangchainHandler] }\n",
    ");"
   ]
  },
  {
   "cell_type": "markdown",
   "metadata": {},
   "source": [
    "### View trace in Langfuse\n",
    "\n",
    "As we passed the langfuse callback handler, we can explore the execution trace in Langfuse.\n",
    "\n",
    "![Trace in Langfuse](https://langfuse.com/images/cookbook/js_prompt_management_langchain_simple_trace.png)"
   ]
  },
  {
   "cell_type": "markdown",
   "metadata": {},
   "source": [
    "## OpenAI functions and JsonOutputFunctionsParser"
   ]
  },
  {
   "cell_type": "markdown",
   "metadata": {},
   "source": [
    "### Add prompt to Langfuse"
   ]
  },
  {
   "cell_type": "code",
   "execution_count": 12,
   "metadata": {},
   "outputs": [],
   "source": [
    "const prompt =  await langfuse.createPrompt({\n",
    "    name: \"extractor\",\n",
    "    prompt: \"Extracts fields from the input.\",\n",
    "    config: {\n",
    "      modelName: \"gpt-4\",\n",
    "      temperature: 0,\n",
    "      schema: {\n",
    "        type: \"object\",\n",
    "        properties: {\n",
    "          tone: {\n",
    "            type: \"string\",\n",
    "            enum: [\"positive\", \"negative\"],\n",
    "            description: \"The overall tone of the input\",\n",
    "          },\n",
    "          word_count: {\n",
    "            type: \"number\",\n",
    "            description: \"The number of words in the input\",\n",
    "          },\n",
    "          chat_response: {\n",
    "            type: \"string\",\n",
    "            description: \"A response to the human's input\",\n",
    "          },\n",
    "        },\n",
    "        required: [\"tone\", \"word_count\", \"chat_response\"],\n",
    "      }\n",
    "    }, // optionally, add configs (e.g. model parameters or model tools)\n",
    "    labels: [\"production\"] // directly promote to production\n",
    "});"
   ]
  },
  {
   "cell_type": "markdown",
   "metadata": {},
   "source": [
    "Prompt in Langfuse\n",
    "\n",
    "![Prompt in Langfuse](https://langfuse.com/images/cookbook/js_prompt_management_langchain_json_extraction_prompt.png)"
   ]
  },
  {
   "cell_type": "markdown",
   "metadata": {},
   "source": [
    "### Fetch prompt"
   ]
  },
  {
   "cell_type": "code",
   "execution_count": 13,
   "metadata": {},
   "outputs": [],
   "source": [
    "const extractorPrompt = await langfuse.getPrompt(\"extractor\")"
   ]
  },
  {
   "cell_type": "markdown",
   "metadata": {},
   "source": [
    "Transform into schema"
   ]
  },
  {
   "cell_type": "code",
   "execution_count": 14,
   "metadata": {},
   "outputs": [],
   "source": [
    "const extractionFunctionSchema = {\n",
    "    name: \"extractor\",\n",
    "    description: prompt.prompt,\n",
    "    parameters: prompt.config.schema,\n",
    "}"
   ]
  },
  {
   "cell_type": "markdown",
   "metadata": {},
   "source": [
    "### Build chain"
   ]
  },
  {
   "cell_type": "code",
   "execution_count": 15,
   "metadata": {},
   "outputs": [],
   "source": [
    "import { ChatOpenAI } from \"npm:@langchain/openai\";\n",
    "import { JsonOutputFunctionsParser } from \"npm:langchain/output_parsers\";\n",
    "\n",
    "// Instantiate the parser\n",
    "const parser = new JsonOutputFunctionsParser();\n",
    "\n",
    "// Instantiate the ChatOpenAI class\n",
    "const model = new ChatOpenAI({ \n",
    "    modelName: prompt.config.modelName,\n",
    "    temperature: prompt.config.temperature\n",
    "});\n",
    "\n",
    "// Create a new runnable, bind the function to the model, and pipe the output through the parser\n",
    "const runnable = model\n",
    "  .bind({\n",
    "    functions: [extractionFunctionSchema],\n",
    "    function_call: { name: \"extractor\" },\n",
    "  })\n",
    "  .pipe(parser);"
   ]
  },
  {
   "cell_type": "markdown",
   "metadata": {},
   "source": [
    "### Invoke chain"
   ]
  },
  {
   "cell_type": "code",
   "execution_count": 16,
   "metadata": {},
   "outputs": [],
   "source": [
    "import { HumanMessage } from \"npm:@langchain/core/messages\";\n",
    "\n",
    "// Invoke the runnable with an input\n",
    "const result = await runnable.invoke(\n",
    "    [new HumanMessage(\"What a beautiful day!\")],\n",
    "    { callbacks: [langfuseLangchainHandler] }\n",
    ");"
   ]
  },
  {
   "cell_type": "markdown",
   "metadata": {},
   "source": [
    "### View trace in Langfuse\n",
    "\n",
    "![Trace in Langfuse](https://langfuse.com/images/cookbook/js_prompt_management_langchain_json_extraction_trace.png)"
   ]
  }
 ],
 "metadata": {
  "kernelspec": {
   "display_name": "Deno",
   "language": "typescript",
   "name": "deno"
  },
  "language_info": {
   "file_extension": ".ts",
   "mimetype": "text/x.typescript",
   "name": "typescript",
   "nb_converter": "script",
   "pygments_lexer": "typescript",
   "version": "5.3.3"
  }
 },
 "nbformat": 4,
 "nbformat_minor": 4
}

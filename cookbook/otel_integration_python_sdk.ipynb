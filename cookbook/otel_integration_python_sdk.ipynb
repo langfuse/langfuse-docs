{
  "cells": [
    {
      "cell_type": "markdown",
      "metadata": {
        "id": "kMEC0LbPyAdh"
      },
      "source": [
        "# Example: Using OpenTelemetry SDK with Langfuse OTel API\n",
        "\n",
        "This notebook demonstrates how to use any OpenTelemetry SDK to send traces to Langfuse. [OpenTelemetry](https://opentelemetry.io/) is a CNCF project that provides a standard way to collect distributed traces and metrics from applications.\n",
        "\n",
        "Langfuse operates as an [OpenTelemetry Backend](/docs/opentelemetry/get-started) and maps the received traces to the Langfuse data model according to the OpenTelemetry Gen AI Conventions. See the [property mapping documentation](/docs/opentelemetry/get-started#property-mapping) for details on how attributes are parsed.\n",
        "\n",
        "In this example, we'll use the [Python OpenTelemetry SDK](https://opentelemetry.io/docs/languages/python/) to send traces with GenAI attributes to Langfuse.\n",
        "\n",
        "## Setup"
      ]
    },
    {
      "cell_type": "code",
      "execution_count": null,
      "metadata": {
        "id": "blZJc8AEw-QD"
      },
      "outputs": [],
      "source": [
        "%pip install opentelemetry-sdk opentelemetry-exporter-otlp opentelemetry-api"
      ]
    },
    {
      "cell_type": "code",
      "execution_count": null,
      "metadata": {
        "id": "Y4_CLoWNr-4B"
      },
      "outputs": [],
      "source": [
        "import json\n",
        "import base64\n",
        "\n",
        "from opentelemetry import trace\n",
        "from opentelemetry.exporter.otlp.proto.http.trace_exporter import OTLPSpanExporter\n",
        "from opentelemetry.sdk.trace import TracerProvider\n",
        "from opentelemetry.sdk.trace.export import BatchSpanProcessor\n",
        "\n",
        "LANGFUSE_OTEL_API = \"https://cloud.langfuse.com/api/public/otel\" # EU Data Region\n",
        "# LANGFUSE_OTEL_API = \"https://us.cloud.langfuse.com/api/public/otel\" # US Data Region\n",
        "\n",
        "LANGFUSE_PUBLIC_KEY=\"pk-lf-xxx\"\n",
        "LANGFUSE_SECRET_KEY=\"sk-lf-xxx\"\n",
        "\n",
        "\n",
        "LANGFUSE_AUTH = base64.b64encode(f\"{LANGFUSE_PUBLIC_KEY}:{LANGFUSE_SECRET_KEY}\".encode()).decode()\n",
        "provider = TracerProvider()\n",
        "processor = BatchSpanProcessor(\n",
        "    OTLPSpanExporter(\n",
        "        endpoint=f\"{LANGFUSE_OTEL_API}/v1/traces\",\n",
        "        headers={\"Authorization\": f\"Basic {LANGFUSE_AUTH}\"},\n",
        "    )\n",
        ")\n",
        "provider.add_span_processor(processor)\n",
        "trace.set_tracer_provider(provider)\n",
        "tracer = trace.get_tracer(__name__)"
      ]
    },
    {
      "cell_type": "markdown",
      "metadata": {
        "id": "bGnKN6iN3I87"
      },
      "source": [
        "## Flattened attributes\n",
        "\n",
        "Export a span with flattened attribute names following the GenAI semantic conventions"
      ]
    },
    {
      "cell_type": "code",
      "execution_count": 3,
      "metadata": {
        "id": "tGh1O4C1xUEZ"
      },
      "outputs": [],
      "source": [
        "with tracer.start_as_current_span(\"GenAI Attributes\") as span:\n",
        "    span.set_attribute(\"gen_ai.prompt.0.role\", \"system\")\n",
        "    span.set_attribute(\"gen_ai.prompt.0.content\", \"You are a coding assistant that helps write Python code.\")\n",
        "    span.set_attribute(\"gen_ai.prompt.1.role\", \"user\") \n",
        "    span.set_attribute(\"gen_ai.prompt.1.content\", \"Write a function that calculates the factorial of a number.\")\n",
        "\n",
        "    span.set_attribute(\"gen_ai.completion.0.role\", \"assistant\")\n",
        "    span.set_attribute(\"gen_ai.completion.0.content\", \"\"\"def factorial(n):\n",
        "    if n == 0:\n",
        "        return 1\n",
        "    return n * factorial(n-1)\"\"\")\n",
        "\n",
        "    span.set_attribute(\"gen_ai.request.model\", \"gpt-4\")\n",
        "    span.set_attribute(\"gen_ai.request.temperature\", 0.7)\n",
        "    span.set_attribute(\"gen_ai.usage.prompt_tokens\", 25)\n",
        "    span.set_attribute(\"gen_ai.usage.completion_tokens\", 45)"
      ]
    },
    {
      "cell_type": "markdown",
      "metadata": {
        "id": "P9JE4GFb4GfW"
      },
      "source": [
        "[Example trace](https://cloud.langfuse.com/project/cloramnkj0002jz088vzn1ja4/traces/226b5e5ea844788de7bced27fc475c62?timestamp=2025-02-06T10%3A57%3A11.141Z&observation=db79c5e1372feffc)"
      ]
    },
    {
      "cell_type": "markdown",
      "metadata": {
        "id": "GZflRTLi3K2w"
      },
      "source": [
        "## JSON-serialized attributes\n",
        "\n",
        "Export a span using JSON-serialized attributes"
      ]
    },
    {
      "cell_type": "code",
      "execution_count": 4,
      "metadata": {
        "id": "HIrRPcYt2-ij"
      },
      "outputs": [],
      "source": [
        "with tracer.start_as_current_span(\"GenAI JSON-Serialized Attributes\") as span:\n",
        "    span.set_attribute(\n",
        "        \"gen_ai.prompt_json\",\n",
        "        json.dumps(\n",
        "            [\n",
        "                {\"role\": \"system\", \"content\": \"You are an expert art historian and critic.\"},\n",
        "                {\"role\": \"user\", \"content\": \"Describe Vincent van Gogh's 'The Starry Night' painting in detail.\"},\n",
        "            ]\n",
        "        ),\n",
        "    )\n",
        "    span.set_attribute(\n",
        "        \"gen_ai.completion_json\",\n",
        "        json.dumps(\n",
        "            [\n",
        "                {\"role\": \"assistant\", \"content\": \"The Starry Night (1889) is one of Van Gogh's most famous works, painted during his stay at the Saint-Paul-de-Mausole asylum. The painting depicts a night scene with a swirling sky filled with stars and a crescent moon over a village. The sky is dominated by luminous yellow stars and a spiral pattern of blue clouds. In the foreground, a dark cypress tree reaches toward the sky like a flame. The village below is quiet and peaceful, with a prominent church spire piercing the night. The brushwork is bold and expressive, with thick impasto strokes creating a sense of movement and energy throughout the composition.\"},\n",
        "            ]\n",
        "        ),\n",
        "    )"
      ]
    },
    {
      "cell_type": "markdown",
      "metadata": {
        "id": "Aou_RE774CNG"
      },
      "source": [
        "[Example trace](https://cloud.langfuse.com/project/cloramnkj0002jz088vzn1ja4/traces/019440a211c0ee6739d0be1f9101ac3f?timestamp=2025-02-06T10%3A57%3A44.540Z&observation=a09151c5814c1803)"
      ]
    }
  ],
  "metadata": {
    "colab": {
      "provenance": []
    },
    "kernelspec": {
      "display_name": "Python 3",
      "name": "python3"
    },
    "language_info": {
      "name": "python"
    }
  },
  "nbformat": 4,
  "nbformat_minor": 0
}

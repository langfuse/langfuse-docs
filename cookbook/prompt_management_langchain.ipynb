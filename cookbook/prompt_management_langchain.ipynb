{
  "cells": [
    {
      "cell_type": "markdown",
      "metadata": {},
      "source": [
        "---\n",
        "description: Example of Open Source Prompt Management for Langchain applications using Langfuse.\n",
        "category: Prompt Management\n",
        "---"
      ]
    },
    {
      "cell_type": "markdown",
      "metadata": {
        "id": "Yc7JQAashNea"
      },
      "source": [
        "# Example: Langfuse Prompt Management with Langchain (Python)"
      ]
    },
    {
      "cell_type": "markdown",
      "metadata": {
        "id": "8qGbaVDEiK6o"
      },
      "source": [
        "[Langfuse Prompt Management](https://langfuse.com/docs/prompts) helps to version control and manage prompts collaboratively in one place. This example demostrates how to use prompts managed in Langchain applications.\n",
        "\n",
        "_In addition, we use [Langfuse Tracing](https://langfuse.com/docs/tracing) via the native [Langchain integration](https://langfuse.com/docs/integrations/langchain) to inspect and debug the Langchain application._"
      ]
    },
    {
      "cell_type": "markdown",
      "metadata": {
        "id": "TwyrmsWZhsFW"
      },
      "source": [
        "## Setup"
      ]
    },
    {
      "cell_type": "code",
      "execution_count": null,
      "metadata": {
        "colab": {
          "base_uri": "https://localhost:8080/"
        },
        "id": "gJzIBAVKKdoD",
        "outputId": "842bf588-0203-4961-d818-5d17ef5cf86a"
      },
      "outputs": [],
      "source": [
        "%pip install langfuse langchain langchain-openai --upgrade"
      ]
    },
    {
      "cell_type": "code",
      "execution_count": 11,
      "metadata": {
        "id": "_f8m2HYAKfJz"
      },
      "outputs": [],
      "source": [
        "import os\n",
        "\n",
        "# Get keys for your project from the project settings page: https://cloud.langfuse.com\n",
        "\n",
        "os.environ[\"LANGFUSE_PUBLIC_KEY\"] = \"pk-lf-...\" \n",
        "os.environ[\"LANGFUSE_SECRET_KEY\"] = \"sk-lf-...\" \n",
        "os.environ[\"LANGFUSE_HOST\"] = \"https://cloud.langfuse.com\" # 🇪🇺 EU region\n",
        "# os.environ[\"LANGFUSE_HOST\"] = \"https://us.cloud.langfuse.com\" # 🇺🇸 US region\n",
        "\n",
        "# your openai key\n",
        "os.environ[\"OPENAI_API_KEY\"] = \"sk-proj-...\""
      ]
    },
    {
      "cell_type": "code",
      "execution_count": 2,
      "metadata": {
        "colab": {
          "base_uri": "https://localhost:8080/"
        },
        "id": "0ABMEWVCKsPW",
        "outputId": "eb8abbd4-985b-48a6-84de-815b39d5c2ed"
      },
      "outputs": [],
      "source": [
        "from langfuse import Langfuse\n",
        "from langfuse.callback import CallbackHandler\n",
        "\n",
        "# Initialize Langfuse client (prompt management)\n",
        "langfuse = Langfuse()\n",
        "\n",
        "# Initialize Langfuse CallbackHandler for Langchain (tracing)\n",
        "langfuse_callback_handler = CallbackHandler()\n",
        "\n",
        "# Optional, verify that Langfuse is configured correctly\n",
        "assert langfuse.auth_check()\n",
        "assert langfuse_callback_handler.auth_check()"
      ]
    },
    {
      "cell_type": "markdown",
      "metadata": {
        "id": "fdHpmb6vLAiW"
      },
      "source": [
        "## Add prompt to Langfuse Prompt Management\n",
        "\n",
        "We add the prompt used in this example via the SDK. Alternatively, you can also edit and version the prompt in the Langfuse UI.\n",
        "\n",
        "- `Name` that identifies the prompt in Langfuse Prompt Management\n",
        "- Prompt with prompt template incl. `{{input variables}}`\n",
        "- Config including `model_name` and `temperature`\n",
        "- `labels` to include `production` to immediately use prompt as the default"
      ]
    },
    {
      "cell_type": "code",
      "execution_count": 17,
      "metadata": {
        "colab": {
          "base_uri": "https://localhost:8080/"
        },
        "id": "pX54t3k0gM5w",
        "outputId": "ac24d2bb-5150-4f24-87b1-18e2c02615ca"
      },
      "outputs": [],
      "source": [
        "langfuse.create_prompt(\n",
        "    name=\"event-planner\",\n",
        "    prompt=\n",
        "    \"Plan an event titled {{Event Name}}. The event will be about: {{Event Description}}. \"\n",
        "    \"The event will be held in {{Location}} on {{Date}}. \"\n",
        "    \"Consider the following factors: audience, budget, venue, catering options, and entertainment. \"\n",
        "    \"Provide a detailed plan including potential vendors and logistics.\",\n",
        "    config={\n",
        "        \"model\":\"gpt-4o\",\n",
        "        \"temperature\": 0,\n",
        "    },\n",
        "    labels=[\"production\"]\n",
        ");"
      ]
    },
    {
      "cell_type": "markdown",
      "metadata": {},
      "source": [
        "Prompt in Langfuse UI\n",
        "\n",
        "![Created prompt in Langfuse UI](https://langfuse.com/images/docs/prompt-management-langchain-prompt.png)"
      ]
    },
    {
      "cell_type": "markdown",
      "metadata": {},
      "source": [
        "## Example application\n",
        "\n",
        "### Get current prompt version from Langfuse"
      ]
    },
    {
      "cell_type": "code",
      "execution_count": 21,
      "metadata": {},
      "outputs": [],
      "source": [
        "# Get current production version of prompt\n",
        "langfuse_prompt = langfuse.get_prompt(\"event-planner\")"
      ]
    },
    {
      "cell_type": "markdown",
      "metadata": {},
      "source": [
        "```python\n",
        "print(langfuse_prompt.prompt)\n",
        "```\n",
        "\n",
        "```\n",
        "Plan an event titled {{Event Name}}. The event will be about: {{Event Description}}. The event will be held in {{Location}} on {{Date}}. Consider the following factors: audience, budget, venue, catering options, and entertainment. Provide a detailed plan including potential vendors and logistics.\n",
        " ```"
      ]
    },
    {
      "cell_type": "markdown",
      "metadata": {
        "id": "ahvMYvS1RsF9"
      },
      "source": [
        "### Transform into Langchain PromptTemplate"
      ]
    },
    {
      "cell_type": "markdown",
      "metadata": {
        "id": "TQwfPI42IZM0"
      },
      "source": [
        "Use the utility method `.get_langchain_prompt()` to transform the Langfuse prompt into a string that can be used in Langchain.\n",
        "\n",
        "Context: Langfuse declares input variables in prompt templates using double brackets (`{{input variable}}`). Langchain uses single brackets for declaring input variables in PromptTemplates (`{input variable}`). The utility method `.get_langchain_prompt()` replaces the double brackets with single brackets.\n",
        "\n",
        "Also, pass the Langfuse prompt as metadata to the PromptTemplate to automatically link generations that use the prompt."
      ]
    },
    {
      "cell_type": "code",
      "execution_count": 22,
      "metadata": {
        "colab": {
          "base_uri": "https://localhost:8080/"
        },
        "id": "W0PHfX_QMWHM",
        "outputId": "ff14e6ae-6a40-4ed9-a3af-5c068cf43863"
      },
      "outputs": [],
      "source": [
        "from langchain_core.prompts import ChatPromptTemplate\n",
        "\n",
        "langchain_prompt = ChatPromptTemplate.from_template(\n",
        "        langfuse_prompt.get_langchain_prompt(),\n",
        "        metadata={\"langfuse_prompt\": langfuse_prompt},\n",
        "    )"
      ]
    },
    {
      "cell_type": "markdown",
      "metadata": {
        "id": "EZWWnEVyN9AK"
      },
      "source": [
        "Extract the configuration options from `prompt.config`"
      ]
    },
    {
      "cell_type": "code",
      "execution_count": 23,
      "metadata": {
        "colab": {
          "base_uri": "https://localhost:8080/"
        },
        "id": "H4FNbRwROCab",
        "outputId": "b751864a-b472-47fa-87f2-a05347c1a812"
      },
      "outputs": [
        {
          "name": "stdout",
          "output_type": "stream",
          "text": [
            "Prompt model configurations\n",
            "Model: gpt-4o\n",
            "Temperature: 0\n"
          ]
        }
      ],
      "source": [
        "model = langfuse_prompt.config[\"model\"]\n",
        "temperature = str(langfuse_prompt.config[\"temperature\"])\n",
        "print(f\"Prompt model configurations\\nModel: {model}\\nTemperature: {temperature}\")"
      ]
    },
    {
      "cell_type": "markdown",
      "metadata": {
        "id": "EGCZnwK4CI31"
      },
      "source": [
        "### Create Langchain chain based on prompt"
      ]
    },
    {
      "cell_type": "code",
      "execution_count": 24,
      "metadata": {
        "id": "Phi3qcusC0Aa"
      },
      "outputs": [],
      "source": [
        "from langchain_openai import ChatOpenAI\n",
        "\n",
        "model = ChatOpenAI(model=model, temperature=temperature)\n",
        "\n",
        "chain = langchain_prompt | model"
      ]
    },
    {
      "cell_type": "markdown",
      "metadata": {
        "id": "MEzzzavik9g8"
      },
      "source": [
        "## Invoke chain"
      ]
    },
    {
      "cell_type": "code",
      "execution_count": 25,
      "metadata": {},
      "outputs": [],
      "source": [
        "example_input = {\n",
        "    \"Event Name\": \"Wedding\",\n",
        "    \"Event Description\": \"The wedding of Julia and Alex, a charming couple who share a love for art and nature. This special day will celebrate their journey together with a blend of traditional and contemporary elements, reflecting their unique personalities.\",\n",
        "    \"Location\": \"Central Park, New York City\",\n",
        "    \"Date\": \"June 5, 2024\"\n",
        "}"
      ]
    },
    {
      "cell_type": "code",
      "execution_count": 26,
      "metadata": {
        "colab": {
          "base_uri": "https://localhost:8080/"
        },
        "id": "KZVE_F_8WELq",
        "outputId": "40eb2d97-16a1-43db-be8a-28246d3e6957"
      },
      "outputs": [
        {
          "name": "stdout",
          "output_type": "stream",
          "text": [
            "**Event Title:** Central Park Summer Fest\n",
            "\n",
            "**Event Description:** Central Park Summer Fest is a vibrant outdoor festival celebrating the onset of summer with a blend of music, art, food, and community activities. The event aims to bring together New Yorkers and tourists alike for a day of fun, relaxation, and cultural enrichment in the heart of the city.\n",
            "\n",
            "**Date and Location:** June 5, 2024, Central Park, New York City\n",
            "\n",
            "---\n",
            "\n",
            "### Event Plan\n",
            "\n",
            "#### Audience\n",
            "- **Target Audience:** Families, young adults, tourists, and local residents.\n",
            "- **Expected Attendance:** 5,000 - 7,000 people.\n",
            "\n",
            "#### Budget\n",
            "- **Estimated Total Budget:** $150,000\n",
            "  - Venue and Permits: $20,000\n",
            "  - Catering: $40,000\n",
            "  - Entertainment: $50,000\n",
            "  - Marketing and Promotion: $20,000\n",
            "  - Logistics and Operations: $20,000\n",
            "\n",
            "#### Venue\n",
            "- **Location:** Central Park, New York City\n",
            "- **Specific Area:** Great Lawn or Sheep Meadow (pending permit approval)\n",
            "- **Permits:** Obtain necessary permits from NYC Parks Department. Ensure compliance with noise ordinances and capacity regulations.\n",
            "\n",
            "#### Catering Options\n",
            "- **Food Trucks and Stalls:** Partner with local vendors to provide a diverse range of cuisines, including vegan and gluten-free options.\n",
            "  - Potential Vendors:\n",
            "    - **The Halal Guys** - Middle Eastern cuisine\n",
            "    - **Wafels & Dinges** - Belgian waffles\n",
            "    - **Korilla BBQ** - Korean BBQ\n",
            "    - **Van Leeuwen Ice Cream** - Artisan ice cream\n",
            "- **Beverage Stations:** Set up hydration stations with water and soft drinks. Consider partnerships with local breweries for a craft beer garden.\n",
            "\n",
            "#### Entertainment\n",
            "- **Main Stage Performances:**\n",
            "  - Headliner: A well-known band or artist (e.g., Vampire Weekend or The Strokes)\n",
            "  - Supporting Acts: Local bands and emerging artists\n",
            "- **Art Installations:** Collaborate with local artists to create interactive art pieces throughout the park.\n",
            "- **Workshops and Activities:**\n",
            "  - Yoga and wellness sessions\n",
            "  - Kids' zone with face painting and games\n",
            "  - Community art projects\n",
            "\n",
            "#### Logistics\n",
            "- **Security and Safety:** Hire a professional security team. Coordinate with local police and emergency services for safety protocols.\n",
            "- **Transportation and Parking:** Encourage public transportation. Provide shuttle services from major subway stations.\n",
            "- **Waste Management:** Implement a recycling and waste management plan. Partner with a local waste management company for cleanup services.\n",
            "\n",
            "#### Marketing and Promotion\n",
            "- **Social Media Campaigns:** Utilize platforms like Instagram, Facebook, and Twitter for event promotion.\n",
            "- **Partnerships:** Collaborate with local influencers and media outlets for coverage.\n",
            "- **Print Materials:** Distribute flyers and posters in local businesses and community centers.\n",
            "\n",
            "#### Potential Vendors and Partners\n",
            "- **Event Production:** Hire an experienced event production company (e.g., Eventique or Empire Entertainment) to manage logistics and technical aspects.\n",
            "- **Catering Coordination:** Work with a catering coordinator to manage food vendor logistics.\n",
            "- **Sound and Lighting:** Engage a professional AV company (e.g., Frost Productions) for stage and sound setup.\n",
            "\n",
            "---\n",
            "\n",
            "### Conclusion\n",
            "\n",
            "Central Park Summer Fest promises to be a memorable event that captures the essence of New York City's vibrant culture. By carefully planning each aspect, from entertainment to logistics, we aim to create a seamless and enjoyable experience for all attendees.\n"
          ]
        }
      ],
      "source": [
        "# we pass the callback handler to the chain to trace the run in Langfuse\n",
        "response = chain.invoke(input=example_input,config={\"callbacks\":[langfuse_callback_handler]})\n",
        "\n",
        "print(response.content)"
      ]
    },
    {
      "cell_type": "markdown",
      "metadata": {},
      "source": [
        "## Link with Langfuse Tracing\n",
        "\n",
        "Add the prompt object to the `generation` call in the SDKs to link the generation in [Langfuse Tracing](/docs/tracing) to the prompt version. This linkage enables tracking of metrics by prompt version and name, such as event-planner\", directly in the Langfuse UI. Metrics like scores per prompt version provide insights into how modifications to prompts impact the quality of the generations. If a [fallback prompt](/docs/prompts/get-started#fallback) is used, no link will be created."
      ]
    },
    {
      "cell_type": "code",
      "execution_count": 28,
      "metadata": {},
      "outputs": [
        {
          "data": {
            "text/plain": [
              "AIMessage(content=\"As an expert movie critic, I have not personally seen Dune 2 as it has not been released yet. However, I am familiar with Dune (2021), directed by Denis Villeneuve, which is the first installment in the upcoming two-part adaptation of Frank Herbert's novel. Dune (2021) has garnered critical acclaim for its visual storytelling, intricate world-building, and strong performances. I am looking forward to seeing Dune 2 once it is released and offering my expert opinion on it.\", additional_kwargs={'refusal': None}, response_metadata={'token_usage': {'completion_tokens': 105, 'prompt_tokens': 25, 'total_tokens': 130, 'completion_tokens_details': {'accepted_prediction_tokens': 0, 'audio_tokens': 0, 'reasoning_tokens': 0, 'rejected_prediction_tokens': 0}, 'prompt_tokens_details': {'audio_tokens': 0, 'cached_tokens': 0}}, 'model_name': 'gpt-3.5-turbo-0125', 'system_fingerprint': None, 'id': 'chatcmpl-BNJzW0710KB5yXoPXqHiNAfYnccpp', 'finish_reason': 'stop', 'logprobs': None}, id='run-b05e2ebf-dddc-405a-8cba-d7dc4951c104-0', usage_metadata={'input_tokens': 25, 'output_tokens': 105, 'total_tokens': 130, 'input_token_details': {'audio': 0, 'cache_read': 0}, 'output_token_details': {'audio': 0, 'reasoning': 0}})"
            ]
          },
          "execution_count": 28,
          "metadata": {},
          "output_type": "execute_result"
        }
      ],
      "source": [
        "from langfuse import Langfuse\n",
        "from langchain_core.prompts import ChatPromptTemplate, PromptTemplate\n",
        "from langchain_openai import ChatOpenAI, OpenAI\n",
        " \n",
        "langfuse = Langfuse()\n",
        " \n",
        "# Text prompts:\n",
        "langfuse_text_prompt = langfuse.get_prompt(\"movie-critic\")\n",
        " \n",
        "## Pass the langfuse_text_prompt to the PromptTemplate as metadata to link it to generations that use it\n",
        "langchain_text_prompt = PromptTemplate.from_template(\n",
        "    langfuse_text_prompt.get_langchain_prompt(),\n",
        "    metadata={\"langfuse_prompt\": langfuse_text_prompt},\n",
        ")\n",
        " \n",
        "## Use the text prompt in a Langchain chain\n",
        "llm = OpenAI()\n",
        "completion_chain = langchain_text_prompt | llm\n",
        " \n",
        "completion_chain.invoke({\"movie\": \"Dune 2\", \"criticlevel\": \"expert\"})\n",
        " \n",
        "# Chat prompts:\n",
        "langfuse_chat_prompt = langfuse.get_prompt(\"movie-critic-chat\", type=\"chat\")\n",
        " \n",
        "## Manually set the metadata on the langchain_chat_prompt to link it to generations that use it\n",
        "langchain_chat_prompt = ChatPromptTemplate.from_messages(\n",
        "    langfuse_chat_prompt.get_langchain_prompt()\n",
        ")\n",
        "langchain_chat_prompt.metadata = {\"langfuse_prompt\": langfuse_chat_prompt}\n",
        " \n",
        "## or use the ChatPromptTemplate constructor directly.\n",
        "## Note that using ChatPromptTemplate.from_template led to issues in the past\n",
        "## See: https://github.com/langfuse/langfuse/issues/5374\n",
        "langchain_chat_prompt = ChatPromptTemplate(\n",
        "    langfuse_chat_prompt.get_langchain_prompt(),\n",
        "    metadata={\"langfuse_prompt\": langfuse_prompt}\n",
        ")\n",
        " \n",
        "## Use the chat prompt in a Langchain chain\n",
        "chat_llm = ChatOpenAI()\n",
        "chat_chain = langchain_chat_prompt | chat_llm\n",
        " \n",
        "chat_chain.invoke({\"movie\": \"Dune 2\", \"criticlevel\": \"expert\"})"
      ]
    },
    {
      "cell_type": "markdown",
      "metadata": {},
      "source": [
        "**Note:**  If you use the `with_config` method on the PromptTemplate to create a new Langchain Runnable with updated config, please make sure to pass the `langfuse_prompt` in the `metadata` key as well. Set the `langfuse_prompt` metadata key only on PromptTemplates and not additionally on the LLM calls or elsewhere in your chains."
      ]
    },
    {
      "cell_type": "markdown",
      "metadata": {
        "id": "LQlOxtZGhKN7"
      },
      "source": [
        "## View Trace in Langfuse"
      ]
    },
    {
      "cell_type": "markdown",
      "metadata": {
        "id": "CFBmiR-agkb7"
      },
      "source": [
        "Now we can see that the trace incl. the prompt template have been logged to Langfuse\n",
        "\n",
        "![Trace of prompt used in Langchain in Langfuse](https://langfuse.com/images/docs/prompt-management-langchain-trace.png)"
      ]
    },
    {
      "cell_type": "markdown",
      "metadata": {
        "id": "gD6C146mjCsF"
      },
      "source": [
        "## Iterate on prompt in Langfuse\n",
        "We can now continue adapting our prompt template in the Langfuse UI and continuously update the prompt template in our Langchain application via the script above."
      ]
    }
  ],
  "metadata": {
    "colab": {
      "provenance": []
    },
    "kernelspec": {
      "display_name": "Python 3",
      "name": "python3"
    },
    "language_info": {
      "codemirror_mode": {
        "name": "ipython",
        "version": 3
      },
      "file_extension": ".py",
      "mimetype": "text/x-python",
      "name": "python",
      "nbconvert_exporter": "python",
      "pygments_lexer": "ipython3",
      "version": "3.13.2"
    }
  },
  "nbformat": 4,
  "nbformat_minor": 0
}

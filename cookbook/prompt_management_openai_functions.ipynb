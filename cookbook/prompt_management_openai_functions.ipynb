{
  "cells": [
    {
      "cell_type": "markdown",
      "metadata": {
        "id": "Yc7JQAashNea"
      },
      "source": [
        "---\n",
        "description: Cookbook on how to use Langfuse Prompt Management to version control prompts collaboratively when using OpenAI functions.\n",
        "category: Prompt Management\n",
        "---\n",
        "\n",
        "# Example: Langfuse Prompt Management for OpenAI functions (Python)\n",
        "\n",
        "Langfuse [Prompt Management](https://langfuse.com/docs/prompts) helps to version control and manage prompts collaboratively in one place. This example demostrates how to use the flexible `config` object on Langfuse prompts to store function calling options and model parameters."
      ]
    },
    {
      "cell_type": "markdown",
      "metadata": {
        "id": "TwyrmsWZhsFW"
      },
      "source": [
        "## Setup"
      ]
    },
    {
      "cell_type": "code",
      "execution_count": null,
      "metadata": {
        "colab": {
          "base_uri": "https://localhost:8080/"
        },
        "id": "gJzIBAVKKdoD",
        "outputId": "ca885e81-1e93-47cb-e241-67022b6cb83f"
      },
      "outputs": [],
      "source": [
        "%pip install langfuse openai --upgrade"
      ]
    },
    {
      "cell_type": "code",
      "execution_count": 13,
      "metadata": {
        "id": "_f8m2HYAKfJz"
      },
      "outputs": [],
      "source": [
        "import os\n",
        "\n",
        "# Get keys for your project\n",
        "os.environ[\"LANGFUSE_PUBLIC_KEY\"] = \"\"\n",
        "os.environ[\"LANGFUSE_SECRET_KEY\"] = \"\"\n",
        "os.environ[\"LANGFUSE_HOST\"] = \"https://cloud.langfuse.com\"\n",
        "\n",
        "# OpenAI key\n",
        "os.environ[\"OPENAI_API_KEY\"] = \"\""
      ]
    },
    {
      "cell_type": "code",
      "execution_count": 14,
      "metadata": {
        "colab": {
          "base_uri": "https://localhost:8080/"
        },
        "id": "0ABMEWVCKsPW",
        "outputId": "0cc429c6-862d-461e-b2d9-236258ae479d"
      },
      "outputs": [
        {
          "data": {
            "text/plain": [
              "True"
            ]
          },
          "execution_count": 14,
          "metadata": {},
          "output_type": "execute_result"
        }
      ],
      "source": [
        "from langfuse import Langfuse\n",
        "langfuse = Langfuse()\n",
        "\n",
        "# optional, verify that Langfuse is configured correctly\n",
        "langfuse.auth_check()"
      ]
    },
    {
      "cell_type": "markdown",
      "metadata": {
        "id": "fdHpmb6vLAiW"
      },
      "source": [
        "## Add prompt to Langfuse Prompt Management\n",
        "\n",
        "We add the prompt used in this example via the SDK. Alternatively, you can also edit and version the prompt in the Langfuse UI.\n",
        "\n",
        "- `Name` that identifies the prompt in Langfuse Prompt Management\n",
        "- Prompt with `json_schema` variable\n",
        "- Config including `model_name`, `temperature`, and `json_schema`\n",
        "- `labels` to include `production` to immediately use the prompt as the default"
      ]
    },
    {
      "cell_type": "code",
      "execution_count": 15,
      "metadata": {
        "id": "pX54t3k0gM5w"
      },
      "outputs": [],
      "source": [
        "langfuse.create_prompt(\n",
        "    name=\"story_summarization\",\n",
        "    prompt=\"Extract the key information from this text and return it in JSON format. Use the following schema: {{json_schema}}\",\n",
        "    config={\n",
        "        \"model\":\"gpt-3.5-turbo-1106\",\n",
        "        \"temperature\": 0,\n",
        "        \"json_schema\":{\n",
        "            \"main_character\": \"string (name of protagonist)\",\n",
        "            \"key_content\": \"string (1 sentence)\",\n",
        "            \"keywords\": \"array of strings\",\n",
        "            \"genre\": \"string (genre of story)\",\n",
        "            \"critic_review_comment\": \"string (write similar to a new york times critic)\",\n",
        "            \"critic_score\": \"number (between 0 bad and 10 exceptional)\"\n",
        "        }\n",
        "    },\n",
        "    labels=[\"production\"]\n",
        ");"
      ]
    },
    {
      "cell_type": "markdown",
      "metadata": {},
      "source": [
        "Prompt in Langfuse UI\n",
        "\n",
        "![Langfuse Prompt Management](https://langfuse.com/images/docs/prompt-management-with-config-for-openai-functions.png)"
      ]
    },
    {
      "cell_type": "markdown",
      "metadata": {
        "id": "q7uPMs9zksqB"
      },
      "source": [
        "## Example application\n",
        "\n",
        "### Get current prompt version from Langfuse"
      ]
    },
    {
      "cell_type": "code",
      "execution_count": 16,
      "metadata": {
        "id": "7qmbdIUkkq0o"
      },
      "outputs": [],
      "source": [
        "prompt = langfuse.get_prompt(\"story_summarization\")"
      ]
    },
    {
      "cell_type": "markdown",
      "metadata": {},
      "source": [
        "We can now use the prompt to compile our system message"
      ]
    },
    {
      "cell_type": "code",
      "execution_count": 17,
      "metadata": {
        "colab": {
          "base_uri": "https://localhost:8080/",
          "height": 35
        },
        "id": "bJOIAEn66dw2",
        "outputId": "67aa1c90-57e3-43e6-df1c-388510f613cd"
      },
      "outputs": [
        {
          "data": {
            "application/vnd.google.colaboratory.intrinsic+json": {
              "type": "string"
            },
            "text/plain": [
              "'Extract the key information from this text and return it in JSON format. Use the following schema: TEST SCHEMA'"
            ]
          },
          "execution_count": 17,
          "metadata": {},
          "output_type": "execute_result"
        }
      ],
      "source": [
        "prompt.compile(json_schema=\"TEST SCHEMA\")"
      ]
    },
    {
      "cell_type": "markdown",
      "metadata": {},
      "source": [
        "And it includes the config object"
      ]
    },
    {
      "cell_type": "markdown",
      "metadata": {},
      "source": [
        "```python\n",
        "prompt.config\n",
        "```\n",
        "\n",
        "```\n",
        "{'model': 'gpt-3.5-turbo-1106',\n",
        " 'json_schema': {'genre': 'string (genre of story)',\n",
        "  'keywords': 'array of strings',\n",
        "  'key_content': 'string (1 sentence)',\n",
        "  'critic_score': 'number (between 0 bad and 10 exceptional)',\n",
        "  'main_character': 'string (name of protagonist)',\n",
        "  'critic_review_comment': 'string (write similar to a new york times critic)'},\n",
        " 'temperature': 0}\n",
        " ```"
      ]
    },
    {
      "cell_type": "markdown",
      "metadata": {
        "id": "MEzzzavik9g8"
      },
      "source": [
        "### Create example function\n",
        "\n",
        "In this example we use the native [Langfuse OpenAI integration](https://langfuse.com/docs/integrations/openai) by importing from `langfuse.openai`. This enables [tracing](https://langfuse.com/docs/tracing) in Langfuse and is not required for using Langfuse prompts management."
      ]
    },
    {
      "cell_type": "code",
      "execution_count": 19,
      "metadata": {
        "id": "V-Kx92x2YT6t"
      },
      "outputs": [],
      "source": [
        "from langfuse.openai import OpenAI\n",
        "client = OpenAI()"
      ]
    },
    {
      "cell_type": "markdown",
      "metadata": {},
      "source": [
        "Use Langfuse prompt to construct the `summarize_story` example function."
      ]
    },
    {
      "cell_type": "code",
      "execution_count": 20,
      "metadata": {
        "id": "w6nncPLUlWg0"
      },
      "outputs": [],
      "source": [
        "import json\n",
        "\n",
        "def summarize_story(story):\n",
        "  # Stringify the JSON schema\n",
        "  json_schema_str = ', '.join([f\"'{key}': {value}\" for key, value in prompt.config[\"json_schema\"].items()])\n",
        "\n",
        "  # Compile prompt with stringified version of json schema\n",
        "  system_message = prompt.compile(json_schema=json_schema_str)\n",
        "\n",
        "  # Format as OpenAI messages\n",
        "  messages = [\n",
        "      {\"role\":\"system\",\"content\": system_message},\n",
        "      {\"role\":\"user\",\"content\":story}\n",
        "  ]\n",
        "\n",
        "  # Get additional config\n",
        "  model = prompt.config[\"model\"]\n",
        "  temperature = prompt.config[\"temperature\"]\n",
        "\n",
        "  # Execute LLM call\n",
        "  res = client.chat.completions.create(\n",
        "    model = model,\n",
        "    temperature = temperature,\n",
        "    messages = messages,\n",
        "    response_format = { \"type\": \"json_object\" },\n",
        "    langfuse_prompt = prompt # capture used prompt version in trace\n",
        "  )\n",
        "\n",
        "  # Parse response as JSON\n",
        "  res = json.loads(res.choices[0].message.content)\n",
        "\n",
        "  return res"
      ]
    },
    {
      "cell_type": "markdown",
      "metadata": {
        "id": "um6kj0UkqFbW"
      },
      "source": [
        "### Execute it"
      ]
    },
    {
      "cell_type": "code",
      "execution_count": 21,
      "metadata": {
        "id": "OFXWywFeqEjR"
      },
      "outputs": [],
      "source": [
        "# Thanks ChatGPT for the story\n",
        "STORY = \"\"\"\n",
        "In a bustling city where the nighttime glittered with neon signs and the rush never calmed, lived a lonely cat named Whisper. Amidst the ceaseless clatter, Whisper discovered an abandoned hat one day. To her enigmatic surprise, this was no ordinary accessory; it had the unusual power to make her invisible to any onlooker.\n",
        "Whisper, now carrying a peculiar power, started a journey that was unexpected. She became a benevolent spirit to the less fortunate, the homeless people who equally shared the cold nights with her. Nights that were once barren turned miraculous as warm meals mysteriously appeared to those who needed them most. No one could see her, yet her actions spoke volumes, turning her into an unsung hero in the hidden corners of the city.\n",
        "As she carried on with her mysterious deed, she found an unanticipated reward. Joy started to kindle in her heart, born not from the invisibility, but from the result of her actions; the growing smiles on the faces of those she surreptitiously helped. Whisper might have remained unnoticed to the world, but amidst her secret kindness, she discovered her true happiness.\n",
        "\"\"\""
      ]
    },
    {
      "cell_type": "code",
      "execution_count": null,
      "metadata": {},
      "outputs": [],
      "source": [
        "summary = summarize_story(STORY)"
      ]
    },
    {
      "cell_type": "markdown",
      "metadata": {},
      "source": [
        "```\n",
        "{'genre': 'Fantasy',\n",
        " 'keywords': ['lonely cat',\n",
        "  'invisible',\n",
        "  'benevolent spirit',\n",
        "  'unsung hero',\n",
        "  'mysterious deed',\n",
        "  'true happiness'],\n",
        " 'key_content': 'In a bustling city, a lonely cat named Whisper discovers an abandoned hat with the power to make her invisible, leading her to become a benevolent spirit and unsung hero to the less fortunate.',\n",
        " 'critic_score': 9,\n",
        " 'main_character': 'Whisper',\n",
        " 'critic_review_comment': \"Whisper's journey from loneliness to self-discovery through acts of kindness is a heartwarming and enchanting tale that captivates the reader with its magical elements and profound message about true happiness.\"}\n",
        " ```"
      ]
    },
    {
      "cell_type": "markdown",
      "metadata": {},
      "source": [
        "## View trace in Langfuse\n",
        "\n",
        "As we used the native Langfuse integration with the OpenAI SDK, we can view the trace in Langfuse.\n",
        "\n",
        "![Trace of OpenAI functions in Langfuse](https://langfuse.com/images/docs/openai-functions-trace-with-prompt-management.png)"
      ]
    },
    {
      "cell_type": "markdown",
      "metadata": {},
      "source": [
        "## Iterate on prompt in Langfuse\n",
        "\n",
        "We can now iterate on the prompt in Langfuse UI including model parameters and function calling options without changing the code or redeploying the application."
      ]
    }
  ],
  "metadata": {
    "colab": {
      "provenance": []
    },
    "kernelspec": {
      "display_name": "Python 3",
      "name": "python3"
    },
    "language_info": {
      "name": "python"
    }
  },
  "nbformat": 4,
  "nbformat_minor": 0
}

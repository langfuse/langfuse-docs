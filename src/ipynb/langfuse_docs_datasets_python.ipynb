{
 "cells": [
  {
   "cell_type": "markdown",
   "metadata": {},
   "source": [
    "# Python SDK\n",
    "\n",
    "[![PyPI](https://img.shields.io/pypi/v/langfuse?style=flat-square)](https://pypi.org/project/langfuse/)\n",
    "\n",
    "- [View as notebook on GitHub](https://github.com/langfuse/langfuse-docs/blob/main/src/ipynb/langfuse_docs_datasets_python.ipynb)\n",
    "- [Open as notebook in Google Colab](http://colab.research.google.com/github/langfuse/langfuse-docs/blob/main/src/ipynb/langfuse_docs_sdk_python.ipynb)"
   ]
  },
  {
   "cell_type": "code",
   "execution_count": 2,
   "metadata": {},
   "outputs": [
    {
     "name": "stdout",
     "output_type": "stream",
     "text": [
      "Requirement already satisfied: langfuse==1.0.25a0 in /Users/maximiliandeichmann/.pyenv/versions/anaconda3-2023.03/lib/python3.10/site-packages (1.0.25a0)\n",
      "Requirement already satisfied: langchain<1.0,>=0.0.237 in /Users/maximiliandeichmann/.pyenv/versions/anaconda3-2023.03/lib/python3.10/site-packages/langchain-0.0.237-py3.10.egg (from langfuse==1.0.25a0) (0.0.237)\n",
      "Requirement already satisfied: httpx<0.25.0,>=0.15.4 in /Users/maximiliandeichmann/.pyenv/versions/anaconda3-2023.03/lib/python3.10/site-packages (from langfuse==1.0.25a0) (0.24.1)\n",
      "Requirement already satisfied: backoff<3.0.0,>=2.2.1 in /Users/maximiliandeichmann/.pyenv/versions/anaconda3-2023.03/lib/python3.10/site-packages (from langfuse==1.0.25a0) (2.2.1)\n",
      "Requirement already satisfied: pytz<2024.0,>=2023.3 in /Users/maximiliandeichmann/.pyenv/versions/anaconda3-2023.03/lib/python3.10/site-packages (from langfuse==1.0.25a0) (2023.3.post1)\n",
      "Requirement already satisfied: attrs>=21.3.0 in /Users/maximiliandeichmann/.pyenv/versions/anaconda3-2023.03/lib/python3.10/site-packages (from langfuse==1.0.25a0) (22.1.0)\n",
      "Requirement already satisfied: pydantic<2.0,>=1.10.7 in /Users/maximiliandeichmann/.pyenv/versions/anaconda3-2023.03/lib/python3.10/site-packages/pydantic-1.10.7-py3.10.egg (from langfuse==1.0.25a0) (1.10.7)\n",
      "Requirement already satisfied: python-dateutil<3.0,>=2.8.0 in /Users/maximiliandeichmann/.pyenv/versions/anaconda3-2023.03/lib/python3.10/site-packages (from langfuse==1.0.25a0) (2.8.2)\n",
      "Requirement already satisfied: sniffio in /Users/maximiliandeichmann/.pyenv/versions/anaconda3-2023.03/lib/python3.10/site-packages (from httpx<0.25.0,>=0.15.4->langfuse==1.0.25a0) (1.2.0)\n",
      "Requirement already satisfied: certifi in /Users/maximiliandeichmann/.pyenv/versions/anaconda3-2023.03/lib/python3.10/site-packages (from httpx<0.25.0,>=0.15.4->langfuse==1.0.25a0) (2022.12.7)\n",
      "Requirement already satisfied: httpcore<0.18.0,>=0.15.0 in /Users/maximiliandeichmann/.pyenv/versions/anaconda3-2023.03/lib/python3.10/site-packages (from httpx<0.25.0,>=0.15.4->langfuse==1.0.25a0) (0.17.3)\n",
      "Requirement already satisfied: idna in /Users/maximiliandeichmann/.pyenv/versions/anaconda3-2023.03/lib/python3.10/site-packages (from httpx<0.25.0,>=0.15.4->langfuse==1.0.25a0) (3.4)\n",
      "Requirement already satisfied: PyYAML>=5.4.1 in /Users/maximiliandeichmann/.pyenv/versions/anaconda3-2023.03/lib/python3.10/site-packages (from langchain<1.0,>=0.0.237->langfuse==1.0.25a0) (6.0)\n",
      "Requirement already satisfied: SQLAlchemy<3,>=1.4 in /Users/maximiliandeichmann/.pyenv/versions/anaconda3-2023.03/lib/python3.10/site-packages (from langchain<1.0,>=0.0.237->langfuse==1.0.25a0) (1.4.39)\n",
      "Requirement already satisfied: aiohttp<4.0.0,>=3.8.3 in /Users/maximiliandeichmann/.pyenv/versions/anaconda3-2023.03/lib/python3.10/site-packages (from langchain<1.0,>=0.0.237->langfuse==1.0.25a0) (3.8.5)\n",
      "Requirement already satisfied: async-timeout<5.0.0,>=4.0.0 in /Users/maximiliandeichmann/.pyenv/versions/anaconda3-2023.03/lib/python3.10/site-packages (from langchain<1.0,>=0.0.237->langfuse==1.0.25a0) (4.0.3)\n",
      "Requirement already satisfied: dataclasses-json<0.6.0,>=0.5.7 in /Users/maximiliandeichmann/.pyenv/versions/anaconda3-2023.03/lib/python3.10/site-packages (from langchain<1.0,>=0.0.237->langfuse==1.0.25a0) (0.5.14)\n",
      "Requirement already satisfied: langsmith<0.0.11,>=0.0.10 in /Users/maximiliandeichmann/.pyenv/versions/anaconda3-2023.03/lib/python3.10/site-packages (from langchain<1.0,>=0.0.237->langfuse==1.0.25a0) (0.0.10)\n",
      "Requirement already satisfied: numexpr<3.0.0,>=2.8.4 in /Users/maximiliandeichmann/.pyenv/versions/anaconda3-2023.03/lib/python3.10/site-packages (from langchain<1.0,>=0.0.237->langfuse==1.0.25a0) (2.8.4)\n",
      "Requirement already satisfied: numpy<2,>=1 in /Users/maximiliandeichmann/.pyenv/versions/anaconda3-2023.03/lib/python3.10/site-packages (from langchain<1.0,>=0.0.237->langfuse==1.0.25a0) (1.23.5)\n",
      "Requirement already satisfied: openapi-schema-pydantic<2.0,>=1.2 in /Users/maximiliandeichmann/.pyenv/versions/anaconda3-2023.03/lib/python3.10/site-packages (from langchain<1.0,>=0.0.237->langfuse==1.0.25a0) (1.2.4)\n",
      "Requirement already satisfied: requests<3,>=2 in /Users/maximiliandeichmann/.pyenv/versions/anaconda3-2023.03/lib/python3.10/site-packages (from langchain<1.0,>=0.0.237->langfuse==1.0.25a0) (2.28.1)\n",
      "Requirement already satisfied: tenacity<9.0.0,>=8.1.0 in /Users/maximiliandeichmann/.pyenv/versions/anaconda3-2023.03/lib/python3.10/site-packages (from langchain<1.0,>=0.0.237->langfuse==1.0.25a0) (8.2.3)\n",
      "Requirement already satisfied: typing-extensions>=4.2.0 in /Users/maximiliandeichmann/.pyenv/versions/anaconda3-2023.03/lib/python3.10/site-packages (from pydantic<2.0,>=1.10.7->langfuse==1.0.25a0) (4.4.0)\n",
      "Requirement already satisfied: six>=1.5 in /Users/maximiliandeichmann/.pyenv/versions/anaconda3-2023.03/lib/python3.10/site-packages (from python-dateutil<3.0,>=2.8.0->langfuse==1.0.25a0) (1.16.0)\n",
      "Requirement already satisfied: multidict<7.0,>=4.5 in /Users/maximiliandeichmann/.pyenv/versions/anaconda3-2023.03/lib/python3.10/site-packages (from aiohttp<4.0.0,>=3.8.3->langchain<1.0,>=0.0.237->langfuse==1.0.25a0) (6.0.4)\n",
      "Requirement already satisfied: yarl<2.0,>=1.0 in /Users/maximiliandeichmann/.pyenv/versions/anaconda3-2023.03/lib/python3.10/site-packages (from aiohttp<4.0.0,>=3.8.3->langchain<1.0,>=0.0.237->langfuse==1.0.25a0) (1.9.2)\n",
      "Requirement already satisfied: aiosignal>=1.1.2 in /Users/maximiliandeichmann/.pyenv/versions/anaconda3-2023.03/lib/python3.10/site-packages (from aiohttp<4.0.0,>=3.8.3->langchain<1.0,>=0.0.237->langfuse==1.0.25a0) (1.3.1)\n",
      "Requirement already satisfied: charset-normalizer<4.0,>=2.0 in /Users/maximiliandeichmann/.pyenv/versions/anaconda3-2023.03/lib/python3.10/site-packages (from aiohttp<4.0.0,>=3.8.3->langchain<1.0,>=0.0.237->langfuse==1.0.25a0) (2.0.4)\n",
      "Requirement already satisfied: frozenlist>=1.1.1 in /Users/maximiliandeichmann/.pyenv/versions/anaconda3-2023.03/lib/python3.10/site-packages (from aiohttp<4.0.0,>=3.8.3->langchain<1.0,>=0.0.237->langfuse==1.0.25a0) (1.4.0)\n",
      "Requirement already satisfied: marshmallow<4.0.0,>=3.18.0 in /Users/maximiliandeichmann/.pyenv/versions/anaconda3-2023.03/lib/python3.10/site-packages (from dataclasses-json<0.6.0,>=0.5.7->langchain<1.0,>=0.0.237->langfuse==1.0.25a0) (3.20.1)\n",
      "Requirement already satisfied: typing-inspect<1,>=0.4.0 in /Users/maximiliandeichmann/.pyenv/versions/anaconda3-2023.03/lib/python3.10/site-packages (from dataclasses-json<0.6.0,>=0.5.7->langchain<1.0,>=0.0.237->langfuse==1.0.25a0) (0.9.0)\n",
      "Requirement already satisfied: h11<0.15,>=0.13 in /Users/maximiliandeichmann/.pyenv/versions/anaconda3-2023.03/lib/python3.10/site-packages (from httpcore<0.18.0,>=0.15.0->httpx<0.25.0,>=0.15.4->langfuse==1.0.25a0) (0.14.0)\n",
      "Requirement already satisfied: anyio<5.0,>=3.0 in /Users/maximiliandeichmann/.pyenv/versions/anaconda3-2023.03/lib/python3.10/site-packages (from httpcore<0.18.0,>=0.15.0->httpx<0.25.0,>=0.15.4->langfuse==1.0.25a0) (3.5.0)\n",
      "Requirement already satisfied: urllib3<1.27,>=1.21.1 in /Users/maximiliandeichmann/.pyenv/versions/anaconda3-2023.03/lib/python3.10/site-packages (from requests<3,>=2->langchain<1.0,>=0.0.237->langfuse==1.0.25a0) (1.26.14)\n",
      "Requirement already satisfied: packaging>=17.0 in /Users/maximiliandeichmann/.pyenv/versions/anaconda3-2023.03/lib/python3.10/site-packages (from marshmallow<4.0.0,>=3.18.0->dataclasses-json<0.6.0,>=0.5.7->langchain<1.0,>=0.0.237->langfuse==1.0.25a0) (22.0)\n",
      "Requirement already satisfied: mypy-extensions>=0.3.0 in /Users/maximiliandeichmann/.pyenv/versions/anaconda3-2023.03/lib/python3.10/site-packages (from typing-inspect<1,>=0.4.0->dataclasses-json<0.6.0,>=0.5.7->langchain<1.0,>=0.0.237->langfuse==1.0.25a0) (0.4.3)\n",
      "Note: you may need to restart the kernel to use updated packages.\n"
     ]
    }
   ],
   "source": [
    "%pip install langfuse==1.0.25a0"
   ]
  },
  {
   "cell_type": "code",
   "execution_count": 3,
   "metadata": {},
   "outputs": [],
   "source": [
    "ENV_HOST = \"http://localhost:3000\"\n",
    "ENV_SECRET_KEY = \"sk-lf-...\"\n",
    "ENV_PUBLIC_KEY = \"pk-lf-...\""
   ]
  },
  {
   "cell_type": "code",
   "execution_count": 4,
   "metadata": {},
   "outputs": [],
   "source": [
    "from langfuse import Langfuse\n",
    "\n",
    "langfuse = Langfuse(ENV_PUBLIC_KEY, ENV_SECRET_KEY, ENV_HOST)"
   ]
  },
  {
   "cell_type": "code",
   "execution_count": 6,
   "metadata": {},
   "outputs": [],
   "source": [
    "\n",
    "from datetime import datetime\n",
    "from langfuse.model import InitialGeneration, CreateDatasetItemRequest\n",
    "\n",
    "# langfuse.create_dataset(CreateDatasetRequest(name=\"dataset_name\"))\n",
    "langfuse.create_dataset_item(CreateDatasetItemRequest(dataset_name=\"dataset_name\", input=\"Hello World\"))\n",
    "\n",
    "dataset = langfuse.get_dataset(\"dataset_name\")\n",
    "\n",
    "for item in dataset.items:\n",
    "    \n",
    "    generationStartTime = datetime.now()\n",
    "\n",
    "    # call to an LLM API\n",
    "    generation = langfuse.generation(InitialGeneration(name=\"summary-generation\"))\n",
    "\n",
    "    item.link(generation, \"run_name\")\n"
   ]
  }
 ],
 "metadata": {
  "kernelspec": {
   "display_name": "base",
   "language": "python",
   "name": "python3"
  },
  "language_info": {
   "codemirror_mode": {
    "name": "ipython",
    "version": 3
   },
   "file_extension": ".py",
   "mimetype": "text/x-python",
   "name": "python",
   "nbconvert_exporter": "python",
   "pygments_lexer": "ipython3",
   "version": "3.10.9"
  },
  "orig_nbformat": 4
 },
 "nbformat": 4,
 "nbformat_minor": 2
}

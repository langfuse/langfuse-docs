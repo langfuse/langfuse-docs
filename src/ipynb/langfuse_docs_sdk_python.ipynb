{
  "cells": [
    {
      "cell_type": "markdown",
      "metadata": {
        "id": "nJXInxopjbLA"
      },
      "source": [
        "---\n",
        "description: Fully async and typed Python SDK. Uses Pydantic objects for data verification.\n",
        "---"
      ]
    },
    {
      "cell_type": "markdown",
      "metadata": {
        "id": "mqBspBzuRk9C"
      },
      "source": [
        "# Python SDK\n",
        "\n",
        "[![PyPI](https://img.shields.io/pypi/v/langfuse?style=flat-square)](https://pypi.org/project/langfuse/)\n",
        "\n",
        "- [View as notebook on GitHub](https://github.com/langfuse/langfuse-docs/blob/main/src/ipynb/langfuse_docs_sdk_python.ipynb)\n",
        "- [Open as notebook in Google Colab](http://colab.research.google.com/github/langfuse/langfuse-docs/blob/main/src/ipynb/langfuse_docs_sdk_python.ipynb)"
      ]
    },
    {
      "cell_type": "markdown",
      "metadata": {
        "id": "qL7HhNyIYNwn"
      },
      "source": [
        "This is a Python SDK used to send LLM data to Langfuse in a convenient way. It uses a worker Thread and an internal queue to manage requests to the Langfuse backend asynchronously. Hence, the SDK does not impact your latencies and also does not impact your customers in case of exceptions.\n",
        "\n",
        "Using langchain? Use the [langchain integration](https://langfuse.com/docs/langchain)"
      ]
    },
    {
      "cell_type": "markdown",
      "metadata": {
        "id": "Lc6Uxbl3R5El"
      },
      "source": [
        "## 1. Installation\n",
        "\n",
        "The Langfuse SDKs are hosted on the pypi index."
      ]
    },
    {
      "cell_type": "code",
      "execution_count": null,
      "metadata": {
        "id": "F21wZSUyKLzb"
      },
      "outputs": [],
      "source": [
        "%pip install langfuse"
      ]
    },
    {
      "cell_type": "markdown",
      "metadata": {
        "id": "fAupsw1pR_6q"
      },
      "source": [
        "Initialize the client with api keys and optionally your environment. In the example we are using the cloud environment which is also the default. The Python client can modify all entities in the Langfuse API and therefore requires the secret key."
      ]
    },
    {
      "cell_type": "code",
      "execution_count": 2,
      "metadata": {
        "id": "iDfYwZf4KUnY"
      },
      "outputs": [],
      "source": [
        "ENV_HOST = \"https://cloud.langfuse.com\"\n",
        "ENV_SECRET_KEY = \"sk-lf-...\"\n",
        "ENV_PUBLIC_KEY = \"pk-lf-...\""
      ]
    },
    {
      "cell_type": "code",
      "execution_count": 3,
      "metadata": {
        "id": "PuPgkTU476y4"
      },
      "outputs": [],
      "source": [
        "from langfuse import Langfuse\n",
        "\n",
        "langfuse = Langfuse(ENV_PUBLIC_KEY, ENV_SECRET_KEY, ENV_HOST)"
      ]
    },
    {
      "cell_type": "markdown",
      "metadata": {
        "id": "ygl4DE2K2Jmz"
      },
      "source": [
        "### Options\n",
        "\n",
        "| Variable |Description   | Default value  \n",
        "| --- | --- | ---\n",
        "| baseUrl | BaseUrl of the Langfuse API | `\"https://cloud.langfuse.com\"`       \n",
        "| release | The release number/hash of the application to provide analytics grouped by release.\t| `process.env.LANGFUSE_RELEASE` or [common system environment names](https://github.com/langfuse/langfuse-python/blob/main/langfuse/environment.py#L3)\n",
        "| debug | Prints debug logs to the console | `False`\n",
        "\n",
        "\n",
        "\n",
        "At the bottom of the document are more detailed explanations for these."
      ]
    },
    {
      "cell_type": "markdown",
      "metadata": {
        "id": "hoybRnFrAi9x"
      },
      "source": [
        "## 2. Record a simple LLM call\n",
        "To record a single call to a LLM, you can use `langfuse.generations()` method from the SDK and provide it with the LLM configuration and the prompt and completion."
      ]
    },
    {
      "cell_type": "code",
      "execution_count": 4,
      "metadata": {
        "colab": {
          "base_uri": "https://localhost:8080/"
        },
        "id": "JtMxqNh0Azn-",
        "outputId": "e706f136-8b48-4dc8-bc0d-82c6ff51d8af"
      },
      "outputs": [
        {
          "output_type": "execute_result",
          "data": {
            "text/plain": [
              "<langfuse.client.StatefulGenerationClient at 0x7a259f5d2ec0>"
            ]
          },
          "metadata": {},
          "execution_count": 4
        }
      ],
      "source": [
        "from datetime import datetime\n",
        "from langfuse.model import InitialGeneration, Usage\n",
        "\n",
        "generationStartTime = datetime.now()\n",
        "\n",
        "# call to an LLM API\n",
        "\n",
        "langfuse.generation(InitialGeneration(\n",
        "    name=\"summary-generation\",\n",
        "    startTime=generationStartTime,\n",
        "    endTime=datetime.now(),\n",
        "    model=\"gpt-3.5-turbo\",\n",
        "    modelParameters={\"maxTokens\": \"1000\", \"temperature\": \"0.9\"},\n",
        "    prompt=[{\"role\": \"system\", \"content\": \"You are a helpful assistant.\"}, {\"role\": \"user\", \"content\": \"Please generate a summary of the following documents \\nThe engineering department defined the following OKR goals...\\nThe marketing department defined the following OKR goals...\"}],\n",
        "    completion=\"The Q3 OKRs contain goals for multiple teams...\",\n",
        "    usage=Usage(promptTokens=50, completionTokens = 49),\n",
        "    metadata={\"interface\": \"whatsapp\"}\n",
        "))"
      ]
    },
    {
      "cell_type": "markdown",
      "metadata": {
        "id": "CT4uaBm4SLvw"
      },
      "source": [
        "## 3. Record a more complex application\n",
        "```\n",
        "TRACE\n",
        "|\n",
        "|-- SPAN: Retrieval\n",
        "|   |\n",
        "|   |-- GENERATION: Vector DB Query Creation\n",
        "|   |\n",
        "|   |-- SPAN: Data Fetching\n",
        "|   |\n",
        "|   |-- EVENT: Data Summary Creation\n",
        "|\n",
        "|-- GENERATION: Output Generation\n",
        "```\n",
        "\n",
        "\n"
      ]
    },
    {
      "cell_type": "code",
      "execution_count": 5,
      "metadata": {
        "colab": {
          "base_uri": "https://localhost:8080/"
        },
        "id": "N-1Ta3wVGGxq",
        "outputId": "8a310c01-ab01-4b91-ae13-453e1b15cf37"
      },
      "outputs": [
        {
          "output_type": "execute_result",
          "data": {
            "text/plain": [
              "<langfuse.client.StatefulGenerationClient at 0x7a259f5d3fd0>"
            ]
          },
          "metadata": {},
          "execution_count": 5
        }
      ],
      "source": [
        "from langfuse.model import CreateTrace, CreateSpan, CreateGeneration, CreateEvent\n",
        "\n",
        "trace = langfuse.trace(CreateTrace(name = \"llm-feature\"))\n",
        "retrieval = trace.span(CreateSpan(name = \"retrieval\"))\n",
        "retrieval.generation(CreateGeneration(name = \"query-creation\"))\n",
        "retrieval.span(CreateSpan(name = \"vector-db-search\"))\n",
        "retrieval.event(CreateEvent(name = \"db-summary\"))\n",
        "trace.generation(CreateGeneration(name = \"user-output\"))"
      ]
    },
    {
      "cell_type": "markdown",
      "metadata": {
        "id": "x9T9sbBFzm1I"
      },
      "source": [
        "The Langfuse SDK and UI are designed to support very complex LLM features which contain for example vector database searches and multiple LLM calls. For that, it is very convenient to nest or chain the SDK. Understanding a small number of terms makes it easy to integrate with Langfuse.\n",
        "\n",
        "#### Traces\n",
        "A `Trace` represents a single execution of a LLM feature. It is a container for all succeeding objects.\n",
        "#### Observations\n",
        "Each `Trace` can contain multiple `Observations` to record individual steps of an execution. There are different types of `Observations`.\n",
        "  - `Events` are the basic building block. They are used to track discrete events in a `Trace`.\n",
        "  - `Spans` can be used to record steps from a chain like fetching data from a vector databse. You are able to record inputs, outputs and more.\n",
        "  - `Generations` are a specific type of `Spans` which are used to record generations of an AI model. They contain additional metadata about the model and the prompt/completion and are specifically rendered in the langfuse UI."
      ]
    },
    {
      "cell_type": "markdown",
      "metadata": {
        "id": "3GjVFk7N9jZr"
      },
      "source": [
        "### Traces\n",
        "\n",
        "Traces are the top-level entity in the Langfuse API. They represent an execution flow in a LLM application usually triggered by an external event.\n",
        "\n",
        "| Parameter | Type   | Optional | Description\n",
        "| --- | --- | --- | ---\n",
        "| id | string | yes | The id of the trace can be set, defaults to a random id. Set it to link traces to external systems or when grouping multiple runs into a single trace (e.g. messages in a chat thread).\n",
        "| name | string | yes | Identifier of the trace. Useful for sorting/filtering in the UI.\n",
        "| metadata | object | yes | Additional metadata of the trace. Can be any JSON object.\n",
        "| userId | string | yes | The id of the user that triggered the execution. Used to provide [user-level analytics](https://langfuse.com/docs/user-explorer).\n",
        "| version | string | yes | The version of the trace type. Used to understand how changes to the trace type affect metrics. Useful in debugging.\n",
        "| release | string | yes | The release identifier of the current deployment. Used to understand how changes of different deployments affect metrics. Useful in debugging."
      ]
    },
    {
      "cell_type": "code",
      "execution_count": 6,
      "metadata": {
        "id": "Z9Kxxjp004WD"
      },
      "outputs": [],
      "source": [
        "from langfuse.model import CreateTrace\n",
        "\n",
        "trace = langfuse.trace(CreateTrace(\n",
        "    name = \"docs-retrieval\",\n",
        "    userId = \"user__935d7d1d-8625-4ef4-8651-544613e7bd22\",\n",
        "    metadata = {\n",
        "        \"env\": \"production\",\n",
        "        \"email\": \"user@langfuse.com\",\n",
        "    }\n",
        "))"
      ]
    },
    {
      "cell_type": "markdown",
      "metadata": {
        "id": "UtWxwt3H90qF"
      },
      "source": [
        "### Span\n",
        "\n",
        "Spans represent durations of units of work in a trace. We generated convenient SDK functions for generic spans to support your use cases such as Agent tool usages.\n",
        "\n",
        "| Parameter | Type   | Optional | Description\n",
        "| --- | --- | --- | ---\n",
        "| id | string | yes | The id of the span can be set, otherwise a random id is generated.\n",
        "| startTime | Date | yes | The time at which the span started, defaults to the current time.\n",
        "| endTime | Date | yes | The time at which the span ended.\n",
        "| name | string | yes | Identifier of the span. Useful for sorting/filtering in the UI.\n",
        "| metadata | object | yes | Additional metadata of the span. Can be any JSON object.\n",
        "| level | string | yes | The level of the span. Can be `DEBUG`, `DEFAULT`, `WARNING` or `ERROR`. Used for sorting/filtering of traces with elevated error levels and for highlighting in the UI.\n",
        "| statusMessage | string | yes | The status message of the span. Additional field for context of the event. E.g. the error message of an error event.\n",
        "| input | object | yes | The input to the span. Can be any JSON object.\n",
        "| output | object | yes | The output to the span. Can be any JSON object.\n",
        "| version | string | yes | The version of the span type. Used to understand how changes to the span type affect metrics. Useful in debugging."
      ]
    },
    {
      "cell_type": "code",
      "execution_count": 7,
      "metadata": {
        "id": "otJQPNC198Ti"
      },
      "outputs": [],
      "source": [
        "from datetime import datetime\n",
        "from langfuse.model import CreateSpan, UpdateSpan\n",
        "\n",
        "retrievalStartTime = datetime.now()\n",
        "\n",
        "# retrieveDocs = retrieveDoc()\n",
        "# ...\n",
        "\n",
        "span = trace.span(CreateSpan(\n",
        "        name=\"embedding-search\",\n",
        "        startTime=retrievalStartTime,\n",
        "        endTime=datetime.now(),\n",
        "        metadata={\"database\": \"pinecone\"},\n",
        "        input = {'query': 'This document entails the OKR goals for ACME'},\n",
        "    )\n",
        ")"
      ]
    },
    {
      "cell_type": "markdown",
      "metadata": {
        "id": "NZ7qCdGAOYvc"
      },
      "source": [
        "Spans can be updated once your function completes for example record outputs.\n",
        "\n"
      ]
    },
    {
      "cell_type": "code",
      "execution_count": 8,
      "metadata": {
        "id": "r7I_JwbxOd82"
      },
      "outputs": [],
      "source": [
        "span = span.update(UpdateSpan(\n",
        "        output = {\"response\": \"[{'name': 'OKR Engineering', 'content': 'The engineering department defined the following OKR goals...'},{'name': 'OKR Marketing', 'content': 'The marketing department defined the following OKR goals...'}]\"}\n",
        "    )\n",
        ")"
      ]
    },
    {
      "cell_type": "markdown",
      "metadata": {
        "id": "uNPQH8Nz-duo"
      },
      "source": [
        "### Generation\n",
        "\n",
        "Generations are used to log generations of AI model. They contain additional metadata about the model and the prompt/completion and are specifically rendered in the langfuse UI.\n",
        "\n",
        "\n",
        "| Parameter | Type   | Optional | Description\n",
        "| --- | --- | --- | ---\n",
        "| id | string | yes | The id of the generation can be set, defaults to random id.\n",
        "| name | string | yes | Identifier of the generation. Useful for sorting/filtering in the UI.\n",
        "| startTime | Date | yes | The time at which the generation started, defaults to the current time.\n",
        "| completionStartTime | Date | yes | The time at which the completion started (streaming). Set it to get latency analytics broken down into time until completion started and completion duration.\n",
        "| endTime | Date | yes | The time at which the generation ended.\n",
        "| model | string | yes | The name of the model used for the generation.\n",
        "| modelParameters | object | yes | The parameters of the model used for the generation; can be any key-value pairs.\n",
        "| prompt | object | yes | The prompt used for the generation; can be any string or JSON object (recommended for chat models or other models that use structured input).\n",
        "| completion | string | yes | The completion generated by the model.\n",
        "| usage | object | yes | The usage of the model during the generation; takes three optional key-value pairs: `promptTokens`, `completionTokens`, and `totalTokens`. For some models the token counts are [automatically calculated](https://langfuse.com/docs/token-usage) by Langfuse.\n",
        "| metadata | object | yes | Additional metadata of the generation. Can be any JSON object.\n",
        "| level | string | yes | The level of the generation. Can be `DEBUG`, `DEFAULT`, `WARNING` or `ERROR`. Used for sorting/filtering of traces with elevated error levels and for highlighting in the UI.\n",
        "| statusMessage | string | yes | The status message of the generation. Additional field for context of the event. E.g. the error message of an error event.\n",
        "| version | string | yes | The version of the generation type. Used to understand how changes to the span type affect metrics. Useful in debugging."
      ]
    },
    {
      "cell_type": "code",
      "execution_count": 9,
      "metadata": {
        "id": "nJfTbXvNQ6iD"
      },
      "outputs": [],
      "source": [
        "from langfuse.model import CreateGeneration, Usage, UpdateGeneration\n",
        "\n",
        "from datetime import datetime\n",
        "\n",
        "generationStartTime = datetime.now()\n",
        "\n",
        "# chat_completion = openai.ChatCompletion.create(model=\"gpt-3.5-turbo\", messages=[{\"role\": \"user\", \"content\": \"Hello world\"}])\n",
        "# ...\n",
        "\n",
        "generation = trace.generation(CreateGeneration(\n",
        "    name=\"summary-generation\",\n",
        "    startTime=generationStartTime,\n",
        "    endTime=datetime.now(),\n",
        "    model=\"gpt-3.5-turbo\",\n",
        "    modelParameters={\"maxTokens\": \"1000\", \"temperature\": \"0.9\"},\n",
        "    prompt=[{\"role\": \"system\", \"content\": \"You are a helpful assistant.\"}, {\"role\": \"user\", \"content\": \"Please generate a summary of the following documents \\nThe engineering department defined the following OKR goals...\\nThe marketing department defined the following OKR goals...\"}],\n",
        "    metadata={\"interface\": \"whatsapp\"}\n",
        "))"
      ]
    },
    {
      "cell_type": "markdown",
      "metadata": {
        "id": "cYb2kvAMOqHg"
      },
      "source": [
        "Generations can be updated once your LLM function completes for example record outputs."
      ]
    },
    {
      "cell_type": "code",
      "execution_count": 10,
      "metadata": {
        "colab": {
          "base_uri": "https://localhost:8080/"
        },
        "id": "WQccImMOOz8F",
        "outputId": "00523d35-6e36-4b0c-e4d1-8940db28e3b2"
      },
      "outputs": [
        {
          "output_type": "execute_result",
          "data": {
            "text/plain": [
              "<langfuse.client.StatefulGenerationClient at 0x7a259f5d3c70>"
            ]
          },
          "metadata": {},
          "execution_count": 10
        }
      ],
      "source": [
        "generation.update(UpdateGeneration(\n",
        "    completion=\"The Q3 OKRs contain goals for multiple teams...\",\n",
        "    usage=Usage(promptTokens=50, completionTokens = 49),\n",
        "))"
      ]
    },
    {
      "cell_type": "markdown",
      "metadata": {
        "id": "wfzAYslz9Aks"
      },
      "source": [
        "### Events\n",
        "\n",
        "Events are used to track discrete events in a trace.\n",
        "\n",
        "| Parameter | Type   | Optional | Description\n",
        "| --- | --- | --- | ---\n",
        "| id | string | yes | The id of the event can be set, otherwise a random id is generated.\n",
        "| startTime | Date | yes | The time at which the event started, defaults to the current time.\n",
        "| name | string | yes | Identifier of the event. Useful for sorting/filtering in the UI.\n",
        "| metadata | object | yes | Additional metadata of the event. Can be any JSON object.\n",
        "| level | string | yes | The level of the event. Can be `DEBUG`, `DEFAULT`, `WARNING` or `ERROR`. Used for sorting/filtering of traces with elevated error levels and for highlighting in the UI.\n",
        "| statusMessage | string | yes | The status message of the event. Additional field for context of the event. E.g. the error message of an error event.\n",
        "| input | object | yes | The input to the event. Can be any JSON object.\n",
        "| output | object | yes | The output to the event. Can be any JSON object.\n",
        "| version | string | yes | The version of the event type. Used to understand how changes to the event type affect metrics. Useful in debugging."
      ]
    },
    {
      "cell_type": "code",
      "execution_count": 11,
      "metadata": {
        "id": "tuSjykFW9Iw1"
      },
      "outputs": [],
      "source": [
        "from langfuse.model import CreateEvent\n",
        "from datetime import datetime\n",
        "\n",
        "event = span.event(CreateEvent(\n",
        "        name=\"chat-docs-retrieval\",\n",
        "        startTime=datetime.now(),\n",
        "        metadata={\"key\": \"value\"},\n",
        "        input = {\"key\": \"value\"},\n",
        "        output = {\"key\": \"value\"}\n",
        "    )\n",
        ")"
      ]
    },
    {
      "cell_type": "markdown",
      "metadata": {
        "id": "EABnZymiSej8"
      },
      "source": [
        "## 3. Collect (user) feedback\n",
        "\n",
        "Scores are used to evaluate single executions/traces. They can be supplied internally through our UI or via the SDK. If the score relates to a specific step of the trace, the score can optionally also be attached to the observation to enable evaluating it specifically.\n",
        "\n",
        "| Parameter | Type   | Optional | Description\n",
        "| --- | --- | --- | ---\n",
        "| traceId | string | no | The id of the trace to which the score should be attached. Automatically set if you use `{trace,generation,span,event}.score({})`\n",
        "| observationId | string | yes | The id of the observation to which the score should be attached. Automatically set if you use `{generation,span,event}.score({})`\n",
        "| name | string | no | Identifier of the score.\n",
        "| value | number | no | The value of the score. Can be any number, often standardized to 0..1\n",
        "| comment | string | yes | Additional context/explanation of the score."
      ]
    },
    {
      "cell_type": "code",
      "execution_count": null,
      "metadata": {
        "id": "mj19Zby3SfT9"
      },
      "outputs": [],
      "source": [
        "from langfuse.model import CreateScore\n",
        "\n",
        "trace.score(CreateScore(\n",
        "    name=\"user-explicit-feedback\",\n",
        "    value=1,\n",
        "    comment=\"I like how personalized the response is\"\n",
        "))"
      ]
    },
    {
      "cell_type": "markdown",
      "metadata": {
        "id": "9gHGMs9QINYG"
      },
      "source": [
        "## Additional configurations"
      ]
    },
    {
      "cell_type": "markdown",
      "metadata": {
        "id": "-q5aljyIoU42"
      },
      "source": [
        "### Shutdown behavior\n",
        "\n",
        "The Langfuse SDK executes network requests in the background on a separate thread for better performance of your application. This can lead to lost events in short lived environments like NextJs cloud functions or AWS Lambda functions when the Python process is terminated before the SDK sent all events to our backend.\n",
        "\n",
        "To avoid this, ensure that the `langfuse.flush()` function is called before termination. This method is waiting for all tasks to have completed, hence it is blocking."
      ]
    },
    {
      "cell_type": "code",
      "execution_count": 13,
      "metadata": {
        "id": "5jpWEosnINa4"
      },
      "outputs": [],
      "source": [
        "langfuse.flush()"
      ]
    },
    {
      "cell_type": "markdown",
      "metadata": {
        "id": "kNI9WYgD0Cj8"
      },
      "source": [
        "### Releases and versions\n",
        "\n",
        "You might want to track releases in Langfuse to understand with which Software release a given Trace was generated. This can be done by either providing the environment variable `LANGFUSE_RELEASE` or instantiating the client with the release."
      ]
    },
    {
      "cell_type": "code",
      "execution_count": 14,
      "metadata": {
        "id": "aqhmzp-V0e9k"
      },
      "outputs": [],
      "source": [
        "# The SDK will automatically include the env variable.\n",
        "LANGFUSE_RELEASE = \"ba7816b...\" # <- github sha\n",
        "\n",
        "# Alternatively, use the constructor of the SDK\n",
        "langfuse = Langfuse(ENV_PUBLIC_KEY, ENV_SECRET_KEY, ENV_HOST, release='ba7816b')"
      ]
    },
    {
      "cell_type": "markdown",
      "metadata": {
        "id": "QWzxwJo91eBM"
      },
      "source": [
        "Apart from Software releases, users want to track versions of LLM apps (e.g. Prompt versions). For this, each `Generation`, `Span`, or `Event` has a version field."
      ]
    },
    {
      "cell_type": "code",
      "execution_count": null,
      "metadata": {
        "id": "5LW8mFVV1cQq"
      },
      "outputs": [],
      "source": [
        "langfuse.span(CreateSpan(name = \"retrieval\", version=\"<version>\"))"
      ]
    },
    {
      "cell_type": "markdown",
      "metadata": {
        "id": "1EmkTuP2ugkx"
      },
      "source": [
        "### Debug\n",
        "Per default, the Langchain handler will only log exceptions. Sometimes it is valuable to debug the SDK to understand where something goes wrong. For this, you need to enable the `debug` mode of the SDK or the Langchain handler. This will enable all debug logs in your console."
      ]
    },
    {
      "cell_type": "code",
      "execution_count": 16,
      "metadata": {
        "id": "Stj71r61uah5",
        "colab": {
          "base_uri": "https://localhost:8080/"
        },
        "outputId": "9071aa7f-99f7-411f-9f68-1d3ed2d257d6"
      },
      "outputs": [
        {
          "output_type": "stream",
          "name": "stderr",
          "text": [
            "DEBUG:langfuse:consumer is running...\n",
            "DEBUG:langfuse:Debug mode is on. Logging debug level messages.\n",
            "DEBUG:langfuse:consumer looping\n",
            "DEBUG:langfuse:consumer is running...\n",
            "DEBUG:langfuse:Pruning old tasks\n",
            "DEBUG:langfuse:consumer looping\n",
            "DEBUG:langfuse:Pruning old tasks\n"
          ]
        }
      ],
      "source": [
        "from langfuse.callback import CallbackHandler\n",
        "\n",
        "langfuse = Langfuse(ENV_PUBLIC_KEY, ENV_SECRET_KEY, ENV_HOST, debug=True)\n",
        "\n",
        "handler = CallbackHandler(ENV_PUBLIC_KEY, ENV_SECRET_KEY, ENV_HOST, debug=True)"
      ]
    },
    {
      "cell_type": "markdown",
      "metadata": {
        "id": "-GcLUd6_JXWH"
      },
      "source": [
        "## FastAPI\n",
        "For engineers working with FastAPI, we have a short example, of how to use it there. [Here](https://github.com/langfuse/fastapi_demo) is a Git Repo with all the details.\n"
      ]
    },
    {
      "cell_type": "code",
      "execution_count": null,
      "metadata": {
        "id": "V9WHoZAmKEgO"
      },
      "outputs": [],
      "source": [
        "%pip install fastapi"
      ]
    },
    {
      "cell_type": "markdown",
      "metadata": {
        "id": "COd5Q_67KMqU"
      },
      "source": [
        "Here is an example of how to initialise FastAPI and register the `langfuse.flush()` method to run at shutdown.\n",
        "With this, your Python environment will only terminate once Langfuse received all the events."
      ]
    },
    {
      "cell_type": "code",
      "execution_count": 18,
      "metadata": {
        "id": "Nu2ug2AoJ8d8"
      },
      "outputs": [],
      "source": [
        "from contextlib import asynccontextmanager\n",
        "from fastapi import FastAPI, Query, BackgroundTasks\n",
        "from langfuse.model import InitialGeneration\n",
        "\n",
        "\n",
        "@asynccontextmanager\n",
        "async def lifespan(app: FastAPI):\n",
        "    # Operation on startup\n",
        "\n",
        "    yield  # wait until shutdown\n",
        "\n",
        "    # Flush all events to be sent to Langfuse on shutdown and terminate all Threads gracefully. This operation is blocking.\n",
        "    langfuse.flush()\n",
        "\n",
        "\n",
        "app = FastAPI(lifespan=lifespan)"
      ]
    },
    {
      "cell_type": "code",
      "execution_count": 19,
      "metadata": {
        "id": "L91osyXKKZIn"
      },
      "outputs": [],
      "source": [
        "langfuse = Langfuse(ENV_PUBLIC_KEY, ENV_SECRET_KEY, ENV_HOST)\n",
        "\n",
        "@app.get(\"/generate/\",tags=[\"APIs\"])\n",
        "async def campaign(prompt: str = Query(..., max_length=20)):\n",
        "  # call to a LLM\n",
        "  generation = langfuse.generation(\n",
        "      InitialGeneration(name=\"llm-feature\", metadata=\"test\", prompt=prompt)\n",
        "  )\n",
        "  return True"
      ]
    }
  ],
  "metadata": {
    "colab": {
      "provenance": []
    },
    "kernelspec": {
      "display_name": "Python 3",
      "name": "python3"
    },
    "language_info": {
      "codemirror_mode": {
        "name": "ipython",
        "version": 3
      },
      "file_extension": ".py",
      "mimetype": "text/x-python",
      "name": "python",
      "nbconvert_exporter": "python",
      "pygments_lexer": "ipython3",
      "version": "3.10.9"
    }
  },
  "nbformat": 4,
  "nbformat_minor": 0
}